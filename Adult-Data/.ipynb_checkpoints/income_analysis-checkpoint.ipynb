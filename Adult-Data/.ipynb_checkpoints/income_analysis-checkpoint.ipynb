{
 "cells": [
  {
   "cell_type": "markdown",
   "id": "ebd9c55f",
   "metadata": {
    "id": "ebd9c55f"
   },
   "source": [
    "# IMPORTING NECESSARY LIBRARIES"
   ]
  },
  {
   "cell_type": "code",
   "execution_count": 87,
   "id": "694af956",
   "metadata": {
    "id": "694af956"
   },
   "outputs": [],
   "source": [
    "import pandas as pd\n",
    "import numpy as np\n",
    "import seaborn as sns\n",
    "import matplotlib.pyplot as plt\n",
    "from sklearn import preprocessing\n",
    "from sklearn.preprocessing import StandardScaler\n",
    "from sklearn.model_selection import train_test_split\n",
    "from sklearn.tree import DecisionTreeClassifier\n",
    "from sklearn import tree\n",
    "from sklearn.ensemble import RandomForestClassifier\n",
    "from sklearn.svm import SVC \n",
    "from sklearn.linear_model import LogisticRegression\n",
    "from sklearn.neighbors import KNeighborsClassifier\n",
    "from sklearn.metrics import accuracy_score"
   ]
  },
  {
   "cell_type": "markdown",
   "id": "be6ce2e6",
   "metadata": {
    "id": "be6ce2e6"
   },
   "source": [
    "# IMPORTING DATASET"
   ]
  },
  {
   "cell_type": "code",
   "execution_count": 88,
   "id": "0beab87e",
   "metadata": {
    "colab": {
     "base_uri": "https://localhost:8080/",
     "height": 624
    },
    "id": "0beab87e",
    "outputId": "212d0809-770b-454a-d79d-d39e1335998e"
   },
   "outputs": [
    {
     "data": {
      "text/html": [
       "<div>\n",
       "<style scoped>\n",
       "    .dataframe tbody tr th:only-of-type {\n",
       "        vertical-align: middle;\n",
       "    }\n",
       "\n",
       "    .dataframe tbody tr th {\n",
       "        vertical-align: top;\n",
       "    }\n",
       "\n",
       "    .dataframe thead th {\n",
       "        text-align: right;\n",
       "    }\n",
       "</style>\n",
       "<table border=\"1\" class=\"dataframe\">\n",
       "  <thead>\n",
       "    <tr style=\"text-align: right;\">\n",
       "      <th></th>\n",
       "      <th>age</th>\n",
       "      <th>workclass</th>\n",
       "      <th>fnlwgt</th>\n",
       "      <th>education</th>\n",
       "      <th>education-num</th>\n",
       "      <th>marital-status</th>\n",
       "      <th>occupation</th>\n",
       "      <th>relationship</th>\n",
       "      <th>race</th>\n",
       "      <th>sex</th>\n",
       "      <th>capital-gain</th>\n",
       "      <th>capital-loss</th>\n",
       "      <th>hours-per-week</th>\n",
       "      <th>native-country</th>\n",
       "      <th>income</th>\n",
       "    </tr>\n",
       "  </thead>\n",
       "  <tbody>\n",
       "    <tr>\n",
       "      <th>0</th>\n",
       "      <td>25</td>\n",
       "      <td>Private</td>\n",
       "      <td>226802</td>\n",
       "      <td>11th</td>\n",
       "      <td>7</td>\n",
       "      <td>Never-married</td>\n",
       "      <td>Machine-op-inspct</td>\n",
       "      <td>Own-child</td>\n",
       "      <td>Black</td>\n",
       "      <td>Male</td>\n",
       "      <td>0</td>\n",
       "      <td>0</td>\n",
       "      <td>40</td>\n",
       "      <td>United-States</td>\n",
       "      <td>&lt;=50K.</td>\n",
       "    </tr>\n",
       "    <tr>\n",
       "      <th>1</th>\n",
       "      <td>38</td>\n",
       "      <td>Private</td>\n",
       "      <td>89814</td>\n",
       "      <td>HS-grad</td>\n",
       "      <td>9</td>\n",
       "      <td>Married-civ-spouse</td>\n",
       "      <td>Farming-fishing</td>\n",
       "      <td>Husband</td>\n",
       "      <td>White</td>\n",
       "      <td>Male</td>\n",
       "      <td>0</td>\n",
       "      <td>0</td>\n",
       "      <td>50</td>\n",
       "      <td>United-States</td>\n",
       "      <td>&lt;=50K.</td>\n",
       "    </tr>\n",
       "    <tr>\n",
       "      <th>2</th>\n",
       "      <td>28</td>\n",
       "      <td>Local-gov</td>\n",
       "      <td>336951</td>\n",
       "      <td>Assoc-acdm</td>\n",
       "      <td>12</td>\n",
       "      <td>Married-civ-spouse</td>\n",
       "      <td>Protective-serv</td>\n",
       "      <td>Husband</td>\n",
       "      <td>White</td>\n",
       "      <td>Male</td>\n",
       "      <td>0</td>\n",
       "      <td>0</td>\n",
       "      <td>40</td>\n",
       "      <td>United-States</td>\n",
       "      <td>&gt;50K.</td>\n",
       "    </tr>\n",
       "    <tr>\n",
       "      <th>3</th>\n",
       "      <td>44</td>\n",
       "      <td>Private</td>\n",
       "      <td>160323</td>\n",
       "      <td>Some-college</td>\n",
       "      <td>10</td>\n",
       "      <td>Married-civ-spouse</td>\n",
       "      <td>Machine-op-inspct</td>\n",
       "      <td>Husband</td>\n",
       "      <td>Black</td>\n",
       "      <td>Male</td>\n",
       "      <td>7688</td>\n",
       "      <td>0</td>\n",
       "      <td>40</td>\n",
       "      <td>United-States</td>\n",
       "      <td>&gt;50K.</td>\n",
       "    </tr>\n",
       "    <tr>\n",
       "      <th>4</th>\n",
       "      <td>18</td>\n",
       "      <td>?</td>\n",
       "      <td>103497</td>\n",
       "      <td>Some-college</td>\n",
       "      <td>10</td>\n",
       "      <td>Never-married</td>\n",
       "      <td>?</td>\n",
       "      <td>Own-child</td>\n",
       "      <td>White</td>\n",
       "      <td>Female</td>\n",
       "      <td>0</td>\n",
       "      <td>0</td>\n",
       "      <td>30</td>\n",
       "      <td>United-States</td>\n",
       "      <td>&lt;=50K.</td>\n",
       "    </tr>\n",
       "    <tr>\n",
       "      <th>...</th>\n",
       "      <td>...</td>\n",
       "      <td>...</td>\n",
       "      <td>...</td>\n",
       "      <td>...</td>\n",
       "      <td>...</td>\n",
       "      <td>...</td>\n",
       "      <td>...</td>\n",
       "      <td>...</td>\n",
       "      <td>...</td>\n",
       "      <td>...</td>\n",
       "      <td>...</td>\n",
       "      <td>...</td>\n",
       "      <td>...</td>\n",
       "      <td>...</td>\n",
       "      <td>...</td>\n",
       "    </tr>\n",
       "    <tr>\n",
       "      <th>32556</th>\n",
       "      <td>27</td>\n",
       "      <td>Private</td>\n",
       "      <td>257302</td>\n",
       "      <td>Assoc-acdm</td>\n",
       "      <td>12</td>\n",
       "      <td>Married-civ-spouse</td>\n",
       "      <td>Tech-support</td>\n",
       "      <td>Wife</td>\n",
       "      <td>White</td>\n",
       "      <td>Female</td>\n",
       "      <td>0</td>\n",
       "      <td>0</td>\n",
       "      <td>38</td>\n",
       "      <td>United-States</td>\n",
       "      <td>&lt;=50K</td>\n",
       "    </tr>\n",
       "    <tr>\n",
       "      <th>32557</th>\n",
       "      <td>40</td>\n",
       "      <td>Private</td>\n",
       "      <td>154374</td>\n",
       "      <td>HS-grad</td>\n",
       "      <td>9</td>\n",
       "      <td>Married-civ-spouse</td>\n",
       "      <td>Machine-op-inspct</td>\n",
       "      <td>Husband</td>\n",
       "      <td>White</td>\n",
       "      <td>Male</td>\n",
       "      <td>0</td>\n",
       "      <td>0</td>\n",
       "      <td>40</td>\n",
       "      <td>United-States</td>\n",
       "      <td>&gt;50K</td>\n",
       "    </tr>\n",
       "    <tr>\n",
       "      <th>32558</th>\n",
       "      <td>58</td>\n",
       "      <td>Private</td>\n",
       "      <td>151910</td>\n",
       "      <td>HS-grad</td>\n",
       "      <td>9</td>\n",
       "      <td>Widowed</td>\n",
       "      <td>Adm-clerical</td>\n",
       "      <td>Unmarried</td>\n",
       "      <td>White</td>\n",
       "      <td>Female</td>\n",
       "      <td>0</td>\n",
       "      <td>0</td>\n",
       "      <td>40</td>\n",
       "      <td>United-States</td>\n",
       "      <td>&lt;=50K</td>\n",
       "    </tr>\n",
       "    <tr>\n",
       "      <th>32559</th>\n",
       "      <td>22</td>\n",
       "      <td>Private</td>\n",
       "      <td>201490</td>\n",
       "      <td>HS-grad</td>\n",
       "      <td>9</td>\n",
       "      <td>Never-married</td>\n",
       "      <td>Adm-clerical</td>\n",
       "      <td>Own-child</td>\n",
       "      <td>White</td>\n",
       "      <td>Male</td>\n",
       "      <td>0</td>\n",
       "      <td>0</td>\n",
       "      <td>20</td>\n",
       "      <td>United-States</td>\n",
       "      <td>&lt;=50K</td>\n",
       "    </tr>\n",
       "    <tr>\n",
       "      <th>32560</th>\n",
       "      <td>52</td>\n",
       "      <td>Self-emp-inc</td>\n",
       "      <td>287927</td>\n",
       "      <td>HS-grad</td>\n",
       "      <td>9</td>\n",
       "      <td>Married-civ-spouse</td>\n",
       "      <td>Exec-managerial</td>\n",
       "      <td>Wife</td>\n",
       "      <td>White</td>\n",
       "      <td>Female</td>\n",
       "      <td>15024</td>\n",
       "      <td>0</td>\n",
       "      <td>40</td>\n",
       "      <td>United-States</td>\n",
       "      <td>&gt;50K</td>\n",
       "    </tr>\n",
       "  </tbody>\n",
       "</table>\n",
       "<p>48842 rows × 15 columns</p>\n",
       "</div>"
      ],
      "text/plain": [
       "       age      workclass  fnlwgt      education  education-num  \\\n",
       "0       25        Private  226802           11th              7   \n",
       "1       38        Private   89814        HS-grad              9   \n",
       "2       28      Local-gov  336951     Assoc-acdm             12   \n",
       "3       44        Private  160323   Some-college             10   \n",
       "4       18              ?  103497   Some-college             10   \n",
       "...    ...            ...     ...            ...            ...   \n",
       "32556   27        Private  257302     Assoc-acdm             12   \n",
       "32557   40        Private  154374        HS-grad              9   \n",
       "32558   58        Private  151910        HS-grad              9   \n",
       "32559   22        Private  201490        HS-grad              9   \n",
       "32560   52   Self-emp-inc  287927        HS-grad              9   \n",
       "\n",
       "            marital-status          occupation relationship    race      sex  \\\n",
       "0            Never-married   Machine-op-inspct    Own-child   Black     Male   \n",
       "1       Married-civ-spouse     Farming-fishing      Husband   White     Male   \n",
       "2       Married-civ-spouse     Protective-serv      Husband   White     Male   \n",
       "3       Married-civ-spouse   Machine-op-inspct      Husband   Black     Male   \n",
       "4            Never-married                   ?    Own-child   White   Female   \n",
       "...                    ...                 ...          ...     ...      ...   \n",
       "32556   Married-civ-spouse        Tech-support         Wife   White   Female   \n",
       "32557   Married-civ-spouse   Machine-op-inspct      Husband   White     Male   \n",
       "32558              Widowed        Adm-clerical    Unmarried   White   Female   \n",
       "32559        Never-married        Adm-clerical    Own-child   White     Male   \n",
       "32560   Married-civ-spouse     Exec-managerial         Wife   White   Female   \n",
       "\n",
       "       capital-gain  capital-loss  hours-per-week  native-country   income  \n",
       "0                 0             0              40   United-States   <=50K.  \n",
       "1                 0             0              50   United-States   <=50K.  \n",
       "2                 0             0              40   United-States    >50K.  \n",
       "3              7688             0              40   United-States    >50K.  \n",
       "4                 0             0              30   United-States   <=50K.  \n",
       "...             ...           ...             ...             ...      ...  \n",
       "32556             0             0              38   United-States    <=50K  \n",
       "32557             0             0              40   United-States     >50K  \n",
       "32558             0             0              40   United-States    <=50K  \n",
       "32559             0             0              20   United-States    <=50K  \n",
       "32560         15024             0              40   United-States     >50K  \n",
       "\n",
       "[48842 rows x 15 columns]"
      ]
     },
     "execution_count": 88,
     "metadata": {},
     "output_type": "execute_result"
    }
   ],
   "source": [
    "column_names = ['age', 'workclass', 'fnlwgt', 'education', 'education-num', 'marital-status', 'occupation',\n",
    "                'relationship', 'race', 'sex', 'capital-gain','capital-loss', 'hours-per-week', 'native-country', 'income']\n",
    "\n",
    "train = pd.read_csv('adult(data).csv', names = column_names)\n",
    "test = pd.read_csv('adult(test).csv', names = column_names, skiprows = 1)\n",
    "\n",
    "df = pd.concat([test,train])\n",
    "df"
   ]
  },
  {
   "cell_type": "code",
   "execution_count": 89,
   "id": "5f1587da",
   "metadata": {
    "colab": {
     "base_uri": "https://localhost:8080/"
    },
    "id": "5f1587da",
    "outputId": "fb10b6be-7f63-4f06-b662-def1f81584f9"
   },
   "outputs": [
    {
     "name": "stdout",
     "output_type": "stream",
     "text": [
      "workclass : [' Private' ' Local-gov' ' ?' ' Self-emp-not-inc' ' Federal-gov'\n",
      " ' State-gov' ' Self-emp-inc' ' Without-pay' ' Never-worked'] \n",
      "\n",
      "education : [' 11th' ' HS-grad' ' Assoc-acdm' ' Some-college' ' 10th' ' Prof-school'\n",
      " ' 7th-8th' ' Bachelors' ' Masters' ' Doctorate' ' 5th-6th' ' Assoc-voc'\n",
      " ' 9th' ' 12th' ' 1st-4th' ' Preschool'] \n",
      "\n",
      "marital-status : [' Never-married' ' Married-civ-spouse' ' Widowed' ' Divorced'\n",
      " ' Separated' ' Married-spouse-absent' ' Married-AF-spouse'] \n",
      "\n",
      "occupation : [' Machine-op-inspct' ' Farming-fishing' ' Protective-serv' ' ?'\n",
      " ' Other-service' ' Prof-specialty' ' Craft-repair' ' Adm-clerical'\n",
      " ' Exec-managerial' ' Tech-support' ' Sales' ' Priv-house-serv'\n",
      " ' Transport-moving' ' Handlers-cleaners' ' Armed-Forces'] \n",
      "\n",
      "relationship : [' Own-child' ' Husband' ' Not-in-family' ' Unmarried' ' Wife'\n",
      " ' Other-relative'] \n",
      "\n",
      "race : [' Black' ' White' ' Asian-Pac-Islander' ' Other' ' Amer-Indian-Eskimo'] \n",
      "\n",
      "sex : [' Male' ' Female'] \n",
      "\n",
      "native-country : [' United-States' ' ?' ' Peru' ' Guatemala' ' Mexico'\n",
      " ' Dominican-Republic' ' Ireland' ' Germany' ' Philippines' ' Thailand'\n",
      " ' Haiti' ' El-Salvador' ' Puerto-Rico' ' Vietnam' ' South' ' Columbia'\n",
      " ' Japan' ' India' ' Cambodia' ' Poland' ' Laos' ' England' ' Cuba'\n",
      " ' Taiwan' ' Italy' ' Canada' ' Portugal' ' China' ' Nicaragua'\n",
      " ' Honduras' ' Iran' ' Scotland' ' Jamaica' ' Ecuador' ' Yugoslavia'\n",
      " ' Hungary' ' Hong' ' Greece' ' Trinadad&Tobago'\n",
      " ' Outlying-US(Guam-USVI-etc)' ' France' ' Holand-Netherlands'] \n",
      "\n",
      "income : [' <=50K.' ' >50K.' ' <=50K' ' >50K'] \n",
      "\n"
     ]
    }
   ],
   "source": [
    "columns = ['workclass', 'education', 'marital-status', 'occupation', 'relationship', 'race', 'sex','native-country', 'income']\n",
    "\n",
    "for column in columns:\n",
    "    print(column,':', df[column].unique(), '\\n')"
   ]
  },
  {
   "cell_type": "markdown",
   "id": "cad0c312",
   "metadata": {
    "id": "cad0c312"
   },
   "source": [
    "# DATA STATISTICS "
   ]
  },
  {
   "cell_type": "code",
   "execution_count": 90,
   "id": "557dcc7e",
   "metadata": {
    "colab": {
     "base_uri": "https://localhost:8080/"
    },
    "id": "557dcc7e",
    "outputId": "fd2759c9-880f-461b-aea3-30114f59eb71"
   },
   "outputs": [
    {
     "name": "stdout",
     "output_type": "stream",
     "text": [
      "<class 'pandas.core.frame.DataFrame'>\n",
      "Int64Index: 48842 entries, 0 to 32560\n",
      "Data columns (total 15 columns):\n",
      " #   Column          Non-Null Count  Dtype \n",
      "---  ------          --------------  ----- \n",
      " 0   age             48842 non-null  int64 \n",
      " 1   workclass       48842 non-null  object\n",
      " 2   fnlwgt          48842 non-null  int64 \n",
      " 3   education       48842 non-null  object\n",
      " 4   education-num   48842 non-null  int64 \n",
      " 5   marital-status  48842 non-null  object\n",
      " 6   occupation      48842 non-null  object\n",
      " 7   relationship    48842 non-null  object\n",
      " 8   race            48842 non-null  object\n",
      " 9   sex             48842 non-null  object\n",
      " 10  capital-gain    48842 non-null  int64 \n",
      " 11  capital-loss    48842 non-null  int64 \n",
      " 12  hours-per-week  48842 non-null  int64 \n",
      " 13  native-country  48842 non-null  object\n",
      " 14  income          48842 non-null  object\n",
      "dtypes: int64(6), object(9)\n",
      "memory usage: 6.0+ MB\n"
     ]
    }
   ],
   "source": [
    "df.info()"
   ]
  },
  {
   "cell_type": "code",
   "execution_count": 91,
   "id": "17806af8",
   "metadata": {
    "colab": {
     "base_uri": "https://localhost:8080/"
    },
    "id": "17806af8",
    "outputId": "37754e7a-7244-4b66-a46c-4595c090a36a"
   },
   "outputs": [
    {
     "data": {
      "text/plain": [
       "age               0\n",
       "workclass         0\n",
       "fnlwgt            0\n",
       "education         0\n",
       "education-num     0\n",
       "marital-status    0\n",
       "occupation        0\n",
       "relationship      0\n",
       "race              0\n",
       "sex               0\n",
       "capital-gain      0\n",
       "capital-loss      0\n",
       "hours-per-week    0\n",
       "native-country    0\n",
       "income            0\n",
       "dtype: int64"
      ]
     },
     "execution_count": 91,
     "metadata": {},
     "output_type": "execute_result"
    }
   ],
   "source": [
    "df.isnull().sum()"
   ]
  },
  {
   "cell_type": "code",
   "execution_count": 92,
   "id": "4d800263",
   "metadata": {},
   "outputs": [
    {
     "data": {
      "text/plain": [
       "age                  0\n",
       "workclass         2799\n",
       "fnlwgt               0\n",
       "education            0\n",
       "education-num        0\n",
       "marital-status       0\n",
       "occupation        2809\n",
       "relationship         0\n",
       "race                 0\n",
       "sex                  0\n",
       "capital-gain         0\n",
       "capital-loss         0\n",
       "hours-per-week       0\n",
       "native-country     857\n",
       "income               0\n",
       "dtype: int64"
      ]
     },
     "execution_count": 92,
     "metadata": {},
     "output_type": "execute_result"
    }
   ],
   "source": [
    "df[df == ' ?'] = np.nan\n",
    "df.isnull().sum()"
   ]
  },
  {
   "cell_type": "code",
   "execution_count": 94,
   "id": "89f22d03",
   "metadata": {},
   "outputs": [
    {
     "data": {
      "text/plain": [
       "age               0\n",
       "workclass         0\n",
       "fnlwgt            0\n",
       "education         0\n",
       "education-num     0\n",
       "marital-status    0\n",
       "occupation        0\n",
       "relationship      0\n",
       "race              0\n",
       "sex               0\n",
       "capital-gain      0\n",
       "capital-loss      0\n",
       "hours-per-week    0\n",
       "native-country    0\n",
       "income            0\n",
       "dtype: int64"
      ]
     },
     "execution_count": 94,
     "metadata": {},
     "output_type": "execute_result"
    }
   ],
   "source": [
    "df.workclass.fillna(df.workclass.mode()[0],inplace = True)\n",
    "df.occupation.fillna(df.occupation.mode()[0],inplace = True)\n",
    "df[\"native-country\"].fillna(df[\"native-country\"].mode()[0],inplace = True)\n",
    "df.isnull().sum()"
   ]
  },
  {
   "cell_type": "code",
   "execution_count": 95,
   "id": "ff8f2b47",
   "metadata": {
    "colab": {
     "base_uri": "https://localhost:8080/",
     "height": 300
    },
    "id": "ff8f2b47",
    "outputId": "2dfb9fa5-a814-4ff1-8afb-2e3c6dbae30d"
   },
   "outputs": [
    {
     "data": {
      "text/html": [
       "<div>\n",
       "<style scoped>\n",
       "    .dataframe tbody tr th:only-of-type {\n",
       "        vertical-align: middle;\n",
       "    }\n",
       "\n",
       "    .dataframe tbody tr th {\n",
       "        vertical-align: top;\n",
       "    }\n",
       "\n",
       "    .dataframe thead th {\n",
       "        text-align: right;\n",
       "    }\n",
       "</style>\n",
       "<table border=\"1\" class=\"dataframe\">\n",
       "  <thead>\n",
       "    <tr style=\"text-align: right;\">\n",
       "      <th></th>\n",
       "      <th>age</th>\n",
       "      <th>fnlwgt</th>\n",
       "      <th>education-num</th>\n",
       "      <th>capital-gain</th>\n",
       "      <th>capital-loss</th>\n",
       "      <th>hours-per-week</th>\n",
       "    </tr>\n",
       "  </thead>\n",
       "  <tbody>\n",
       "    <tr>\n",
       "      <th>count</th>\n",
       "      <td>48842.000000</td>\n",
       "      <td>4.884200e+04</td>\n",
       "      <td>48842.000000</td>\n",
       "      <td>48842.000000</td>\n",
       "      <td>48842.000000</td>\n",
       "      <td>48842.000000</td>\n",
       "    </tr>\n",
       "    <tr>\n",
       "      <th>mean</th>\n",
       "      <td>38.643585</td>\n",
       "      <td>1.896641e+05</td>\n",
       "      <td>10.078089</td>\n",
       "      <td>1079.067626</td>\n",
       "      <td>87.502314</td>\n",
       "      <td>40.422382</td>\n",
       "    </tr>\n",
       "    <tr>\n",
       "      <th>std</th>\n",
       "      <td>13.710510</td>\n",
       "      <td>1.056040e+05</td>\n",
       "      <td>2.570973</td>\n",
       "      <td>7452.019058</td>\n",
       "      <td>403.004552</td>\n",
       "      <td>12.391444</td>\n",
       "    </tr>\n",
       "    <tr>\n",
       "      <th>min</th>\n",
       "      <td>17.000000</td>\n",
       "      <td>1.228500e+04</td>\n",
       "      <td>1.000000</td>\n",
       "      <td>0.000000</td>\n",
       "      <td>0.000000</td>\n",
       "      <td>1.000000</td>\n",
       "    </tr>\n",
       "    <tr>\n",
       "      <th>25%</th>\n",
       "      <td>28.000000</td>\n",
       "      <td>1.175505e+05</td>\n",
       "      <td>9.000000</td>\n",
       "      <td>0.000000</td>\n",
       "      <td>0.000000</td>\n",
       "      <td>40.000000</td>\n",
       "    </tr>\n",
       "    <tr>\n",
       "      <th>50%</th>\n",
       "      <td>37.000000</td>\n",
       "      <td>1.781445e+05</td>\n",
       "      <td>10.000000</td>\n",
       "      <td>0.000000</td>\n",
       "      <td>0.000000</td>\n",
       "      <td>40.000000</td>\n",
       "    </tr>\n",
       "    <tr>\n",
       "      <th>75%</th>\n",
       "      <td>48.000000</td>\n",
       "      <td>2.376420e+05</td>\n",
       "      <td>12.000000</td>\n",
       "      <td>0.000000</td>\n",
       "      <td>0.000000</td>\n",
       "      <td>45.000000</td>\n",
       "    </tr>\n",
       "    <tr>\n",
       "      <th>max</th>\n",
       "      <td>90.000000</td>\n",
       "      <td>1.490400e+06</td>\n",
       "      <td>16.000000</td>\n",
       "      <td>99999.000000</td>\n",
       "      <td>4356.000000</td>\n",
       "      <td>99.000000</td>\n",
       "    </tr>\n",
       "  </tbody>\n",
       "</table>\n",
       "</div>"
      ],
      "text/plain": [
       "                age        fnlwgt  education-num  capital-gain  capital-loss  \\\n",
       "count  48842.000000  4.884200e+04   48842.000000  48842.000000  48842.000000   \n",
       "mean      38.643585  1.896641e+05      10.078089   1079.067626     87.502314   \n",
       "std       13.710510  1.056040e+05       2.570973   7452.019058    403.004552   \n",
       "min       17.000000  1.228500e+04       1.000000      0.000000      0.000000   \n",
       "25%       28.000000  1.175505e+05       9.000000      0.000000      0.000000   \n",
       "50%       37.000000  1.781445e+05      10.000000      0.000000      0.000000   \n",
       "75%       48.000000  2.376420e+05      12.000000      0.000000      0.000000   \n",
       "max       90.000000  1.490400e+06      16.000000  99999.000000   4356.000000   \n",
       "\n",
       "       hours-per-week  \n",
       "count    48842.000000  \n",
       "mean        40.422382  \n",
       "std         12.391444  \n",
       "min          1.000000  \n",
       "25%         40.000000  \n",
       "50%         40.000000  \n",
       "75%         45.000000  \n",
       "max         99.000000  "
      ]
     },
     "execution_count": 95,
     "metadata": {},
     "output_type": "execute_result"
    }
   ],
   "source": [
    "df.describe()"
   ]
  },
  {
   "cell_type": "code",
   "execution_count": 96,
   "id": "33a315f4",
   "metadata": {
    "colab": {
     "base_uri": "https://localhost:8080/"
    },
    "id": "33a315f4",
    "outputId": "2288622f-bc61-47aa-dc9f-0232c725bef0"
   },
   "outputs": [
    {
     "name": "stdout",
     "output_type": "stream",
     "text": [
      "age \n",
      " 36    1348\n",
      "35    1337\n",
      "33    1335\n",
      "23    1329\n",
      "31    1325\n",
      "      ... \n",
      "88       6\n",
      "85       5\n",
      "87       3\n",
      "89       2\n",
      "86       1\n",
      "Name: age, Length: 74, dtype: int64 \n",
      "\n",
      "workclass \n",
      "  Private             36705\n",
      " Self-emp-not-inc     3862\n",
      " Local-gov            3136\n",
      " State-gov            1981\n",
      " Self-emp-inc         1695\n",
      " Federal-gov          1432\n",
      " Without-pay            21\n",
      " Never-worked           10\n",
      "Name: workclass, dtype: int64 \n",
      "\n",
      "fnlwgt \n",
      " 203488    21\n",
      "190290    19\n",
      "120277    19\n",
      "125892    18\n",
      "126569    18\n",
      "          ..\n",
      "188488     1\n",
      "285290     1\n",
      "293579     1\n",
      "114874     1\n",
      "257302     1\n",
      "Name: fnlwgt, Length: 28523, dtype: int64 \n",
      "\n",
      "education \n",
      "  HS-grad         15784\n",
      " Some-college    10878\n",
      " Bachelors        8025\n",
      " Masters          2657\n",
      " Assoc-voc        2061\n",
      " 11th             1812\n",
      " Assoc-acdm       1601\n",
      " 10th             1389\n",
      " 7th-8th           955\n",
      " Prof-school       834\n",
      " 9th               756\n",
      " 12th              657\n",
      " Doctorate         594\n",
      " 5th-6th           509\n",
      " 1st-4th           247\n",
      " Preschool          83\n",
      "Name: education, dtype: int64 \n",
      "\n",
      "education-num \n",
      " 9     15784\n",
      "10    10878\n",
      "13     8025\n",
      "14     2657\n",
      "11     2061\n",
      "7      1812\n",
      "12     1601\n",
      "6      1389\n",
      "4       955\n",
      "15      834\n",
      "5       756\n",
      "8       657\n",
      "16      594\n",
      "3       509\n",
      "2       247\n",
      "1        83\n",
      "Name: education-num, dtype: int64 \n",
      "\n",
      "marital-status \n",
      "  Married-civ-spouse       22379\n",
      " Never-married            16117\n",
      " Divorced                  6633\n",
      " Separated                 1530\n",
      " Widowed                   1518\n",
      " Married-spouse-absent      628\n",
      " Married-AF-spouse           37\n",
      "Name: marital-status, dtype: int64 \n",
      "\n",
      "occupation \n",
      "  Prof-specialty       8981\n",
      " Craft-repair         6112\n",
      " Exec-managerial      6086\n",
      " Adm-clerical         5611\n",
      " Sales                5504\n",
      " Other-service        4923\n",
      " Machine-op-inspct    3022\n",
      " Transport-moving     2355\n",
      " Handlers-cleaners    2072\n",
      " Farming-fishing      1490\n",
      " Tech-support         1446\n",
      " Protective-serv       983\n",
      " Priv-house-serv       242\n",
      " Armed-Forces           15\n",
      "Name: occupation, dtype: int64 \n",
      "\n",
      "relationship \n",
      "  Husband           19716\n",
      " Not-in-family     12583\n",
      " Own-child          7581\n",
      " Unmarried          5125\n",
      " Wife               2331\n",
      " Other-relative     1506\n",
      "Name: relationship, dtype: int64 \n",
      "\n",
      "race \n",
      "  White                 41762\n",
      " Black                  4685\n",
      " Asian-Pac-Islander     1519\n",
      " Amer-Indian-Eskimo      470\n",
      " Other                   406\n",
      "Name: race, dtype: int64 \n",
      "\n",
      "sex \n",
      "  Male      32650\n",
      " Female    16192\n",
      "Name: sex, dtype: int64 \n",
      "\n",
      "capital-gain \n",
      " 0        44807\n",
      "15024      513\n",
      "7688       410\n",
      "7298       364\n",
      "99999      244\n",
      "         ...  \n",
      "1111         1\n",
      "7262         1\n",
      "22040        1\n",
      "1639         1\n",
      "2387         1\n",
      "Name: capital-gain, Length: 123, dtype: int64 \n",
      "\n",
      "capital-loss \n",
      " 0       46560\n",
      "1902      304\n",
      "1977      253\n",
      "1887      233\n",
      "2415       72\n",
      "        ...  \n",
      "2465        1\n",
      "2080        1\n",
      "155         1\n",
      "1911        1\n",
      "2201        1\n",
      "Name: capital-loss, Length: 99, dtype: int64 \n",
      "\n",
      "hours-per-week \n",
      " 40    22803\n",
      "50     4246\n",
      "45     2717\n",
      "60     2177\n",
      "35     1937\n",
      "      ...  \n",
      "69        1\n",
      "87        1\n",
      "94        1\n",
      "82        1\n",
      "79        1\n",
      "Name: hours-per-week, Length: 96, dtype: int64 \n",
      "\n",
      "native-country \n",
      "  United-States                 44689\n",
      " Mexico                          951\n",
      " Philippines                     295\n",
      " Germany                         206\n",
      " Puerto-Rico                     184\n",
      " Canada                          182\n",
      " El-Salvador                     155\n",
      " India                           151\n",
      " Cuba                            138\n",
      " England                         127\n",
      " China                           122\n",
      " South                           115\n",
      " Jamaica                         106\n",
      " Italy                           105\n",
      " Dominican-Republic              103\n",
      " Japan                            92\n",
      " Guatemala                        88\n",
      " Poland                           87\n",
      " Vietnam                          86\n",
      " Columbia                         85\n",
      " Haiti                            75\n",
      " Portugal                         67\n",
      " Taiwan                           65\n",
      " Iran                             59\n",
      " Greece                           49\n",
      " Nicaragua                        49\n",
      " Peru                             46\n",
      " Ecuador                          45\n",
      " France                           38\n",
      " Ireland                          37\n",
      " Hong                             30\n",
      " Thailand                         30\n",
      " Cambodia                         28\n",
      " Trinadad&Tobago                  27\n",
      " Yugoslavia                       23\n",
      " Outlying-US(Guam-USVI-etc)       23\n",
      " Laos                             23\n",
      " Scotland                         21\n",
      " Honduras                         20\n",
      " Hungary                          19\n",
      " Holand-Netherlands                1\n",
      "Name: native-country, dtype: int64 \n",
      "\n",
      "income \n",
      "  <=50K     24720\n",
      " <=50K.    12435\n",
      " >50K       7841\n",
      " >50K.      3846\n",
      "Name: income, dtype: int64 \n",
      "\n"
     ]
    }
   ],
   "source": [
    "col_names = ['age', 'workclass', 'fnlwgt', 'education', 'education-num', 'marital-status', 'occupation',\n",
    "                'relationship', 'race', 'sex', 'capital-gain','capital-loss', 'hours-per-week', 'native-country', 'income']\n",
    "\n",
    "for column in col_names:\n",
    "    print(column, '\\n',df[column].value_counts(),'\\n')"
   ]
  },
  {
   "cell_type": "code",
   "execution_count": 97,
   "id": "38cd11b7",
   "metadata": {
    "colab": {
     "base_uri": "https://localhost:8080/",
     "height": 237
    },
    "id": "38cd11b7",
    "outputId": "4bec1def-66dc-422d-f949-831b327f283d"
   },
   "outputs": [
    {
     "data": {
      "text/html": [
       "<div>\n",
       "<style scoped>\n",
       "    .dataframe tbody tr th:only-of-type {\n",
       "        vertical-align: middle;\n",
       "    }\n",
       "\n",
       "    .dataframe tbody tr th {\n",
       "        vertical-align: top;\n",
       "    }\n",
       "\n",
       "    .dataframe thead th {\n",
       "        text-align: right;\n",
       "    }\n",
       "</style>\n",
       "<table border=\"1\" class=\"dataframe\">\n",
       "  <thead>\n",
       "    <tr style=\"text-align: right;\">\n",
       "      <th></th>\n",
       "      <th>age</th>\n",
       "      <th>fnlwgt</th>\n",
       "      <th>education-num</th>\n",
       "      <th>capital-gain</th>\n",
       "      <th>capital-loss</th>\n",
       "      <th>hours-per-week</th>\n",
       "    </tr>\n",
       "  </thead>\n",
       "  <tbody>\n",
       "    <tr>\n",
       "      <th>age</th>\n",
       "      <td>1.000000</td>\n",
       "      <td>-0.076628</td>\n",
       "      <td>0.030940</td>\n",
       "      <td>0.077229</td>\n",
       "      <td>0.056944</td>\n",
       "      <td>0.071558</td>\n",
       "    </tr>\n",
       "    <tr>\n",
       "      <th>fnlwgt</th>\n",
       "      <td>-0.076628</td>\n",
       "      <td>1.000000</td>\n",
       "      <td>-0.038761</td>\n",
       "      <td>-0.003706</td>\n",
       "      <td>-0.004366</td>\n",
       "      <td>-0.013519</td>\n",
       "    </tr>\n",
       "    <tr>\n",
       "      <th>education-num</th>\n",
       "      <td>0.030940</td>\n",
       "      <td>-0.038761</td>\n",
       "      <td>1.000000</td>\n",
       "      <td>0.125146</td>\n",
       "      <td>0.080972</td>\n",
       "      <td>0.143689</td>\n",
       "    </tr>\n",
       "    <tr>\n",
       "      <th>capital-gain</th>\n",
       "      <td>0.077229</td>\n",
       "      <td>-0.003706</td>\n",
       "      <td>0.125146</td>\n",
       "      <td>1.000000</td>\n",
       "      <td>-0.031441</td>\n",
       "      <td>0.082157</td>\n",
       "    </tr>\n",
       "    <tr>\n",
       "      <th>capital-loss</th>\n",
       "      <td>0.056944</td>\n",
       "      <td>-0.004366</td>\n",
       "      <td>0.080972</td>\n",
       "      <td>-0.031441</td>\n",
       "      <td>1.000000</td>\n",
       "      <td>0.054467</td>\n",
       "    </tr>\n",
       "    <tr>\n",
       "      <th>hours-per-week</th>\n",
       "      <td>0.071558</td>\n",
       "      <td>-0.013519</td>\n",
       "      <td>0.143689</td>\n",
       "      <td>0.082157</td>\n",
       "      <td>0.054467</td>\n",
       "      <td>1.000000</td>\n",
       "    </tr>\n",
       "  </tbody>\n",
       "</table>\n",
       "</div>"
      ],
      "text/plain": [
       "                     age    fnlwgt  education-num  capital-gain  capital-loss  \\\n",
       "age             1.000000 -0.076628       0.030940      0.077229      0.056944   \n",
       "fnlwgt         -0.076628  1.000000      -0.038761     -0.003706     -0.004366   \n",
       "education-num   0.030940 -0.038761       1.000000      0.125146      0.080972   \n",
       "capital-gain    0.077229 -0.003706       0.125146      1.000000     -0.031441   \n",
       "capital-loss    0.056944 -0.004366       0.080972     -0.031441      1.000000   \n",
       "hours-per-week  0.071558 -0.013519       0.143689      0.082157      0.054467   \n",
       "\n",
       "                hours-per-week  \n",
       "age                   0.071558  \n",
       "fnlwgt               -0.013519  \n",
       "education-num         0.143689  \n",
       "capital-gain          0.082157  \n",
       "capital-loss          0.054467  \n",
       "hours-per-week        1.000000  "
      ]
     },
     "execution_count": 97,
     "metadata": {},
     "output_type": "execute_result"
    }
   ],
   "source": [
    "df.corr()"
   ]
  },
  {
   "cell_type": "markdown",
   "id": "bba09f53",
   "metadata": {
    "id": "bba09f53"
   },
   "source": [
    "# DATA PREPROCESSING"
   ]
  },
  {
   "cell_type": "markdown",
   "id": "83212951",
   "metadata": {
    "id": "83212951"
   },
   "source": [
    "## 'INCOME' COLUMN OPERATION "
   ]
  },
  {
   "cell_type": "code",
   "execution_count": 98,
   "id": "f3685448",
   "metadata": {
    "colab": {
     "base_uri": "https://localhost:8080/"
    },
    "id": "f3685448",
    "outputId": "b633eee3-bffd-46bc-9eeb-b5611ab75950"
   },
   "outputs": [
    {
     "data": {
      "text/plain": [
       "array(['<=50K', '>50K'], dtype=object)"
      ]
     },
     "execution_count": 98,
     "metadata": {},
     "output_type": "execute_result"
    }
   ],
   "source": [
    "df.replace({'income':{' <=50K.': '<=50K', \n",
    "                      ' >50K.': '>50K', \n",
    "                      ' >50K': '>50K', \n",
    "                      ' <=50K': '<=50K'}}, inplace = True)\n",
    "\n",
    "df['income'].unique()"
   ]
  },
  {
   "cell_type": "markdown",
   "id": "802b1a8c",
   "metadata": {
    "id": "802b1a8c"
   },
   "source": [
    "## DROPPING DUPLICATES"
   ]
  },
  {
   "cell_type": "code",
   "execution_count": 99,
   "id": "41fcf5a4",
   "metadata": {
    "colab": {
     "base_uri": "https://localhost:8080/",
     "height": 624
    },
    "id": "41fcf5a4",
    "outputId": "7201d899-cfec-420c-c086-de5cd4267de2"
   },
   "outputs": [
    {
     "data": {
      "text/html": [
       "<div>\n",
       "<style scoped>\n",
       "    .dataframe tbody tr th:only-of-type {\n",
       "        vertical-align: middle;\n",
       "    }\n",
       "\n",
       "    .dataframe tbody tr th {\n",
       "        vertical-align: top;\n",
       "    }\n",
       "\n",
       "    .dataframe thead th {\n",
       "        text-align: right;\n",
       "    }\n",
       "</style>\n",
       "<table border=\"1\" class=\"dataframe\">\n",
       "  <thead>\n",
       "    <tr style=\"text-align: right;\">\n",
       "      <th></th>\n",
       "      <th>age</th>\n",
       "      <th>workclass</th>\n",
       "      <th>fnlwgt</th>\n",
       "      <th>education</th>\n",
       "      <th>education-num</th>\n",
       "      <th>marital-status</th>\n",
       "      <th>occupation</th>\n",
       "      <th>relationship</th>\n",
       "      <th>race</th>\n",
       "      <th>sex</th>\n",
       "      <th>capital-gain</th>\n",
       "      <th>capital-loss</th>\n",
       "      <th>hours-per-week</th>\n",
       "      <th>native-country</th>\n",
       "      <th>income</th>\n",
       "    </tr>\n",
       "  </thead>\n",
       "  <tbody>\n",
       "    <tr>\n",
       "      <th>0</th>\n",
       "      <td>25</td>\n",
       "      <td>Private</td>\n",
       "      <td>226802</td>\n",
       "      <td>11th</td>\n",
       "      <td>7</td>\n",
       "      <td>Never-married</td>\n",
       "      <td>Machine-op-inspct</td>\n",
       "      <td>Own-child</td>\n",
       "      <td>Black</td>\n",
       "      <td>Male</td>\n",
       "      <td>0</td>\n",
       "      <td>0</td>\n",
       "      <td>40</td>\n",
       "      <td>United-States</td>\n",
       "      <td>&lt;=50K</td>\n",
       "    </tr>\n",
       "    <tr>\n",
       "      <th>1</th>\n",
       "      <td>38</td>\n",
       "      <td>Private</td>\n",
       "      <td>89814</td>\n",
       "      <td>HS-grad</td>\n",
       "      <td>9</td>\n",
       "      <td>Married-civ-spouse</td>\n",
       "      <td>Farming-fishing</td>\n",
       "      <td>Husband</td>\n",
       "      <td>White</td>\n",
       "      <td>Male</td>\n",
       "      <td>0</td>\n",
       "      <td>0</td>\n",
       "      <td>50</td>\n",
       "      <td>United-States</td>\n",
       "      <td>&lt;=50K</td>\n",
       "    </tr>\n",
       "    <tr>\n",
       "      <th>2</th>\n",
       "      <td>28</td>\n",
       "      <td>Local-gov</td>\n",
       "      <td>336951</td>\n",
       "      <td>Assoc-acdm</td>\n",
       "      <td>12</td>\n",
       "      <td>Married-civ-spouse</td>\n",
       "      <td>Protective-serv</td>\n",
       "      <td>Husband</td>\n",
       "      <td>White</td>\n",
       "      <td>Male</td>\n",
       "      <td>0</td>\n",
       "      <td>0</td>\n",
       "      <td>40</td>\n",
       "      <td>United-States</td>\n",
       "      <td>&gt;50K</td>\n",
       "    </tr>\n",
       "    <tr>\n",
       "      <th>3</th>\n",
       "      <td>44</td>\n",
       "      <td>Private</td>\n",
       "      <td>160323</td>\n",
       "      <td>Some-college</td>\n",
       "      <td>10</td>\n",
       "      <td>Married-civ-spouse</td>\n",
       "      <td>Machine-op-inspct</td>\n",
       "      <td>Husband</td>\n",
       "      <td>Black</td>\n",
       "      <td>Male</td>\n",
       "      <td>7688</td>\n",
       "      <td>0</td>\n",
       "      <td>40</td>\n",
       "      <td>United-States</td>\n",
       "      <td>&gt;50K</td>\n",
       "    </tr>\n",
       "    <tr>\n",
       "      <th>4</th>\n",
       "      <td>18</td>\n",
       "      <td>Private</td>\n",
       "      <td>103497</td>\n",
       "      <td>Some-college</td>\n",
       "      <td>10</td>\n",
       "      <td>Never-married</td>\n",
       "      <td>Prof-specialty</td>\n",
       "      <td>Own-child</td>\n",
       "      <td>White</td>\n",
       "      <td>Female</td>\n",
       "      <td>0</td>\n",
       "      <td>0</td>\n",
       "      <td>30</td>\n",
       "      <td>United-States</td>\n",
       "      <td>&lt;=50K</td>\n",
       "    </tr>\n",
       "    <tr>\n",
       "      <th>...</th>\n",
       "      <td>...</td>\n",
       "      <td>...</td>\n",
       "      <td>...</td>\n",
       "      <td>...</td>\n",
       "      <td>...</td>\n",
       "      <td>...</td>\n",
       "      <td>...</td>\n",
       "      <td>...</td>\n",
       "      <td>...</td>\n",
       "      <td>...</td>\n",
       "      <td>...</td>\n",
       "      <td>...</td>\n",
       "      <td>...</td>\n",
       "      <td>...</td>\n",
       "      <td>...</td>\n",
       "    </tr>\n",
       "    <tr>\n",
       "      <th>32556</th>\n",
       "      <td>27</td>\n",
       "      <td>Private</td>\n",
       "      <td>257302</td>\n",
       "      <td>Assoc-acdm</td>\n",
       "      <td>12</td>\n",
       "      <td>Married-civ-spouse</td>\n",
       "      <td>Tech-support</td>\n",
       "      <td>Wife</td>\n",
       "      <td>White</td>\n",
       "      <td>Female</td>\n",
       "      <td>0</td>\n",
       "      <td>0</td>\n",
       "      <td>38</td>\n",
       "      <td>United-States</td>\n",
       "      <td>&lt;=50K</td>\n",
       "    </tr>\n",
       "    <tr>\n",
       "      <th>32557</th>\n",
       "      <td>40</td>\n",
       "      <td>Private</td>\n",
       "      <td>154374</td>\n",
       "      <td>HS-grad</td>\n",
       "      <td>9</td>\n",
       "      <td>Married-civ-spouse</td>\n",
       "      <td>Machine-op-inspct</td>\n",
       "      <td>Husband</td>\n",
       "      <td>White</td>\n",
       "      <td>Male</td>\n",
       "      <td>0</td>\n",
       "      <td>0</td>\n",
       "      <td>40</td>\n",
       "      <td>United-States</td>\n",
       "      <td>&gt;50K</td>\n",
       "    </tr>\n",
       "    <tr>\n",
       "      <th>32558</th>\n",
       "      <td>58</td>\n",
       "      <td>Private</td>\n",
       "      <td>151910</td>\n",
       "      <td>HS-grad</td>\n",
       "      <td>9</td>\n",
       "      <td>Widowed</td>\n",
       "      <td>Adm-clerical</td>\n",
       "      <td>Unmarried</td>\n",
       "      <td>White</td>\n",
       "      <td>Female</td>\n",
       "      <td>0</td>\n",
       "      <td>0</td>\n",
       "      <td>40</td>\n",
       "      <td>United-States</td>\n",
       "      <td>&lt;=50K</td>\n",
       "    </tr>\n",
       "    <tr>\n",
       "      <th>32559</th>\n",
       "      <td>22</td>\n",
       "      <td>Private</td>\n",
       "      <td>201490</td>\n",
       "      <td>HS-grad</td>\n",
       "      <td>9</td>\n",
       "      <td>Never-married</td>\n",
       "      <td>Adm-clerical</td>\n",
       "      <td>Own-child</td>\n",
       "      <td>White</td>\n",
       "      <td>Male</td>\n",
       "      <td>0</td>\n",
       "      <td>0</td>\n",
       "      <td>20</td>\n",
       "      <td>United-States</td>\n",
       "      <td>&lt;=50K</td>\n",
       "    </tr>\n",
       "    <tr>\n",
       "      <th>32560</th>\n",
       "      <td>52</td>\n",
       "      <td>Self-emp-inc</td>\n",
       "      <td>287927</td>\n",
       "      <td>HS-grad</td>\n",
       "      <td>9</td>\n",
       "      <td>Married-civ-spouse</td>\n",
       "      <td>Exec-managerial</td>\n",
       "      <td>Wife</td>\n",
       "      <td>White</td>\n",
       "      <td>Female</td>\n",
       "      <td>15024</td>\n",
       "      <td>0</td>\n",
       "      <td>40</td>\n",
       "      <td>United-States</td>\n",
       "      <td>&gt;50K</td>\n",
       "    </tr>\n",
       "  </tbody>\n",
       "</table>\n",
       "<p>48789 rows × 15 columns</p>\n",
       "</div>"
      ],
      "text/plain": [
       "       age      workclass  fnlwgt      education  education-num  \\\n",
       "0       25        Private  226802           11th              7   \n",
       "1       38        Private   89814        HS-grad              9   \n",
       "2       28      Local-gov  336951     Assoc-acdm             12   \n",
       "3       44        Private  160323   Some-college             10   \n",
       "4       18        Private  103497   Some-college             10   \n",
       "...    ...            ...     ...            ...            ...   \n",
       "32556   27        Private  257302     Assoc-acdm             12   \n",
       "32557   40        Private  154374        HS-grad              9   \n",
       "32558   58        Private  151910        HS-grad              9   \n",
       "32559   22        Private  201490        HS-grad              9   \n",
       "32560   52   Self-emp-inc  287927        HS-grad              9   \n",
       "\n",
       "            marital-status          occupation relationship    race      sex  \\\n",
       "0            Never-married   Machine-op-inspct    Own-child   Black     Male   \n",
       "1       Married-civ-spouse     Farming-fishing      Husband   White     Male   \n",
       "2       Married-civ-spouse     Protective-serv      Husband   White     Male   \n",
       "3       Married-civ-spouse   Machine-op-inspct      Husband   Black     Male   \n",
       "4            Never-married      Prof-specialty    Own-child   White   Female   \n",
       "...                    ...                 ...          ...     ...      ...   \n",
       "32556   Married-civ-spouse        Tech-support         Wife   White   Female   \n",
       "32557   Married-civ-spouse   Machine-op-inspct      Husband   White     Male   \n",
       "32558              Widowed        Adm-clerical    Unmarried   White   Female   \n",
       "32559        Never-married        Adm-clerical    Own-child   White     Male   \n",
       "32560   Married-civ-spouse     Exec-managerial         Wife   White   Female   \n",
       "\n",
       "       capital-gain  capital-loss  hours-per-week  native-country income  \n",
       "0                 0             0              40   United-States  <=50K  \n",
       "1                 0             0              50   United-States  <=50K  \n",
       "2                 0             0              40   United-States   >50K  \n",
       "3              7688             0              40   United-States   >50K  \n",
       "4                 0             0              30   United-States  <=50K  \n",
       "...             ...           ...             ...             ...    ...  \n",
       "32556             0             0              38   United-States  <=50K  \n",
       "32557             0             0              40   United-States   >50K  \n",
       "32558             0             0              40   United-States  <=50K  \n",
       "32559             0             0              20   United-States  <=50K  \n",
       "32560         15024             0              40   United-States   >50K  \n",
       "\n",
       "[48789 rows x 15 columns]"
      ]
     },
     "execution_count": 99,
     "metadata": {},
     "output_type": "execute_result"
    }
   ],
   "source": [
    "df.drop_duplicates(keep = 'last', inplace = True)\n",
    "df"
   ]
  },
  {
   "cell_type": "markdown",
   "id": "d6f8cf8b",
   "metadata": {
    "id": "d6f8cf8b"
   },
   "source": [
    "# VISUALIZATION"
   ]
  },
  {
   "cell_type": "markdown",
   "id": "0565379e",
   "metadata": {
    "id": "0565379e"
   },
   "source": [
    "## GENDER vs INCOME"
   ]
  },
  {
   "cell_type": "code",
   "execution_count": 100,
   "id": "6b94edd3",
   "metadata": {
    "colab": {
     "base_uri": "https://localhost:8080/",
     "height": 352
    },
    "id": "6b94edd3",
    "outputId": "6fb92e5e-1638-4622-cf9c-b70a0c24841d"
   },
   "outputs": [
    {
     "data": {
      "text/plain": [
       "<AxesSubplot:xlabel='sex', ylabel='count'>"
      ]
     },
     "execution_count": 100,
     "metadata": {},
     "output_type": "execute_result"
    },
    {
     "data": {
      "image/png": "[encoded data removed]",
      "text/plain": [
       "<Figure size 504x360 with 1 Axes>"
      ]
     },
     "metadata": {
      "needs_background": "light"
     },
     "output_type": "display_data"
    }
   ],
   "source": [
    "plt.subplots(figsize=(7,5))\n",
    "sns.countplot(x='sex', hue='income',  data=df)"
   ]
  },
  {
   "cell_type": "markdown",
   "id": "21830c45",
   "metadata": {
    "id": "21830c45"
   },
   "source": [
    "## WORKCLASS vs INCOME"
   ]
  },
  {
   "cell_type": "code",
   "execution_count": 101,
   "id": "9046b029",
   "metadata": {
    "colab": {
     "base_uri": "https://localhost:8080/",
     "height": 624
    },
    "id": "9046b029",
    "outputId": "352e159b-f3a5-49ab-fbf7-771ed3cfdbbb"
   },
   "outputs": [
    {
     "data": {
      "text/plain": [
       "<AxesSubplot:xlabel='workclass', ylabel='count'>"
      ]
     },
     "execution_count": 101,
     "metadata": {},
     "output_type": "execute_result"
    },
    {
     "data": {
      "image/png": "[encoded data removed]",
      "text/plain": [
       "<Figure size 1440x720 with 1 Axes>"
      ]
     },
     "metadata": {
      "needs_background": "light"
     },
     "output_type": "display_data"
    }
   ],
   "source": [
    "plt.subplots(figsize=(20,10))\n",
    "sns.countplot(x='workclass', hue='income',  data=df)"
   ]
  },
  {
   "cell_type": "markdown",
   "id": "dff78964",
   "metadata": {
    "id": "dff78964"
   },
   "source": [
    "## EDUCATION vs INCOME"
   ]
  },
  {
   "cell_type": "code",
   "execution_count": 102,
   "id": "40ad3b5a",
   "metadata": {
    "colab": {
     "base_uri": "https://localhost:8080/",
     "height": 624
    },
    "id": "40ad3b5a",
    "outputId": "44036fd6-be72-463d-aab5-8eba47b64c43"
   },
   "outputs": [
    {
     "data": {
      "text/plain": [
       "<AxesSubplot:xlabel='education', ylabel='count'>"
      ]
     },
     "execution_count": 102,
     "metadata": {},
     "output_type": "execute_result"
    },
    {
     "data": {
      "image/png": "[encoded data removed]",
      "text/plain": [
       "<Figure size 1440x720 with 1 Axes>"
      ]
     },
     "metadata": {
      "needs_background": "light"
     },
     "output_type": "display_data"
    }
   ],
   "source": [
    "plt.subplots(figsize=(20,10))\n",
    "sns.countplot(x='education', hue='income',  data=df)"
   ]
  },
  {
   "cell_type": "markdown",
   "id": "dcTFhahuMzG_",
   "metadata": {
    "id": "dcTFhahuMzG_"
   },
   "source": [
    "## EDUCATION-NUM vs INCOME"
   ]
  },
  {
   "cell_type": "code",
   "execution_count": 103,
   "id": "JKM7BYXBMwYQ",
   "metadata": {
    "colab": {
     "base_uri": "https://localhost:8080/",
     "height": 508
    },
    "id": "JKM7BYXBMwYQ",
    "outputId": "4610f2b6-0f8d-4b45-b122-002e51db8c6d"
   },
   "outputs": [
    {
     "data": {
      "text/plain": [
       "<AxesSubplot:xlabel='education-num', ylabel='count'>"
      ]
     },
     "execution_count": 103,
     "metadata": {},
     "output_type": "execute_result"
    },
    {
     "data": {
      "image/png": "[encoded data removed]",
      "text/plain": [
       "<Figure size 2160x720 with 1 Axes>"
      ]
     },
     "metadata": {
      "needs_background": "light"
     },
     "output_type": "display_data"
    }
   ],
   "source": [
    "plt.subplots(figsize=(30,10))\n",
    "sns.countplot(x='education-num', hue='income',  data=df)"
   ]
  },
  {
   "cell_type": "markdown",
   "id": "456df996",
   "metadata": {
    "id": "456df996"
   },
   "source": [
    "## OCCUPATION vs INCOME"
   ]
  },
  {
   "cell_type": "code",
   "execution_count": 104,
   "id": "4721c1d4",
   "metadata": {
    "colab": {
     "base_uri": "https://localhost:8080/",
     "height": 510
    },
    "id": "4721c1d4",
    "outputId": "ed841e4e-d865-49c7-db80-e4737301186c"
   },
   "outputs": [
    {
     "data": {
      "text/plain": [
       "<AxesSubplot:xlabel='occupation', ylabel='count'>"
      ]
     },
     "execution_count": 104,
     "metadata": {},
     "output_type": "execute_result"
    },
    {
     "data": {
      "image/png": "[encoded data removed]",
      "text/plain": [
       "<Figure size 2160x720 with 1 Axes>"
      ]
     },
     "metadata": {
      "needs_background": "light"
     },
     "output_type": "display_data"
    }
   ],
   "source": [
    "plt.subplots(figsize=(30,10))\n",
    "sns.countplot(x='occupation', hue='income',  data=df)"
   ]
  },
  {
   "cell_type": "markdown",
   "id": "d19b2d90",
   "metadata": {
    "id": "d19b2d90"
   },
   "source": [
    "## RACE vs INCOME"
   ]
  },
  {
   "cell_type": "code",
   "execution_count": 105,
   "id": "897df1f1",
   "metadata": {
    "colab": {
     "base_uri": "https://localhost:8080/",
     "height": 624
    },
    "id": "897df1f1",
    "outputId": "f419aad0-45ab-4f26-c055-32ab53476093"
   },
   "outputs": [
    {
     "data": {
      "text/plain": [
       "<AxesSubplot:xlabel='race', ylabel='count'>"
      ]
     },
     "execution_count": 105,
     "metadata": {},
     "output_type": "execute_result"
    },
    {
     "data": {
      "image/png": "[encoded data removed]",
      "text/plain": [
       "<Figure size 720x720 with 1 Axes>"
      ]
     },
     "metadata": {
      "needs_background": "light"
     },
     "output_type": "display_data"
    }
   ],
   "source": [
    "plt.subplots(figsize=(10,10))\n",
    "sns.countplot(x='race', hue='income',  data=df)"
   ]
  },
  {
   "cell_type": "markdown",
   "id": "PqPcWn_hO_5A",
   "metadata": {
    "id": "PqPcWn_hO_5A"
   },
   "source": [
    "## RELATIONSHIP vs INCOME"
   ]
  },
  {
   "cell_type": "code",
   "execution_count": 106,
   "id": "1tEWA41zPDv5",
   "metadata": {
    "colab": {
     "base_uri": "https://localhost:8080/",
     "height": 624
    },
    "id": "1tEWA41zPDv5",
    "outputId": "89a3f122-ea02-49f8-b792-f93e9eec2577"
   },
   "outputs": [
    {
     "data": {
      "text/plain": [
       "<AxesSubplot:xlabel='relationship', ylabel='count'>"
      ]
     },
     "execution_count": 106,
     "metadata": {},
     "output_type": "execute_result"
    },
    {
     "data": {
      "image/png": "[encoded data removed]",
      "text/plain": [
       "<Figure size 720x720 with 1 Axes>"
      ]
     },
     "metadata": {
      "needs_background": "light"
     },
     "output_type": "display_data"
    }
   ],
   "source": [
    "plt.subplots(figsize=(10,10))\n",
    "sns.countplot(x='relationship', hue='income', data=df)"
   ]
  },
  {
   "cell_type": "markdown",
   "id": "hhZ3qwcYP15E",
   "metadata": {
    "id": "hhZ3qwcYP15E"
   },
   "source": [
    "## MARITAL-STATUS vs INCOME"
   ]
  },
  {
   "cell_type": "code",
   "execution_count": 107,
   "id": "cLTTzPhRP-rx",
   "metadata": {
    "colab": {
     "base_uri": "https://localhost:8080/",
     "height": 895
    },
    "id": "cLTTzPhRP-rx",
    "outputId": "8e403d80-159b-40ea-c48e-aa1387cc1cf2"
   },
   "outputs": [
    {
     "data": {
      "text/plain": [
       "<AxesSubplot:xlabel='marital-status', ylabel='count'>"
      ]
     },
     "execution_count": 107,
     "metadata": {},
     "output_type": "execute_result"
    },
    {
     "data": {
      "image/png": "[encoded data removed]",
      "text/plain": [
       "<Figure size 1440x1080 with 1 Axes>"
      ]
     },
     "metadata": {
      "needs_background": "light"
     },
     "output_type": "display_data"
    }
   ],
   "source": [
    "plt.subplots(figsize=(20,15))\n",
    "sns.countplot(x='marital-status', hue='income', data=df)"
   ]
  },
  {
   "cell_type": "markdown",
   "id": "BBkpgh0OBhvk",
   "metadata": {
    "id": "BBkpgh0OBhvk"
   },
   "source": [
    "## HOURS-PER-WEEK vs INCOME"
   ]
  },
  {
   "cell_type": "code",
   "execution_count": 108,
   "id": "6lyL4EpjBgit",
   "metadata": {
    "colab": {
     "base_uri": "https://localhost:8080/",
     "height": 624
    },
    "id": "6lyL4EpjBgit",
    "outputId": "280d3b72-390f-4d8f-cd01-bc93aa328900"
   },
   "outputs": [
    {
     "data": {
      "text/plain": [
       "<AxesSubplot:xlabel='hours-range', ylabel='count'>"
      ]
     },
     "execution_count": 108,
     "metadata": {},
     "output_type": "execute_result"
    },
    {
     "data": {
      "image/png": "[encoded data removed]",
      "text/plain": [
       "<Figure size 720x720 with 1 Axes>"
      ]
     },
     "metadata": {
      "needs_background": "light"
     },
     "output_type": "display_data"
    }
   ],
   "source": [
    "df['hours-range'] = pd.cut(df['hours-per-week'], [0,20,40,60,80, np.inf], right=False)\n",
    "#df['hours-range'].unique()\n",
    "\n",
    "plt.subplots(figsize=(10,10))\n",
    "sns.countplot(x='hours-range', hue='income', data=df)"
   ]
  },
  {
   "cell_type": "code",
   "execution_count": null,
   "id": "be926335",
   "metadata": {},
   "outputs": [],
   "source": []
  },
  {
   "cell_type": "markdown",
   "id": "c75e47a4",
   "metadata": {
    "id": "c75e47a4"
   },
   "source": [
    "## NATIVE-COUNTRY vs INCOME"
   ]
  },
  {
   "cell_type": "code",
   "execution_count": 111,
   "id": "eba04a0a",
   "metadata": {
    "id": "eba04a0a"
   },
   "outputs": [],
   "source": [
    "#world_map\n",
    "import pycountry\n",
    "import plotly.express as px\n",
    "country = df[\"native-country\"].unique()\n",
    "country = country[country != \"?\"]\n",
    "coulist=[]\n",
    "for i in country:\n",
    "    i = i.strip()\n",
    "    i = i.replace(\"-\",\" \")\n",
    "    coulist.append(i)\n",
    "coulist\n",
    "def do_fuzzy_search(country):\n",
    "    ukcount = {\"England\":\"GBR\",\"Scotland\":\"GBR\",\"Laos\":\"LAO\",\"Holand Netherlands\":\"NLO\",\"Trinadad&Tobago\":\"TTO\"}\n",
    "    try:\n",
    "        result = pycountry.countries.search_fuzzy(country)\n",
    "    except Exception:\n",
    "        if country in ukcount.keys():\n",
    "            return ukcount[country]\n",
    "        return np.nan\n",
    "    else:\n",
    "        return result[0].alpha_3\n",
    "ISO = list(map(do_fuzzy_search,coulist))\n",
    "dict1 = dict(zip(ISO,coulist))\n",
    "df.replace(to_replace = country,value = ISO,inplace = True)"
   ]
  },
  {
   "cell_type": "code",
   "execution_count": 112,
   "id": "530f6660",
   "metadata": {},
   "outputs": [
    {
     "data": {
      "text/html": [
       "<div>\n",
       "<style scoped>\n",
       "    .dataframe tbody tr th:only-of-type {\n",
       "        vertical-align: middle;\n",
       "    }\n",
       "\n",
       "    .dataframe tbody tr th {\n",
       "        vertical-align: top;\n",
       "    }\n",
       "\n",
       "    .dataframe thead th {\n",
       "        text-align: right;\n",
       "    }\n",
       "</style>\n",
       "<table border=\"1\" class=\"dataframe\">\n",
       "  <thead>\n",
       "    <tr style=\"text-align: right;\">\n",
       "      <th></th>\n",
       "      <th>iso</th>\n",
       "      <th>age</th>\n",
       "      <th>&gt;50</th>\n",
       "      <th>&lt;=50</th>\n",
       "    </tr>\n",
       "  </thead>\n",
       "  <tbody>\n",
       "    <tr>\n",
       "      <th>1359</th>\n",
       "      <td>POL</td>\n",
       "      <td>17</td>\n",
       "      <td>0</td>\n",
       "      <td>2</td>\n",
       "    </tr>\n",
       "    <tr>\n",
       "      <th>1137</th>\n",
       "      <td>JPN</td>\n",
       "      <td>17</td>\n",
       "      <td>0</td>\n",
       "      <td>0</td>\n",
       "    </tr>\n",
       "    <tr>\n",
       "      <th>2617</th>\n",
       "      <td>HKG</td>\n",
       "      <td>17</td>\n",
       "      <td>0</td>\n",
       "      <td>0</td>\n",
       "    </tr>\n",
       "    <tr>\n",
       "      <th>1211</th>\n",
       "      <td>IND</td>\n",
       "      <td>17</td>\n",
       "      <td>0</td>\n",
       "      <td>1</td>\n",
       "    </tr>\n",
       "    <tr>\n",
       "      <th>2543</th>\n",
       "      <td>HUN</td>\n",
       "      <td>17</td>\n",
       "      <td>0</td>\n",
       "      <td>0</td>\n",
       "    </tr>\n",
       "    <tr>\n",
       "      <th>...</th>\n",
       "      <td>...</td>\n",
       "      <td>...</td>\n",
       "      <td>...</td>\n",
       "      <td>...</td>\n",
       "    </tr>\n",
       "    <tr>\n",
       "      <th>1689</th>\n",
       "      <td>TWN</td>\n",
       "      <td>90</td>\n",
       "      <td>0</td>\n",
       "      <td>0</td>\n",
       "    </tr>\n",
       "    <tr>\n",
       "      <th>505</th>\n",
       "      <td>DEU</td>\n",
       "      <td>90</td>\n",
       "      <td>0</td>\n",
       "      <td>0</td>\n",
       "    </tr>\n",
       "    <tr>\n",
       "      <th>2355</th>\n",
       "      <td>JAM</td>\n",
       "      <td>90</td>\n",
       "      <td>0</td>\n",
       "      <td>0</td>\n",
       "    </tr>\n",
       "    <tr>\n",
       "      <th>1097</th>\n",
       "      <td>CAN</td>\n",
       "      <td>90</td>\n",
       "      <td>0</td>\n",
       "      <td>0</td>\n",
       "    </tr>\n",
       "    <tr>\n",
       "      <th>2577</th>\n",
       "      <td>HUN</td>\n",
       "      <td>90</td>\n",
       "      <td>0</td>\n",
       "      <td>0</td>\n",
       "    </tr>\n",
       "  </tbody>\n",
       "</table>\n",
       "<p>2886 rows × 4 columns</p>\n",
       "</div>"
      ],
      "text/plain": [
       "      iso  age   >50    <=50 \n",
       "1359  POL   17      0       2\n",
       "1137  JPN   17      0       0\n",
       "2617  HKG   17      0       0\n",
       "1211  IND   17      0       1\n",
       "2543  HUN   17      0       0\n",
       "...   ...  ...    ...     ...\n",
       "1689  TWN   90      0       0\n",
       "505   DEU   90      0       0\n",
       "2355  JAM   90      0       0\n",
       "1097  CAN   90      0       0\n",
       "2577  HUN   90      0       0\n",
       "\n",
       "[2886 rows x 4 columns]"
      ]
     },
     "execution_count": 112,
     "metadata": {},
     "output_type": "execute_result"
    }
   ],
   "source": [
    "ages = df.age.unique()\n",
    "newdata ={\"iso\":[],\"age\":[],\" >50 \":[],\" <=50 \":[]}\n",
    "for coun in ISO:\n",
    "    for age in ages: \n",
    "        data3 = df[(df[\"native-country\"] == coun )& (df[\"age\"] == age)]\n",
    "        newdata[\"iso\"].append(coun)\n",
    "        newdata[\"age\"].append(age)\n",
    "        newdata[\" >50 \"].append(len(data3[data3[\"income\"] == \">50K\"]))\n",
    "        newdata[\" <=50 \"].append(len(data3[data3[\"income\"] == \"<=50K\"]))\n",
    "newDF = pd.DataFrame(newdata)\n",
    "newDF.head(100)\n",
    "newDF.dropna(inplace = True)\n",
    "newDF.sort_values(\"age\",inplace = True)\n",
    "newDF"
   ]
  },
  {
   "cell_type": "code",
   "execution_count": 113,
   "id": "1c078f84",
   "metadata": {},
   "outputs": [
    {
     "data": {
      "application/vnd.plotly.v1+json": {
       "config": {
        "plotlyServerURL": "https://plot.ly"
       },
       "data": [
        {
         "coloraxis": "coloraxis",
         "customdata": [
          [
           0,
           2
          ],
          [
           0,
           0
          ],
          [
           0,
           0
          ],
          [
           0,
           1
          ],
          [
           0,
           0
          ],
          [
           0,
           1
          ],
          [
           0,
           0
          ],
          [
           0,
           0
          ],
          [
           0,
           0
          ],
          [
           0,
           0
          ],
          [
           0,
           0
          ],
          [
           0,
           3
          ],
          [
           0,
           3
          ],
          [
           0,
           0
          ],
          [
           0,
           0
          ],
          [
           0,
           0
          ],
          [
           0,
           1
          ],
          [
           0,
           2
          ],
          [
           0,
           0
          ],
          [
           0,
           0
          ],
          [
           0,
           0
          ],
          [
           0,
           0
          ],
          [
           0,
           0
          ],
          [
           0,
           2
          ],
          [
           0,
           3
          ],
          [
           0,
           0
          ],
          [
           0,
           0
          ],
          [
           0,
           3
          ],
          [
           0,
           0
          ],
          [
           0,
           565
          ],
          [
           0,
           0
          ],
          [
           0,
           3
          ],
          [
           0,
           8
          ],
          [
           0,
           0
          ],
          [
           0,
           0
          ],
          [
           0,
           1
          ],
          [
           0,
           0
          ],
          [
           0,
           2
          ],
          [
           0,
           0
          ]
         ],
         "geo": "geo",
         "hovertemplate": "<b>%{hovertext}</b><br><br>age=17<br>iso=%{location}<br> >50 =%{z}<br> <=50 =%{customdata[1]}<extra></extra>",
         "hovertext": [
          "POL",
          "JPN",
          "HKG",
          "IND",
          "HUN",
          "HTI",
          "KHM",
          "ECU",
          "DEU",
          "JAM",
          "LAO",
          "GBR",
          "GBR",
          "DOM",
          "CUB",
          "IRN",
          "GTM",
          "PER",
          "TWN",
          "HND",
          "THA",
          "ITA",
          "NIC",
          "PHL",
          "CAN",
          "CHN",
          "GRC",
          "CAN",
          "PRT",
          "USA",
          "CMR",
          "SLV",
          "MEX",
          "FRA",
          "IRL",
          "TTO",
          "VNM",
          "PRI",
          "NLO"
         ],
         "locations": [
          "POL",
          "JPN",
          "HKG",
          "IND",
          "HUN",
          "HTI",
          "KHM",
          "ECU",
          "DEU",
          "JAM",
          "LAO",
          "GBR",
          "GBR",
          "DOM",
          "CUB",
          "IRN",
          "GTM",
          "PER",
          "TWN",
          "HND",
          "THA",
          "ITA",
          "NIC",
          "PHL",
          "CAN",
          "CHN",
          "GRC",
          "CAN",
          "PRT",
          "USA",
          "CMR",
          "SLV",
          "MEX",
          "FRA",
          "IRL",
          "TTO",
          "VNM",
          "PRI",
          "NLO"
         ],
         "name": "",
         "type": "choropleth",
         "z": [
          0,
          0,
          0,
          0,
          0,
          0,
          0,
          0,
          0,
          0,
          0,
          0,
          0,
          0,
          0,
          0,
          0,
          0,
          0,
          0,
          0,
          0,
          0,
          0,
          0,
          0,
          0,
          0,
          0,
          0,
          0,
          0,
          0,
          0,
          0,
          0,
          0,
          0,
          0
         ]
        }
       ],
       "frames": [
        {
         "data": [
          {
           "coloraxis": "coloraxis",
           "customdata": [
            [
             0,
             2
            ],
            [
             0,
             0
            ],
            [
             0,
             0
            ],
            [
             0,
             1
            ],
            [
             0,
             0
            ],
            [
             0,
             1
            ],
            [
             0,
             0
            ],
            [
             0,
             0
            ],
            [
             0,
             0
            ],
            [
             0,
             0
            ],
            [
             0,
             0
            ],
            [
             0,
             3
            ],
            [
             0,
             3
            ],
            [
             0,
             0
            ],
            [
             0,
             0
            ],
            [
             0,
             0
            ],
            [
             0,
             1
            ],
            [
             0,
             2
            ],
            [
             0,
             0
            ],
            [
             0,
             0
            ],
            [
             0,
             0
            ],
            [
             0,
             0
            ],
            [
             0,
             0
            ],
            [
             0,
             2
            ],
            [
             0,
             3
            ],
            [
             0,
             0
            ],
            [
             0,
             0
            ],
            [
             0,
             3
            ],
            [
             0,
             0
            ],
            [
             0,
             565
            ],
            [
             0,
             0
            ],
            [
             0,
             3
            ],
            [
             0,
             8
            ],
            [
             0,
             0
            ],
            [
             0,
             0
            ],
            [
             0,
             1
            ],
            [
             0,
             0
            ],
            [
             0,
             2
            ],
            [
             0,
             0
            ]
           ],
           "geo": "geo",
           "hovertemplate": "<b>%{hovertext}</b><br><br>age=17<br>iso=%{location}<br> >50 =%{z}<br> <=50 =%{customdata[1]}<extra></extra>",
           "hovertext": [
            "POL",
            "JPN",
            "HKG",
            "IND",
            "HUN",
            "HTI",
            "KHM",
            "ECU",
            "DEU",
            "JAM",
            "LAO",
            "GBR",
            "GBR",
            "DOM",
            "CUB",
            "IRN",
            "GTM",
            "PER",
            "TWN",
            "HND",
            "THA",
            "ITA",
            "NIC",
            "PHL",
            "CAN",
            "CHN",
            "GRC",
            "CAN",
            "PRT",
            "USA",
            "CMR",
            "SLV",
            "MEX",
            "FRA",
            "IRL",
            "TTO",
            "VNM",
            "PRI",
            "NLO"
           ],
           "locations": [
            "POL",
            "JPN",
            "HKG",
            "IND",
            "HUN",
            "HTI",
            "KHM",
            "ECU",
            "DEU",
            "JAM",
            "LAO",
            "GBR",
            "GBR",
            "DOM",
            "CUB",
            "IRN",
            "GTM",
            "PER",
            "TWN",
            "HND",
            "THA",
            "ITA",
            "NIC",
            "PHL",
            "CAN",
            "CHN",
            "GRC",
            "CAN",
            "PRT",
            "USA",
            "CMR",
            "SLV",
            "MEX",
            "FRA",
            "IRL",
            "TTO",
            "VNM",
            "PRI",
            "NLO"
           ],
           "name": "",
           "type": "choropleth",
           "z": [
            0,
            0,
            0,
            0,
            0,
            0,
            0,
            0,
            0,
            0,
            0,
            0,
            0,
            0,
            0,
            0,
            0,
            0,
            0,
            0,
            0,
            0,
            0,
            0,
            0,
            0,
            0,
            0,
            0,
            0,
            0,
            0,
            0,
            0,
            0,
            0,
            0,
            0,
            0
           ]
          }
         ],
         "name": "17"
        },
        {
         "data": [
          {
           "coloraxis": "coloraxis",
           "customdata": [
            [
             0,
             0
            ],
            [
             0,
             0
            ],
            [
             0,
             1
            ],
            [
             0,
             2
            ],
            [
             0,
             0
            ],
            [
             0,
             1
            ],
            [
             0,
             3
            ],
            [
             0,
             0
            ],
            [
             0,
             1
            ],
            [
             0,
             0
            ],
            [
             0,
             3
            ],
            [
             0,
             3
            ],
            [
             0,
             0
            ],
            [
             0,
             0
            ],
            [
             0,
             0
            ],
            [
             0,
             0
            ],
            [
             0,
             0
            ],
            [
             0,
             2
            ],
            [
             0,
             0
            ],
            [
             0,
             1
            ],
            [
             0,
             1
            ],
            [
             0,
             827
            ],
            [
             0,
             0
            ],
            [
             0,
             1
            ],
            [
             0,
             0
            ],
            [
             0,
             2
            ],
            [
             0,
             1
            ],
            [
             0,
             0
            ],
            [
             0,
             1
            ],
            [
             0,
             0
            ],
            [
             0,
             2
            ],
            [
             0,
             11
            ],
            [
             0,
             0
            ],
            [
             0,
             1
            ],
            [
             0,
             3
            ],
            [
             0,
             0
            ],
            [
             0,
             0
            ],
            [
             0,
             0
            ],
            [
             0,
             0
            ]
           ],
           "geo": "geo",
           "hovertemplate": "<b>%{hovertext}</b><br><br>age=18<br>iso=%{location}<br> >50 =%{z}<br> <=50 =%{customdata[1]}<extra></extra>",
           "hovertext": [
            "GTM",
            "CHN",
            "DOM",
            "PER",
            "PRT",
            "JAM",
            "GBR",
            "THA",
            "HTI",
            "CMR",
            "CAN",
            "GBR",
            "NLO",
            "TWN",
            "LAO",
            "IRL",
            "IRN",
            "PRI",
            "VNM",
            "ITA",
            "HND",
            "USA",
            "NIC",
            "CUB",
            "ECU",
            "PHL",
            "KHM",
            "POL",
            "SLV",
            "JPN",
            "DEU",
            "MEX",
            "TTO",
            "IND",
            "CAN",
            "HUN",
            "GRC",
            "HKG",
            "FRA"
           ],
           "locations": [
            "GTM",
            "CHN",
            "DOM",
            "PER",
            "PRT",
            "JAM",
            "GBR",
            "THA",
            "HTI",
            "CMR",
            "CAN",
            "GBR",
            "NLO",
            "TWN",
            "LAO",
            "IRL",
            "IRN",
            "PRI",
            "VNM",
            "ITA",
            "HND",
            "USA",
            "NIC",
            "CUB",
            "ECU",
            "PHL",
            "KHM",
            "POL",
            "SLV",
            "JPN",
            "DEU",
            "MEX",
            "TTO",
            "IND",
            "CAN",
            "HUN",
            "GRC",
            "HKG",
            "FRA"
           ],
           "name": "",
           "type": "choropleth",
           "z": [
            0,
            0,
            0,
            0,
            0,
            0,
            0,
            0,
            0,
            0,
            0,
            0,
            0,
            0,
            0,
            0,
            0,
            0,
            0,
            0,
            0,
            0,
            0,
            0,
            0,
            0,
            0,
            0,
            0,
            0,
            0,
            0,
            0,
            0,
            0,
            0,
            0,
            0,
            0
           ]
          }
         ],
         "name": "18"
        },
        {
         "data": [
          {
           "coloraxis": "coloraxis",
           "customdata": [
            [
             0,
             0
            ],
            [
             0,
             1
            ],
            [
             0,
             1
            ],
            [
             0,
             0
            ],
            [
             0,
             2
            ],
            [
             0,
             4
            ],
            [
             0,
             1
            ],
            [
             0,
             2
            ],
            [
             0,
             1
            ],
            [
             3,
             977
            ],
            [
             0,
             0
            ],
            [
             0,
             0
            ],
            [
             0,
             0
            ],
            [
             0,
             0
            ],
            [
             0,
             1
            ],
            [
             0,
             1
            ],
            [
             0,
             4
            ],
            [
             0,
             3
            ],
            [
             0,
             1
            ],
            [
             0,
             0
            ],
            [
             0,
             0
            ],
            [
             0,
             1
            ],
            [
             0,
             0
            ],
            [
             0,
             21
            ],
            [
             0,
             0
            ],
            [
             0,
             1
            ],
            [
             0,
             0
            ],
            [
             0,
             2
            ],
            [
             0,
             0
            ],
            [
             0,
             3
            ],
            [
             0,
             0
            ],
            [
             0,
             0
            ],
            [
             0,
             3
            ],
            [
             0,
             3
            ],
            [
             0,
             3
            ],
            [
             0,
             0
            ],
            [
             0,
             2
            ],
            [
             0,
             2
            ],
            [
             0,
             5
            ]
           ],
           "geo": "geo",
           "hovertemplate": "<b>%{hovertext}</b><br><br>age=19<br>iso=%{location}<br> >50 =%{z}<br> <=50 =%{customdata[1]}<extra></extra>",
           "hovertext": [
            "PER",
            "HND",
            "HKG",
            "TWN",
            "JPN",
            "CMR",
            "HTI",
            "NIC",
            "ITA",
            "USA",
            "GRC",
            "IRL",
            "CHN",
            "NLO",
            "CAN",
            "CAN",
            "PHL",
            "PRI",
            "CUB",
            "TTO",
            "FRA",
            "PRT",
            "POL",
            "MEX",
            "ECU",
            "JAM",
            "KHM",
            "VNM",
            "IND",
            "GBR",
            "HUN",
            "DOM",
            "DEU",
            "GBR",
            "GTM",
            "IRN",
            "THA",
            "LAO",
            "SLV"
           ],
           "locations": [
            "PER",
            "HND",
            "HKG",
            "TWN",
            "JPN",
            "CMR",
            "HTI",
            "NIC",
            "ITA",
            "USA",
            "GRC",
            "IRL",
            "CHN",
            "NLO",
            "CAN",
            "CAN",
            "PHL",
            "PRI",
            "CUB",
            "TTO",
            "FRA",
            "PRT",
            "POL",
            "MEX",
            "ECU",
            "JAM",
            "KHM",
            "VNM",
            "IND",
            "GBR",
            "HUN",
            "DOM",
            "DEU",
            "GBR",
            "GTM",
            "IRN",
            "THA",
            "LAO",
            "SLV"
           ],
           "name": "",
           "type": "choropleth",
           "z": [
            0,
            0,
            0,
            0,
            0,
            0,
            0,
            0,
            0,
            3,
            0,
            0,
            0,
            0,
            0,
            0,
            0,
            0,
            0,
            0,
            0,
            0,
            0,
            0,
            0,
            0,
            0,
            0,
            0,
            0,
            0,
            0,
            0,
            0,
            0,
            0,
            0,
            0,
            0
           ]
          }
         ],
         "name": "19"
        },
        {
         "data": [
          {
           "coloraxis": "coloraxis",
           "customdata": [
            [
             0,
             4
            ],
            [
             0,
             0
            ],
            [
             0,
             1
            ],
            [
             0,
             1
            ],
            [
             0,
             3
            ],
            [
             0,
             8
            ],
            [
             0,
             1
            ],
            [
             0,
             1
            ],
            [
             0,
             1
            ],
            [
             0,
             3
            ],
            [
             0,
             1
            ],
            [
             0,
             3
            ],
            [
             0,
             3
            ],
            [
             0,
             0
            ],
            [
             0,
             0
            ],
            [
             0,
             27
            ],
            [
             0,
             0
            ],
            [
             0,
             1
            ],
            [
             0,
             0
            ],
            [
             0,
             0
            ],
            [
             0,
             2
            ],
            [
             0,
             0
            ],
            [
             0,
             0
            ],
            [
             0,
             1
            ],
            [
             0,
             1
            ],
            [
             0,
             0
            ],
            [
             0,
             1
            ],
            [
             0,
             0
            ],
            [
             0,
             2
            ],
            [
             0,
             0
            ],
            [
             0,
             5
            ],
            [
             0,
             4
            ],
            [
             1,
             1038
            ],
            [
             0,
             0
            ],
            [
             0,
             0
            ],
            [
             0,
             0
            ],
            [
             0,
             0
            ],
            [
             0,
             0
            ],
            [
             0,
             0
            ]
           ],
           "geo": "geo",
           "hovertemplate": "<b>%{hovertext}</b><br><br>age=20<br>iso=%{location}<br> >50 =%{z}<br> <=50 =%{customdata[1]}<extra></extra>",
           "hovertext": [
            "VNM",
            "POL",
            "CUB",
            "PRT",
            "GTM",
            "SLV",
            "ITA",
            "IND",
            "HTI",
            "CAN",
            "GBR",
            "CAN",
            "CMR",
            "THA",
            "JPN",
            "MEX",
            "KHM",
            "TWN",
            "LAO",
            "DOM",
            "PRI",
            "TTO",
            "GRC",
            "PER",
            "GBR",
            "HND",
            "FRA",
            "HKG",
            "PHL",
            "JAM",
            "DEU",
            "NIC",
            "USA",
            "ECU",
            "HUN",
            "CHN",
            "NLO",
            "IRN",
            "IRL"
           ],
           "locations": [
            "VNM",
            "POL",
            "CUB",
            "PRT",
            "GTM",
            "SLV",
            "ITA",
            "IND",
            "HTI",
            "CAN",
            "GBR",
            "CAN",
            "CMR",
            "THA",
            "JPN",
            "MEX",
            "KHM",
            "TWN",
            "LAO",
            "DOM",
            "PRI",
            "TTO",
            "GRC",
            "PER",
            "GBR",
            "HND",
            "FRA",
            "HKG",
            "PHL",
            "JAM",
            "DEU",
            "NIC",
            "USA",
            "ECU",
            "HUN",
            "CHN",
            "NLO",
            "IRN",
            "IRL"
           ],
           "name": "",
           "type": "choropleth",
           "z": [
            0,
            0,
            0,
            0,
            0,
            0,
            0,
            0,
            0,
            0,
            0,
            0,
            0,
            0,
            0,
            0,
            0,
            0,
            0,
            0,
            0,
            0,
            0,
            0,
            0,
            0,
            0,
            0,
            0,
            0,
            0,
            0,
            1,
            0,
            0,
            0,
            0,
            0,
            0
           ]
          }
         ],
         "name": "20"
        },
        {
         "data": [
          {
           "coloraxis": "coloraxis",
           "customdata": [
            [
             0,
             1
            ],
            [
             0,
             2
            ],
            [
             0,
             3
            ],
            [
             0,
             0
            ],
            [
             0,
             0
            ],
            [
             0,
             0
            ],
            [
             0,
             0
            ],
            [
             0,
             3
            ],
            [
             0,
             4
            ],
            [
             0,
             1
            ],
            [
             0,
             2
            ],
            [
             0,
             2
            ],
            [
             0,
             0
            ],
            [
             0,
             1
            ],
            [
             0,
             5
            ],
            [
             0,
             2
            ],
            [
             0,
             1
            ],
            [
             0,
             0
            ],
            [
             0,
             0
            ],
            [
             0,
             3
            ],
            [
             0,
             0
            ],
            [
             0,
             3
            ],
            [
             0,
             2
            ],
            [
             0,
             1
            ],
            [
             0,
             0
            ],
            [
             0,
             1
            ],
            [
             0,
             3
            ],
            [
             0,
             3
            ],
            [
             0,
             0
            ],
            [
             1,
             35
            ],
            [
             0,
             1
            ],
            [
             0,
             2
            ],
            [
             0,
             3
            ],
            [
             0,
             0
            ],
            [
             0,
             3
            ],
            [
             5,
             999
            ],
            [
             0,
             1
            ],
            [
             0,
             0
            ],
            [
             0,
             3
            ]
           ],
           "geo": "geo",
           "hovertemplate": "<b>%{hovertext}</b><br><br>age=21<br>iso=%{location}<br> >50 =%{z}<br> <=50 =%{customdata[1]}<extra></extra>",
           "hovertext": [
            "PRT",
            "CUB",
            "GTM",
            "IRL",
            "GRC",
            "JPN",
            "IRN",
            "DOM",
            "JAM",
            "LAO",
            "IND",
            "GBR",
            "HKG",
            "HTI",
            "DEU",
            "GBR",
            "POL",
            "HUN",
            "THA",
            "ECU",
            "FRA",
            "SLV",
            "NIC",
            "ITA",
            "KHM",
            "CHN",
            "CAN",
            "CMR",
            "TTO",
            "MEX",
            "TWN",
            "PRI",
            "PHL",
            "NLO",
            "CAN",
            "USA",
            "PER",
            "HND",
            "VNM"
           ],
           "locations": [
            "PRT",
            "CUB",
            "GTM",
            "IRL",
            "GRC",
            "JPN",
            "IRN",
            "DOM",
            "JAM",
            "LAO",
            "IND",
            "GBR",
            "HKG",
            "HTI",
            "DEU",
            "GBR",
            "POL",
            "HUN",
            "THA",
            "ECU",
            "FRA",
            "SLV",
            "NIC",
            "ITA",
            "KHM",
            "CHN",
            "CAN",
            "CMR",
            "TTO",
            "MEX",
            "TWN",
            "PRI",
            "PHL",
            "NLO",
            "CAN",
            "USA",
            "PER",
            "HND",
            "VNM"
           ],
           "name": "",
           "type": "choropleth",
           "z": [
            0,
            0,
            0,
            0,
            0,
            0,
            0,
            0,
            0,
            0,
            0,
            0,
            0,
            0,
            0,
            0,
            0,
            0,
            0,
            0,
            0,
            0,
            0,
            0,
            0,
            0,
            0,
            0,
            0,
            1,
            0,
            0,
            0,
            0,
            0,
            5,
            0,
            0,
            0
           ]
          }
         ],
         "name": "21"
        },
        {
         "data": [
          {
           "coloraxis": "coloraxis",
           "customdata": [
            [
             0,
             5
            ],
            [
             0,
             0
            ],
            [
             0,
             0
            ],
            [
             0,
             0
            ],
            [
             0,
             6
            ],
            [
             0,
             4
            ],
            [
             0,
             1
            ],
            [
             0,
             3
            ],
            [
             0,
             0
            ],
            [
             15,
             1060
            ],
            [
             0,
             3
            ],
            [
             0,
             2
            ],
            [
             0,
             0
            ],
            [
             0,
             0
            ],
            [
             0,
             29
            ],
            [
             0,
             0
            ],
            [
             0,
             5
            ],
            [
             0,
             1
            ],
            [
             0,
             2
            ],
            [
             0,
             0
            ],
            [
             1,
             4
            ],
            [
             0,
             2
            ],
            [
             0,
             1
            ],
            [
             0,
             0
            ],
            [
             0,
             1
            ],
            [
             0,
             1
            ],
            [
             0,
             3
            ],
            [
             0,
             0
            ],
            [
             1,
             3
            ],
            [
             0,
             3
            ],
            [
             0,
             3
            ],
            [
             0,
             8
            ],
            [
             0,
             4
            ],
            [
             0,
             2
            ],
            [
             0,
             0
            ],
            [
             0,
             2
            ],
            [
             0,
             1
            ],
            [
             0,
             0
            ],
            [
             0,
             4
            ]
           ],
           "geo": "geo",
           "hovertemplate": "<b>%{hovertext}</b><br><br>age=22<br>iso=%{location}<br> >50 =%{z}<br> <=50 =%{customdata[1]}<extra></extra>",
           "hovertext": [
            "VNM",
            "NLO",
            "KHM",
            "HUN",
            "DEU",
            "SLV",
            "FRA",
            "IND",
            "HKG",
            "USA",
            "CAN",
            "GRC",
            "JPN",
            "TTO",
            "MEX",
            "IRL",
            "CMR",
            "POL",
            "TWN",
            "HND",
            "GTM",
            "IRN",
            "ITA",
            "CUB",
            "PER",
            "THA",
            "GBR",
            "NIC",
            "DOM",
            "GBR",
            "CAN",
            "PHL",
            "JAM",
            "HTI",
            "LAO",
            "CHN",
            "PRT",
            "ECU",
            "PRI"
           ],
           "locations": [
            "VNM",
            "NLO",
            "KHM",
            "HUN",
            "DEU",
            "SLV",
            "FRA",
            "IND",
            "HKG",
            "USA",
            "CAN",
            "GRC",
            "JPN",
            "TTO",
            "MEX",
            "IRL",
            "CMR",
            "POL",
            "TWN",
            "HND",
            "GTM",
            "IRN",
            "ITA",
            "CUB",
            "PER",
            "THA",
            "GBR",
            "NIC",
            "DOM",
            "GBR",
            "CAN",
            "PHL",
            "JAM",
            "HTI",
            "LAO",
            "CHN",
            "PRT",
            "ECU",
            "PRI"
           ],
           "name": "",
           "type": "choropleth",
           "z": [
            0,
            0,
            0,
            0,
            0,
            0,
            0,
            0,
            0,
            15,
            0,
            0,
            0,
            0,
            0,
            0,
            0,
            0,
            0,
            0,
            1,
            0,
            0,
            0,
            0,
            0,
            0,
            0,
            1,
            0,
            0,
            0,
            0,
            0,
            0,
            0,
            0,
            0,
            0
           ]
          }
         ],
         "name": "22"
        },
        {
         "data": [
          {
           "coloraxis": "coloraxis",
           "customdata": [
            [
             0,
             7
            ],
            [
             0,
             7
            ],
            [
             20,
             1178
            ],
            [
             0,
             0
            ],
            [
             0,
             2
            ],
            [
             0,
             7
            ],
            [
             0,
             1
            ],
            [
             0,
             3
            ],
            [
             0,
             0
            ],
            [
             0,
             4
            ],
            [
             0,
             1
            ],
            [
             0,
             0
            ],
            [
             0,
             2
            ],
            [
             0,
             9
            ],
            [
             1,
             10
            ],
            [
             0,
             0
            ],
            [
             0,
             5
            ],
            [
             0,
             9
            ],
            [
             0,
             2
            ],
            [
             0,
             0
            ],
            [
             0,
             2
            ],
            [
             0,
             0
            ],
            [
             0,
             3
            ],
            [
             0,
             1
            ],
            [
             1,
             0
            ],
            [
             0,
             2
            ],
            [
             0,
             2
            ],
            [
             0,
             1
            ],
            [
             0,
             0
            ],
            [
             0,
             1
            ],
            [
             0,
             1
            ],
            [
             0,
             2
            ],
            [
             0,
             36
            ],
            [
             0,
             3
            ],
            [
             0,
             1
            ],
            [
             0,
             3
            ],
            [
             0,
             1
            ],
            [
             0,
             3
            ],
            [
             0,
             4
            ]
           ],
           "geo": "geo",
           "hovertemplate": "<b>%{hovertext}</b><br><br>age=23<br>iso=%{location}<br> >50 =%{z}<br> <=50 =%{customdata[1]}<extra></extra>",
           "hovertext": [
            "SLV",
            "PRI",
            "USA",
            "THA",
            "IRL",
            "PHL",
            "ITA",
            "CMR",
            "NLO",
            "DOM",
            "NIC",
            "HND",
            "CHN",
            "CAN",
            "VNM",
            "FRA",
            "DEU",
            "CAN",
            "ECU",
            "KHM",
            "POL",
            "HUN",
            "JAM",
            "LAO",
            "IND",
            "GBR",
            "GBR",
            "TTO",
            "HKG",
            "PRT",
            "TWN",
            "HTI",
            "MEX",
            "JPN",
            "GRC",
            "CUB",
            "PER",
            "IRN",
            "GTM"
           ],
           "locations": [
            "SLV",
            "PRI",
            "USA",
            "THA",
            "IRL",
            "PHL",
            "ITA",
            "CMR",
            "NLO",
            "DOM",
            "NIC",
            "HND",
            "CHN",
            "CAN",
            "VNM",
            "FRA",
            "DEU",
            "CAN",
            "ECU",
            "KHM",
            "POL",
            "HUN",
            "JAM",
            "LAO",
            "IND",
            "GBR",
            "GBR",
            "TTO",
            "HKG",
            "PRT",
            "TWN",
            "HTI",
            "MEX",
            "JPN",
            "GRC",
            "CUB",
            "PER",
            "IRN",
            "GTM"
           ],
           "name": "",
           "type": "choropleth",
           "z": [
            0,
            0,
            20,
            0,
            0,
            0,
            0,
            0,
            0,
            0,
            0,
            0,
            0,
            0,
            1,
            0,
            0,
            0,
            0,
            0,
            0,
            0,
            0,
            0,
            1,
            0,
            0,
            0,
            0,
            0,
            0,
            0,
            0,
            0,
            0,
            0,
            0,
            0,
            0
           ]
          }
         ],
         "name": "23"
        },
        {
         "data": [
          {
           "coloraxis": "coloraxis",
           "customdata": [
            [
             0,
             3
            ],
            [
             0,
             8
            ],
            [
             0,
             6
            ],
            [
             0,
             1
            ],
            [
             0,
             5
            ],
            [
             0,
             4
            ],
            [
             0,
             2
            ],
            [
             0,
             0
            ],
            [
             0,
             4
            ],
            [
             0,
             2
            ],
            [
             0,
             0
            ],
            [
             0,
             1
            ],
            [
             0,
             0
            ],
            [
             0,
             2
            ],
            [
             0,
             4
            ],
            [
             1,
             0
            ],
            [
             0,
             3
            ],
            [
             0,
             2
            ],
            [
             0,
             4
            ],
            [
             0,
             2
            ],
            [
             0,
             1
            ],
            [
             0,
             0
            ],
            [
             0,
             0
            ],
            [
             1,
             2
            ],
            [
             0,
             1
            ],
            [
             1,
             2
            ],
            [
             0,
             0
            ],
            [
             40,
             1058
            ],
            [
             0,
             0
            ],
            [
             1,
             4
            ],
            [
             0,
             3
            ],
            [
             0,
             2
            ],
            [
             0,
             1
            ],
            [
             1,
             32
            ],
            [
             0,
             3
            ],
            [
             0,
             3
            ],
            [
             0,
             0
            ],
            [
             0,
             0
            ],
            [
             0,
             1
            ]
           ],
           "geo": "geo",
           "hovertemplate": "<b>%{hovertext}</b><br><br>age=24<br>iso=%{location}<br> >50 =%{z}<br> <=50 =%{customdata[1]}<extra></extra>",
           "hovertext": [
            "HTI",
            "SLV",
            "PHL",
            "THA",
            "DOM",
            "DEU",
            "PRI",
            "IRL",
            "TWN",
            "VNM",
            "HND",
            "PER",
            "NIC",
            "CHN",
            "JAM",
            "PRT",
            "CAN",
            "ECU",
            "GTM",
            "ITA",
            "HUN",
            "CUB",
            "HKG",
            "GBR",
            "LAO",
            "GBR",
            "POL",
            "USA",
            "NLO",
            "CMR",
            "CAN",
            "FRA",
            "GRC",
            "MEX",
            "JPN",
            "IND",
            "KHM",
            "TTO",
            "IRN"
           ],
           "locations": [
            "HTI",
            "SLV",
            "PHL",
            "THA",
            "DOM",
            "DEU",
            "PRI",
            "IRL",
            "TWN",
            "VNM",
            "HND",
            "PER",
            "NIC",
            "CHN",
            "JAM",
            "PRT",
            "CAN",
            "ECU",
            "GTM",
            "ITA",
            "HUN",
            "CUB",
            "HKG",
            "GBR",
            "LAO",
            "GBR",
            "POL",
            "USA",
            "NLO",
            "CMR",
            "CAN",
            "FRA",
            "GRC",
            "MEX",
            "JPN",
            "IND",
            "KHM",
            "TTO",
            "IRN"
           ],
           "name": "",
           "type": "choropleth",
           "z": [
            0,
            0,
            0,
            0,
            0,
            0,
            0,
            0,
            0,
            0,
            0,
            0,
            0,
            0,
            0,
            1,
            0,
            0,
            0,
            0,
            0,
            0,
            0,
            1,
            0,
            1,
            0,
            40,
            0,
            1,
            0,
            0,
            0,
            1,
            0,
            0,
            0,
            0,
            0
           ]
          }
         ],
         "name": "24"
        },
        {
         "data": [
          {
           "coloraxis": "coloraxis",
           "customdata": [
            [
             0,
             0
            ],
            [
             0,
             0
            ],
            [
             0,
             2
            ],
            [
             0,
             1
            ],
            [
             0,
             0
            ],
            [
             0,
             4
            ],
            [
             0,
             0
            ],
            [
             1,
             9
            ],
            [
             0,
             1
            ],
            [
             0,
             0
            ],
            [
             0,
             1
            ],
            [
             0,
             0
            ],
            [
             0,
             1
            ],
            [
             0,
             0
            ],
            [
             1,
             9
            ],
            [
             0,
             1
            ],
            [
             1,
             6
            ],
            [
             0,
             11
            ],
            [
             0,
             1
            ],
            [
             1,
             2
            ],
            [
             0,
             0
            ],
            [
             0,
             1
            ],
            [
             0,
             1
            ],
            [
             0,
             2
            ],
            [
             0,
             3
            ],
            [
             0,
             2
            ],
            [
             1,
             9
            ],
            [
             0,
             1
            ],
            [
             0,
             4
            ],
            [
             0,
             1
            ],
            [
             0,
             1
            ],
            [
             0,
             1
            ],
            [
             0,
             1
            ],
            [
             0,
             0
            ],
            [
             71,
             988
            ],
            [
             0,
             6
            ],
            [
             0,
             3
            ],
            [
             0,
             2
            ],
            [
             1,
             46
            ]
           ],
           "geo": "geo",
           "hovertemplate": "<b>%{hovertext}</b><br><br>age=25<br>iso=%{location}<br> >50 =%{z}<br> <=50 =%{customdata[1]}<extra></extra>",
           "hovertext": [
            "HUN",
            "FRA",
            "ECU",
            "TTO",
            "HKG",
            "JAM",
            "NLO",
            "PHL",
            "DEU",
            "GRC",
            "THA",
            "IRN",
            "PRI",
            "CMR",
            "CAN",
            "JPN",
            "IND",
            "SLV",
            "KHM",
            "POL",
            "LAO",
            "GBR",
            "GBR",
            "CUB",
            "TWN",
            "ITA",
            "CAN",
            "PRT",
            "VNM",
            "CHN",
            "NIC",
            "HND",
            "HTI",
            "IRL",
            "USA",
            "GTM",
            "PER",
            "DOM",
            "MEX"
           ],
           "locations": [
            "HUN",
            "FRA",
            "ECU",
            "TTO",
            "HKG",
            "JAM",
            "NLO",
            "PHL",
            "DEU",
            "GRC",
            "THA",
            "IRN",
            "PRI",
            "CMR",
            "CAN",
            "JPN",
            "IND",
            "SLV",
            "KHM",
            "POL",
            "LAO",
            "GBR",
            "GBR",
            "CUB",
            "TWN",
            "ITA",
            "CAN",
            "PRT",
            "VNM",
            "CHN",
            "NIC",
            "HND",
            "HTI",
            "IRL",
            "USA",
            "GTM",
            "PER",
            "DOM",
            "MEX"
           ],
           "name": "",
           "type": "choropleth",
           "z": [
            0,
            0,
            0,
            0,
            0,
            0,
            0,
            1,
            0,
            0,
            0,
            0,
            0,
            0,
            1,
            0,
            1,
            0,
            0,
            1,
            0,
            0,
            0,
            0,
            0,
            0,
            1,
            0,
            0,
            0,
            0,
            0,
            0,
            0,
            71,
            0,
            0,
            0,
            1
           ]
          }
         ],
         "name": "25"
        },
        {
         "data": [
          {
           "coloraxis": "coloraxis",
           "customdata": [
            [
             0,
             6
            ],
            [
             0,
             1
            ],
            [
             0,
             1
            ],
            [
             0,
             1
            ],
            [
             0,
             6
            ],
            [
             0,
             0
            ],
            [
             0,
             2
            ],
            [
             0,
             1
            ],
            [
             0,
             4
            ],
            [
             0,
             0
            ],
            [
             0,
             4
            ],
            [
             0,
             0
            ],
            [
             0,
             0
            ],
            [
             0,
             1
            ],
            [
             0,
             2
            ],
            [
             0,
             6
            ],
            [
             0,
             0
            ],
            [
             0,
             5
            ],
            [
             1,
             0
            ],
            [
             0,
             2
            ],
            [
             1,
             3
            ],
            [
             0,
             34
            ],
            [
             0,
             2
            ],
            [
             0,
             1
            ],
            [
             0,
             4
            ],
            [
             0,
             1
            ],
            [
             0,
             0
            ],
            [
             0,
             1
            ],
            [
             0,
             2
            ],
            [
             0,
             4
            ],
            [
             1,
             8
            ],
            [
             0,
             2
            ],
            [
             0,
             3
            ],
            [
             0,
             5
            ],
            [
             0,
             1
            ],
            [
             82,
             957
            ],
            [
             0,
             5
            ],
            [
             0,
             2
            ],
            [
             0,
             1
            ]
           ],
           "geo": "geo",
           "hovertemplate": "<b>%{hovertext}</b><br><br>age=26<br>iso=%{location}<br> >50 =%{z}<br> <=50 =%{customdata[1]}<extra></extra>",
           "hovertext": [
            "CAN",
            "IRL",
            "ECU",
            "NIC",
            "CAN",
            "NLO",
            "POL",
            "PRT",
            "SLV",
            "LAO",
            "JAM",
            "FRA",
            "IRN",
            "GRC",
            "JPN",
            "IND",
            "CHN",
            "PRI",
            "KHM",
            "HTI",
            "DEU",
            "MEX",
            "HND",
            "THA",
            "DOM",
            "CUB",
            "TTO",
            "PER",
            "HKG",
            "CMR",
            "PHL",
            "VNM",
            "GTM",
            "GBR",
            "ITA",
            "USA",
            "GBR",
            "TWN",
            "HUN"
           ],
           "locations": [
            "CAN",
            "IRL",
            "ECU",
            "NIC",
            "CAN",
            "NLO",
            "POL",
            "PRT",
            "SLV",
            "LAO",
            "JAM",
            "FRA",
            "IRN",
            "GRC",
            "JPN",
            "IND",
            "CHN",
            "PRI",
            "KHM",
            "HTI",
            "DEU",
            "MEX",
            "HND",
            "THA",
            "DOM",
            "CUB",
            "TTO",
            "PER",
            "HKG",
            "CMR",
            "PHL",
            "VNM",
            "GTM",
            "GBR",
            "ITA",
            "USA",
            "GBR",
            "TWN",
            "HUN"
           ],
           "name": "",
           "type": "choropleth",
           "z": [
            0,
            0,
            0,
            0,
            0,
            0,
            0,
            0,
            0,
            0,
            0,
            0,
            0,
            0,
            0,
            0,
            0,
            0,
            1,
            0,
            1,
            0,
            0,
            0,
            0,
            0,
            0,
            0,
            0,
            0,
            1,
            0,
            0,
            0,
            0,
            82,
            0,
            0,
            0
           ]
          }
         ],
         "name": "26"
        },
        {
         "data": [
          {
           "coloraxis": "coloraxis",
           "customdata": [
            [
             1,
             0
            ],
            [
             0,
             1
            ],
            [
             1,
             3
            ],
            [
             3,
             11
            ],
            [
             0,
             1
            ],
            [
             0,
             7
            ],
            [
             0,
             1
            ],
            [
             1,
             1
            ],
            [
             0,
             2
            ],
            [
             1,
             1
            ],
            [
             0,
             0
            ],
            [
             0,
             2
            ],
            [
             0,
             2
            ],
            [
             2,
             2
            ],
            [
             2,
             2
            ],
            [
             0,
             10
            ],
            [
             0,
             3
            ],
            [
             0,
             0
            ],
            [
             1,
             0
            ],
            [
             0,
             0
            ],
            [
             0,
             0
            ],
            [
             1,
             1
            ],
            [
             0,
             0
            ],
            [
             0,
             6
            ],
            [
             0,
             2
            ],
            [
             0,
             1
            ],
            [
             0,
             1
            ],
            [
             0,
             2
            ],
            [
             0,
             5
            ],
            [
             1,
             2
            ],
            [
             0,
             0
            ],
            [
             0,
             1
            ],
            [
             0,
             3
            ],
            [
             0,
             2
            ],
            [
             0,
             5
            ],
            [
             0,
             42
            ],
            [
             0,
             4
            ],
            [
             0,
             2
            ],
            [
             103,
             992
            ]
           ],
           "geo": "geo",
           "hovertemplate": "<b>%{hovertext}</b><br><br>age=27<br>iso=%{location}<br> >50 =%{z}<br> <=50 =%{customdata[1]}<extra></extra>",
           "hovertext": [
            "CUB",
            "PRT",
            "IND",
            "PHL",
            "TWN",
            "SLV",
            "ITA",
            "KHM",
            "LAO",
            "HKG",
            "HTI",
            "CAN",
            "POL",
            "GBR",
            "GBR",
            "DEU",
            "JPN",
            "THA",
            "GRC",
            "IRN",
            "NLO",
            "ECU",
            "TTO",
            "GTM",
            "PRI",
            "FRA",
            "PER",
            "NIC",
            "JAM",
            "IRL",
            "HND",
            "HUN",
            "CMR",
            "CAN",
            "CHN",
            "MEX",
            "DOM",
            "VNM",
            "USA"
           ],
           "locations": [
            "CUB",
            "PRT",
            "IND",
            "PHL",
            "TWN",
            "SLV",
            "ITA",
            "KHM",
            "LAO",
            "HKG",
            "HTI",
            "CAN",
            "POL",
            "GBR",
            "GBR",
            "DEU",
            "JPN",
            "THA",
            "GRC",
            "IRN",
            "NLO",
            "ECU",
            "TTO",
            "GTM",
            "PRI",
            "FRA",
            "PER",
            "NIC",
            "JAM",
            "IRL",
            "HND",
            "HUN",
            "CMR",
            "CAN",
            "CHN",
            "MEX",
            "DOM",
            "VNM",
            "USA"
           ],
           "name": "",
           "type": "choropleth",
           "z": [
            1,
            0,
            1,
            3,
            0,
            0,
            0,
            1,
            0,
            1,
            0,
            0,
            0,
            2,
            2,
            0,
            0,
            0,
            1,
            0,
            0,
            1,
            0,
            0,
            0,
            0,
            0,
            0,
            0,
            1,
            0,
            0,
            0,
            0,
            0,
            0,
            0,
            0,
            103
           ]
          }
         ],
         "name": "27"
        },
        {
         "data": [
          {
           "coloraxis": "coloraxis",
           "customdata": [
            [
             1,
             3
            ],
            [
             0,
             2
            ],
            [
             0,
             5
            ],
            [
             0,
             5
            ],
            [
             0,
             0
            ],
            [
             0,
             4
            ],
            [
             0,
             4
            ],
            [
             1,
             3
            ],
            [
             0,
             6
            ],
            [
             0,
             1
            ],
            [
             0,
             3
            ],
            [
             2,
             2
            ],
            [
             1,
             3
            ],
            [
             0,
             6
            ],
            [
             0,
             0
            ],
            [
             0,
             1
            ],
            [
             0,
             2
            ],
            [
             0,
             2
            ],
            [
             0,
             1
            ],
            [
             0,
             3
            ],
            [
             1,
             4
            ],
            [
             0,
             0
            ],
            [
             168,
             971
            ],
            [
             0,
             2
            ],
            [
             0,
             2
            ],
            [
             1,
             0
            ],
            [
             0,
             0
            ],
            [
             0,
             6
            ],
            [
             0,
             1
            ],
            [
             1,
             1
            ],
            [
             0,
             5
            ],
            [
             0,
             2
            ],
            [
             1,
             0
            ],
            [
             0,
             45
            ],
            [
             0,
             2
            ],
            [
             2,
             4
            ],
            [
             2,
             2
            ],
            [
             0,
             0
            ],
            [
             0,
             3
            ]
           ],
           "geo": "geo",
           "hovertemplate": "<b>%{hovertext}</b><br><br>age=28<br>iso=%{location}<br> >50 =%{z}<br> <=50 =%{customdata[1]}<extra></extra>",
           "hovertext": [
            "POL",
            "NIC",
            "CAN",
            "CAN",
            "NLO",
            "DOM",
            "GTM",
            "PRT",
            "PRI",
            "IRL",
            "SLV",
            "GBR",
            "HKG",
            "PHL",
            "VNM",
            "ITA",
            "HND",
            "ECU",
            "HUN",
            "CUB",
            "CMR",
            "THA",
            "USA",
            "TWN",
            "HTI",
            "TTO",
            "LAO",
            "JAM",
            "PER",
            "FRA",
            "IND",
            "CHN",
            "IRN",
            "MEX",
            "JPN",
            "DEU",
            "GBR",
            "GRC",
            "KHM"
           ],
           "locations": [
            "POL",
            "NIC",
            "CAN",
            "CAN",
            "NLO",
            "DOM",
            "GTM",
            "PRT",
            "PRI",
            "IRL",
            "SLV",
            "GBR",
            "HKG",
            "PHL",
            "VNM",
            "ITA",
            "HND",
            "ECU",
            "HUN",
            "CUB",
            "CMR",
            "THA",
            "USA",
            "TWN",
            "HTI",
            "TTO",
            "LAO",
            "JAM",
            "PER",
            "FRA",
            "IND",
            "CHN",
            "IRN",
            "MEX",
            "JPN",
            "DEU",
            "GBR",
            "GRC",
            "KHM"
           ],
           "name": "",
           "type": "choropleth",
           "z": [
            1,
            0,
            0,
            0,
            0,
            0,
            0,
            1,
            0,
            0,
            0,
            2,
            1,
            0,
            0,
            0,
            0,
            0,
            0,
            0,
            1,
            0,
            168,
            0,
            0,
            1,
            0,
            0,
            0,
            1,
            0,
            0,
            1,
            0,
            0,
            2,
            2,
            0,
            0
           ]
          }
         ],
         "name": "28"
        },
        {
         "data": [
          {
           "coloraxis": "coloraxis",
           "customdata": [
            [
             0,
             5
            ],
            [
             1,
             1
            ],
            [
             1,
             1
            ],
            [
             0,
             4
            ],
            [
             1,
             6
            ],
            [
             0,
             3
            ],
            [
             1,
             8
            ],
            [
             1,
             1
            ],
            [
             0,
             2
            ],
            [
             0,
             5
            ],
            [
             0,
             0
            ],
            [
             1,
             0
            ],
            [
             2,
             7
            ],
            [
             0,
             3
            ],
            [
             1,
             2
            ],
            [
             0,
             1
            ],
            [
             0,
             4
            ],
            [
             0,
             1
            ],
            [
             1,
             0
            ],
            [
             0,
             2
            ],
            [
             1,
             8
            ],
            [
             1,
             23
            ],
            [
             0,
             4
            ],
            [
             0,
             2
            ],
            [
             0,
             2
            ],
            [
             0,
             5
            ],
            [
             0,
             1
            ],
            [
             0,
             0
            ],
            [
             0,
             1
            ],
            [
             0,
             0
            ],
            [
             1,
             0
            ],
            [
             180,
             914
            ],
            [
             1,
             1
            ],
            [
             1,
             3
            ],
            [
             0,
             4
            ],
            [
             1,
             1
            ],
            [
             1,
             0
            ],
            [
             0,
             4
            ],
            [
             1,
             4
            ]
           ],
           "geo": "geo",
           "hovertemplate": "<b>%{hovertext}</b><br><br>age=29<br>iso=%{location}<br> >50 =%{z}<br> <=50 =%{customdata[1]}<extra></extra>",
           "hovertext": [
            "SLV",
            "FRA",
            "CHN",
            "ECU",
            "PHL",
            "CMR",
            "CAN",
            "CUB",
            "LAO",
            "JPN",
            "TTO",
            "HND",
            "DEU",
            "HTI",
            "PRT",
            "VNM",
            "DOM",
            "IRL",
            "GRC",
            "THA",
            "CAN",
            "MEX",
            "GBR",
            "PER",
            "POL",
            "TWN",
            "KHM",
            "HUN",
            "IRN",
            "NLO",
            "HKG",
            "USA",
            "PRI",
            "NIC",
            "GTM",
            "JAM",
            "ITA",
            "GBR",
            "IND"
           ],
           "locations": [
            "SLV",
            "FRA",
            "CHN",
            "ECU",
            "PHL",
            "CMR",
            "CAN",
            "CUB",
            "LAO",
            "JPN",
            "TTO",
            "HND",
            "DEU",
            "HTI",
            "PRT",
            "VNM",
            "DOM",
            "IRL",
            "GRC",
            "THA",
            "CAN",
            "MEX",
            "GBR",
            "PER",
            "POL",
            "TWN",
            "KHM",
            "HUN",
            "IRN",
            "NLO",
            "HKG",
            "USA",
            "PRI",
            "NIC",
            "GTM",
            "JAM",
            "ITA",
            "GBR",
            "IND"
           ],
           "name": "",
           "type": "choropleth",
           "z": [
            0,
            1,
            1,
            0,
            1,
            0,
            1,
            1,
            0,
            0,
            0,
            1,
            2,
            0,
            1,
            0,
            0,
            0,
            1,
            0,
            1,
            1,
            0,
            0,
            0,
            0,
            0,
            0,
            0,
            0,
            1,
            180,
            1,
            1,
            0,
            1,
            1,
            0,
            1
           ]
          }
         ],
         "name": "29"
        },
        {
         "data": [
          {
           "coloraxis": "coloraxis",
           "customdata": [
            [
             0,
             1
            ],
            [
             1,
             1
            ],
            [
             223,
             919
            ],
            [
             1,
             6
            ],
            [
             0,
             1
            ],
            [
             0,
             1
            ],
            [
             2,
             1
            ],
            [
             0,
             2
            ],
            [
             1,
             4
            ],
            [
             1,
             0
            ],
            [
             0,
             0
            ],
            [
             0,
             1
            ],
            [
             0,
             1
            ],
            [
             1,
             0
            ],
            [
             0,
             4
            ],
            [
             0,
             1
            ],
            [
             2,
             6
            ],
            [
             0,
             3
            ],
            [
             1,
             1
            ],
            [
             0,
             2
            ],
            [
             1,
             10
            ],
            [
             2,
             2
            ],
            [
             2,
             2
            ],
            [
             2,
             2
            ],
            [
             0,
             1
            ],
            [
             0,
             1
            ],
            [
             1,
             32
            ],
            [
             0,
             1
            ],
            [
             0,
             1
            ],
            [
             1,
             3
            ],
            [
             0,
             4
            ],
            [
             0,
             4
            ],
            [
             0,
             2
            ],
            [
             1,
             3
            ],
            [
             0,
             1
            ],
            [
             1,
             4
            ],
            [
             0,
             0
            ],
            [
             5,
             2
            ],
            [
             0,
             2
            ]
           ],
           "geo": "geo",
           "hovertemplate": "<b>%{hovertext}</b><br><br>age=30<br>iso=%{location}<br> >50 =%{z}<br> <=50 =%{customdata[1]}<extra></extra>",
           "hovertext": [
            "HUN",
            "HKG",
            "USA",
            "TWN",
            "FRA",
            "PER",
            "PHL",
            "GTM",
            "CHN",
            "CUB",
            "NLO",
            "HND",
            "JPN",
            "THA",
            "GBR",
            "KHM",
            "VNM",
            "DOM",
            "GRC",
            "POL",
            "DEU",
            "IRN",
            "CAN",
            "CAN",
            "HTI",
            "TTO",
            "MEX",
            "PRT",
            "JAM",
            "SLV",
            "PRI",
            "GBR",
            "ECU",
            "CMR",
            "LAO",
            "IRL",
            "ITA",
            "IND",
            "NIC"
           ],
           "locations": [
            "HUN",
            "HKG",
            "USA",
            "TWN",
            "FRA",
            "PER",
            "PHL",
            "GTM",
            "CHN",
            "CUB",
            "NLO",
            "HND",
            "JPN",
            "THA",
            "GBR",
            "KHM",
            "VNM",
            "DOM",
            "GRC",
            "POL",
            "DEU",
            "IRN",
            "CAN",
            "CAN",
            "HTI",
            "TTO",
            "MEX",
            "PRT",
            "JAM",
            "SLV",
            "PRI",
            "GBR",
            "ECU",
            "CMR",
            "LAO",
            "IRL",
            "ITA",
            "IND",
            "NIC"
           ],
           "name": "",
           "type": "choropleth",
           "z": [
            0,
            1,
            223,
            1,
            0,
            0,
            2,
            0,
            1,
            1,
            0,
            0,
            0,
            1,
            0,
            0,
            2,
            0,
            1,
            0,
            1,
            2,
            2,
            2,
            0,
            0,
            1,
            0,
            0,
            1,
            0,
            0,
            0,
            1,
            0,
            1,
            0,
            5,
            0
           ]
          }
         ],
         "name": "30"
        },
        {
         "data": [
          {
           "coloraxis": "coloraxis",
           "customdata": [
            [
             1,
             0
            ],
            [
             1,
             4
            ],
            [
             0,
             1
            ],
            [
             1,
             3
            ],
            [
             1,
             2
            ],
            [
             1,
             5
            ],
            [
             1,
             0
            ],
            [
             1,
             3
            ],
            [
             1,
             7
            ],
            [
             0,
             0
            ],
            [
             4,
             51
            ],
            [
             0,
             2
            ],
            [
             0,
             2
            ],
            [
             0,
             4
            ],
            [
             0,
             0
            ],
            [
             0,
             6
            ],
            [
             0,
             0
            ],
            [
             0,
             2
            ],
            [
             0,
             0
            ],
            [
             0,
             0
            ],
            [
             0,
             2
            ],
            [
             0,
             2
            ],
            [
             0,
             0
            ],
            [
             0,
             3
            ],
            [
             0,
             3
            ],
            [
             0,
             1
            ],
            [
             0,
             0
            ],
            [
             0,
             0
            ],
            [
             1,
             4
            ],
            [
             1,
             4
            ],
            [
             0,
             0
            ],
            [
             1,
             4
            ],
            [
             0,
             0
            ],
            [
             0,
             0
            ],
            [
             0,
             0
            ],
            [
             259,
             933
            ],
            [
             1,
             3
            ],
            [
             1,
             1
            ],
            [
             0,
             2
            ]
           ],
           "geo": "geo",
           "hovertemplate": "<b>%{hovertext}</b><br><br>age=31<br>iso=%{location}<br> >50 =%{z}<br> <=50 =%{customdata[1]}<extra></extra>",
           "hovertext": [
            "THA",
            "CAN",
            "TTO",
            "JPN",
            "JAM",
            "IND",
            "FRA",
            "CUB",
            "PRI",
            "GTM",
            "MEX",
            "POL",
            "GBR",
            "CMR",
            "LAO",
            "SLV",
            "ECU",
            "GBR",
            "HTI",
            "KHM",
            "HND",
            "VNM",
            "IRN",
            "ITA",
            "CHN",
            "DOM",
            "NLO",
            "GRC",
            "DEU",
            "CAN",
            "PER",
            "PHL",
            "NIC",
            "HUN",
            "HKG",
            "USA",
            "PRT",
            "TWN",
            "IRL"
           ],
           "locations": [
            "THA",
            "CAN",
            "TTO",
            "JPN",
            "JAM",
            "IND",
            "FRA",
            "CUB",
            "PRI",
            "GTM",
            "MEX",
            "POL",
            "GBR",
            "CMR",
            "LAO",
            "SLV",
            "ECU",
            "GBR",
            "HTI",
            "KHM",
            "HND",
            "VNM",
            "IRN",
            "ITA",
            "CHN",
            "DOM",
            "NLO",
            "GRC",
            "DEU",
            "CAN",
            "PER",
            "PHL",
            "NIC",
            "HUN",
            "HKG",
            "USA",
            "PRT",
            "TWN",
            "IRL"
           ],
           "name": "",
           "type": "choropleth",
           "z": [
            1,
            1,
            0,
            1,
            1,
            1,
            1,
            1,
            1,
            0,
            4,
            0,
            0,
            0,
            0,
            0,
            0,
            0,
            0,
            0,
            0,
            0,
            0,
            0,
            0,
            0,
            0,
            0,
            1,
            1,
            0,
            1,
            0,
            0,
            0,
            259,
            1,
            1,
            0
           ]
          }
         ],
         "name": "31"
        },
        {
         "data": [
          {
           "coloraxis": "coloraxis",
           "customdata": [
            [
             0,
             2
            ],
            [
             1,
             3
            ],
            [
             2,
             1
            ],
            [
             0,
             1
            ],
            [
             0,
             3
            ],
            [
             2,
             29
            ],
            [
             1,
             6
            ],
            [
             2,
             1
            ],
            [
             0,
             2
            ],
            [
             1,
             0
            ],
            [
             2,
             4
            ],
            [
             0,
             1
            ],
            [
             0,
             0
            ],
            [
             1,
             5
            ],
            [
             0,
             4
            ],
            [
             0,
             4
            ],
            [
             0,
             1
            ],
            [
             0,
             0
            ],
            [
             1,
             2
            ],
            [
             1,
             0
            ],
            [
             0,
             3
            ],
            [
             0,
             0
            ],
            [
             0,
             3
            ],
            [
             1,
             6
            ],
            [
             0,
             2
            ],
            [
             2,
             1
            ],
            [
             0,
             1
            ],
            [
             1,
             3
            ],
            [
             278,
             862
            ],
            [
             0,
             0
            ],
            [
             0,
             0
            ],
            [
             0,
             3
            ],
            [
             0,
             1
            ],
            [
             0,
             0
            ],
            [
             0,
             2
            ],
            [
             0,
             3
            ],
            [
             0,
             1
            ],
            [
             0,
             1
            ],
            [
             3,
             3
            ]
           ],
           "geo": "geo",
           "hovertemplate": "<b>%{hovertext}</b><br><br>age=32<br>iso=%{location}<br> >50 =%{z}<br> <=50 =%{customdata[1]}<extra></extra>",
           "hovertext": [
            "ITA",
            "IRL",
            "GBR",
            "NLO",
            "PRI",
            "MEX",
            "CAN",
            "GBR",
            "TTO",
            "FRA",
            "JPN",
            "HKG",
            "PER",
            "IRN",
            "SLV",
            "IND",
            "KHM",
            "HUN",
            "GRC",
            "LAO",
            "DEU",
            "POL",
            "JAM",
            "CAN",
            "ECU",
            "CHN",
            "HTI",
            "NIC",
            "USA",
            "THA",
            "PRT",
            "CUB",
            "GTM",
            "VNM",
            "TWN",
            "CMR",
            "HND",
            "DOM",
            "PHL"
           ],
           "locations": [
            "ITA",
            "IRL",
            "GBR",
            "NLO",
            "PRI",
            "MEX",
            "CAN",
            "GBR",
            "TTO",
            "FRA",
            "JPN",
            "HKG",
            "PER",
            "IRN",
            "SLV",
            "IND",
            "KHM",
            "HUN",
            "GRC",
            "LAO",
            "DEU",
            "POL",
            "JAM",
            "CAN",
            "ECU",
            "CHN",
            "HTI",
            "NIC",
            "USA",
            "THA",
            "PRT",
            "CUB",
            "GTM",
            "VNM",
            "TWN",
            "CMR",
            "HND",
            "DOM",
            "PHL"
           ],
           "name": "",
           "type": "choropleth",
           "z": [
            0,
            1,
            2,
            0,
            0,
            2,
            1,
            2,
            0,
            1,
            2,
            0,
            0,
            1,
            0,
            0,
            0,
            0,
            1,
            1,
            0,
            0,
            0,
            1,
            0,
            2,
            0,
            1,
            278,
            0,
            0,
            0,
            0,
            0,
            0,
            0,
            0,
            0,
            3
           ]
          }
         ],
         "name": "32"
        },
        {
         "data": [
          {
           "coloraxis": "coloraxis",
           "customdata": [
            [
             1,
             0
            ],
            [
             1,
             3
            ],
            [
             0,
             3
            ],
            [
             0,
             3
            ],
            [
             1,
             2
            ],
            [
             0,
             2
            ],
            [
             0,
             0
            ],
            [
             0,
             1
            ],
            [
             0,
             1
            ],
            [
             1,
             0
            ],
            [
             0,
             0
            ],
            [
             3,
             8
            ],
            [
             0,
             2
            ],
            [
             0,
             1
            ],
            [
             3,
             1
            ],
            [
             2,
             4
            ],
            [
             271,
             924
            ],
            [
             0,
             1
            ],
            [
             0,
             9
            ],
            [
             0,
             6
            ],
            [
             0,
             5
            ],
            [
             2,
             5
            ],
            [
             0,
             4
            ],
            [
             0,
             1
            ],
            [
             0,
             1
            ],
            [
             1,
             1
            ],
            [
             0,
             1
            ],
            [
             0,
             2
            ],
            [
             0,
             7
            ],
            [
             2,
             37
            ],
            [
             2,
             4
            ],
            [
             0,
             5
            ],
            [
             0,
             0
            ],
            [
             0,
             1
            ],
            [
             0,
             2
            ],
            [
             0,
             0
            ],
            [
             3,
             8
            ],
            [
             0,
             3
            ],
            [
             0,
             0
            ]
           ],
           "geo": "geo",
           "hovertemplate": "<b>%{hovertext}</b><br><br>age=33<br>iso=%{location}<br> >50 =%{z}<br> <=50 =%{customdata[1]}<extra></extra>",
           "hovertext": [
            "TWN",
            "PRI",
            "JAM",
            "CMR",
            "DOM",
            "FRA",
            "IRL",
            "POL",
            "ITA",
            "IRN",
            "NLO",
            "CAN",
            "HTI",
            "TTO",
            "CUB",
            "JPN",
            "USA",
            "LAO",
            "PHL",
            "CHN",
            "GBR",
            "DEU",
            "GTM",
            "GRC",
            "VNM",
            "PER",
            "PRT",
            "THA",
            "SLV",
            "MEX",
            "IND",
            "GBR",
            "HUN",
            "ECU",
            "NIC",
            "HND",
            "CAN",
            "HKG",
            "KHM"
           ],
           "locations": [
            "TWN",
            "PRI",
            "JAM",
            "CMR",
            "DOM",
            "FRA",
            "IRL",
            "POL",
            "ITA",
            "IRN",
            "NLO",
            "CAN",
            "HTI",
            "TTO",
            "CUB",
            "JPN",
            "USA",
            "LAO",
            "PHL",
            "CHN",
            "GBR",
            "DEU",
            "GTM",
            "GRC",
            "VNM",
            "PER",
            "PRT",
            "THA",
            "SLV",
            "MEX",
            "IND",
            "GBR",
            "HUN",
            "ECU",
            "NIC",
            "HND",
            "CAN",
            "HKG",
            "KHM"
           ],
           "name": "",
           "type": "choropleth",
           "z": [
            1,
            1,
            0,
            0,
            1,
            0,
            0,
            0,
            0,
            1,
            0,
            3,
            0,
            0,
            3,
            2,
            271,
            0,
            0,
            0,
            0,
            2,
            0,
            0,
            0,
            1,
            0,
            0,
            0,
            2,
            2,
            0,
            0,
            0,
            0,
            0,
            3,
            0,
            0
           ]
          }
         ],
         "name": "33"
        },
        {
         "data": [
          {
           "coloraxis": "coloraxis",
           "customdata": [
            [
             0,
             0
            ],
            [
             2,
             1
            ],
            [
             0,
             1
            ],
            [
             3,
             7
            ],
            [
             1,
             3
            ],
            [
             1,
             1
            ],
            [
             1,
             2
            ],
            [
             0,
             4
            ],
            [
             1,
             2
            ],
            [
             1,
             0
            ],
            [
             0,
             4
            ],
            [
             2,
             3
            ],
            [
             0,
             0
            ],
            [
             2,
             20
            ],
            [
             3,
             1
            ],
            [
             2,
             2
            ],
            [
             3,
             2
            ],
            [
             0,
             1
            ],
            [
             0,
             2
            ],
            [
             0,
             2
            ],
            [
             0,
             6
            ],
            [
             0,
             0
            ],
            [
             326,
             868
            ],
            [
             1,
             1
            ],
            [
             2,
             3
            ],
            [
             0,
             0
            ],
            [
             0,
             0
            ],
            [
             0,
             2
            ],
            [
             0,
             0
            ],
            [
             0,
             1
            ],
            [
             0,
             0
            ],
            [
             1,
             1
            ],
            [
             0,
             0
            ],
            [
             1,
             1
            ],
            [
             1,
             3
            ],
            [
             2,
             7
            ],
            [
             1,
             3
            ],
            [
             0,
             0
            ],
            [
             0,
             1
            ]
           ],
           "geo": "geo",
           "hovertemplate": "<b>%{hovertext}</b><br><br>age=34<br>iso=%{location}<br> >50 =%{z}<br> <=50 =%{customdata[1]}<extra></extra>",
           "hovertext": [
            "HUN",
            "PRI",
            "KHM",
            "DEU",
            "JAM",
            "PER",
            "CMR",
            "SLV",
            "FRA",
            "POL",
            "PRT",
            "GBR",
            "NLO",
            "MEX",
            "TWN",
            "CHN",
            "IND",
            "LAO",
            "CUB",
            "JPN",
            "GTM",
            "THA",
            "USA",
            "IRL",
            "GBR",
            "TTO",
            "VNM",
            "DOM",
            "HKG",
            "HTI",
            "ECU",
            "ITA",
            "HND",
            "IRN",
            "CAN",
            "PHL",
            "CAN",
            "GRC",
            "NIC"
           ],
           "locations": [
            "HUN",
            "PRI",
            "KHM",
            "DEU",
            "JAM",
            "PER",
            "CMR",
            "SLV",
            "FRA",
            "POL",
            "PRT",
            "GBR",
            "NLO",
            "MEX",
            "TWN",
            "CHN",
            "IND",
            "LAO",
            "CUB",
            "JPN",
            "GTM",
            "THA",
            "USA",
            "IRL",
            "GBR",
            "TTO",
            "VNM",
            "DOM",
            "HKG",
            "HTI",
            "ECU",
            "ITA",
            "HND",
            "IRN",
            "CAN",
            "PHL",
            "CAN",
            "GRC",
            "NIC"
           ],
           "name": "",
           "type": "choropleth",
           "z": [
            0,
            2,
            0,
            3,
            1,
            1,
            1,
            0,
            1,
            1,
            0,
            2,
            0,
            2,
            3,
            2,
            3,
            0,
            0,
            0,
            0,
            0,
            326,
            1,
            2,
            0,
            0,
            0,
            0,
            0,
            0,
            1,
            0,
            1,
            1,
            2,
            1,
            0,
            0
           ]
          }
         ],
         "name": "34"
        },
        {
         "data": [
          {
           "coloraxis": "coloraxis",
           "customdata": [
            [
             0,
             3
            ],
            [
             0,
             1
            ],
            [
             1,
             19
            ],
            [
             0,
             0
            ],
            [
             0,
             2
            ],
            [
             311,
             918
            ],
            [
             2,
             1
            ],
            [
             0,
             0
            ],
            [
             1,
             1
            ],
            [
             2,
             2
            ],
            [
             8,
             4
            ],
            [
             0,
             10
            ],
            [
             0,
             0
            ],
            [
             1,
             1
            ],
            [
             1,
             0
            ],
            [
             3,
             0
            ],
            [
             0,
             7
            ],
            [
             2,
             6
            ],
            [
             0,
             1
            ],
            [
             0,
             1
            ],
            [
             1,
             4
            ],
            [
             0,
             1
            ],
            [
             0,
             1
            ],
            [
             0,
             0
            ],
            [
             0,
             0
            ],
            [
             0,
             0
            ],
            [
             0,
             1
            ],
            [
             2,
             3
            ],
            [
             1,
             1
            ],
            [
             0,
             2
            ],
            [
             0,
             0
            ],
            [
             0,
             7
            ],
            [
             0,
             0
            ],
            [
             1,
             1
            ],
            [
             1,
             1
            ],
            [
             0,
             0
            ],
            [
             0,
             1
            ],
            [
             0,
             2
            ],
            [
             1,
             2
            ]
           ],
           "geo": "geo",
           "hovertemplate": "<b>%{hovertext}</b><br><br>age=35<br>iso=%{location}<br> >50 =%{z}<br> <=50 =%{customdata[1]}<extra></extra>",
           "hovertext": [
            "VNM",
            "THA",
            "MEX",
            "SLV",
            "HTI",
            "USA",
            "IRN",
            "NLO",
            "HKG",
            "IND",
            "PHL",
            "PRI",
            "PRT",
            "KHM",
            "CUB",
            "TWN",
            "CAN",
            "DEU",
            "TTO",
            "GTM",
            "JAM",
            "PER",
            "CMR",
            "FRA",
            "HUN",
            "GRC",
            "ECU",
            "JPN",
            "ITA",
            "POL",
            "HND",
            "CAN",
            "LAO",
            "GBR",
            "GBR",
            "NIC",
            "IRL",
            "CHN",
            "DOM"
           ],
           "locations": [
            "VNM",
            "THA",
            "MEX",
            "SLV",
            "HTI",
            "USA",
            "IRN",
            "NLO",
            "HKG",
            "IND",
            "PHL",
            "PRI",
            "PRT",
            "KHM",
            "CUB",
            "TWN",
            "CAN",
            "DEU",
            "TTO",
            "GTM",
            "JAM",
            "PER",
            "CMR",
            "FRA",
            "HUN",
            "GRC",
            "ECU",
            "JPN",
            "ITA",
            "POL",
            "HND",
            "CAN",
            "LAO",
            "GBR",
            "GBR",
            "NIC",
            "IRL",
            "CHN",
            "DOM"
           ],
           "name": "",
           "type": "choropleth",
           "z": [
            0,
            0,
            1,
            0,
            0,
            311,
            2,
            0,
            1,
            2,
            8,
            0,
            0,
            1,
            1,
            3,
            0,
            2,
            0,
            0,
            1,
            0,
            0,
            0,
            0,
            0,
            0,
            2,
            1,
            0,
            0,
            0,
            0,
            1,
            1,
            0,
            0,
            0,
            1
           ]
          }
         ],
         "name": "35"
        },
        {
         "data": [
          {
           "coloraxis": "coloraxis",
           "customdata": [
            [
             1,
             1
            ],
            [
             1,
             0
            ],
            [
             0,
             1
            ],
            [
             1,
             0
            ],
            [
             0,
             1
            ],
            [
             3,
             2
            ],
            [
             1,
             0
            ],
            [
             1,
             6
            ],
            [
             2,
             4
            ],
            [
             0,
             0
            ],
            [
             2,
             1
            ],
            [
             0,
             7
            ],
            [
             2,
             22
            ],
            [
             0,
             1
            ],
            [
             1,
             5
            ],
            [
             1,
             5
            ],
            [
             1,
             1
            ],
            [
             371,
             856
            ],
            [
             0,
             0
            ],
            [
             1,
             0
            ],
            [
             0,
             0
            ],
            [
             0,
             2
            ],
            [
             0,
             2
            ],
            [
             0,
             0
            ],
            [
             1,
             5
            ],
            [
             2,
             4
            ],
            [
             0,
             3
            ],
            [
             0,
             3
            ],
            [
             0,
             1
            ],
            [
             0,
             1
            ],
            [
             1,
             2
            ],
            [
             5,
             6
            ],
            [
             2,
             1
            ],
            [
             0,
             2
            ],
            [
             0,
             1
            ],
            [
             2,
             1
            ],
            [
             0,
             0
            ],
            [
             0,
             5
            ],
            [
             0,
             2
            ]
           ],
           "geo": "geo",
           "hovertemplate": "<b>%{hovertext}</b><br><br>age=36<br>iso=%{location}<br> >50 =%{z}<br> <=50 =%{customdata[1]}<extra></extra>",
           "hovertext": [
            "JAM",
            "IRL",
            "HND",
            "ECU",
            "NIC",
            "IRN",
            "GRC",
            "IND",
            "CHN",
            "FRA",
            "JPN",
            "CMR",
            "MEX",
            "VNM",
            "PRI",
            "CAN",
            "HKG",
            "USA",
            "PER",
            "POL",
            "THA",
            "PRT",
            "CUB",
            "NLO",
            "CAN",
            "PHL",
            "ITA",
            "HTI",
            "TTO",
            "GTM",
            "TWN",
            "DEU",
            "GBR",
            "LAO",
            "KHM",
            "GBR",
            "HUN",
            "SLV",
            "DOM"
           ],
           "locations": [
            "JAM",
            "IRL",
            "HND",
            "ECU",
            "NIC",
            "IRN",
            "GRC",
            "IND",
            "CHN",
            "FRA",
            "JPN",
            "CMR",
            "MEX",
            "VNM",
            "PRI",
            "CAN",
            "HKG",
            "USA",
            "PER",
            "POL",
            "THA",
            "PRT",
            "CUB",
            "NLO",
            "CAN",
            "PHL",
            "ITA",
            "HTI",
            "TTO",
            "GTM",
            "TWN",
            "DEU",
            "GBR",
            "LAO",
            "KHM",
            "GBR",
            "HUN",
            "SLV",
            "DOM"
           ],
           "name": "",
           "type": "choropleth",
           "z": [
            1,
            1,
            0,
            1,
            0,
            3,
            1,
            1,
            2,
            0,
            2,
            0,
            2,
            0,
            1,
            1,
            1,
            371,
            0,
            1,
            0,
            0,
            0,
            0,
            1,
            2,
            0,
            0,
            0,
            0,
            1,
            5,
            2,
            0,
            0,
            2,
            0,
            0,
            0
           ]
          }
         ],
         "name": "36"
        },
        {
         "data": [
          {
           "coloraxis": "coloraxis",
           "customdata": [
            [
             0,
             0
            ],
            [
             1,
             0
            ],
            [
             0,
             0
            ],
            [
             1,
             4
            ],
            [
             0,
             0
            ],
            [
             1,
             29
            ],
            [
             1,
             3
            ],
            [
             0,
             0
            ],
            [
             1,
             1
            ],
            [
             2,
             0
            ],
            [
             0,
             0
            ],
            [
             393,
             779
            ],
            [
             1,
             1
            ],
            [
             0,
             3
            ],
            [
             0,
             1
            ],
            [
             1,
             0
            ],
            [
             0,
             2
            ],
            [
             0,
             0
            ],
            [
             0,
             0
            ],
            [
             0,
             0
            ],
            [
             1,
             2
            ],
            [
             3,
             2
            ],
            [
             1,
             1
            ],
            [
             4,
             6
            ],
            [
             1,
             1
            ],
            [
             0,
             1
            ],
            [
             3,
             4
            ],
            [
             0,
             3
            ],
            [
             3,
             4
            ],
            [
             1,
             6
            ],
            [
             0,
             0
            ],
            [
             2,
             1
            ],
            [
             1,
             2
            ],
            [
             1,
             0
            ],
            [
             0,
             1
            ],
            [
             1,
             1
            ],
            [
             1,
             1
            ],
            [
             0,
             0
            ],
            [
             1,
             2
            ]
           ],
           "geo": "geo",
           "hovertemplate": "<b>%{hovertext}</b><br><br>age=37<br>iso=%{location}<br> >50 =%{z}<br> <=50 =%{customdata[1]}<extra></extra>",
           "hovertext": [
            "TTO",
            "ECU",
            "NLO",
            "PRI",
            "HUN",
            "MEX",
            "JPN",
            "LAO",
            "HTI",
            "FRA",
            "ITA",
            "USA",
            "GBR",
            "HKG",
            "PER",
            "TWN",
            "VNM",
            "HND",
            "DOM",
            "IRL",
            "CMR",
            "CUB",
            "THA",
            "PHL",
            "GBR",
            "NIC",
            "CAN",
            "GTM",
            "CAN",
            "SLV",
            "GRC",
            "DEU",
            "KHM",
            "JAM",
            "POL",
            "PRT",
            "IRN",
            "IND",
            "CHN"
           ],
           "locations": [
            "TTO",
            "ECU",
            "NLO",
            "PRI",
            "HUN",
            "MEX",
            "JPN",
            "LAO",
            "HTI",
            "FRA",
            "ITA",
            "USA",
            "GBR",
            "HKG",
            "PER",
            "TWN",
            "VNM",
            "HND",
            "DOM",
            "IRL",
            "CMR",
            "CUB",
            "THA",
            "PHL",
            "GBR",
            "NIC",
            "CAN",
            "GTM",
            "CAN",
            "SLV",
            "GRC",
            "DEU",
            "KHM",
            "JAM",
            "POL",
            "PRT",
            "IRN",
            "IND",
            "CHN"
           ],
           "name": "",
           "type": "choropleth",
           "z": [
            0,
            1,
            0,
            1,
            0,
            1,
            1,
            0,
            1,
            2,
            0,
            393,
            1,
            0,
            0,
            1,
            0,
            0,
            0,
            0,
            1,
            3,
            1,
            4,
            1,
            0,
            3,
            0,
            3,
            1,
            0,
            2,
            1,
            1,
            0,
            1,
            1,
            0,
            1
           ]
          }
         ],
         "name": "37"
        },
        {
         "data": [
          {
           "coloraxis": "coloraxis",
           "customdata": [
            [
             2,
             6
            ],
            [
             0,
             0
            ],
            [
             1,
             2
            ],
            [
             4,
             5
            ],
            [
             0,
             1
            ],
            [
             2,
             1
            ],
            [
             0,
             0
            ],
            [
             391,
             773
            ],
            [
             0,
             1
            ],
            [
             0,
             1
            ],
            [
             0,
             1
            ],
            [
             0,
             6
            ],
            [
             0,
             0
            ],
            [
             4,
             2
            ],
            [
             0,
             0
            ],
            [
             0,
             20
            ],
            [
             1,
             3
            ],
            [
             0,
             3
            ],
            [
             1,
             4
            ],
            [
             2,
             1
            ],
            [
             0,
             2
            ],
            [
             0,
             0
            ],
            [
             0,
             1
            ],
            [
             0,
             2
            ],
            [
             0,
             1
            ],
            [
             0,
             1
            ],
            [
             2,
             3
            ],
            [
             0,
             1
            ],
            [
             0,
             1
            ],
            [
             1,
             3
            ],
            [
             3,
             1
            ],
            [
             0,
             1
            ],
            [
             0,
             0
            ],
            [
             0,
             0
            ],
            [
             2,
             6
            ],
            [
             0,
             3
            ],
            [
             0,
             0
            ],
            [
             0,
             0
            ],
            [
             1,
             1
            ]
           ],
           "geo": "geo",
           "hovertemplate": "<b>%{hovertext}</b><br><br>age=38<br>iso=%{location}<br> >50 =%{z}<br> <=50 =%{customdata[1]}<extra></extra>",
           "hovertext": [
            "CAN",
            "HND",
            "IND",
            "PHL",
            "JAM",
            "GBR",
            "KHM",
            "USA",
            "GRC",
            "NIC",
            "HKG",
            "POL",
            "HUN",
            "CHN",
            "NLO",
            "MEX",
            "PRT",
            "VNM",
            "IRN",
            "GBR",
            "THA",
            "LAO",
            "DEU",
            "TTO",
            "DOM",
            "PRI",
            "ITA",
            "TWN",
            "GTM",
            "SLV",
            "CUB",
            "PER",
            "ECU",
            "CMR",
            "CAN",
            "HTI",
            "FRA",
            "IRL",
            "JPN"
           ],
           "locations": [
            "CAN",
            "HND",
            "IND",
            "PHL",
            "JAM",
            "GBR",
            "KHM",
            "USA",
            "GRC",
            "NIC",
            "HKG",
            "POL",
            "HUN",
            "CHN",
            "NLO",
            "MEX",
            "PRT",
            "VNM",
            "IRN",
            "GBR",
            "THA",
            "LAO",
            "DEU",
            "TTO",
            "DOM",
            "PRI",
            "ITA",
            "TWN",
            "GTM",
            "SLV",
            "CUB",
            "PER",
            "ECU",
            "CMR",
            "CAN",
            "HTI",
            "FRA",
            "IRL",
            "JPN"
           ],
           "name": "",
           "type": "choropleth",
           "z": [
            2,
            0,
            1,
            4,
            0,
            2,
            0,
            391,
            0,
            0,
            0,
            0,
            0,
            4,
            0,
            0,
            1,
            0,
            1,
            2,
            0,
            0,
            0,
            0,
            0,
            0,
            2,
            0,
            0,
            1,
            3,
            0,
            0,
            0,
            2,
            0,
            0,
            0,
            1
           ]
          }
         ],
         "name": "38"
        },
        {
         "data": [
          {
           "coloraxis": "coloraxis",
           "customdata": [
            [
             1,
             0
            ],
            [
             0,
             0
            ],
            [
             1,
             0
            ],
            [
             3,
             1
            ],
            [
             0,
             0
            ],
            [
             7,
             8
            ],
            [
             0,
             0
            ],
            [
             0,
             0
            ],
            [
             2,
             3
            ],
            [
             0,
             1
            ],
            [
             0,
             4
            ],
            [
             0,
             0
            ],
            [
             0,
             0
            ],
            [
             0,
             1
            ],
            [
             0,
             2
            ],
            [
             0,
             0
            ],
            [
             0,
             1
            ],
            [
             1,
             0
            ],
            [
             0,
             2
            ],
            [
             1,
             3
            ],
            [
             1,
             1
            ],
            [
             2,
             1
            ],
            [
             2,
             3
            ],
            [
             3,
             5
            ],
            [
             0,
             0
            ],
            [
             0,
             0
            ],
            [
             2,
             2
            ],
            [
             391,
             712
            ],
            [
             2,
             1
            ],
            [
             2,
             5
            ],
            [
             0,
             1
            ],
            [
             2,
             1
            ],
            [
             0,
             0
            ],
            [
             0,
             0
            ],
            [
             0,
             0
            ],
            [
             1,
             3
            ],
            [
             2,
             3
            ],
            [
             0,
             0
            ],
            [
             1,
             21
            ]
           ],
           "geo": "geo",
           "hovertemplate": "<b>%{hovertext}</b><br><br>age=39<br>iso=%{location}<br> >50 =%{z}<br> <=50 =%{customdata[1]}<extra></extra>",
           "hovertext": [
            "NIC",
            "THA",
            "FRA",
            "IND",
            "TWN",
            "PHL",
            "HUN",
            "NLO",
            "CUB",
            "GTM",
            "SLV",
            "HND",
            "VNM",
            "PRT",
            "CMR",
            "KHM",
            "TTO",
            "ITA",
            "JAM",
            "CHN",
            "HTI",
            "JPN",
            "CAN",
            "POL",
            "LAO",
            "ECU",
            "DEU",
            "USA",
            "GBR",
            "PRI",
            "IRN",
            "GBR",
            "PER",
            "HKG",
            "GRC",
            "DOM",
            "CAN",
            "IRL",
            "MEX"
           ],
           "locations": [
            "NIC",
            "THA",
            "FRA",
            "IND",
            "TWN",
            "PHL",
            "HUN",
            "NLO",
            "CUB",
            "GTM",
            "SLV",
            "HND",
            "VNM",
            "PRT",
            "CMR",
            "KHM",
            "TTO",
            "ITA",
            "JAM",
            "CHN",
            "HTI",
            "JPN",
            "CAN",
            "POL",
            "LAO",
            "ECU",
            "DEU",
            "USA",
            "GBR",
            "PRI",
            "IRN",
            "GBR",
            "PER",
            "HKG",
            "GRC",
            "DOM",
            "CAN",
            "IRL",
            "MEX"
           ],
           "name": "",
           "type": "choropleth",
           "z": [
            1,
            0,
            1,
            3,
            0,
            7,
            0,
            0,
            2,
            0,
            0,
            0,
            0,
            0,
            0,
            0,
            0,
            1,
            0,
            1,
            1,
            2,
            2,
            3,
            0,
            0,
            2,
            391,
            2,
            2,
            0,
            2,
            0,
            0,
            0,
            1,
            2,
            0,
            1
           ]
          }
         ],
         "name": "39"
        },
        {
         "data": [
          {
           "coloraxis": "coloraxis",
           "customdata": [
            [
             1,
             1
            ],
            [
             2,
             4
            ],
            [
             0,
             0
            ],
            [
             0,
             0
            ],
            [
             0,
             0
            ],
            [
             1,
             0
            ],
            [
             2,
             0
            ],
            [
             0,
             3
            ],
            [
             2,
             6
            ],
            [
             2,
             4
            ],
            [
             1,
             1
            ],
            [
             0,
             1
            ],
            [
             0,
             1
            ],
            [
             2,
             15
            ],
            [
             2,
             0
            ],
            [
             2,
             6
            ],
            [
             1,
             1
            ],
            [
             2,
             1
            ],
            [
             0,
             0
            ],
            [
             368,
             726
            ],
            [
             1,
             1
            ],
            [
             1,
             2
            ],
            [
             0,
             2
            ],
            [
             1,
             0
            ],
            [
             0,
             1
            ],
            [
             2,
             4
            ],
            [
             0,
             0
            ],
            [
             1,
             1
            ],
            [
             0,
             0
            ],
            [
             1,
             5
            ],
            [
             0,
             0
            ],
            [
             1,
             0
            ],
            [
             0,
             1
            ],
            [
             0,
             2
            ],
            [
             0,
             0
            ],
            [
             1,
             4
            ],
            [
             0,
             6
            ],
            [
             0,
             0
            ],
            [
             0,
             3
            ]
           ],
           "geo": "geo",
           "hovertemplate": "<b>%{hovertext}</b><br><br>age=40<br>iso=%{location}<br> >50 =%{z}<br> <=50 =%{customdata[1]}<extra></extra>",
           "hovertext": [
            "KHM",
            "GBR",
            "PER",
            "ITA",
            "PRT",
            "HKG",
            "IND",
            "JAM",
            "CAN",
            "CHN",
            "JPN",
            "POL",
            "GRC",
            "MEX",
            "TWN",
            "CAN",
            "GTM",
            "IRN",
            "NIC",
            "USA",
            "CMR",
            "CUB",
            "TTO",
            "FRA",
            "HND",
            "GBR",
            "LAO",
            "IRL",
            "ECU",
            "PHL",
            "NLO",
            "DEU",
            "VNM",
            "SLV",
            "HUN",
            "DOM",
            "PRI",
            "THA",
            "HTI"
           ],
           "locations": [
            "KHM",
            "GBR",
            "PER",
            "ITA",
            "PRT",
            "HKG",
            "IND",
            "JAM",
            "CAN",
            "CHN",
            "JPN",
            "POL",
            "GRC",
            "MEX",
            "TWN",
            "CAN",
            "GTM",
            "IRN",
            "NIC",
            "USA",
            "CMR",
            "CUB",
            "TTO",
            "FRA",
            "HND",
            "GBR",
            "LAO",
            "IRL",
            "ECU",
            "PHL",
            "NLO",
            "DEU",
            "VNM",
            "SLV",
            "HUN",
            "DOM",
            "PRI",
            "THA",
            "HTI"
           ],
           "name": "",
           "type": "choropleth",
           "z": [
            1,
            2,
            0,
            0,
            0,
            1,
            2,
            0,
            2,
            2,
            1,
            0,
            0,
            2,
            2,
            2,
            1,
            2,
            0,
            368,
            1,
            1,
            0,
            1,
            0,
            2,
            0,
            1,
            0,
            1,
            0,
            1,
            0,
            0,
            0,
            1,
            0,
            0,
            0
           ]
          }
         ],
         "name": "40"
        },
        {
         "data": [
          {
           "coloraxis": "coloraxis",
           "customdata": [
            [
             5,
             0
            ],
            [
             4,
             3
            ],
            [
             2,
             4
            ],
            [
             2,
             29
            ],
            [
             3,
             2
            ],
            [
             0,
             3
            ],
            [
             4,
             1
            ],
            [
             1,
             1
            ],
            [
             0,
             2
            ],
            [
             0,
             2
            ],
            [
             1,
             0
            ],
            [
             0,
             0
            ],
            [
             3,
             2
            ],
            [
             396,
             725
            ],
            [
             0,
             0
            ],
            [
             2,
             0
            ],
            [
             4,
             3
            ],
            [
             0,
             0
            ],
            [
             0,
             0
            ],
            [
             0,
             4
            ],
            [
             0,
             1
            ],
            [
             1,
             3
            ],
            [
             1,
             1
            ],
            [
             0,
             0
            ],
            [
             0,
             0
            ],
            [
             0,
             0
            ],
            [
             1,
             2
            ],
            [
             0,
             0
            ],
            [
             0,
             1
            ],
            [
             0,
             2
            ],
            [
             0,
             1
            ],
            [
             1,
             2
            ],
            [
             0,
             0
            ],
            [
             0,
             0
            ],
            [
             0,
             6
            ],
            [
             0,
             1
            ],
            [
             0,
             2
            ],
            [
             0,
             4
            ],
            [
             0,
             3
            ]
           ],
           "geo": "geo",
           "hovertemplate": "<b>%{hovertext}</b><br><br>age=41<br>iso=%{location}<br> >50 =%{z}<br> <=50 =%{customdata[1]}<extra></extra>",
           "hovertext": [
            "IND",
            "CAN",
            "PHL",
            "MEX",
            "CHN",
            "PRI",
            "TWN",
            "SLV",
            "DEU",
            "POL",
            "CMR",
            "LAO",
            "JPN",
            "USA",
            "ECU",
            "HTI",
            "CAN",
            "FRA",
            "IRL",
            "DOM",
            "HND",
            "CUB",
            "IRN",
            "THA",
            "HUN",
            "KHM",
            "GBR",
            "NLO",
            "GRC",
            "VNM",
            "HKG",
            "GBR",
            "TTO",
            "PRT",
            "PER",
            "NIC",
            "JAM",
            "GTM",
            "ITA"
           ],
           "locations": [
            "IND",
            "CAN",
            "PHL",
            "MEX",
            "CHN",
            "PRI",
            "TWN",
            "SLV",
            "DEU",
            "POL",
            "CMR",
            "LAO",
            "JPN",
            "USA",
            "ECU",
            "HTI",
            "CAN",
            "FRA",
            "IRL",
            "DOM",
            "HND",
            "CUB",
            "IRN",
            "THA",
            "HUN",
            "KHM",
            "GBR",
            "NLO",
            "GRC",
            "VNM",
            "HKG",
            "GBR",
            "TTO",
            "PRT",
            "PER",
            "NIC",
            "JAM",
            "GTM",
            "ITA"
           ],
           "name": "",
           "type": "choropleth",
           "z": [
            5,
            4,
            2,
            2,
            3,
            0,
            4,
            1,
            0,
            0,
            1,
            0,
            3,
            396,
            0,
            2,
            4,
            0,
            0,
            0,
            0,
            1,
            1,
            0,
            0,
            0,
            1,
            0,
            0,
            0,
            0,
            1,
            0,
            0,
            0,
            0,
            0,
            0,
            0
           ]
          }
         ],
         "name": "41"
        },
        {
         "data": [
          {
           "coloraxis": "coloraxis",
           "customdata": [
            [
             0,
             0
            ],
            [
             0,
             3
            ],
            [
             4,
             10
            ],
            [
             0,
             0
            ],
            [
             1,
             0
            ],
            [
             3,
             0
            ],
            [
             0,
             1
            ],
            [
             0,
             0
            ],
            [
             1,
             4
            ],
            [
             3,
             1
            ],
            [
             1,
             3
            ],
            [
             386,
             690
            ],
            [
             2,
             1
            ],
            [
             0,
             1
            ],
            [
             0,
             0
            ],
            [
             1,
             3
            ],
            [
             0,
             3
            ],
            [
             0,
             0
            ],
            [
             3,
             1
            ],
            [
             1,
             0
            ],
            [
             0,
             0
            ],
            [
             1,
             1
            ],
            [
             0,
             1
            ],
            [
             2,
             9
            ],
            [
             0,
             3
            ],
            [
             0,
             0
            ],
            [
             1,
             1
            ],
            [
             0,
             1
            ],
            [
             0,
             2
            ],
            [
             0,
             1
            ],
            [
             1,
             0
            ],
            [
             4,
             0
            ],
            [
             3,
             1
            ],
            [
             1,
             3
            ],
            [
             0,
             1
            ],
            [
             0,
             1
            ],
            [
             0,
             3
            ],
            [
             0,
             2
            ],
            [
             1,
             0
            ]
           ],
           "geo": "geo",
           "hovertemplate": "<b>%{hovertext}</b><br><br>age=42<br>iso=%{location}<br> >50 =%{z}<br> <=50 =%{customdata[1]}<extra></extra>",
           "hovertext": [
            "NLO",
            "GBR",
            "MEX",
            "IRL",
            "GRC",
            "IND",
            "GTM",
            "PER",
            "SLV",
            "CMR",
            "ECU",
            "USA",
            "CUB",
            "LAO",
            "HKG",
            "CAN",
            "JAM",
            "HUN",
            "ITA",
            "VNM",
            "HND",
            "KHM",
            "DOM",
            "PRI",
            "GBR",
            "THA",
            "PRT",
            "FRA",
            "POL",
            "DEU",
            "JPN",
            "PHL",
            "TWN",
            "CAN",
            "TTO",
            "NIC",
            "HTI",
            "IRN",
            "CHN"
           ],
           "locations": [
            "NLO",
            "GBR",
            "MEX",
            "IRL",
            "GRC",
            "IND",
            "GTM",
            "PER",
            "SLV",
            "CMR",
            "ECU",
            "USA",
            "CUB",
            "LAO",
            "HKG",
            "CAN",
            "JAM",
            "HUN",
            "ITA",
            "VNM",
            "HND",
            "KHM",
            "DOM",
            "PRI",
            "GBR",
            "THA",
            "PRT",
            "FRA",
            "POL",
            "DEU",
            "JPN",
            "PHL",
            "TWN",
            "CAN",
            "TTO",
            "NIC",
            "HTI",
            "IRN",
            "CHN"
           ],
           "name": "",
           "type": "choropleth",
           "z": [
            0,
            0,
            4,
            0,
            1,
            3,
            0,
            0,
            1,
            3,
            1,
            386,
            2,
            0,
            0,
            1,
            0,
            0,
            3,
            1,
            0,
            1,
            0,
            2,
            0,
            0,
            1,
            0,
            0,
            0,
            1,
            4,
            3,
            1,
            0,
            0,
            0,
            0,
            1
           ]
          }
         ],
         "name": "42"
        },
        {
         "data": [
          {
           "coloraxis": "coloraxis",
           "customdata": [
            [
             0,
             2
            ],
            [
             390,
             626
            ],
            [
             0,
             2
            ],
            [
             0,
             2
            ],
            [
             2,
             2
            ],
            [
             0,
             0
            ],
            [
             2,
             0
            ],
            [
             0,
             3
            ],
            [
             0,
             1
            ],
            [
             0,
             0
            ],
            [
             2,
             0
            ],
            [
             0,
             1
            ],
            [
             1,
             1
            ],
            [
             0,
             1
            ],
            [
             1,
             22
            ],
            [
             0,
             0
            ],
            [
             0,
             1
            ],
            [
             1,
             1
            ],
            [
             0,
             0
            ],
            [
             0,
             0
            ],
            [
             0,
             0
            ],
            [
             0,
             3
            ],
            [
             0,
             0
            ],
            [
             1,
             3
            ],
            [
             0,
             0
            ],
            [
             1,
             3
            ],
            [
             1,
             2
            ],
            [
             0,
             1
            ],
            [
             1,
             4
            ],
            [
             0,
             0
            ],
            [
             1,
             0
            ],
            [
             0,
             2
            ],
            [
             2,
             2
            ],
            [
             3,
             1
            ],
            [
             2,
             2
            ],
            [
             0,
             0
            ],
            [
             1,
             2
            ],
            [
             2,
             2
            ],
            [
             0,
             0
            ]
           ],
           "geo": "geo",
           "hovertemplate": "<b>%{hovertext}</b><br><br>age=43<br>iso=%{location}<br> >50 =%{z}<br> <=50 =%{customdata[1]}<extra></extra>",
           "hovertext": [
            "THA",
            "USA",
            "NIC",
            "DOM",
            "CAN",
            "NLO",
            "GBR",
            "CUB",
            "FRA",
            "IRL",
            "GBR",
            "PRI",
            "JPN",
            "TTO",
            "MEX",
            "ECU",
            "GRC",
            "PRT",
            "KHM",
            "HKG",
            "GTM",
            "CMR",
            "TWN",
            "HTI",
            "LAO",
            "DEU",
            "ITA",
            "IRN",
            "POL",
            "HND",
            "JAM",
            "SLV",
            "VNM",
            "IND",
            "PHL",
            "PER",
            "CHN",
            "CAN",
            "HUN"
           ],
           "locations": [
            "THA",
            "USA",
            "NIC",
            "DOM",
            "CAN",
            "NLO",
            "GBR",
            "CUB",
            "FRA",
            "IRL",
            "GBR",
            "PRI",
            "JPN",
            "TTO",
            "MEX",
            "ECU",
            "GRC",
            "PRT",
            "KHM",
            "HKG",
            "GTM",
            "CMR",
            "TWN",
            "HTI",
            "LAO",
            "DEU",
            "ITA",
            "IRN",
            "POL",
            "HND",
            "JAM",
            "SLV",
            "VNM",
            "IND",
            "PHL",
            "PER",
            "CHN",
            "CAN",
            "HUN"
           ],
           "name": "",
           "type": "choropleth",
           "z": [
            0,
            390,
            0,
            0,
            2,
            0,
            2,
            0,
            0,
            0,
            2,
            0,
            1,
            0,
            1,
            0,
            0,
            1,
            0,
            0,
            0,
            0,
            0,
            1,
            0,
            1,
            1,
            0,
            1,
            0,
            1,
            0,
            2,
            3,
            2,
            0,
            1,
            2,
            0
           ]
          }
         ],
         "name": "43"
        },
        {
         "data": [
          {
           "coloraxis": "coloraxis",
           "customdata": [
            [
             0,
             1
            ],
            [
             0,
             1
            ],
            [
             0,
             0
            ],
            [
             2,
             0
            ],
            [
             0,
             2
            ],
            [
             1,
             3
            ],
            [
             1,
             1
            ],
            [
             0,
             8
            ],
            [
             0,
             3
            ],
            [
             0,
             4
            ],
            [
             3,
             2
            ],
            [
             0,
             1
            ],
            [
             0,
             0
            ],
            [
             0,
             3
            ],
            [
             4,
             4
            ],
            [
             0,
             1
            ],
            [
             0,
             1
            ],
            [
             0,
             2
            ],
            [
             0,
             4
            ],
            [
             1,
             2
            ],
            [
             0,
             0
            ],
            [
             3,
             2
            ],
            [
             0,
             3
            ],
            [
             1,
             0
            ],
            [
             0,
             0
            ],
            [
             0,
             1
            ],
            [
             0,
             3
            ],
            [
             1,
             0
            ],
            [
             0,
             1
            ],
            [
             1,
             2
            ],
            [
             1,
             11
            ],
            [
             0,
             0
            ],
            [
             0,
             1
            ],
            [
             0,
             0
            ],
            [
             1,
             2
            ],
            [
             0,
             2
            ],
            [
             0,
             1
            ],
            [
             391,
             590
            ],
            [
             0,
             1
            ]
           ],
           "geo": "geo",
           "hovertemplate": "<b>%{hovertext}</b><br><br>age=44<br>iso=%{location}<br> >50 =%{z}<br> <=50 =%{customdata[1]}<extra></extra>",
           "hovertext": [
            "ECU",
            "IRN",
            "NLO",
            "ITA",
            "CUB",
            "JAM",
            "CMR",
            "PRI",
            "DEU",
            "POL",
            "GBR",
            "NIC",
            "KHM",
            "CAN",
            "PHL",
            "PER",
            "IND",
            "HTI",
            "DOM",
            "PRT",
            "TTO",
            "GBR",
            "CAN",
            "HUN",
            "GTM",
            "FRA",
            "VNM",
            "TWN",
            "CHN",
            "JPN",
            "MEX",
            "HND",
            "THA",
            "IRL",
            "GRC",
            "LAO",
            "HKG",
            "USA",
            "SLV"
           ],
           "locations": [
            "ECU",
            "IRN",
            "NLO",
            "ITA",
            "CUB",
            "JAM",
            "CMR",
            "PRI",
            "DEU",
            "POL",
            "GBR",
            "NIC",
            "KHM",
            "CAN",
            "PHL",
            "PER",
            "IND",
            "HTI",
            "DOM",
            "PRT",
            "TTO",
            "GBR",
            "CAN",
            "HUN",
            "GTM",
            "FRA",
            "VNM",
            "TWN",
            "CHN",
            "JPN",
            "MEX",
            "HND",
            "THA",
            "IRL",
            "GRC",
            "LAO",
            "HKG",
            "USA",
            "SLV"
           ],
           "name": "",
           "type": "choropleth",
           "z": [
            0,
            0,
            0,
            2,
            0,
            1,
            1,
            0,
            0,
            0,
            3,
            0,
            0,
            0,
            4,
            0,
            0,
            0,
            0,
            1,
            0,
            3,
            0,
            1,
            0,
            0,
            0,
            1,
            0,
            1,
            1,
            0,
            0,
            0,
            1,
            0,
            0,
            391,
            0
           ]
          }
         ],
         "name": "44"
        },
        {
         "data": [
          {
           "coloraxis": "coloraxis",
           "customdata": [
            [
             0,
             0
            ],
            [
             1,
             0
            ],
            [
             2,
             3
            ],
            [
             1,
             1
            ],
            [
             0,
             0
            ],
            [
             379,
             623
            ],
            [
             0,
             0
            ],
            [
             5,
             2
            ],
            [
             0,
             3
            ],
            [
             0,
             0
            ],
            [
             3,
             1
            ],
            [
             0,
             2
            ],
            [
             0,
             2
            ],
            [
             0,
             0
            ],
            [
             0,
             1
            ],
            [
             0,
             0
            ],
            [
             4,
             1
            ],
            [
             3,
             4
            ],
            [
             0,
             0
            ],
            [
             0,
             0
            ],
            [
             1,
             2
            ],
            [
             1,
             1
            ],
            [
             1,
             0
            ],
            [
             0,
             2
            ],
            [
             1,
             12
            ],
            [
             0,
             0
            ],
            [
             0,
             0
            ],
            [
             1,
             0
            ],
            [
             4,
             1
            ],
            [
             3,
             5
            ],
            [
             1,
             1
            ],
            [
             0,
             1
            ],
            [
             0,
             0
            ],
            [
             0,
             0
            ],
            [
             1,
             4
            ],
            [
             3,
             7
            ],
            [
             0,
             1
            ],
            [
             0,
             4
            ],
            [
             3,
             5
            ]
           ],
           "geo": "geo",
           "hovertemplate": "<b>%{hovertext}</b><br><br>age=45<br>iso=%{location}<br> >50 =%{z}<br> <=50 =%{customdata[1]}<extra></extra>",
           "hovertext": [
            "KHM",
            "IRN",
            "DEU",
            "POL",
            "LAO",
            "USA",
            "JAM",
            "IND",
            "HTI",
            "NLO",
            "JPN",
            "TTO",
            "SLV",
            "GRC",
            "ECU",
            "IRL",
            "GBR",
            "CHN",
            "PRT",
            "PER",
            "PRI",
            "FRA",
            "HKG",
            "THA",
            "MEX",
            "HND",
            "TWN",
            "GTM",
            "GBR",
            "CAN",
            "ITA",
            "CUB",
            "NIC",
            "HUN",
            "CMR",
            "PHL",
            "DOM",
            "VNM",
            "CAN"
           ],
           "locations": [
            "KHM",
            "IRN",
            "DEU",
            "POL",
            "LAO",
            "USA",
            "JAM",
            "IND",
            "HTI",
            "NLO",
            "JPN",
            "TTO",
            "SLV",
            "GRC",
            "ECU",
            "IRL",
            "GBR",
            "CHN",
            "PRT",
            "PER",
            "PRI",
            "FRA",
            "HKG",
            "THA",
            "MEX",
            "HND",
            "TWN",
            "GTM",
            "GBR",
            "CAN",
            "ITA",
            "CUB",
            "NIC",
            "HUN",
            "CMR",
            "PHL",
            "DOM",
            "VNM",
            "CAN"
           ],
           "name": "",
           "type": "choropleth",
           "z": [
            0,
            1,
            2,
            1,
            0,
            379,
            0,
            5,
            0,
            0,
            3,
            0,
            0,
            0,
            0,
            0,
            4,
            3,
            0,
            0,
            1,
            1,
            1,
            0,
            1,
            0,
            0,
            1,
            4,
            3,
            1,
            0,
            0,
            0,
            1,
            3,
            0,
            0,
            3
           ]
          }
         ],
         "name": "45"
        },
        {
         "data": [
          {
           "coloraxis": "coloraxis",
           "customdata": [
            [
             1,
             0
            ],
            [
             0,
             0
            ],
            [
             0,
             2
            ],
            [
             0,
             0
            ],
            [
             0,
             2
            ],
            [
             0,
             3
            ],
            [
             2,
             2
            ],
            [
             2,
             3
            ],
            [
             0,
             1
            ],
            [
             0,
             0
            ],
            [
             0,
             0
            ],
            [
             0,
             4
            ],
            [
             0,
             0
            ],
            [
             6,
             5
            ],
            [
             0,
             2
            ],
            [
             0,
             1
            ],
            [
             0,
             3
            ],
            [
             1,
             0
            ],
            [
             415,
             590
            ],
            [
             0,
             0
            ],
            [
             0,
             1
            ],
            [
             0,
             0
            ],
            [
             0,
             0
            ],
            [
             0,
             1
            ],
            [
             0,
             4
            ],
            [
             0,
             1
            ],
            [
             0,
             0
            ],
            [
             0,
             1
            ],
            [
             6,
             3
            ],
            [
             3,
             2
            ],
            [
             1,
             0
            ],
            [
             2,
             2
            ],
            [
             0,
             1
            ],
            [
             0,
             5
            ],
            [
             2,
             1
            ],
            [
             0,
             1
            ],
            [
             0,
             13
            ],
            [
             2,
             1
            ],
            [
             0,
             4
            ]
           ],
           "geo": "geo",
           "hovertemplate": "<b>%{hovertext}</b><br><br>age=46<br>iso=%{location}<br> >50 =%{z}<br> <=50 =%{customdata[1]}<extra></extra>",
           "hovertext": [
            "KHM",
            "FRA",
            "JAM",
            "NLO",
            "PER",
            "ECU",
            "CAN",
            "CUB",
            "GRC",
            "IRN",
            "HUN",
            "GTM",
            "HKG",
            "PHL",
            "PRT",
            "SLV",
            "CHN",
            "CMR",
            "USA",
            "LAO",
            "TTO",
            "TWN",
            "POL",
            "VNM",
            "DOM",
            "IRL",
            "HND",
            "HTI",
            "DEU",
            "IND",
            "JPN",
            "CAN",
            "NIC",
            "ITA",
            "GBR",
            "THA",
            "MEX",
            "GBR",
            "PRI"
           ],
           "locations": [
            "KHM",
            "FRA",
            "JAM",
            "NLO",
            "PER",
            "ECU",
            "CAN",
            "CUB",
            "GRC",
            "IRN",
            "HUN",
            "GTM",
            "HKG",
            "PHL",
            "PRT",
            "SLV",
            "CHN",
            "CMR",
            "USA",
            "LAO",
            "TTO",
            "TWN",
            "POL",
            "VNM",
            "DOM",
            "IRL",
            "HND",
            "HTI",
            "DEU",
            "IND",
            "JPN",
            "CAN",
            "NIC",
            "ITA",
            "GBR",
            "THA",
            "MEX",
            "GBR",
            "PRI"
           ],
           "name": "",
           "type": "choropleth",
           "z": [
            1,
            0,
            0,
            0,
            0,
            0,
            2,
            2,
            0,
            0,
            0,
            0,
            0,
            6,
            0,
            0,
            0,
            1,
            415,
            0,
            0,
            0,
            0,
            0,
            0,
            0,
            0,
            0,
            6,
            3,
            1,
            2,
            0,
            0,
            2,
            0,
            0,
            2,
            0
           ]
          }
         ],
         "name": "46"
        },
        {
         "data": [
          {
           "coloraxis": "coloraxis",
           "customdata": [
            [
             2,
             2
            ],
            [
             4,
             3
            ],
            [
             403,
             576
            ],
            [
             1,
             1
            ],
            [
             1,
             0
            ],
            [
             0,
             2
            ],
            [
             0,
             0
            ],
            [
             2,
             1
            ],
            [
             0,
             0
            ],
            [
             0,
             14
            ],
            [
             0,
             0
            ],
            [
             0,
             2
            ],
            [
             1,
             1
            ],
            [
             0,
             0
            ],
            [
             1,
             2
            ],
            [
             1,
             2
            ],
            [
             1,
             14
            ],
            [
             2,
             1
            ],
            [
             0,
             6
            ],
            [
             0,
             1
            ],
            [
             1,
             1
            ],
            [
             2,
             2
            ],
            [
             0,
             2
            ],
            [
             0,
             0
            ],
            [
             1,
             3
            ],
            [
             0,
             2
            ],
            [
             0,
             1
            ],
            [
             0,
             1
            ],
            [
             3,
             1
            ],
            [
             1,
             5
            ],
            [
             0,
             0
            ],
            [
             0,
             0
            ],
            [
             0,
             0
            ],
            [
             1,
             1
            ],
            [
             0,
             0
            ],
            [
             3,
             1
            ],
            [
             0,
             0
            ],
            [
             2,
             5
            ],
            [
             0,
             0
            ]
           ],
           "geo": "geo",
           "hovertemplate": "<b>%{hovertext}</b><br><br>age=47<br>iso=%{location}<br> >50 =%{z}<br> <=50 =%{customdata[1]}<extra></extra>",
           "hovertext": [
            "CAN",
            "ITA",
            "USA",
            "PER",
            "ECU",
            "THA",
            "HKG",
            "IRN",
            "LAO",
            "PRI",
            "TTO",
            "JAM",
            "FRA",
            "VNM",
            "PRT",
            "IND",
            "MEX",
            "PHL",
            "SLV",
            "CMR",
            "HND",
            "CAN",
            "DOM",
            "GRC",
            "JPN",
            "HTI",
            "HUN",
            "NIC",
            "GBR",
            "DEU",
            "GTM",
            "CHN",
            "POL",
            "TWN",
            "IRL",
            "GBR",
            "NLO",
            "CUB",
            "KHM"
           ],
           "locations": [
            "CAN",
            "ITA",
            "USA",
            "PER",
            "ECU",
            "THA",
            "HKG",
            "IRN",
            "LAO",
            "PRI",
            "TTO",
            "JAM",
            "FRA",
            "VNM",
            "PRT",
            "IND",
            "MEX",
            "PHL",
            "SLV",
            "CMR",
            "HND",
            "CAN",
            "DOM",
            "GRC",
            "JPN",
            "HTI",
            "HUN",
            "NIC",
            "GBR",
            "DEU",
            "GTM",
            "CHN",
            "POL",
            "TWN",
            "IRL",
            "GBR",
            "NLO",
            "CUB",
            "KHM"
           ],
           "name": "",
           "type": "choropleth",
           "z": [
            2,
            4,
            403,
            1,
            1,
            0,
            0,
            2,
            0,
            0,
            0,
            0,
            1,
            0,
            1,
            1,
            1,
            2,
            0,
            0,
            1,
            2,
            0,
            0,
            1,
            0,
            0,
            0,
            3,
            1,
            0,
            0,
            0,
            1,
            0,
            3,
            0,
            2,
            0
           ]
          }
         ],
         "name": "47"
        },
        {
         "data": [
          {
           "coloraxis": "coloraxis",
           "customdata": [
            [
             2,
             0
            ],
            [
             0,
             1
            ],
            [
             0,
             0
            ],
            [
             0,
             0
            ],
            [
             1,
             0
            ],
            [
             1,
             2
            ],
            [
             1,
             2
            ],
            [
             0,
             0
            ],
            [
             0,
             3
            ],
            [
             0,
             2
            ],
            [
             2,
             1
            ],
            [
             0,
             2
            ],
            [
             0,
             0
            ],
            [
             0,
             1
            ],
            [
             4,
             4
            ],
            [
             1,
             0
            ],
            [
             0,
             1
            ],
            [
             0,
             5
            ],
            [
             2,
             1
            ],
            [
             0,
             1
            ],
            [
             3,
             1
            ],
            [
             0,
             0
            ],
            [
             1,
             3
            ],
            [
             0,
             3
            ],
            [
             0,
             1
            ],
            [
             306,
             464
            ],
            [
             0,
             0
            ],
            [
             0,
             1
            ],
            [
             0,
             1
            ],
            [
             3,
             2
            ],
            [
             0,
             3
            ],
            [
             0,
             2
            ],
            [
             1,
             0
            ],
            [
             2,
             3
            ],
            [
             4,
             2
            ],
            [
             3,
             1
            ],
            [
             0,
             0
            ],
            [
             0,
             2
            ],
            [
             0,
             0
            ]
           ],
           "geo": "geo",
           "hovertemplate": "<b>%{hovertext}</b><br><br>age=48<br>iso=%{location}<br> >50 =%{z}<br> <=50 =%{customdata[1]}<extra></extra>",
           "hovertext": [
            "GRC",
            "HND",
            "HUN",
            "FRA",
            "IRL",
            "SLV",
            "JPN",
            "NLO",
            "CMR",
            "PRI",
            "JAM",
            "NIC",
            "HKG",
            "GTM",
            "MEX",
            "CUB",
            "TTO",
            "DOM",
            "ITA",
            "ECU",
            "CAN",
            "THA",
            "CHN",
            "GBR",
            "PRT",
            "USA",
            "IRN",
            "POL",
            "VNM",
            "IND",
            "GBR",
            "PER",
            "KHM",
            "DEU",
            "PHL",
            "CAN",
            "LAO",
            "HTI",
            "TWN"
           ],
           "locations": [
            "GRC",
            "HND",
            "HUN",
            "FRA",
            "IRL",
            "SLV",
            "JPN",
            "NLO",
            "CMR",
            "PRI",
            "JAM",
            "NIC",
            "HKG",
            "GTM",
            "MEX",
            "CUB",
            "TTO",
            "DOM",
            "ITA",
            "ECU",
            "CAN",
            "THA",
            "CHN",
            "GBR",
            "PRT",
            "USA",
            "IRN",
            "POL",
            "VNM",
            "IND",
            "GBR",
            "PER",
            "KHM",
            "DEU",
            "PHL",
            "CAN",
            "LAO",
            "HTI",
            "TWN"
           ],
           "name": "",
           "type": "choropleth",
           "z": [
            2,
            0,
            0,
            0,
            1,
            1,
            1,
            0,
            0,
            0,
            2,
            0,
            0,
            0,
            4,
            1,
            0,
            0,
            2,
            0,
            3,
            0,
            1,
            0,
            0,
            306,
            0,
            0,
            0,
            3,
            0,
            0,
            1,
            2,
            4,
            3,
            0,
            0,
            0
           ]
          }
         ],
         "name": "48"
        },
        {
         "data": [
          {
           "coloraxis": "coloraxis",
           "customdata": [
            [
             0,
             1
            ],
            [
             298,
             477
            ],
            [
             0,
             0
            ],
            [
             0,
             3
            ],
            [
             0,
             0
            ],
            [
             0,
             1
            ],
            [
             1,
             3
            ],
            [
             0,
             0
            ],
            [
             0,
             0
            ],
            [
             0,
             0
            ],
            [
             0,
             0
            ],
            [
             2,
             4
            ],
            [
             0,
             1
            ],
            [
             0,
             2
            ],
            [
             0,
             1
            ],
            [
             0,
             1
            ],
            [
             1,
             2
            ],
            [
             0,
             3
            ],
            [
             0,
             1
            ],
            [
             1,
             0
            ],
            [
             5,
             9
            ],
            [
             0,
             2
            ],
            [
             0,
             1
            ],
            [
             5,
             9
            ],
            [
             0,
             0
            ],
            [
             1,
             1
            ],
            [
             0,
             4
            ],
            [
             0,
             5
            ],
            [
             0,
             3
            ],
            [
             1,
             1
            ],
            [
             0,
             0
            ],
            [
             1,
             1
            ],
            [
             0,
             0
            ],
            [
             0,
             1
            ],
            [
             0,
             2
            ],
            [
             0,
             1
            ],
            [
             0,
             1
            ],
            [
             0,
             0
            ],
            [
             1,
             1
            ]
           ],
           "geo": "geo",
           "hovertemplate": "<b>%{hovertext}</b><br><br>age=49<br>iso=%{location}<br> >50 =%{z}<br> <=50 =%{customdata[1]}<extra></extra>",
           "hovertext": [
            "HKG",
            "USA",
            "HTI",
            "PRT",
            "KHM",
            "VNM",
            "ITA",
            "NLO",
            "TTO",
            "IRN",
            "HND",
            "MEX",
            "DOM",
            "CUB",
            "NIC",
            "LAO",
            "DEU",
            "PER",
            "HUN",
            "JPN",
            "CAN",
            "JAM",
            "THA",
            "CAN",
            "GTM",
            "GBR",
            "PRI",
            "PHL",
            "GRC",
            "GBR",
            "SLV",
            "CHN",
            "TWN",
            "POL",
            "IND",
            "IRL",
            "FRA",
            "ECU",
            "CMR"
           ],
           "locations": [
            "HKG",
            "USA",
            "HTI",
            "PRT",
            "KHM",
            "VNM",
            "ITA",
            "NLO",
            "TTO",
            "IRN",
            "HND",
            "MEX",
            "DOM",
            "CUB",
            "NIC",
            "LAO",
            "DEU",
            "PER",
            "HUN",
            "JPN",
            "CAN",
            "JAM",
            "THA",
            "CAN",
            "GTM",
            "GBR",
            "PRI",
            "PHL",
            "GRC",
            "GBR",
            "SLV",
            "CHN",
            "TWN",
            "POL",
            "IND",
            "IRL",
            "FRA",
            "ECU",
            "CMR"
           ],
           "name": "",
           "type": "choropleth",
           "z": [
            0,
            298,
            0,
            0,
            0,
            0,
            1,
            0,
            0,
            0,
            0,
            2,
            0,
            0,
            0,
            0,
            1,
            0,
            0,
            1,
            5,
            0,
            0,
            5,
            0,
            1,
            0,
            0,
            0,
            1,
            0,
            1,
            0,
            0,
            0,
            0,
            0,
            0,
            1
           ]
          }
         ],
         "name": "49"
        },
        {
         "data": [
          {
           "coloraxis": "coloraxis",
           "customdata": [
            [
             0,
             0
            ],
            [
             1,
             2
            ],
            [
             0,
             0
            ],
            [
             0,
             0
            ],
            [
             1,
             1
            ],
            [
             0,
             3
            ],
            [
             3,
             2
            ],
            [
             0,
             0
            ],
            [
             0,
             2
            ],
            [
             355,
             446
            ],
            [
             2,
             0
            ],
            [
             0,
             0
            ],
            [
             1,
             0
            ],
            [
             0,
             2
            ],
            [
             1,
             0
            ],
            [
             0,
             1
            ],
            [
             4,
             6
            ],
            [
             0,
             1
            ],
            [
             0,
             2
            ],
            [
             0,
             1
            ],
            [
             0,
             0
            ],
            [
             1,
             2
            ],
            [
             0,
             0
            ],
            [
             0,
             0
            ],
            [
             3,
             2
            ],
            [
             0,
             1
            ],
            [
             0,
             3
            ],
            [
             0,
             2
            ],
            [
             2,
             2
            ],
            [
             0,
             0
            ],
            [
             0,
             3
            ],
            [
             1,
             0
            ],
            [
             0,
             9
            ],
            [
             0,
             1
            ],
            [
             0,
             1
            ],
            [
             0,
             0
            ],
            [
             1,
             0
            ],
            [
             0,
             1
            ],
            [
             0,
             0
            ]
           ],
           "geo": "geo",
           "hovertemplate": "<b>%{hovertext}</b><br><br>age=50<br>iso=%{location}<br> >50 =%{z}<br> <=50 =%{customdata[1]}<extra></extra>",
           "hovertext": [
            "GTM",
            "DEU",
            "THA",
            "TWN",
            "POL",
            "HTI",
            "CAN",
            "PRT",
            "DOM",
            "USA",
            "ITA",
            "HKG",
            "LAO",
            "CUB",
            "GRC",
            "IRN",
            "PHL",
            "GBR",
            "TTO",
            "GBR",
            "NLO",
            "SLV",
            "PER",
            "FRA",
            "CAN",
            "JAM",
            "CHN",
            "ECU",
            "CMR",
            "NIC",
            "PRI",
            "KHM",
            "MEX",
            "IND",
            "VNM",
            "HUN",
            "JPN",
            "IRL",
            "HND"
           ],
           "locations": [
            "GTM",
            "DEU",
            "THA",
            "TWN",
            "POL",
            "HTI",
            "CAN",
            "PRT",
            "DOM",
            "USA",
            "ITA",
            "HKG",
            "LAO",
            "CUB",
            "GRC",
            "IRN",
            "PHL",
            "GBR",
            "TTO",
            "GBR",
            "NLO",
            "SLV",
            "PER",
            "FRA",
            "CAN",
            "JAM",
            "CHN",
            "ECU",
            "CMR",
            "NIC",
            "PRI",
            "KHM",
            "MEX",
            "IND",
            "VNM",
            "HUN",
            "JPN",
            "IRL",
            "HND"
           ],
           "name": "",
           "type": "choropleth",
           "z": [
            0,
            1,
            0,
            0,
            1,
            0,
            3,
            0,
            0,
            355,
            2,
            0,
            1,
            0,
            1,
            0,
            4,
            0,
            0,
            0,
            0,
            1,
            0,
            0,
            3,
            0,
            0,
            0,
            2,
            0,
            0,
            1,
            0,
            0,
            0,
            0,
            1,
            0,
            0
           ]
          }
         ],
         "name": "50"
        },
        {
         "data": [
          {
           "coloraxis": "coloraxis",
           "customdata": [
            [
             3,
             4
            ],
            [
             0,
             0
            ],
            [
             0,
             2
            ],
            [
             0,
             0
            ],
            [
             0,
             1
            ],
            [
             0,
             1
            ],
            [
             0,
             0
            ],
            [
             0,
             1
            ],
            [
             0,
             0
            ],
            [
             1,
             0
            ],
            [
             3,
             9
            ],
            [
             2,
             1
            ],
            [
             1,
             1
            ],
            [
             0,
             3
            ],
            [
             0,
             0
            ],
            [
             1,
             3
            ],
            [
             0,
             1
            ],
            [
             0,
             0
            ],
            [
             332,
             483
            ],
            [
             0,
             0
            ],
            [
             0,
             1
            ],
            [
             0,
             1
            ],
            [
             1,
             2
            ],
            [
             0,
             0
            ],
            [
             1,
             0
            ],
            [
             0,
             0
            ],
            [
             1,
             1
            ],
            [
             1,
             3
            ],
            [
             0,
             0
            ],
            [
             0,
             3
            ],
            [
             0,
             0
            ],
            [
             2,
             1
            ],
            [
             1,
             3
            ],
            [
             0,
             1
            ],
            [
             0,
             1
            ],
            [
             3,
             4
            ],
            [
             0,
             2
            ],
            [
             0,
             0
            ],
            [
             1,
             0
            ]
           ],
           "geo": "geo",
           "hovertemplate": "<b>%{hovertext}</b><br><br>age=51<br>iso=%{location}<br> >50 =%{z}<br> <=50 =%{customdata[1]}<extra></extra>",
           "hovertext": [
            "CAN",
            "ECU",
            "HTI",
            "POL",
            "GRC",
            "TWN",
            "HND",
            "DOM",
            "HKG",
            "CHN",
            "MEX",
            "SLV",
            "IND",
            "JAM",
            "HUN",
            "GBR",
            "ITA",
            "LAO",
            "USA",
            "NIC",
            "IRL",
            "PER",
            "PRI",
            "NLO",
            "IRN",
            "THA",
            "VNM",
            "GBR",
            "TTO",
            "PHL",
            "GTM",
            "DEU",
            "CUB",
            "PRT",
            "KHM",
            "CAN",
            "CMR",
            "JPN",
            "FRA"
           ],
           "locations": [
            "CAN",
            "ECU",
            "HTI",
            "POL",
            "GRC",
            "TWN",
            "HND",
            "DOM",
            "HKG",
            "CHN",
            "MEX",
            "SLV",
            "IND",
            "JAM",
            "HUN",
            "GBR",
            "ITA",
            "LAO",
            "USA",
            "NIC",
            "IRL",
            "PER",
            "PRI",
            "NLO",
            "IRN",
            "THA",
            "VNM",
            "GBR",
            "TTO",
            "PHL",
            "GTM",
            "DEU",
            "CUB",
            "PRT",
            "KHM",
            "CAN",
            "CMR",
            "JPN",
            "FRA"
           ],
           "name": "",
           "type": "choropleth",
           "z": [
            3,
            0,
            0,
            0,
            0,
            0,
            0,
            0,
            0,
            1,
            3,
            2,
            1,
            0,
            0,
            1,
            0,
            0,
            332,
            0,
            0,
            0,
            1,
            0,
            1,
            0,
            1,
            1,
            0,
            0,
            0,
            2,
            1,
            0,
            0,
            3,
            0,
            0,
            1
           ]
          }
         ],
         "name": "51"
        },
        {
         "data": [
          {
           "coloraxis": "coloraxis",
           "customdata": [
            [
             0,
             1
            ],
            [
             0,
             0
            ],
            [
             0,
             0
            ],
            [
             1,
             0
            ],
            [
             0,
             0
            ],
            [
             0,
             0
            ],
            [
             3,
             1
            ],
            [
             0,
             0
            ],
            [
             0,
             1
            ],
            [
             1,
             0
            ],
            [
             2,
             1
            ],
            [
             1,
             1
            ],
            [
             3,
             1
            ],
            [
             1,
             3
            ],
            [
             0,
             0
            ],
            [
             0,
             0
            ],
            [
             0,
             1
            ],
            [
             2,
             2
            ],
            [
             0,
             2
            ],
            [
             0,
             0
            ],
            [
             2,
             1
            ],
            [
             1,
             2
            ],
            [
             1,
             0
            ],
            [
             0,
             1
            ],
            [
             0,
             0
            ],
            [
             0,
             0
            ],
            [
             0,
             0
            ],
            [
             1,
             0
            ],
            [
             2,
             6
            ],
            [
             0,
             2
            ],
            [
             0,
             0
            ],
            [
             0,
             0
            ],
            [
             0,
             0
            ],
            [
             1,
             11
            ],
            [
             1,
             0
            ],
            [
             0,
             0
            ],
            [
             0,
             0
            ],
            [
             0,
             3
            ],
            [
             257,
             422
            ]
           ],
           "geo": "geo",
           "hovertemplate": "<b>%{hovertext}</b><br><br>age=52<br>iso=%{location}<br> >50 =%{z}<br> <=50 =%{customdata[1]}<extra></extra>",
           "hovertext": [
            "DOM",
            "ITA",
            "THA",
            "IRN",
            "FRA",
            "CMR",
            "CAN",
            "HUN",
            "ECU",
            "PER",
            "HTI",
            "JAM",
            "CAN",
            "SLV",
            "TTO",
            "LAO",
            "GBR",
            "DEU",
            "VNM",
            "TWN",
            "IND",
            "PRI",
            "JPN",
            "GBR",
            "KHM",
            "GTM",
            "PRT",
            "POL",
            "CUB",
            "CHN",
            "NIC",
            "HKG",
            "NLO",
            "MEX",
            "GRC",
            "HND",
            "IRL",
            "PHL",
            "USA"
           ],
           "locations": [
            "DOM",
            "ITA",
            "THA",
            "IRN",
            "FRA",
            "CMR",
            "CAN",
            "HUN",
            "ECU",
            "PER",
            "HTI",
            "JAM",
            "CAN",
            "SLV",
            "TTO",
            "LAO",
            "GBR",
            "DEU",
            "VNM",
            "TWN",
            "IND",
            "PRI",
            "JPN",
            "GBR",
            "KHM",
            "GTM",
            "PRT",
            "POL",
            "CUB",
            "CHN",
            "NIC",
            "HKG",
            "NLO",
            "MEX",
            "GRC",
            "HND",
            "IRL",
            "PHL",
            "USA"
           ],
           "name": "",
           "type": "choropleth",
           "z": [
            0,
            0,
            0,
            1,
            0,
            0,
            3,
            0,
            0,
            1,
            2,
            1,
            3,
            1,
            0,
            0,
            0,
            2,
            0,
            0,
            2,
            1,
            1,
            0,
            0,
            0,
            0,
            1,
            2,
            0,
            0,
            0,
            0,
            1,
            1,
            0,
            0,
            0,
            257
           ]
          }
         ],
         "name": "52"
        },
        {
         "data": [
          {
           "coloraxis": "coloraxis",
           "customdata": [
            [
             1,
             0
            ],
            [
             0,
             0
            ],
            [
             0,
             2
            ],
            [
             1,
             1
            ],
            [
             0,
             0
            ],
            [
             2,
             2
            ],
            [
             1,
             0
            ],
            [
             0,
             1
            ],
            [
             0,
             1
            ],
            [
             2,
             4
            ],
            [
             1,
             1
            ],
            [
             2,
             0
            ],
            [
             2,
             4
            ],
            [
             0,
             1
            ],
            [
             0,
             2
            ],
            [
             1,
             2
            ],
            [
             0,
             2
            ],
            [
             0,
             0
            ],
            [
             0,
             4
            ],
            [
             260,
             370
            ],
            [
             0,
             0
            ],
            [
             0,
             0
            ],
            [
             0,
             2
            ],
            [
             0,
             2
            ],
            [
             2,
             0
            ],
            [
             0,
             0
            ],
            [
             1,
             2
            ],
            [
             1,
             2
            ],
            [
             2,
             2
            ],
            [
             4,
             1
            ],
            [
             2,
             5
            ],
            [
             0,
             0
            ],
            [
             1,
             0
            ],
            [
             1,
             9
            ],
            [
             0,
             1
            ],
            [
             0,
             2
            ],
            [
             0,
             0
            ],
            [
             0,
             0
            ],
            [
             2,
             4
            ]
           ],
           "geo": "geo",
           "hovertemplate": "<b>%{hovertext}</b><br><br>age=53<br>iso=%{location}<br> >50 =%{z}<br> <=50 =%{customdata[1]}<extra></extra>",
           "hovertext": [
            "TWN",
            "HKG",
            "SLV",
            "CHN",
            "KHM",
            "GRC",
            "HUN",
            "PER",
            "CMR",
            "CAN",
            "JPN",
            "THA",
            "CAN",
            "GTM",
            "LAO",
            "GBR",
            "POL",
            "TTO",
            "DOM",
            "USA",
            "NLO",
            "HND",
            "VNM",
            "JAM",
            "DEU",
            "IRN",
            "GBR",
            "PRI",
            "CUB",
            "IND",
            "ITA",
            "NIC",
            "FRA",
            "MEX",
            "ECU",
            "HTI",
            "PRT",
            "IRL",
            "PHL"
           ],
           "locations": [
            "TWN",
            "HKG",
            "SLV",
            "CHN",
            "KHM",
            "GRC",
            "HUN",
            "PER",
            "CMR",
            "CAN",
            "JPN",
            "THA",
            "CAN",
            "GTM",
            "LAO",
            "GBR",
            "POL",
            "TTO",
            "DOM",
            "USA",
            "NLO",
            "HND",
            "VNM",
            "JAM",
            "DEU",
            "IRN",
            "GBR",
            "PRI",
            "CUB",
            "IND",
            "ITA",
            "NIC",
            "FRA",
            "MEX",
            "ECU",
            "HTI",
            "PRT",
            "IRL",
            "PHL"
           ],
           "name": "",
           "type": "choropleth",
           "z": [
            1,
            0,
            0,
            1,
            0,
            2,
            1,
            0,
            0,
            2,
            1,
            2,
            2,
            0,
            0,
            1,
            0,
            0,
            0,
            260,
            0,
            0,
            0,
            0,
            2,
            0,
            1,
            1,
            2,
            4,
            2,
            0,
            1,
            1,
            0,
            0,
            0,
            0,
            2
           ]
          }
         ],
         "name": "53"
        },
        {
         "data": [
          {
           "coloraxis": "coloraxis",
           "customdata": [
            [
             0,
             1
            ],
            [
             0,
             1
            ],
            [
             1,
             0
            ],
            [
             0,
             9
            ],
            [
             0,
             0
            ],
            [
             1,
             0
            ],
            [
             1,
             0
            ],
            [
             0,
             0
            ],
            [
             0,
             0
            ],
            [
             1,
             0
            ],
            [
             0,
             0
            ],
            [
             0,
             0
            ],
            [
             3,
             0
            ],
            [
             0,
             2
            ],
            [
             2,
             2
            ],
            [
             0,
             0
            ],
            [
             3,
             0
            ],
            [
             0,
             0
            ],
            [
             0,
             1
            ],
            [
             0,
             0
            ],
            [
             2,
             1
            ],
            [
             0,
             1
            ],
            [
             2,
             2
            ],
            [
             1,
             3
            ],
            [
             0,
             0
            ],
            [
             2,
             3
            ],
            [
             2,
             1
            ],
            [
             0,
             2
            ],
            [
             0,
             0
            ],
            [
             220,
             335
            ],
            [
             0,
             2
            ],
            [
             0,
             0
            ],
            [
             2,
             3
            ],
            [
             0,
             1
            ],
            [
             1,
             2
            ],
            [
             0,
             0
            ],
            [
             0,
             2
            ],
            [
             2,
             0
            ],
            [
             0,
             0
            ]
           ],
           "geo": "geo",
           "hovertemplate": "<b>%{hovertext}</b><br><br>age=54<br>iso=%{location}<br> >50 =%{z}<br> <=50 =%{customdata[1]}<extra></extra>",
           "hovertext": [
            "GTM",
            "VNM",
            "POL",
            "MEX",
            "HND",
            "FRA",
            "IRL",
            "TTO",
            "NLO",
            "JPN",
            "PER",
            "THA",
            "GBR",
            "CHN",
            "CAN",
            "KHM",
            "GBR",
            "ECU",
            "HUN",
            "SLV",
            "HTI",
            "GRC",
            "CAN",
            "DEU",
            "DOM",
            "IND",
            "PRI",
            "ITA",
            "TWN",
            "USA",
            "CUB",
            "IRN",
            "PHL",
            "NIC",
            "JAM",
            "HKG",
            "PRT",
            "CMR",
            "LAO"
           ],
           "locations": [
            "GTM",
            "VNM",
            "POL",
            "MEX",
            "HND",
            "FRA",
            "IRL",
            "TTO",
            "NLO",
            "JPN",
            "PER",
            "THA",
            "GBR",
            "CHN",
            "CAN",
            "KHM",
            "GBR",
            "ECU",
            "HUN",
            "SLV",
            "HTI",
            "GRC",
            "CAN",
            "DEU",
            "DOM",
            "IND",
            "PRI",
            "ITA",
            "TWN",
            "USA",
            "CUB",
            "IRN",
            "PHL",
            "NIC",
            "JAM",
            "HKG",
            "PRT",
            "CMR",
            "LAO"
           ],
           "name": "",
           "type": "choropleth",
           "z": [
            0,
            0,
            1,
            0,
            0,
            1,
            1,
            0,
            0,
            1,
            0,
            0,
            3,
            0,
            2,
            0,
            3,
            0,
            0,
            0,
            2,
            0,
            2,
            1,
            0,
            2,
            2,
            0,
            0,
            220,
            0,
            0,
            2,
            0,
            1,
            0,
            0,
            2,
            0
           ]
          }
         ],
         "name": "54"
        },
        {
         "data": [
          {
           "coloraxis": "coloraxis",
           "customdata": [
            [
             1,
             2
            ],
            [
             0,
             1
            ],
            [
             0,
             0
            ],
            [
             1,
             1
            ],
            [
             0,
             0
            ],
            [
             0,
             1
            ],
            [
             1,
             0
            ],
            [
             1,
             4
            ],
            [
             0,
             0
            ],
            [
             0,
             0
            ],
            [
             0,
             1
            ],
            [
             202,
             378
            ],
            [
             0,
             0
            ],
            [
             0,
             0
            ],
            [
             0,
             2
            ],
            [
             0,
             2
            ],
            [
             0,
             0
            ],
            [
             0,
             0
            ],
            [
             0,
             2
            ],
            [
             0,
             0
            ],
            [
             1,
             1
            ],
            [
             1,
             2
            ],
            [
             0,
             4
            ],
            [
             1,
             1
            ],
            [
             0,
             0
            ],
            [
             1,
             0
            ],
            [
             2,
             0
            ],
            [
             2,
             0
            ],
            [
             0,
             1
            ],
            [
             0,
             0
            ],
            [
             0,
             0
            ],
            [
             0,
             0
            ],
            [
             0,
             0
            ],
            [
             1,
             4
            ],
            [
             0,
             0
            ],
            [
             0,
             3
            ],
            [
             0,
             0
            ],
            [
             0,
             2
            ],
            [
             0,
             0
            ]
           ],
           "geo": "geo",
           "hovertemplate": "<b>%{hovertext}</b><br><br>age=55<br>iso=%{location}<br> >50 =%{z}<br> <=50 =%{customdata[1]}<extra></extra>",
           "hovertext": [
            "POL",
            "DOM",
            "TWN",
            "PRI",
            "GTM",
            "IRL",
            "CHN",
            "GBR",
            "NLO",
            "JPN",
            "NIC",
            "USA",
            "HKG",
            "LAO",
            "ITA",
            "THA",
            "PRT",
            "PER",
            "CUB",
            "HTI",
            "HUN",
            "IND",
            "MEX",
            "DEU",
            "CMR",
            "GRC",
            "CAN",
            "CAN",
            "FRA",
            "KHM",
            "VNM",
            "ECU",
            "SLV",
            "GBR",
            "TTO",
            "PHL",
            "IRN",
            "JAM",
            "HND"
           ],
           "locations": [
            "POL",
            "DOM",
            "TWN",
            "PRI",
            "GTM",
            "IRL",
            "CHN",
            "GBR",
            "NLO",
            "JPN",
            "NIC",
            "USA",
            "HKG",
            "LAO",
            "ITA",
            "THA",
            "PRT",
            "PER",
            "CUB",
            "HTI",
            "HUN",
            "IND",
            "MEX",
            "DEU",
            "CMR",
            "GRC",
            "CAN",
            "CAN",
            "FRA",
            "KHM",
            "VNM",
            "ECU",
            "SLV",
            "GBR",
            "TTO",
            "PHL",
            "IRN",
            "JAM",
            "HND"
           ],
           "name": "",
           "type": "choropleth",
           "z": [
            1,
            0,
            0,
            1,
            0,
            0,
            1,
            1,
            0,
            0,
            0,
            202,
            0,
            0,
            0,
            0,
            0,
            0,
            0,
            0,
            1,
            1,
            0,
            1,
            0,
            1,
            2,
            2,
            0,
            0,
            0,
            0,
            0,
            1,
            0,
            0,
            0,
            0,
            0
           ]
          }
         ],
         "name": "55"
        },
        {
         "data": [
          {
           "coloraxis": "coloraxis",
           "customdata": [
            [
             0,
             0
            ],
            [
             2,
             5
            ],
            [
             1,
             1
            ],
            [
             0,
             3
            ],
            [
             2,
             5
            ],
            [
             0,
             1
            ],
            [
             0,
             0
            ],
            [
             0,
             0
            ],
            [
             0,
             0
            ],
            [
             1,
             0
            ],
            [
             2,
             0
            ],
            [
             167,
             350
            ],
            [
             0,
             0
            ],
            [
             0,
             0
            ],
            [
             0,
             1
            ],
            [
             1,
             1
            ],
            [
             0,
             1
            ],
            [
             0,
             0
            ],
            [
             0,
             1
            ],
            [
             0,
             1
            ],
            [
             0,
             4
            ],
            [
             0,
             0
            ],
            [
             0,
             0
            ],
            [
             2,
             2
            ],
            [
             0,
             0
            ],
            [
             0,
             1
            ],
            [
             1,
             1
            ],
            [
             0,
             3
            ],
            [
             0,
             1
            ],
            [
             2,
             0
            ],
            [
             1,
             0
            ],
            [
             0,
             0
            ],
            [
             0,
             0
            ],
            [
             1,
             1
            ],
            [
             2,
             2
            ],
            [
             0,
             0
            ],
            [
             1,
             0
            ],
            [
             0,
             0
            ],
            [
             0,
             0
            ]
           ],
           "geo": "geo",
           "hovertemplate": "<b>%{hovertext}</b><br><br>age=56<br>iso=%{location}<br> >50 =%{z}<br> <=50 =%{customdata[1]}<extra></extra>",
           "hovertext": [
            "THA",
            "CAN",
            "CUB",
            "MEX",
            "CAN",
            "NIC",
            "NLO",
            "FRA",
            "GTM",
            "GRC",
            "GBR",
            "USA",
            "HND",
            "KHM",
            "JAM",
            "IRL",
            "IRN",
            "ECU",
            "POL",
            "LAO",
            "CHN",
            "VNM",
            "IND",
            "PRT",
            "SLV",
            "TTO",
            "DEU",
            "DOM",
            "HTI",
            "GBR",
            "PRI",
            "HKG",
            "TWN",
            "PHL",
            "ITA",
            "PER",
            "JPN",
            "HUN",
            "CMR"
           ],
           "locations": [
            "THA",
            "CAN",
            "CUB",
            "MEX",
            "CAN",
            "NIC",
            "NLO",
            "FRA",
            "GTM",
            "GRC",
            "GBR",
            "USA",
            "HND",
            "KHM",
            "JAM",
            "IRL",
            "IRN",
            "ECU",
            "POL",
            "LAO",
            "CHN",
            "VNM",
            "IND",
            "PRT",
            "SLV",
            "TTO",
            "DEU",
            "DOM",
            "HTI",
            "GBR",
            "PRI",
            "HKG",
            "TWN",
            "PHL",
            "ITA",
            "PER",
            "JPN",
            "HUN",
            "CMR"
           ],
           "name": "",
           "type": "choropleth",
           "z": [
            0,
            2,
            1,
            0,
            2,
            0,
            0,
            0,
            0,
            1,
            2,
            167,
            0,
            0,
            0,
            1,
            0,
            0,
            0,
            0,
            0,
            0,
            0,
            2,
            0,
            0,
            1,
            0,
            0,
            2,
            1,
            0,
            0,
            1,
            2,
            0,
            1,
            0,
            0
           ]
          }
         ],
         "name": "56"
        },
        {
         "data": [
          {
           "coloraxis": "coloraxis",
           "customdata": [
            [
             1,
             2
            ],
            [
             0,
             1
            ],
            [
             1,
             1
            ],
            [
             0,
             0
            ],
            [
             0,
             0
            ],
            [
             0,
             0
            ],
            [
             0,
             0
            ],
            [
             1,
             0
            ],
            [
             0,
             1
            ],
            [
             3,
             1
            ],
            [
             0,
             1
            ],
            [
             0,
             5
            ],
            [
             0,
             2
            ],
            [
             0,
             0
            ],
            [
             0,
             1
            ],
            [
             0,
             8
            ],
            [
             0,
             1
            ],
            [
             0,
             1
            ],
            [
             1,
             0
            ],
            [
             0,
             0
            ],
            [
             0,
             0
            ],
            [
             0,
             2
            ],
            [
             1,
             1
            ],
            [
             0,
             0
            ],
            [
             0,
             0
            ],
            [
             2,
             0
            ],
            [
             186,
             315
            ],
            [
             1,
             3
            ],
            [
             0,
             0
            ],
            [
             1,
             0
            ],
            [
             2,
             0
            ],
            [
             0,
             1
            ],
            [
             1,
             3
            ],
            [
             0,
             0
            ],
            [
             0,
             2
            ],
            [
             0,
             0
            ],
            [
             0,
             0
            ],
            [
             1,
             1
            ],
            [
             0,
             0
            ]
           ],
           "geo": "geo",
           "hovertemplate": "<b>%{hovertext}</b><br><br>age=57<br>iso=%{location}<br> >50 =%{z}<br> <=50 =%{customdata[1]}<extra></extra>",
           "hovertext": [
            "ITA",
            "GBR",
            "POL",
            "IRL",
            "KHM",
            "NIC",
            "HTI",
            "TTO",
            "ECU",
            "DEU",
            "JAM",
            "CUB",
            "PRT",
            "VNM",
            "GBR",
            "MEX",
            "IRN",
            "FRA",
            "GRC",
            "THA",
            "GTM",
            "DOM",
            "CMR",
            "PER",
            "JPN",
            "PHL",
            "USA",
            "CAN",
            "HKG",
            "HUN",
            "TWN",
            "CHN",
            "CAN",
            "SLV",
            "PRI",
            "LAO",
            "HND",
            "IND",
            "NLO"
           ],
           "locations": [
            "ITA",
            "GBR",
            "POL",
            "IRL",
            "KHM",
            "NIC",
            "HTI",
            "TTO",
            "ECU",
            "DEU",
            "JAM",
            "CUB",
            "PRT",
            "VNM",
            "GBR",
            "MEX",
            "IRN",
            "FRA",
            "GRC",
            "THA",
            "GTM",
            "DOM",
            "CMR",
            "PER",
            "JPN",
            "PHL",
            "USA",
            "CAN",
            "HKG",
            "HUN",
            "TWN",
            "CHN",
            "CAN",
            "SLV",
            "PRI",
            "LAO",
            "HND",
            "IND",
            "NLO"
           ],
           "name": "",
           "type": "choropleth",
           "z": [
            1,
            0,
            1,
            0,
            0,
            0,
            0,
            1,
            0,
            3,
            0,
            0,
            0,
            0,
            0,
            0,
            0,
            0,
            1,
            0,
            0,
            0,
            1,
            0,
            0,
            2,
            186,
            1,
            0,
            1,
            2,
            0,
            1,
            0,
            0,
            0,
            0,
            1,
            0
           ]
          }
         ],
         "name": "57"
        },
        {
         "data": [
          {
           "coloraxis": "coloraxis",
           "customdata": [
            [
             0,
             0
            ],
            [
             0,
             3
            ],
            [
             0,
             0
            ],
            [
             186,
             333
            ],
            [
             0,
             1
            ],
            [
             0,
             1
            ],
            [
             0,
             1
            ],
            [
             1,
             2
            ],
            [
             0,
             1
            ],
            [
             0,
             0
            ],
            [
             0,
             0
            ],
            [
             0,
             1
            ],
            [
             0,
             1
            ],
            [
             0,
             0
            ],
            [
             1,
             0
            ],
            [
             0,
             0
            ],
            [
             0,
             0
            ],
            [
             0,
             0
            ],
            [
             0,
             0
            ],
            [
             0,
             0
            ],
            [
             0,
             0
            ],
            [
             1,
             6
            ],
            [
             0,
             0
            ],
            [
             0,
             1
            ],
            [
             0,
             1
            ],
            [
             0,
             1
            ],
            [
             0,
             0
            ],
            [
             0,
             2
            ],
            [
             1,
             0
            ],
            [
             0,
             0
            ],
            [
             0,
             0
            ],
            [
             0,
             1
            ],
            [
             1,
             0
            ],
            [
             2,
             2
            ],
            [
             0,
             0
            ],
            [
             0,
             3
            ],
            [
             0,
             0
            ],
            [
             0,
             0
            ],
            [
             0,
             4
            ]
           ],
           "geo": "geo",
           "hovertemplate": "<b>%{hovertext}</b><br><br>age=58<br>iso=%{location}<br> >50 =%{z}<br> <=50 =%{customdata[1]}<extra></extra>",
           "hovertext": [
            "VNM",
            "CAN",
            "TWN",
            "USA",
            "ITA",
            "CMR",
            "GTM",
            "PHL",
            "HND",
            "HKG",
            "HUN",
            "FRA",
            "POL",
            "TTO",
            "CHN",
            "PER",
            "IRL",
            "KHM",
            "NIC",
            "JPN",
            "PRI",
            "MEX",
            "GBR",
            "SLV",
            "IND",
            "HTI",
            "LAO",
            "PRT",
            "DEU",
            "NLO",
            "GBR",
            "DOM",
            "JAM",
            "GRC",
            "THA",
            "CAN",
            "ECU",
            "IRN",
            "CUB"
           ],
           "locations": [
            "VNM",
            "CAN",
            "TWN",
            "USA",
            "ITA",
            "CMR",
            "GTM",
            "PHL",
            "HND",
            "HKG",
            "HUN",
            "FRA",
            "POL",
            "TTO",
            "CHN",
            "PER",
            "IRL",
            "KHM",
            "NIC",
            "JPN",
            "PRI",
            "MEX",
            "GBR",
            "SLV",
            "IND",
            "HTI",
            "LAO",
            "PRT",
            "DEU",
            "NLO",
            "GBR",
            "DOM",
            "JAM",
            "GRC",
            "THA",
            "CAN",
            "ECU",
            "IRN",
            "CUB"
           ],
           "name": "",
           "type": "choropleth",
           "z": [
            0,
            0,
            0,
            186,
            0,
            0,
            0,
            1,
            0,
            0,
            0,
            0,
            0,
            0,
            1,
            0,
            0,
            0,
            0,
            0,
            0,
            1,
            0,
            0,
            0,
            0,
            0,
            0,
            1,
            0,
            0,
            0,
            1,
            2,
            0,
            0,
            0,
            0,
            0
           ]
          }
         ],
         "name": "58"
        },
        {
         "data": [
          {
           "coloraxis": "coloraxis",
           "customdata": [
            [
             0,
             1
            ],
            [
             0,
             2
            ],
            [
             0,
             1
            ],
            [
             0,
             0
            ],
            [
             0,
             0
            ],
            [
             0,
             1
            ],
            [
             0,
             0
            ],
            [
             0,
             2
            ],
            [
             0,
             0
            ],
            [
             183,
             297
            ],
            [
             0,
             0
            ],
            [
             1,
             1
            ],
            [
             0,
             0
            ],
            [
             2,
             2
            ],
            [
             0,
             1
            ],
            [
             0,
             0
            ],
            [
             2,
             1
            ],
            [
             1,
             2
            ],
            [
             0,
             0
            ],
            [
             2,
             3
            ],
            [
             0,
             0
            ],
            [
             0,
             1
            ],
            [
             0,
             0
            ],
            [
             0,
             0
            ],
            [
             0,
             1
            ],
            [
             0,
             1
            ],
            [
             0,
             5
            ],
            [
             0,
             1
            ],
            [
             2,
             3
            ],
            [
             0,
             0
            ],
            [
             0,
             2
            ],
            [
             0,
             0
            ],
            [
             0,
             0
            ],
            [
             0,
             1
            ],
            [
             0,
             1
            ],
            [
             0,
             0
            ],
            [
             0,
             0
            ],
            [
             0,
             0
            ],
            [
             1,
             3
            ]
           ],
           "geo": "geo",
           "hovertemplate": "<b>%{hovertext}</b><br><br>age=59<br>iso=%{location}<br> >50 =%{z}<br> <=50 =%{customdata[1]}<extra></extra>",
           "hovertext": [
            "DEU",
            "MEX",
            "IRN",
            "HTI",
            "TWN",
            "DOM",
            "HND",
            "POL",
            "LAO",
            "USA",
            "KHM",
            "CUB",
            "HKG",
            "ITA",
            "SLV",
            "VNM",
            "IND",
            "CHN",
            "IRL",
            "GBR",
            "ECU",
            "CAN",
            "JPN",
            "CMR",
            "CAN",
            "GRC",
            "PRI",
            "PRT",
            "GBR",
            "PER",
            "JAM",
            "FRA",
            "HUN",
            "NIC",
            "GTM",
            "THA",
            "NLO",
            "TTO",
            "PHL"
           ],
           "locations": [
            "DEU",
            "MEX",
            "IRN",
            "HTI",
            "TWN",
            "DOM",
            "HND",
            "POL",
            "LAO",
            "USA",
            "KHM",
            "CUB",
            "HKG",
            "ITA",
            "SLV",
            "VNM",
            "IND",
            "CHN",
            "IRL",
            "GBR",
            "ECU",
            "CAN",
            "JPN",
            "CMR",
            "CAN",
            "GRC",
            "PRI",
            "PRT",
            "GBR",
            "PER",
            "JAM",
            "FRA",
            "HUN",
            "NIC",
            "GTM",
            "THA",
            "NLO",
            "TTO",
            "PHL"
           ],
           "name": "",
           "type": "choropleth",
           "z": [
            0,
            0,
            0,
            0,
            0,
            0,
            0,
            0,
            0,
            183,
            0,
            1,
            0,
            2,
            0,
            0,
            2,
            1,
            0,
            2,
            0,
            0,
            0,
            0,
            0,
            0,
            0,
            0,
            2,
            0,
            0,
            0,
            0,
            0,
            0,
            0,
            0,
            0,
            1
           ]
          }
         ],
         "name": "59"
        },
        {
         "data": [
          {
           "coloraxis": "coloraxis",
           "customdata": [
            [
             0,
             1
            ],
            [
             0,
             0
            ],
            [
             0,
             3
            ],
            [
             0,
             0
            ],
            [
             1,
             0
            ],
            [
             0,
             1
            ],
            [
             0,
             1
            ],
            [
             0,
             1
            ],
            [
             0,
             0
            ],
            [
             0,
             0
            ],
            [
             0,
             0
            ],
            [
             0,
             0
            ],
            [
             0,
             0
            ],
            [
             0,
             0
            ],
            [
             0,
             1
            ],
            [
             0,
             1
            ],
            [
             0,
             1
            ],
            [
             1,
             4
            ],
            [
             1,
             2
            ],
            [
             127,
             288
            ],
            [
             0,
             1
            ],
            [
             1,
             1
            ],
            [
             0,
             1
            ],
            [
             0,
             0
            ],
            [
             0,
             1
            ],
            [
             2,
             0
            ],
            [
             0,
             1
            ],
            [
             0,
             4
            ],
            [
             0,
             0
            ],
            [
             0,
             1
            ],
            [
             0,
             0
            ],
            [
             0,
             0
            ],
            [
             0,
             0
            ],
            [
             0,
             2
            ],
            [
             1,
             0
            ],
            [
             0,
             0
            ],
            [
             0,
             0
            ],
            [
             0,
             4
            ],
            [
             0,
             0
            ]
           ],
           "geo": "geo",
           "hovertemplate": "<b>%{hovertext}</b><br><br>age=60<br>iso=%{location}<br> >50 =%{z}<br> <=50 =%{customdata[1]}<extra></extra>",
           "hovertext": [
            "IRN",
            "IND",
            "POL",
            "PER",
            "HUN",
            "GTM",
            "GBR",
            "DOM",
            "VNM",
            "ECU",
            "GRC",
            "HTI",
            "TTO",
            "PRT",
            "KHM",
            "CUB",
            "JPN",
            "MEX",
            "PHL",
            "USA",
            "NIC",
            "CMR",
            "PRI",
            "NLO",
            "HKG",
            "DEU",
            "GBR",
            "CAN",
            "JAM",
            "IRL",
            "LAO",
            "THA",
            "TWN",
            "ITA",
            "CHN",
            "SLV",
            "FRA",
            "CAN",
            "HND"
           ],
           "locations": [
            "IRN",
            "IND",
            "POL",
            "PER",
            "HUN",
            "GTM",
            "GBR",
            "DOM",
            "VNM",
            "ECU",
            "GRC",
            "HTI",
            "TTO",
            "PRT",
            "KHM",
            "CUB",
            "JPN",
            "MEX",
            "PHL",
            "USA",
            "NIC",
            "CMR",
            "PRI",
            "NLO",
            "HKG",
            "DEU",
            "GBR",
            "CAN",
            "JAM",
            "IRL",
            "LAO",
            "THA",
            "TWN",
            "ITA",
            "CHN",
            "SLV",
            "FRA",
            "CAN",
            "HND"
           ],
           "name": "",
           "type": "choropleth",
           "z": [
            0,
            0,
            0,
            0,
            1,
            0,
            0,
            0,
            0,
            0,
            0,
            0,
            0,
            0,
            0,
            0,
            0,
            1,
            1,
            127,
            0,
            1,
            0,
            0,
            0,
            2,
            0,
            0,
            0,
            0,
            0,
            0,
            0,
            0,
            1,
            0,
            0,
            0,
            0
           ]
          }
         ],
         "name": "60"
        },
        {
         "data": [
          {
           "coloraxis": "coloraxis",
           "customdata": [
            [
             1,
             2
            ],
            [
             0,
             1
            ],
            [
             0,
             0
            ],
            [
             0,
             0
            ],
            [
             0,
             0
            ],
            [
             0,
             0
            ],
            [
             0,
             0
            ],
            [
             0,
             0
            ],
            [
             0,
             0
            ],
            [
             0,
             2
            ],
            [
             1,
             3
            ],
            [
             0,
             0
            ],
            [
             0,
             0
            ],
            [
             0,
             1
            ],
            [
             0,
             0
            ],
            [
             1,
             1
            ],
            [
             0,
             2
            ],
            [
             133,
             282
            ],
            [
             0,
             1
            ],
            [
             0,
             1
            ],
            [
             0,
             0
            ],
            [
             0,
             7
            ],
            [
             1,
             0
            ],
            [
             0,
             0
            ],
            [
             0,
             0
            ],
            [
             1,
             0
            ],
            [
             0,
             0
            ],
            [
             1,
             0
            ],
            [
             0,
             1
            ],
            [
             0,
             0
            ],
            [
             1,
             0
            ],
            [
             1,
             1
            ],
            [
             0,
             0
            ],
            [
             0,
             1
            ],
            [
             0,
             1
            ],
            [
             0,
             0
            ],
            [
             1,
             2
            ],
            [
             1,
             3
            ],
            [
             0,
             0
            ]
           ],
           "geo": "geo",
           "hovertemplate": "<b>%{hovertext}</b><br><br>age=61<br>iso=%{location}<br> >50 =%{z}<br> <=50 =%{customdata[1]}<extra></extra>",
           "hovertext": [
            "DEU",
            "CHN",
            "NIC",
            "HKG",
            "DOM",
            "IRL",
            "PRT",
            "PER",
            "GRC",
            "ITA",
            "CAN",
            "HUN",
            "NLO",
            "HND",
            "IRN",
            "IND",
            "CMR",
            "USA",
            "SLV",
            "GTM",
            "HTI",
            "MEX",
            "TWN",
            "FRA",
            "JAM",
            "POL",
            "THA",
            "GBR",
            "JPN",
            "VNM",
            "GBR",
            "PHL",
            "KHM",
            "TTO",
            "CUB",
            "LAO",
            "PRI",
            "CAN",
            "ECU"
           ],
           "locations": [
            "DEU",
            "CHN",
            "NIC",
            "HKG",
            "DOM",
            "IRL",
            "PRT",
            "PER",
            "GRC",
            "ITA",
            "CAN",
            "HUN",
            "NLO",
            "HND",
            "IRN",
            "IND",
            "CMR",
            "USA",
            "SLV",
            "GTM",
            "HTI",
            "MEX",
            "TWN",
            "FRA",
            "JAM",
            "POL",
            "THA",
            "GBR",
            "JPN",
            "VNM",
            "GBR",
            "PHL",
            "KHM",
            "TTO",
            "CUB",
            "LAO",
            "PRI",
            "CAN",
            "ECU"
           ],
           "name": "",
           "type": "choropleth",
           "z": [
            1,
            0,
            0,
            0,
            0,
            0,
            0,
            0,
            0,
            0,
            1,
            0,
            0,
            0,
            0,
            1,
            0,
            133,
            0,
            0,
            0,
            0,
            1,
            0,
            0,
            1,
            0,
            1,
            0,
            0,
            1,
            1,
            0,
            0,
            0,
            0,
            1,
            1,
            0
           ]
          }
         ],
         "name": "61"
        },
        {
         "data": [
          {
           "coloraxis": "coloraxis",
           "customdata": [
            [
             0,
             1
            ],
            [
             1,
             0
            ],
            [
             0,
             0
            ],
            [
             0,
             0
            ],
            [
             0,
             0
            ],
            [
             0,
             0
            ],
            [
             0,
             2
            ],
            [
             0,
             3
            ],
            [
             0,
             0
            ],
            [
             0,
             0
            ],
            [
             0,
             2
            ],
            [
             0,
             0
            ],
            [
             0,
             4
            ],
            [
             0,
             0
            ],
            [
             0,
             0
            ],
            [
             0,
             0
            ],
            [
             1,
             1
            ],
            [
             0,
             1
            ],
            [
             1,
             1
            ],
            [
             0,
             0
            ],
            [
             0,
             0
            ],
            [
             0,
             1
            ],
            [
             0,
             0
            ],
            [
             0,
             3
            ],
            [
             0,
             0
            ],
            [
             0,
             1
            ],
            [
             0,
             0
            ],
            [
             0,
             4
            ],
            [
             0,
             0
            ],
            [
             1,
             0
            ],
            [
             100,
             270
            ],
            [
             1,
             1
            ],
            [
             0,
             0
            ],
            [
             0,
             0
            ],
            [
             0,
             0
            ],
            [
             0,
             0
            ],
            [
             0,
             0
            ],
            [
             0,
             0
            ],
            [
             0,
             0
            ]
           ],
           "geo": "geo",
           "hovertemplate": "<b>%{hovertext}</b><br><br>age=62<br>iso=%{location}<br> >50 =%{z}<br> <=50 =%{customdata[1]}<extra></extra>",
           "hovertext": [
            "CMR",
            "IRL",
            "NIC",
            "KHM",
            "HND",
            "HTI",
            "DEU",
            "PHL",
            "NLO",
            "IND",
            "CUB",
            "HUN",
            "CAN",
            "PRT",
            "PER",
            "TTO",
            "GBR",
            "ECU",
            "CHN",
            "POL",
            "GTM",
            "DOM",
            "GRC",
            "MEX",
            "HKG",
            "IRN",
            "FRA",
            "CAN",
            "JPN",
            "ITA",
            "USA",
            "GBR",
            "TWN",
            "VNM",
            "SLV",
            "JAM",
            "THA",
            "PRI",
            "LAO"
           ],
           "locations": [
            "CMR",
            "IRL",
            "NIC",
            "KHM",
            "HND",
            "HTI",
            "DEU",
            "PHL",
            "NLO",
            "IND",
            "CUB",
            "HUN",
            "CAN",
            "PRT",
            "PER",
            "TTO",
            "GBR",
            "ECU",
            "CHN",
            "POL",
            "GTM",
            "DOM",
            "GRC",
            "MEX",
            "HKG",
            "IRN",
            "FRA",
            "CAN",
            "JPN",
            "ITA",
            "USA",
            "GBR",
            "TWN",
            "VNM",
            "SLV",
            "JAM",
            "THA",
            "PRI",
            "LAO"
           ],
           "name": "",
           "type": "choropleth",
           "z": [
            0,
            1,
            0,
            0,
            0,
            0,
            0,
            0,
            0,
            0,
            0,
            0,
            0,
            0,
            0,
            0,
            1,
            0,
            1,
            0,
            0,
            0,
            0,
            0,
            0,
            0,
            0,
            0,
            0,
            1,
            100,
            1,
            0,
            0,
            0,
            0,
            0,
            0,
            0
           ]
          }
         ],
         "name": "62"
        },
        {
         "data": [
          {
           "coloraxis": "coloraxis",
           "customdata": [
            [
             0,
             1
            ],
            [
             85,
             229
            ],
            [
             0,
             0
            ],
            [
             0,
             1
            ],
            [
             0,
             0
            ],
            [
             0,
             0
            ],
            [
             0,
             0
            ],
            [
             0,
             0
            ],
            [
             0,
             1
            ],
            [
             0,
             2
            ],
            [
             0,
             0
            ],
            [
             0,
             0
            ],
            [
             0,
             0
            ],
            [
             0,
             1
            ],
            [
             0,
             0
            ],
            [
             0,
             0
            ],
            [
             0,
             0
            ],
            [
             1,
             0
            ],
            [
             0,
             2
            ],
            [
             0,
             2
            ],
            [
             0,
             0
            ],
            [
             0,
             2
            ],
            [
             0,
             0
            ],
            [
             0,
             0
            ],
            [
             0,
             0
            ],
            [
             0,
             0
            ],
            [
             0,
             0
            ],
            [
             1,
             0
            ],
            [
             0,
             0
            ],
            [
             0,
             0
            ],
            [
             0,
             1
            ],
            [
             2,
             2
            ],
            [
             0,
             1
            ],
            [
             0,
             0
            ],
            [
             0,
             0
            ],
            [
             0,
             0
            ],
            [
             0,
             0
            ],
            [
             0,
             0
            ],
            [
             1,
             0
            ]
           ],
           "geo": "geo",
           "hovertemplate": "<b>%{hovertext}</b><br><br>age=63<br>iso=%{location}<br> >50 =%{z}<br> <=50 =%{customdata[1]}<extra></extra>",
           "hovertext": [
            "PRT",
            "USA",
            "TTO",
            "GBR",
            "DEU",
            "POL",
            "DOM",
            "HND",
            "VNM",
            "CMR",
            "LAO",
            "GTM",
            "CAN",
            "SLV",
            "HKG",
            "FRA",
            "ECU",
            "IND",
            "MEX",
            "CUB",
            "TWN",
            "PRI",
            "NIC",
            "JPN",
            "CAN",
            "JAM",
            "KHM",
            "IRN",
            "GRC",
            "THA",
            "GBR",
            "PHL",
            "HTI",
            "IRL",
            "PER",
            "HUN",
            "ITA",
            "NLO",
            "CHN"
           ],
           "locations": [
            "PRT",
            "USA",
            "TTO",
            "GBR",
            "DEU",
            "POL",
            "DOM",
            "HND",
            "VNM",
            "CMR",
            "LAO",
            "GTM",
            "CAN",
            "SLV",
            "HKG",
            "FRA",
            "ECU",
            "IND",
            "MEX",
            "CUB",
            "TWN",
            "PRI",
            "NIC",
            "JPN",
            "CAN",
            "JAM",
            "KHM",
            "IRN",
            "GRC",
            "THA",
            "GBR",
            "PHL",
            "HTI",
            "IRL",
            "PER",
            "HUN",
            "ITA",
            "NLO",
            "CHN"
           ],
           "name": "",
           "type": "choropleth",
           "z": [
            0,
            85,
            0,
            0,
            0,
            0,
            0,
            0,
            0,
            0,
            0,
            0,
            0,
            0,
            0,
            0,
            0,
            1,
            0,
            0,
            0,
            0,
            0,
            0,
            0,
            0,
            0,
            1,
            0,
            0,
            0,
            2,
            0,
            0,
            0,
            0,
            0,
            0,
            1
           ]
          }
         ],
         "name": "63"
        },
        {
         "data": [
          {
           "coloraxis": "coloraxis",
           "customdata": [
            [
             0,
             0
            ],
            [
             2,
             4
            ],
            [
             0,
             0
            ],
            [
             0,
             1
            ],
            [
             0,
             0
            ],
            [
             0,
             1
            ],
            [
             0,
             0
            ],
            [
             82,
             233
            ],
            [
             0,
             0
            ],
            [
             0,
             0
            ],
            [
             1,
             1
            ],
            [
             0,
             0
            ],
            [
             1,
             0
            ],
            [
             0,
             1
            ],
            [
             0,
             0
            ],
            [
             0,
             0
            ],
            [
             1,
             1
            ],
            [
             0,
             0
            ],
            [
             0,
             0
            ],
            [
             0,
             0
            ],
            [
             0,
             0
            ],
            [
             0,
             0
            ],
            [
             0,
             0
            ],
            [
             0,
             0
            ],
            [
             0,
             0
            ],
            [
             1,
             2
            ],
            [
             0,
             0
            ],
            [
             0,
             1
            ],
            [
             2,
             4
            ],
            [
             0,
             0
            ],
            [
             0,
             3
            ],
            [
             0,
             1
            ],
            [
             0,
             0
            ],
            [
             0,
             0
            ],
            [
             0,
             0
            ],
            [
             1,
             2
            ],
            [
             0,
             0
            ],
            [
             0,
             0
            ],
            [
             0,
             0
            ]
           ],
           "geo": "geo",
           "hovertemplate": "<b>%{hovertext}</b><br><br>age=64<br>iso=%{location}<br> >50 =%{z}<br> <=50 =%{customdata[1]}<extra></extra>",
           "hovertext": [
            "JPN",
            "CAN",
            "DOM",
            "PER",
            "GBR",
            "PRI",
            "CMR",
            "USA",
            "POL",
            "NIC",
            "CHN",
            "SLV",
            "JAM",
            "IND",
            "PRT",
            "IRL",
            "FRA",
            "TTO",
            "HND",
            "ECU",
            "KHM",
            "HKG",
            "HTI",
            "NLO",
            "GTM",
            "PHL",
            "DEU",
            "GRC",
            "CAN",
            "THA",
            "CUB",
            "ITA",
            "GBR",
            "IRN",
            "VNM",
            "MEX",
            "HUN",
            "LAO",
            "TWN"
           ],
           "locations": [
            "JPN",
            "CAN",
            "DOM",
            "PER",
            "GBR",
            "PRI",
            "CMR",
            "USA",
            "POL",
            "NIC",
            "CHN",
            "SLV",
            "JAM",
            "IND",
            "PRT",
            "IRL",
            "FRA",
            "TTO",
            "HND",
            "ECU",
            "KHM",
            "HKG",
            "HTI",
            "NLO",
            "GTM",
            "PHL",
            "DEU",
            "GRC",
            "CAN",
            "THA",
            "CUB",
            "ITA",
            "GBR",
            "IRN",
            "VNM",
            "MEX",
            "HUN",
            "LAO",
            "TWN"
           ],
           "name": "",
           "type": "choropleth",
           "z": [
            0,
            2,
            0,
            0,
            0,
            0,
            0,
            82,
            0,
            0,
            1,
            0,
            1,
            0,
            0,
            0,
            1,
            0,
            0,
            0,
            0,
            0,
            0,
            0,
            0,
            1,
            0,
            0,
            2,
            0,
            0,
            0,
            0,
            0,
            0,
            1,
            0,
            0,
            0
           ]
          }
         ],
         "name": "64"
        },
        {
         "data": [
          {
           "coloraxis": "coloraxis",
           "customdata": [
            [
             0,
             1
            ],
            [
             1,
             0
            ],
            [
             0,
             0
            ],
            [
             0,
             1
            ],
            [
             0,
             0
            ],
            [
             0,
             0
            ],
            [
             65,
             199
            ],
            [
             1,
             3
            ],
            [
             0,
             0
            ],
            [
             0,
             0
            ],
            [
             0,
             0
            ],
            [
             0,
             0
            ],
            [
             0,
             0
            ],
            [
             0,
             1
            ],
            [
             0,
             0
            ],
            [
             0,
             2
            ],
            [
             1,
             0
            ],
            [
             0,
             1
            ],
            [
             0,
             0
            ],
            [
             0,
             0
            ],
            [
             0,
             0
            ],
            [
             0,
             0
            ],
            [
             0,
             0
            ],
            [
             1,
             1
            ],
            [
             0,
             0
            ],
            [
             1,
             1
            ],
            [
             1,
             1
            ],
            [
             0,
             0
            ],
            [
             0,
             1
            ],
            [
             0,
             0
            ],
            [
             0,
             1
            ],
            [
             0,
             0
            ],
            [
             0,
             0
            ],
            [
             0,
             1
            ],
            [
             0,
             0
            ],
            [
             0,
             0
            ],
            [
             0,
             0
            ],
            [
             0,
             1
            ],
            [
             0,
             0
            ]
           ],
           "geo": "geo",
           "hovertemplate": "<b>%{hovertext}</b><br><br>age=65<br>iso=%{location}<br> >50 =%{z}<br> <=50 =%{customdata[1]}<extra></extra>",
           "hovertext": [
            "KHM",
            "GBR",
            "SLV",
            "PRI",
            "NIC",
            "VNM",
            "USA",
            "MEX",
            "CHN",
            "DOM",
            "NLO",
            "IRN",
            "HKG",
            "CMR",
            "TTO",
            "GRC",
            "GBR",
            "POL",
            "HTI",
            "JPN",
            "GTM",
            "PRT",
            "LAO",
            "ITA",
            "PHL",
            "HUN",
            "DEU",
            "THA",
            "CAN",
            "PER",
            "JAM",
            "ECU",
            "FRA",
            "CAN",
            "TWN",
            "HND",
            "IRL",
            "CUB",
            "IND"
           ],
           "locations": [
            "KHM",
            "GBR",
            "SLV",
            "PRI",
            "NIC",
            "VNM",
            "USA",
            "MEX",
            "CHN",
            "DOM",
            "NLO",
            "IRN",
            "HKG",
            "CMR",
            "TTO",
            "GRC",
            "GBR",
            "POL",
            "HTI",
            "JPN",
            "GTM",
            "PRT",
            "LAO",
            "ITA",
            "PHL",
            "HUN",
            "DEU",
            "THA",
            "CAN",
            "PER",
            "JAM",
            "ECU",
            "FRA",
            "CAN",
            "TWN",
            "HND",
            "IRL",
            "CUB",
            "IND"
           ],
           "name": "",
           "type": "choropleth",
           "z": [
            0,
            1,
            0,
            0,
            0,
            0,
            65,
            1,
            0,
            0,
            0,
            0,
            0,
            0,
            0,
            0,
            1,
            0,
            0,
            0,
            0,
            0,
            0,
            1,
            0,
            1,
            1,
            0,
            0,
            0,
            0,
            0,
            0,
            0,
            0,
            0,
            0,
            0,
            0
           ]
          }
         ],
         "name": "65"
        },
        {
         "data": [
          {
           "coloraxis": "coloraxis",
           "customdata": [
            [
             0,
             0
            ],
            [
             0,
             0
            ],
            [
             0,
             3
            ],
            [
             0,
             1
            ],
            [
             0,
             0
            ],
            [
             0,
             0
            ],
            [
             0,
             0
            ],
            [
             0,
             0
            ],
            [
             0,
             0
            ],
            [
             0,
             2
            ],
            [
             0,
             0
            ],
            [
             0,
             0
            ],
            [
             0,
             0
            ],
            [
             0,
             0
            ],
            [
             0,
             0
            ],
            [
             0,
             1
            ],
            [
             1,
             0
            ],
            [
             0,
             1
            ],
            [
             0,
             0
            ],
            [
             0,
             2
            ],
            [
             0,
             0
            ],
            [
             0,
             0
            ],
            [
             0,
             0
            ],
            [
             0,
             0
            ],
            [
             0,
             0
            ],
            [
             0,
             1
            ],
            [
             0,
             0
            ],
            [
             0,
             1
            ],
            [
             0,
             0
            ],
            [
             0,
             0
            ],
            [
             0,
             0
            ],
            [
             0,
             0
            ],
            [
             0,
             1
            ],
            [
             0,
             0
            ],
            [
             0,
             0
            ],
            [
             0,
             0
            ],
            [
             0,
             0
            ],
            [
             54,
             168
            ],
            [
             0,
             2
            ]
           ],
           "geo": "geo",
           "hovertemplate": "<b>%{hovertext}</b><br><br>age=66<br>iso=%{location}<br> >50 =%{z}<br> <=50 =%{customdata[1]}<extra></extra>",
           "hovertext": [
            "CHN",
            "VNM",
            "PHL",
            "HUN",
            "IRL",
            "DOM",
            "HND",
            "TTO",
            "SLV",
            "CUB",
            "IND",
            "NIC",
            "PER",
            "KHM",
            "IRN",
            "GTM",
            "JAM",
            "CAN",
            "POL",
            "PRI",
            "LAO",
            "GRC",
            "THA",
            "HKG",
            "MEX",
            "CAN",
            "ECU",
            "GBR",
            "CMR",
            "HTI",
            "NLO",
            "PRT",
            "GBR",
            "ITA",
            "JPN",
            "FRA",
            "TWN",
            "USA",
            "DEU"
           ],
           "locations": [
            "CHN",
            "VNM",
            "PHL",
            "HUN",
            "IRL",
            "DOM",
            "HND",
            "TTO",
            "SLV",
            "CUB",
            "IND",
            "NIC",
            "PER",
            "KHM",
            "IRN",
            "GTM",
            "JAM",
            "CAN",
            "POL",
            "PRI",
            "LAO",
            "GRC",
            "THA",
            "HKG",
            "MEX",
            "CAN",
            "ECU",
            "GBR",
            "CMR",
            "HTI",
            "NLO",
            "PRT",
            "GBR",
            "ITA",
            "JPN",
            "FRA",
            "TWN",
            "USA",
            "DEU"
           ],
           "name": "",
           "type": "choropleth",
           "z": [
            0,
            0,
            0,
            0,
            0,
            0,
            0,
            0,
            0,
            0,
            0,
            0,
            0,
            0,
            0,
            0,
            1,
            0,
            0,
            0,
            0,
            0,
            0,
            0,
            0,
            0,
            0,
            0,
            0,
            0,
            0,
            0,
            0,
            0,
            0,
            0,
            0,
            54,
            0
           ]
          }
         ],
         "name": "66"
        },
        {
         "data": [
          {
           "coloraxis": "coloraxis",
           "customdata": [
            [
             0,
             0
            ],
            [
             0,
             0
            ],
            [
             1,
             0
            ],
            [
             0,
             0
            ],
            [
             1,
             1
            ],
            [
             0,
             0
            ],
            [
             0,
             0
            ],
            [
             0,
             0
            ],
            [
             0,
             0
            ],
            [
             0,
             0
            ],
            [
             0,
             0
            ],
            [
             0,
             0
            ],
            [
             2,
             1
            ],
            [
             0,
             0
            ],
            [
             0,
             0
            ],
            [
             0,
             0
            ],
            [
             0,
             0
            ],
            [
             0,
             0
            ],
            [
             2,
             1
            ],
            [
             1,
             0
            ],
            [
             0,
             0
            ],
            [
             0,
             0
            ],
            [
             0,
             0
            ],
            [
             0,
             0
            ],
            [
             0,
             0
            ],
            [
             0,
             0
            ],
            [
             0,
             0
            ],
            [
             0,
             0
            ],
            [
             0,
             1
            ],
            [
             1,
             0
            ],
            [
             0,
             0
            ],
            [
             1,
             1
            ],
            [
             51,
             175
            ],
            [
             0,
             0
            ],
            [
             0,
             0
            ],
            [
             0,
             0
            ],
            [
             0,
             1
            ],
            [
             0,
             1
            ],
            [
             0,
             0
            ]
           ],
           "geo": "geo",
           "hovertemplate": "<b>%{hovertext}</b><br><br>age=67<br>iso=%{location}<br> >50 =%{z}<br> <=50 =%{customdata[1]}<extra></extra>",
           "hovertext": [
            "PRI",
            "JPN",
            "ITA",
            "FRA",
            "DEU",
            "HND",
            "TWN",
            "SLV",
            "IRN",
            "MEX",
            "CHN",
            "GRC",
            "CAN",
            "VNM",
            "IRL",
            "LAO",
            "PRT",
            "HKG",
            "CAN",
            "GBR",
            "KHM",
            "HTI",
            "GTM",
            "JAM",
            "PER",
            "THA",
            "NLO",
            "POL",
            "PHL",
            "GBR",
            "TTO",
            "CUB",
            "USA",
            "HUN",
            "DOM",
            "IND",
            "ECU",
            "NIC",
            "CMR"
           ],
           "locations": [
            "PRI",
            "JPN",
            "ITA",
            "FRA",
            "DEU",
            "HND",
            "TWN",
            "SLV",
            "IRN",
            "MEX",
            "CHN",
            "GRC",
            "CAN",
            "VNM",
            "IRL",
            "LAO",
            "PRT",
            "HKG",
            "CAN",
            "GBR",
            "KHM",
            "HTI",
            "GTM",
            "JAM",
            "PER",
            "THA",
            "NLO",
            "POL",
            "PHL",
            "GBR",
            "TTO",
            "CUB",
            "USA",
            "HUN",
            "DOM",
            "IND",
            "ECU",
            "NIC",
            "CMR"
           ],
           "name": "",
           "type": "choropleth",
           "z": [
            0,
            0,
            1,
            0,
            1,
            0,
            0,
            0,
            0,
            0,
            0,
            0,
            2,
            0,
            0,
            0,
            0,
            0,
            2,
            1,
            0,
            0,
            0,
            0,
            0,
            0,
            0,
            0,
            0,
            1,
            0,
            1,
            51,
            0,
            0,
            0,
            0,
            0,
            0
           ]
          }
         ],
         "name": "67"
        },
        {
         "data": [
          {
           "coloraxis": "coloraxis",
           "customdata": [
            [
             0,
             0
            ],
            [
             0,
             0
            ],
            [
             0,
             2
            ],
            [
             0,
             0
            ],
            [
             0,
             0
            ],
            [
             0,
             2
            ],
            [
             0,
             0
            ],
            [
             0,
             0
            ],
            [
             0,
             0
            ],
            [
             0,
             0
            ],
            [
             0,
             0
            ],
            [
             0,
             0
            ],
            [
             0,
             0
            ],
            [
             0,
             0
            ],
            [
             0,
             2
            ],
            [
             0,
             0
            ],
            [
             0,
             0
            ],
            [
             0,
             0
            ],
            [
             0,
             0
            ],
            [
             0,
             0
            ],
            [
             0,
             0
            ],
            [
             0,
             1
            ],
            [
             34,
             135
            ],
            [
             0,
             0
            ],
            [
             0,
             2
            ],
            [
             0,
             0
            ],
            [
             0,
             0
            ],
            [
             0,
             0
            ],
            [
             1,
             0
            ],
            [
             0,
             0
            ],
            [
             0,
             0
            ],
            [
             0,
             0
            ],
            [
             1,
             1
            ],
            [
             0,
             0
            ],
            [
             1,
             0
            ],
            [
             0,
             0
            ],
            [
             0,
             0
            ],
            [
             0,
             0
            ],
            [
             0,
             0
            ]
           ],
           "geo": "geo",
           "hovertemplate": "<b>%{hovertext}</b><br><br>age=68<br>iso=%{location}<br> >50 =%{z}<br> <=50 =%{customdata[1]}<extra></extra>",
           "hovertext": [
            "HTI",
            "ECU",
            "CAN",
            "THA",
            "LAO",
            "CAN",
            "MEX",
            "JAM",
            "PRI",
            "HKG",
            "IRN",
            "POL",
            "GRC",
            "GTM",
            "GBR",
            "NIC",
            "HUN",
            "DOM",
            "PER",
            "SLV",
            "CHN",
            "CUB",
            "USA",
            "HND",
            "GBR",
            "TTO",
            "PHL",
            "VNM",
            "IRL",
            "KHM",
            "NLO",
            "JPN",
            "ITA",
            "CMR",
            "DEU",
            "IND",
            "FRA",
            "PRT",
            "TWN"
           ],
           "locations": [
            "HTI",
            "ECU",
            "CAN",
            "THA",
            "LAO",
            "CAN",
            "MEX",
            "JAM",
            "PRI",
            "HKG",
            "IRN",
            "POL",
            "GRC",
            "GTM",
            "GBR",
            "NIC",
            "HUN",
            "DOM",
            "PER",
            "SLV",
            "CHN",
            "CUB",
            "USA",
            "HND",
            "GBR",
            "TTO",
            "PHL",
            "VNM",
            "IRL",
            "KHM",
            "NLO",
            "JPN",
            "ITA",
            "CMR",
            "DEU",
            "IND",
            "FRA",
            "PRT",
            "TWN"
           ],
           "name": "",
           "type": "choropleth",
           "z": [
            0,
            0,
            0,
            0,
            0,
            0,
            0,
            0,
            0,
            0,
            0,
            0,
            0,
            0,
            0,
            0,
            0,
            0,
            0,
            0,
            0,
            0,
            34,
            0,
            0,
            0,
            0,
            0,
            1,
            0,
            0,
            0,
            1,
            0,
            1,
            0,
            0,
            0,
            0
           ]
          }
         ],
         "name": "68"
        },
        {
         "data": [
          {
           "coloraxis": "coloraxis",
           "customdata": [
            [
             0,
             0
            ],
            [
             0,
             1
            ],
            [
             0,
             0
            ],
            [
             1,
             0
            ],
            [
             0,
             0
            ],
            [
             0,
             0
            ],
            [
             0,
             0
            ],
            [
             0,
             0
            ],
            [
             0,
             0
            ],
            [
             0,
             0
            ],
            [
             0,
             0
            ],
            [
             0,
             0
            ],
            [
             0,
             0
            ],
            [
             0,
             0
            ],
            [
             0,
             0
            ],
            [
             29,
             113
            ],
            [
             0,
             0
            ],
            [
             0,
             0
            ],
            [
             0,
             2
            ],
            [
             0,
             0
            ],
            [
             0,
             0
            ],
            [
             0,
             0
            ],
            [
             0,
             0
            ],
            [
             0,
             1
            ],
            [
             0,
             0
            ],
            [
             0,
             0
            ],
            [
             0,
             1
            ],
            [
             0,
             0
            ],
            [
             0,
             0
            ],
            [
             0,
             0
            ],
            [
             0,
             0
            ],
            [
             0,
             0
            ],
            [
             0,
             0
            ],
            [
             0,
             0
            ],
            [
             0,
             0
            ],
            [
             1,
             0
            ],
            [
             0,
             0
            ],
            [
             0,
             0
            ],
            [
             0,
             0
            ]
           ],
           "geo": "geo",
           "hovertemplate": "<b>%{hovertext}</b><br><br>age=69<br>iso=%{location}<br> >50 =%{z}<br> <=50 =%{customdata[1]}<extra></extra>",
           "hovertext": [
            "NIC",
            "PER",
            "MEX",
            "FRA",
            "VNM",
            "HND",
            "CMR",
            "NLO",
            "PRI",
            "PRT",
            "POL",
            "HTI",
            "CAN",
            "DOM",
            "LAO",
            "USA",
            "THA",
            "TTO",
            "DEU",
            "GTM",
            "GRC",
            "CUB",
            "IRN",
            "PHL",
            "HKG",
            "TWN",
            "ITA",
            "CAN",
            "KHM",
            "GBR",
            "GBR",
            "IRL",
            "SLV",
            "IND",
            "HUN",
            "CHN",
            "JPN",
            "ECU",
            "JAM"
           ],
           "locations": [
            "NIC",
            "PER",
            "MEX",
            "FRA",
            "VNM",
            "HND",
            "CMR",
            "NLO",
            "PRI",
            "PRT",
            "POL",
            "HTI",
            "CAN",
            "DOM",
            "LAO",
            "USA",
            "THA",
            "TTO",
            "DEU",
            "GTM",
            "GRC",
            "CUB",
            "IRN",
            "PHL",
            "HKG",
            "TWN",
            "ITA",
            "CAN",
            "KHM",
            "GBR",
            "GBR",
            "IRL",
            "SLV",
            "IND",
            "HUN",
            "CHN",
            "JPN",
            "ECU",
            "JAM"
           ],
           "name": "",
           "type": "choropleth",
           "z": [
            0,
            0,
            0,
            1,
            0,
            0,
            0,
            0,
            0,
            0,
            0,
            0,
            0,
            0,
            0,
            29,
            0,
            0,
            0,
            0,
            0,
            0,
            0,
            0,
            0,
            0,
            0,
            0,
            0,
            0,
            0,
            0,
            0,
            0,
            0,
            1,
            0,
            0,
            0
           ]
          }
         ],
         "name": "69"
        },
        {
         "data": [
          {
           "coloraxis": "coloraxis",
           "customdata": [
            [
             0,
             1
            ],
            [
             0,
             0
            ],
            [
             0,
             0
            ],
            [
             0,
             0
            ],
            [
             0,
             0
            ],
            [
             0,
             0
            ],
            [
             0,
             1
            ],
            [
             0,
             0
            ],
            [
             0,
             0
            ],
            [
             0,
             1
            ],
            [
             0,
             0
            ],
            [
             0,
             2
            ],
            [
             0,
             0
            ],
            [
             0,
             0
            ],
            [
             25,
             100
            ],
            [
             0,
             1
            ],
            [
             0,
             0
            ],
            [
             0,
             0
            ],
            [
             0,
             1
            ],
            [
             0,
             0
            ],
            [
             0,
             1
            ],
            [
             0,
             0
            ],
            [
             0,
             0
            ],
            [
             0,
             0
            ],
            [
             0,
             0
            ],
            [
             0,
             1
            ],
            [
             0,
             0
            ],
            [
             0,
             0
            ],
            [
             0,
             0
            ],
            [
             0,
             0
            ],
            [
             0,
             0
            ],
            [
             0,
             0
            ],
            [
             0,
             0
            ],
            [
             0,
             0
            ],
            [
             0,
             0
            ],
            [
             0,
             0
            ],
            [
             0,
             0
            ],
            [
             0,
             0
            ],
            [
             0,
             0
            ]
           ],
           "geo": "geo",
           "hovertemplate": "<b>%{hovertext}</b><br><br>age=70<br>iso=%{location}<br> >50 =%{z}<br> <=50 =%{customdata[1]}<extra></extra>",
           "hovertext": [
            "PRI",
            "SLV",
            "FRA",
            "DOM",
            "HUN",
            "JPN",
            "PHL",
            "JAM",
            "IRN",
            "VNM",
            "TWN",
            "CUB",
            "DEU",
            "ITA",
            "USA",
            "GRC",
            "CAN",
            "MEX",
            "GBR",
            "NIC",
            "CHN",
            "HTI",
            "IRL",
            "KHM",
            "PRT",
            "GBR",
            "HKG",
            "TTO",
            "HND",
            "PER",
            "IND",
            "POL",
            "NLO",
            "CMR",
            "ECU",
            "LAO",
            "THA",
            "CAN",
            "GTM"
           ],
           "locations": [
            "PRI",
            "SLV",
            "FRA",
            "DOM",
            "HUN",
            "JPN",
            "PHL",
            "JAM",
            "IRN",
            "VNM",
            "TWN",
            "CUB",
            "DEU",
            "ITA",
            "USA",
            "GRC",
            "CAN",
            "MEX",
            "GBR",
            "NIC",
            "CHN",
            "HTI",
            "IRL",
            "KHM",
            "PRT",
            "GBR",
            "HKG",
            "TTO",
            "HND",
            "PER",
            "IND",
            "POL",
            "NLO",
            "CMR",
            "ECU",
            "LAO",
            "THA",
            "CAN",
            "GTM"
           ],
           "name": "",
           "type": "choropleth",
           "z": [
            0,
            0,
            0,
            0,
            0,
            0,
            0,
            0,
            0,
            0,
            0,
            0,
            0,
            0,
            25,
            0,
            0,
            0,
            0,
            0,
            0,
            0,
            0,
            0,
            0,
            0,
            0,
            0,
            0,
            0,
            0,
            0,
            0,
            0,
            0,
            0,
            0,
            0,
            0
           ]
          }
         ],
         "name": "70"
        },
        {
         "data": [
          {
           "coloraxis": "coloraxis",
           "customdata": [
            [
             0,
             0
            ],
            [
             0,
             0
            ],
            [
             0,
             0
            ],
            [
             0,
             0
            ],
            [
             28,
             85
            ],
            [
             0,
             0
            ],
            [
             0,
             1
            ],
            [
             0,
             0
            ],
            [
             0,
             0
            ],
            [
             0,
             0
            ],
            [
             0,
             0
            ],
            [
             0,
             0
            ],
            [
             0,
             1
            ],
            [
             0,
             0
            ],
            [
             0,
             0
            ],
            [
             0,
             1
            ],
            [
             0,
             0
            ],
            [
             0,
             1
            ],
            [
             0,
             1
            ],
            [
             0,
             0
            ],
            [
             0,
             0
            ],
            [
             0,
             0
            ],
            [
             0,
             0
            ],
            [
             0,
             0
            ],
            [
             0,
             0
            ],
            [
             0,
             0
            ],
            [
             0,
             0
            ],
            [
             0,
             0
            ],
            [
             0,
             0
            ],
            [
             0,
             1
            ],
            [
             0,
             0
            ],
            [
             0,
             0
            ],
            [
             0,
             0
            ],
            [
             0,
             0
            ],
            [
             0,
             0
            ],
            [
             0,
             0
            ],
            [
             0,
             0
            ],
            [
             0,
             0
            ],
            [
             0,
             0
            ]
           ],
           "geo": "geo",
           "hovertemplate": "<b>%{hovertext}</b><br><br>age=71<br>iso=%{location}<br> >50 =%{z}<br> <=50 =%{customdata[1]}<extra></extra>",
           "hovertext": [
            "ECU",
            "GBR",
            "JAM",
            "IRN",
            "USA",
            "HND",
            "HUN",
            "JPN",
            "CHN",
            "PRI",
            "FRA",
            "PER",
            "POL",
            "PRT",
            "THA",
            "DEU",
            "TWN",
            "CAN",
            "CAN",
            "HTI",
            "MEX",
            "ITA",
            "LAO",
            "KHM",
            "GRC",
            "IND",
            "PHL",
            "SLV",
            "NLO",
            "CUB",
            "GTM",
            "NIC",
            "CMR",
            "GBR",
            "VNM",
            "DOM",
            "TTO",
            "IRL",
            "HKG"
           ],
           "locations": [
            "ECU",
            "GBR",
            "JAM",
            "IRN",
            "USA",
            "HND",
            "HUN",
            "JPN",
            "CHN",
            "PRI",
            "FRA",
            "PER",
            "POL",
            "PRT",
            "THA",
            "DEU",
            "TWN",
            "CAN",
            "CAN",
            "HTI",
            "MEX",
            "ITA",
            "LAO",
            "KHM",
            "GRC",
            "IND",
            "PHL",
            "SLV",
            "NLO",
            "CUB",
            "GTM",
            "NIC",
            "CMR",
            "GBR",
            "VNM",
            "DOM",
            "TTO",
            "IRL",
            "HKG"
           ],
           "name": "",
           "type": "choropleth",
           "z": [
            0,
            0,
            0,
            0,
            28,
            0,
            0,
            0,
            0,
            0,
            0,
            0,
            0,
            0,
            0,
            0,
            0,
            0,
            0,
            0,
            0,
            0,
            0,
            0,
            0,
            0,
            0,
            0,
            0,
            0,
            0,
            0,
            0,
            0,
            0,
            0,
            0,
            0,
            0
           ]
          }
         ],
         "name": "71"
        },
        {
         "data": [
          {
           "coloraxis": "coloraxis",
           "customdata": [
            [
             1,
             2
            ],
            [
             0,
             0
            ],
            [
             0,
             0
            ],
            [
             14,
             96
            ],
            [
             0,
             0
            ],
            [
             0,
             0
            ],
            [
             0,
             0
            ],
            [
             0,
             0
            ],
            [
             0,
             1
            ],
            [
             0,
             0
            ],
            [
             1,
             2
            ],
            [
             0,
             0
            ],
            [
             0,
             0
            ],
            [
             0,
             0
            ],
            [
             0,
             0
            ],
            [
             0,
             0
            ],
            [
             0,
             0
            ],
            [
             0,
             0
            ],
            [
             0,
             0
            ],
            [
             0,
             0
            ],
            [
             0,
             0
            ],
            [
             0,
             0
            ],
            [
             1,
             2
            ],
            [
             0,
             2
            ],
            [
             0,
             0
            ],
            [
             0,
             0
            ],
            [
             0,
             0
            ],
            [
             0,
             0
            ],
            [
             0,
             0
            ],
            [
             0,
             1
            ],
            [
             0,
             0
            ],
            [
             0,
             2
            ],
            [
             0,
             0
            ],
            [
             0,
             0
            ],
            [
             0,
             0
            ],
            [
             0,
             0
            ],
            [
             0,
             0
            ],
            [
             0,
             0
            ],
            [
             0,
             0
            ]
           ],
           "geo": "geo",
           "hovertemplate": "<b>%{hovertext}</b><br><br>age=72<br>iso=%{location}<br> >50 =%{z}<br> <=50 =%{customdata[1]}<extra></extra>",
           "hovertext": [
            "CAN",
            "ITA",
            "FRA",
            "USA",
            "LAO",
            "MEX",
            "PRT",
            "NLO",
            "JPN",
            "HTI",
            "CUB",
            "SLV",
            "KHM",
            "IRN",
            "ECU",
            "PER",
            "PRI",
            "CMR",
            "TTO",
            "NIC",
            "HND",
            "HKG",
            "CAN",
            "GBR",
            "TWN",
            "DEU",
            "GTM",
            "HUN",
            "VNM",
            "POL",
            "PHL",
            "GBR",
            "DOM",
            "GRC",
            "JAM",
            "IND",
            "CHN",
            "THA",
            "IRL"
           ],
           "locations": [
            "CAN",
            "ITA",
            "FRA",
            "USA",
            "LAO",
            "MEX",
            "PRT",
            "NLO",
            "JPN",
            "HTI",
            "CUB",
            "SLV",
            "KHM",
            "IRN",
            "ECU",
            "PER",
            "PRI",
            "CMR",
            "TTO",
            "NIC",
            "HND",
            "HKG",
            "CAN",
            "GBR",
            "TWN",
            "DEU",
            "GTM",
            "HUN",
            "VNM",
            "POL",
            "PHL",
            "GBR",
            "DOM",
            "GRC",
            "JAM",
            "IND",
            "CHN",
            "THA",
            "IRL"
           ],
           "name": "",
           "type": "choropleth",
           "z": [
            1,
            0,
            0,
            14,
            0,
            0,
            0,
            0,
            0,
            0,
            1,
            0,
            0,
            0,
            0,
            0,
            0,
            0,
            0,
            0,
            0,
            0,
            1,
            0,
            0,
            0,
            0,
            0,
            0,
            0,
            0,
            0,
            0,
            0,
            0,
            0,
            0,
            0,
            0
           ]
          }
         ],
         "name": "72"
        },
        {
         "data": [
          {
           "coloraxis": "coloraxis",
           "customdata": [
            [
             0,
             0
            ],
            [
             0,
             0
            ],
            [
             0,
             0
            ],
            [
             0,
             2
            ],
            [
             0,
             1
            ],
            [
             0,
             1
            ],
            [
             0,
             0
            ],
            [
             0,
             0
            ],
            [
             16,
             80
            ],
            [
             0,
             4
            ],
            [
             0,
             0
            ],
            [
             0,
             1
            ],
            [
             0,
             0
            ],
            [
             0,
             0
            ],
            [
             0,
             0
            ],
            [
             0,
             0
            ],
            [
             0,
             0
            ],
            [
             0,
             0
            ],
            [
             0,
             0
            ],
            [
             0,
             0
            ],
            [
             0,
             0
            ],
            [
             1,
             0
            ],
            [
             0,
             2
            ],
            [
             0,
             0
            ],
            [
             0,
             0
            ],
            [
             0,
             0
            ],
            [
             0,
             1
            ],
            [
             0,
             0
            ],
            [
             0,
             0
            ],
            [
             0,
             0
            ],
            [
             0,
             0
            ],
            [
             0,
             4
            ],
            [
             0,
             0
            ],
            [
             0,
             0
            ],
            [
             0,
             0
            ],
            [
             0,
             0
            ],
            [
             0,
             0
            ],
            [
             0,
             0
            ],
            [
             0,
             0
            ]
           ],
           "geo": "geo",
           "hovertemplate": "<b>%{hovertext}</b><br><br>age=73<br>iso=%{location}<br> >50 =%{z}<br> <=50 =%{customdata[1]}<extra></extra>",
           "hovertext": [
            "MEX",
            "FRA",
            "PRI",
            "VNM",
            "GBR",
            "CUB",
            "TWN",
            "CMR",
            "USA",
            "CAN",
            "JAM",
            "GBR",
            "IRL",
            "NIC",
            "HND",
            "TTO",
            "PER",
            "NLO",
            "DEU",
            "HKG",
            "IRN",
            "POL",
            "PHL",
            "CHN",
            "DOM",
            "IND",
            "PRT",
            "KHM",
            "GTM",
            "HTI",
            "JPN",
            "CAN",
            "ECU",
            "LAO",
            "GRC",
            "SLV",
            "ITA",
            "THA",
            "HUN"
           ],
           "locations": [
            "MEX",
            "FRA",
            "PRI",
            "VNM",
            "GBR",
            "CUB",
            "TWN",
            "CMR",
            "USA",
            "CAN",
            "JAM",
            "GBR",
            "IRL",
            "NIC",
            "HND",
            "TTO",
            "PER",
            "NLO",
            "DEU",
            "HKG",
            "IRN",
            "POL",
            "PHL",
            "CHN",
            "DOM",
            "IND",
            "PRT",
            "KHM",
            "GTM",
            "HTI",
            "JPN",
            "CAN",
            "ECU",
            "LAO",
            "GRC",
            "SLV",
            "ITA",
            "THA",
            "HUN"
           ],
           "name": "",
           "type": "choropleth",
           "z": [
            0,
            0,
            0,
            0,
            0,
            0,
            0,
            0,
            16,
            0,
            0,
            0,
            0,
            0,
            0,
            0,
            0,
            0,
            0,
            0,
            0,
            1,
            0,
            0,
            0,
            0,
            0,
            0,
            0,
            0,
            0,
            0,
            0,
            0,
            0,
            0,
            0,
            0,
            0
           ]
          }
         ],
         "name": "73"
        },
        {
         "data": [
          {
           "coloraxis": "coloraxis",
           "customdata": [
            [
             0,
             0
            ],
            [
             0,
             0
            ],
            [
             0,
             0
            ],
            [
             0,
             0
            ],
            [
             0,
             0
            ],
            [
             0,
             0
            ],
            [
             0,
             0
            ],
            [
             0,
             0
            ],
            [
             0,
             1
            ],
            [
             0,
             0
            ],
            [
             0,
             0
            ],
            [
             0,
             0
            ],
            [
             0,
             0
            ],
            [
             0,
             0
            ],
            [
             0,
             0
            ],
            [
             0,
             0
            ],
            [
             0,
             0
            ],
            [
             0,
             0
            ],
            [
             0,
             0
            ],
            [
             0,
             0
            ],
            [
             0,
             1
            ],
            [
             0,
             0
            ],
            [
             0,
             0
            ],
            [
             0,
             0
            ],
            [
             0,
             0
            ],
            [
             0,
             1
            ],
            [
             0,
             0
            ],
            [
             0,
             0
            ],
            [
             0,
             0
            ],
            [
             0,
             0
            ],
            [
             0,
             0
            ],
            [
             0,
             0
            ],
            [
             0,
             0
            ],
            [
             17,
             57
            ],
            [
             0,
             0
            ],
            [
             0,
             0
            ],
            [
             0,
             0
            ],
            [
             0,
             0
            ],
            [
             1,
             0
            ]
           ],
           "geo": "geo",
           "hovertemplate": "<b>%{hovertext}</b><br><br>age=74<br>iso=%{location}<br> >50 =%{z}<br> <=50 =%{customdata[1]}<extra></extra>",
           "hovertext": [
            "GBR",
            "KHM",
            "GTM",
            "LAO",
            "TTO",
            "IND",
            "POL",
            "JPN",
            "CAN",
            "CMR",
            "SLV",
            "GBR",
            "THA",
            "PHL",
            "HUN",
            "PRT",
            "HND",
            "ECU",
            "PER",
            "IRL",
            "CAN",
            "NLO",
            "HTI",
            "FRA",
            "CHN",
            "MEX",
            "ITA",
            "NIC",
            "VNM",
            "CUB",
            "JAM",
            "GRC",
            "PRI",
            "USA",
            "IRN",
            "HKG",
            "TWN",
            "DOM",
            "DEU"
           ],
           "locations": [
            "GBR",
            "KHM",
            "GTM",
            "LAO",
            "TTO",
            "IND",
            "POL",
            "JPN",
            "CAN",
            "CMR",
            "SLV",
            "GBR",
            "THA",
            "PHL",
            "HUN",
            "PRT",
            "HND",
            "ECU",
            "PER",
            "IRL",
            "CAN",
            "NLO",
            "HTI",
            "FRA",
            "CHN",
            "MEX",
            "ITA",
            "NIC",
            "VNM",
            "CUB",
            "JAM",
            "GRC",
            "PRI",
            "USA",
            "IRN",
            "HKG",
            "TWN",
            "DOM",
            "DEU"
           ],
           "name": "",
           "type": "choropleth",
           "z": [
            0,
            0,
            0,
            0,
            0,
            0,
            0,
            0,
            0,
            0,
            0,
            0,
            0,
            0,
            0,
            0,
            0,
            0,
            0,
            0,
            0,
            0,
            0,
            0,
            0,
            0,
            0,
            0,
            0,
            0,
            0,
            0,
            0,
            17,
            0,
            0,
            0,
            0,
            1
           ]
          }
         ],
         "name": "74"
        },
        {
         "data": [
          {
           "coloraxis": "coloraxis",
           "customdata": [
            [
             0,
             0
            ],
            [
             0,
             0
            ],
            [
             0,
             0
            ],
            [
             0,
             0
            ],
            [
             13,
             55
            ],
            [
             0,
             0
            ],
            [
             0,
             0
            ],
            [
             0,
             1
            ],
            [
             0,
             0
            ],
            [
             0,
             0
            ],
            [
             0,
             0
            ],
            [
             0,
             0
            ],
            [
             0,
             0
            ],
            [
             0,
             0
            ],
            [
             0,
             0
            ],
            [
             0,
             0
            ],
            [
             0,
             2
            ],
            [
             0,
             0
            ],
            [
             0,
             0
            ],
            [
             0,
             0
            ],
            [
             0,
             0
            ],
            [
             0,
             0
            ],
            [
             0,
             0
            ],
            [
             0,
             2
            ],
            [
             0,
             0
            ],
            [
             0,
             0
            ],
            [
             0,
             0
            ],
            [
             0,
             0
            ],
            [
             0,
             0
            ],
            [
             0,
             0
            ],
            [
             0,
             1
            ],
            [
             0,
             0
            ],
            [
             0,
             0
            ],
            [
             0,
             0
            ],
            [
             0,
             0
            ],
            [
             0,
             0
            ],
            [
             0,
             0
            ],
            [
             0,
             0
            ],
            [
             0,
             0
            ]
           ],
           "geo": "geo",
           "hovertemplate": "<b>%{hovertext}</b><br><br>age=75<br>iso=%{location}<br> >50 =%{z}<br> <=50 =%{customdata[1]}<extra></extra>",
           "hovertext": [
            "NLO",
            "HUN",
            "DOM",
            "TTO",
            "USA",
            "IRL",
            "JAM",
            "PHL",
            "THA",
            "CMR",
            "ECU",
            "JPN",
            "HTI",
            "SLV",
            "FRA",
            "MEX",
            "CAN",
            "PRI",
            "VNM",
            "DEU",
            "HKG",
            "IND",
            "GBR",
            "CAN",
            "POL",
            "TWN",
            "LAO",
            "GRC",
            "HND",
            "NIC",
            "CHN",
            "GTM",
            "GBR",
            "PER",
            "IRN",
            "PRT",
            "ITA",
            "CUB",
            "KHM"
           ],
           "locations": [
            "NLO",
            "HUN",
            "DOM",
            "TTO",
            "USA",
            "IRL",
            "JAM",
            "PHL",
            "THA",
            "CMR",
            "ECU",
            "JPN",
            "HTI",
            "SLV",
            "FRA",
            "MEX",
            "CAN",
            "PRI",
            "VNM",
            "DEU",
            "HKG",
            "IND",
            "GBR",
            "CAN",
            "POL",
            "TWN",
            "LAO",
            "GRC",
            "HND",
            "NIC",
            "CHN",
            "GTM",
            "GBR",
            "PER",
            "IRN",
            "PRT",
            "ITA",
            "CUB",
            "KHM"
           ],
           "name": "",
           "type": "choropleth",
           "z": [
            0,
            0,
            0,
            0,
            13,
            0,
            0,
            0,
            0,
            0,
            0,
            0,
            0,
            0,
            0,
            0,
            0,
            0,
            0,
            0,
            0,
            0,
            0,
            0,
            0,
            0,
            0,
            0,
            0,
            0,
            0,
            0,
            0,
            0,
            0,
            0,
            0,
            0,
            0
           ]
          }
         ],
         "name": "75"
        },
        {
         "data": [
          {
           "coloraxis": "coloraxis",
           "customdata": [
            [
             0,
             0
            ],
            [
             0,
             1
            ],
            [
             1,
             0
            ],
            [
             0,
             0
            ],
            [
             0,
             0
            ],
            [
             1,
             0
            ],
            [
             0,
             0
            ],
            [
             0,
             0
            ],
            [
             0,
             0
            ],
            [
             0,
             0
            ],
            [
             0,
             0
            ],
            [
             0,
             0
            ],
            [
             0,
             0
            ],
            [
             0,
             0
            ],
            [
             0,
             0
            ],
            [
             0,
             0
            ],
            [
             0,
             0
            ],
            [
             0,
             0
            ],
            [
             0,
             0
            ],
            [
             0,
             0
            ],
            [
             0,
             0
            ],
            [
             0,
             0
            ],
            [
             0,
             0
            ],
            [
             0,
             0
            ],
            [
             0,
             0
            ],
            [
             0,
             0
            ],
            [
             0,
             0
            ],
            [
             7,
             60
            ],
            [
             0,
             0
            ],
            [
             0,
             0
            ],
            [
             0,
             0
            ],
            [
             0,
             0
            ],
            [
             0,
             0
            ],
            [
             0,
             0
            ],
            [
             0,
             0
            ],
            [
             0,
             0
            ],
            [
             0,
             0
            ],
            [
             0,
             0
            ],
            [
             0,
             0
            ]
           ],
           "geo": "geo",
           "hovertemplate": "<b>%{hovertext}</b><br><br>age=76<br>iso=%{location}<br> >50 =%{z}<br> <=50 =%{customdata[1]}<extra></extra>",
           "hovertext": [
            "GRC",
            "CHN",
            "CAN",
            "HUN",
            "IRN",
            "CAN",
            "LAO",
            "CUB",
            "DEU",
            "GBR",
            "PRT",
            "PER",
            "PRI",
            "THA",
            "CMR",
            "PHL",
            "JAM",
            "HND",
            "POL",
            "VNM",
            "SLV",
            "FRA",
            "TWN",
            "IND",
            "NLO",
            "DOM",
            "HKG",
            "USA",
            "GTM",
            "TTO",
            "HTI",
            "ITA",
            "JPN",
            "IRL",
            "GBR",
            "ECU",
            "NIC",
            "MEX",
            "KHM"
           ],
           "locations": [
            "GRC",
            "CHN",
            "CAN",
            "HUN",
            "IRN",
            "CAN",
            "LAO",
            "CUB",
            "DEU",
            "GBR",
            "PRT",
            "PER",
            "PRI",
            "THA",
            "CMR",
            "PHL",
            "JAM",
            "HND",
            "POL",
            "VNM",
            "SLV",
            "FRA",
            "TWN",
            "IND",
            "NLO",
            "DOM",
            "HKG",
            "USA",
            "GTM",
            "TTO",
            "HTI",
            "ITA",
            "JPN",
            "IRL",
            "GBR",
            "ECU",
            "NIC",
            "MEX",
            "KHM"
           ],
           "name": "",
           "type": "choropleth",
           "z": [
            0,
            0,
            1,
            0,
            0,
            1,
            0,
            0,
            0,
            0,
            0,
            0,
            0,
            0,
            0,
            0,
            0,
            0,
            0,
            0,
            0,
            0,
            0,
            0,
            0,
            0,
            0,
            7,
            0,
            0,
            0,
            0,
            0,
            0,
            0,
            0,
            0,
            0,
            0
           ]
          }
         ],
         "name": "76"
        },
        {
         "data": [
          {
           "coloraxis": "coloraxis",
           "customdata": [
            [
             0,
             0
            ],
            [
             0,
             0
            ],
            [
             0,
             0
            ],
            [
             0,
             0
            ],
            [
             0,
             0
            ],
            [
             0,
             0
            ],
            [
             0,
             0
            ],
            [
             0,
             0
            ],
            [
             0,
             1
            ],
            [
             0,
             0
            ],
            [
             0,
             0
            ],
            [
             7,
             43
            ],
            [
             0,
             0
            ],
            [
             0,
             1
            ],
            [
             0,
             0
            ],
            [
             0,
             0
            ],
            [
             0,
             0
            ],
            [
             0,
             0
            ],
            [
             0,
             0
            ],
            [
             0,
             0
            ],
            [
             0,
             0
            ],
            [
             0,
             0
            ],
            [
             0,
             0
            ],
            [
             0,
             1
            ],
            [
             0,
             0
            ],
            [
             0,
             0
            ],
            [
             0,
             0
            ],
            [
             0,
             0
            ],
            [
             0,
             0
            ],
            [
             0,
             0
            ],
            [
             0,
             0
            ],
            [
             0,
             0
            ],
            [
             0,
             0
            ],
            [
             0,
             1
            ],
            [
             0,
             0
            ],
            [
             0,
             0
            ],
            [
             0,
             1
            ],
            [
             1,
             0
            ],
            [
             0,
             0
            ]
           ],
           "geo": "geo",
           "hovertemplate": "<b>%{hovertext}</b><br><br>age=77<br>iso=%{location}<br> >50 =%{z}<br> <=50 =%{customdata[1]}<extra></extra>",
           "hovertext": [
            "DOM",
            "PRT",
            "IRN",
            "TWN",
            "VNM",
            "ECU",
            "PRI",
            "MEX",
            "CAN",
            "HTI",
            "FRA",
            "USA",
            "GRC",
            "CUB",
            "DEU",
            "JPN",
            "GTM",
            "THA",
            "NLO",
            "POL",
            "PER",
            "IND",
            "IRL",
            "GBR",
            "HND",
            "TTO",
            "HUN",
            "KHM",
            "NIC",
            "LAO",
            "HKG",
            "SLV",
            "CMR",
            "CAN",
            "CHN",
            "PHL",
            "GBR",
            "ITA",
            "JAM"
           ],
           "locations": [
            "DOM",
            "PRT",
            "IRN",
            "TWN",
            "VNM",
            "ECU",
            "PRI",
            "MEX",
            "CAN",
            "HTI",
            "FRA",
            "USA",
            "GRC",
            "CUB",
            "DEU",
            "JPN",
            "GTM",
            "THA",
            "NLO",
            "POL",
            "PER",
            "IND",
            "IRL",
            "GBR",
            "HND",
            "TTO",
            "HUN",
            "KHM",
            "NIC",
            "LAO",
            "HKG",
            "SLV",
            "CMR",
            "CAN",
            "CHN",
            "PHL",
            "GBR",
            "ITA",
            "JAM"
           ],
           "name": "",
           "type": "choropleth",
           "z": [
            0,
            0,
            0,
            0,
            0,
            0,
            0,
            0,
            0,
            0,
            0,
            7,
            0,
            0,
            0,
            0,
            0,
            0,
            0,
            0,
            0,
            0,
            0,
            0,
            0,
            0,
            0,
            0,
            0,
            0,
            0,
            0,
            0,
            0,
            0,
            0,
            0,
            1,
            0
           ]
          }
         ],
         "name": "77"
        },
        {
         "data": [
          {
           "coloraxis": "coloraxis",
           "customdata": [
            [
             0,
             1
            ],
            [
             0,
             0
            ],
            [
             0,
             0
            ],
            [
             0,
             0
            ],
            [
             0,
             0
            ],
            [
             0,
             0
            ],
            [
             0,
             1
            ],
            [
             0,
             1
            ],
            [
             0,
             0
            ],
            [
             0,
             0
            ],
            [
             0,
             0
            ],
            [
             0,
             0
            ],
            [
             0,
             0
            ],
            [
             0,
             0
            ],
            [
             0,
             0
            ],
            [
             0,
             0
            ],
            [
             0,
             0
            ],
            [
             0,
             0
            ],
            [
             0,
             0
            ],
            [
             0,
             0
            ],
            [
             0,
             0
            ],
            [
             0,
             0
            ],
            [
             0,
             0
            ],
            [
             0,
             0
            ],
            [
             0,
             0
            ],
            [
             0,
             0
            ],
            [
             0,
             0
            ],
            [
             0,
             1
            ],
            [
             5,
             25
            ],
            [
             0,
             0
            ],
            [
             0,
             0
            ],
            [
             0,
             0
            ],
            [
             0,
             0
            ],
            [
             0,
             0
            ],
            [
             0,
             0
            ],
            [
             0,
             0
            ],
            [
             0,
             0
            ],
            [
             0,
             0
            ],
            [
             0,
             0
            ]
           ],
           "geo": "geo",
           "hovertemplate": "<b>%{hovertext}</b><br><br>age=78<br>iso=%{location}<br> >50 =%{z}<br> <=50 =%{customdata[1]}<extra></extra>",
           "hovertext": [
            "NIC",
            "MEX",
            "NLO",
            "HUN",
            "ITA",
            "FRA",
            "PRT",
            "DOM",
            "CAN",
            "CHN",
            "PER",
            "THA",
            "PHL",
            "HTI",
            "IRL",
            "HND",
            "DEU",
            "HKG",
            "ECU",
            "GBR",
            "CUB",
            "POL",
            "JAM",
            "GRC",
            "TTO",
            "IND",
            "GBR",
            "CMR",
            "USA",
            "PRI",
            "IRN",
            "TWN",
            "GTM",
            "VNM",
            "JPN",
            "LAO",
            "CAN",
            "KHM",
            "SLV"
           ],
           "locations": [
            "NIC",
            "MEX",
            "NLO",
            "HUN",
            "ITA",
            "FRA",
            "PRT",
            "DOM",
            "CAN",
            "CHN",
            "PER",
            "THA",
            "PHL",
            "HTI",
            "IRL",
            "HND",
            "DEU",
            "HKG",
            "ECU",
            "GBR",
            "CUB",
            "POL",
            "JAM",
            "GRC",
            "TTO",
            "IND",
            "GBR",
            "CMR",
            "USA",
            "PRI",
            "IRN",
            "TWN",
            "GTM",
            "VNM",
            "JPN",
            "LAO",
            "CAN",
            "KHM",
            "SLV"
           ],
           "name": "",
           "type": "choropleth",
           "z": [
            0,
            0,
            0,
            0,
            0,
            0,
            0,
            0,
            0,
            0,
            0,
            0,
            0,
            0,
            0,
            0,
            0,
            0,
            0,
            0,
            0,
            0,
            0,
            0,
            0,
            0,
            0,
            0,
            5,
            0,
            0,
            0,
            0,
            0,
            0,
            0,
            0,
            0,
            0
           ]
          }
         ],
         "name": "78"
        },
        {
         "data": [
          {
           "coloraxis": "coloraxis",
           "customdata": [
            [
             0,
             0
            ],
            [
             0,
             0
            ],
            [
             0,
             0
            ],
            [
             0,
             0
            ],
            [
             0,
             0
            ],
            [
             0,
             0
            ],
            [
             0,
             0
            ],
            [
             0,
             0
            ],
            [
             0,
             0
            ],
            [
             0,
             0
            ],
            [
             0,
             0
            ],
            [
             0,
             0
            ],
            [
             0,
             0
            ],
            [
             0,
             0
            ],
            [
             0,
             0
            ],
            [
             0,
             0
            ],
            [
             0,
             0
            ],
            [
             0,
             0
            ],
            [
             0,
             0
            ],
            [
             0,
             0
            ],
            [
             0,
             0
            ],
            [
             0,
             0
            ],
            [
             1,
             0
            ],
            [
             0,
             0
            ],
            [
             0,
             0
            ],
            [
             0,
             0
            ],
            [
             0,
             0
            ],
            [
             0,
             0
            ],
            [
             7,
             21
            ],
            [
             1,
             0
            ],
            [
             0,
             0
            ],
            [
             0,
             0
            ],
            [
             0,
             0
            ],
            [
             0,
             0
            ],
            [
             0,
             0
            ],
            [
             0,
             0
            ],
            [
             0,
             0
            ],
            [
             0,
             0
            ],
            [
             0,
             0
            ]
           ],
           "geo": "geo",
           "hovertemplate": "<b>%{hovertext}</b><br><br>age=79<br>iso=%{location}<br> >50 =%{z}<br> <=50 =%{customdata[1]}<extra></extra>",
           "hovertext": [
            "DEU",
            "CMR",
            "LAO",
            "JPN",
            "CUB",
            "GBR",
            "THA",
            "IND",
            "PER",
            "NIC",
            "CHN",
            "IRL",
            "CAN",
            "GBR",
            "GTM",
            "PHL",
            "HKG",
            "JAM",
            "NLO",
            "DOM",
            "IRN",
            "ITA",
            "SLV",
            "KHM",
            "TTO",
            "HND",
            "GRC",
            "PRI",
            "USA",
            "POL",
            "CAN",
            "ECU",
            "PRT",
            "FRA",
            "VNM",
            "TWN",
            "HTI",
            "HUN",
            "MEX"
           ],
           "locations": [
            "DEU",
            "CMR",
            "LAO",
            "JPN",
            "CUB",
            "GBR",
            "THA",
            "IND",
            "PER",
            "NIC",
            "CHN",
            "IRL",
            "CAN",
            "GBR",
            "GTM",
            "PHL",
            "HKG",
            "JAM",
            "NLO",
            "DOM",
            "IRN",
            "ITA",
            "SLV",
            "KHM",
            "TTO",
            "HND",
            "GRC",
            "PRI",
            "USA",
            "POL",
            "CAN",
            "ECU",
            "PRT",
            "FRA",
            "VNM",
            "TWN",
            "HTI",
            "HUN",
            "MEX"
           ],
           "name": "",
           "type": "choropleth",
           "z": [
            0,
            0,
            0,
            0,
            0,
            0,
            0,
            0,
            0,
            0,
            0,
            0,
            0,
            0,
            0,
            0,
            0,
            0,
            0,
            0,
            0,
            0,
            1,
            0,
            0,
            0,
            0,
            0,
            7,
            1,
            0,
            0,
            0,
            0,
            0,
            0,
            0,
            0,
            0
           ]
          }
         ],
         "name": "79"
        },
        {
         "data": [
          {
           "coloraxis": "coloraxis",
           "customdata": [
            [
             0,
             0
            ],
            [
             0,
             0
            ],
            [
             0,
             0
            ],
            [
             0,
             0
            ],
            [
             0,
             0
            ],
            [
             0,
             0
            ],
            [
             0,
             0
            ],
            [
             0,
             0
            ],
            [
             0,
             0
            ],
            [
             0,
             0
            ],
            [
             0,
             0
            ],
            [
             0,
             1
            ],
            [
             0,
             0
            ],
            [
             0,
             0
            ],
            [
             0,
             0
            ],
            [
             4,
             31
            ],
            [
             0,
             0
            ],
            [
             0,
             0
            ],
            [
             0,
             0
            ],
            [
             0,
             0
            ],
            [
             0,
             0
            ],
            [
             0,
             2
            ],
            [
             0,
             0
            ],
            [
             0,
             0
            ],
            [
             0,
             0
            ],
            [
             0,
             0
            ],
            [
             0,
             0
            ],
            [
             0,
             0
            ],
            [
             0,
             0
            ],
            [
             0,
             0
            ],
            [
             0,
             2
            ],
            [
             0,
             0
            ],
            [
             0,
             0
            ],
            [
             0,
             0
            ],
            [
             0,
             0
            ],
            [
             0,
             0
            ],
            [
             0,
             0
            ],
            [
             0,
             0
            ],
            [
             0,
             0
            ]
           ],
           "geo": "geo",
           "hovertemplate": "<b>%{hovertext}</b><br><br>age=80<br>iso=%{location}<br> >50 =%{z}<br> <=50 =%{customdata[1]}<extra></extra>",
           "hovertext": [
            "TTO",
            "NIC",
            "POL",
            "KHM",
            "IRL",
            "HUN",
            "GBR",
            "IND",
            "HND",
            "NLO",
            "SLV",
            "PHL",
            "GTM",
            "ITA",
            "IRN",
            "USA",
            "FRA",
            "GRC",
            "PRI",
            "TWN",
            "ECU",
            "CAN",
            "HTI",
            "HKG",
            "VNM",
            "MEX",
            "THA",
            "JPN",
            "DEU",
            "LAO",
            "CAN",
            "CHN",
            "PRT",
            "GBR",
            "PER",
            "JAM",
            "CMR",
            "CUB",
            "DOM"
           ],
           "locations": [
            "TTO",
            "NIC",
            "POL",
            "KHM",
            "IRL",
            "HUN",
            "GBR",
            "IND",
            "HND",
            "NLO",
            "SLV",
            "PHL",
            "GTM",
            "ITA",
            "IRN",
            "USA",
            "FRA",
            "GRC",
            "PRI",
            "TWN",
            "ECU",
            "CAN",
            "HTI",
            "HKG",
            "VNM",
            "MEX",
            "THA",
            "JPN",
            "DEU",
            "LAO",
            "CAN",
            "CHN",
            "PRT",
            "GBR",
            "PER",
            "JAM",
            "CMR",
            "CUB",
            "DOM"
           ],
           "name": "",
           "type": "choropleth",
           "z": [
            0,
            0,
            0,
            0,
            0,
            0,
            0,
            0,
            0,
            0,
            0,
            0,
            0,
            0,
            0,
            4,
            0,
            0,
            0,
            0,
            0,
            0,
            0,
            0,
            0,
            0,
            0,
            0,
            0,
            0,
            0,
            0,
            0,
            0,
            0,
            0,
            0,
            0,
            0
           ]
          }
         ],
         "name": "80"
        },
        {
         "data": [
          {
           "coloraxis": "coloraxis",
           "customdata": [
            [
             0,
             0
            ],
            [
             0,
             0
            ],
            [
             0,
             1
            ],
            [
             0,
             0
            ],
            [
             0,
             0
            ],
            [
             0,
             1
            ],
            [
             0,
             0
            ],
            [
             0,
             0
            ],
            [
             0,
             1
            ],
            [
             0,
             0
            ],
            [
             0,
             0
            ],
            [
             0,
             0
            ],
            [
             0,
             0
            ],
            [
             0,
             0
            ],
            [
             0,
             0
            ],
            [
             0,
             0
            ],
            [
             0,
             0
            ],
            [
             0,
             0
            ],
            [
             0,
             1
            ],
            [
             0,
             0
            ],
            [
             0,
             0
            ],
            [
             0,
             0
            ],
            [
             0,
             0
            ],
            [
             0,
             0
            ],
            [
             0,
             0
            ],
            [
             0,
             0
            ],
            [
             0,
             0
            ],
            [
             7,
             25
            ],
            [
             0,
             0
            ],
            [
             0,
             0
            ],
            [
             0,
             1
            ],
            [
             0,
             0
            ],
            [
             0,
             0
            ],
            [
             0,
             0
            ],
            [
             0,
             0
            ],
            [
             0,
             0
            ],
            [
             0,
             0
            ],
            [
             0,
             0
            ],
            [
             0,
             0
            ]
           ],
           "geo": "geo",
           "hovertemplate": "<b>%{hovertext}</b><br><br>age=81<br>iso=%{location}<br> >50 =%{z}<br> <=50 =%{customdata[1]}<extra></extra>",
           "hovertext": [
            "NLO",
            "TTO",
            "GRC",
            "HKG",
            "FRA",
            "HUN",
            "CUB",
            "DEU",
            "MEX",
            "CMR",
            "GTM",
            "IRL",
            "IRN",
            "ITA",
            "SLV",
            "PRI",
            "NIC",
            "JAM",
            "POL",
            "CAN",
            "PHL",
            "GBR",
            "VNM",
            "THA",
            "ECU",
            "CHN",
            "CAN",
            "USA",
            "HTI",
            "LAO",
            "PRT",
            "HND",
            "PER",
            "DOM",
            "GBR",
            "IND",
            "JPN",
            "KHM",
            "TWN"
           ],
           "locations": [
            "NLO",
            "TTO",
            "GRC",
            "HKG",
            "FRA",
            "HUN",
            "CUB",
            "DEU",
            "MEX",
            "CMR",
            "GTM",
            "IRL",
            "IRN",
            "ITA",
            "SLV",
            "PRI",
            "NIC",
            "JAM",
            "POL",
            "CAN",
            "PHL",
            "GBR",
            "VNM",
            "THA",
            "ECU",
            "CHN",
            "CAN",
            "USA",
            "HTI",
            "LAO",
            "PRT",
            "HND",
            "PER",
            "DOM",
            "GBR",
            "IND",
            "JPN",
            "KHM",
            "TWN"
           ],
           "name": "",
           "type": "choropleth",
           "z": [
            0,
            0,
            0,
            0,
            0,
            0,
            0,
            0,
            0,
            0,
            0,
            0,
            0,
            0,
            0,
            0,
            0,
            0,
            0,
            0,
            0,
            0,
            0,
            0,
            0,
            0,
            0,
            7,
            0,
            0,
            0,
            0,
            0,
            0,
            0,
            0,
            0,
            0,
            0
           ]
          }
         ],
         "name": "81"
        },
        {
         "data": [
          {
           "coloraxis": "coloraxis",
           "customdata": [
            [
             0,
             0
            ],
            [
             0,
             0
            ],
            [
             0,
             0
            ],
            [
             0,
             0
            ],
            [
             0,
             0
            ],
            [
             0,
             0
            ],
            [
             0,
             0
            ],
            [
             0,
             0
            ],
            [
             0,
             0
            ],
            [
             0,
             0
            ],
            [
             0,
             0
            ],
            [
             0,
             0
            ],
            [
             0,
             0
            ],
            [
             0,
             0
            ],
            [
             0,
             0
            ],
            [
             0,
             0
            ],
            [
             0,
             0
            ],
            [
             0,
             0
            ],
            [
             0,
             0
            ],
            [
             0,
             0
            ],
            [
             0,
             0
            ],
            [
             0,
             0
            ],
            [
             0,
             0
            ],
            [
             0,
             0
            ],
            [
             0,
             0
            ],
            [
             0,
             0
            ],
            [
             0,
             14
            ],
            [
             0,
             0
            ],
            [
             0,
             0
            ],
            [
             0,
             0
            ],
            [
             0,
             1
            ],
            [
             0,
             0
            ],
            [
             0,
             0
            ],
            [
             0,
             0
            ],
            [
             0,
             0
            ],
            [
             0,
             0
            ],
            [
             0,
             0
            ],
            [
             0,
             0
            ],
            [
             0,
             0
            ]
           ],
           "geo": "geo",
           "hovertemplate": "<b>%{hovertext}</b><br><br>age=82<br>iso=%{location}<br> >50 =%{z}<br> <=50 =%{customdata[1]}<extra></extra>",
           "hovertext": [
            "SLV",
            "NIC",
            "HND",
            "CAN",
            "PER",
            "PHL",
            "LAO",
            "GBR",
            "GBR",
            "IND",
            "IRN",
            "THA",
            "HKG",
            "VNM",
            "GRC",
            "HUN",
            "TTO",
            "KHM",
            "CAN",
            "NLO",
            "DOM",
            "GTM",
            "TWN",
            "ECU",
            "CHN",
            "PRI",
            "USA",
            "IRL",
            "FRA",
            "ITA",
            "CUB",
            "JPN",
            "JAM",
            "HTI",
            "DEU",
            "MEX",
            "POL",
            "CMR",
            "PRT"
           ],
           "locations": [
            "SLV",
            "NIC",
            "HND",
            "CAN",
            "PER",
            "PHL",
            "LAO",
            "GBR",
            "GBR",
            "IND",
            "IRN",
            "THA",
            "HKG",
            "VNM",
            "GRC",
            "HUN",
            "TTO",
            "KHM",
            "CAN",
            "NLO",
            "DOM",
            "GTM",
            "TWN",
            "ECU",
            "CHN",
            "PRI",
            "USA",
            "IRL",
            "FRA",
            "ITA",
            "CUB",
            "JPN",
            "JAM",
            "HTI",
            "DEU",
            "MEX",
            "POL",
            "CMR",
            "PRT"
           ],
           "name": "",
           "type": "choropleth",
           "z": [
            0,
            0,
            0,
            0,
            0,
            0,
            0,
            0,
            0,
            0,
            0,
            0,
            0,
            0,
            0,
            0,
            0,
            0,
            0,
            0,
            0,
            0,
            0,
            0,
            0,
            0,
            0,
            0,
            0,
            0,
            0,
            0,
            0,
            0,
            0,
            0,
            0,
            0,
            0
           ]
          }
         ],
         "name": "82"
        },
        {
         "data": [
          {
           "coloraxis": "coloraxis",
           "customdata": [
            [
             0,
             0
            ],
            [
             0,
             0
            ],
            [
             0,
             0
            ],
            [
             0,
             0
            ],
            [
             0,
             0
            ],
            [
             0,
             0
            ],
            [
             0,
             0
            ],
            [
             0,
             0
            ],
            [
             0,
             0
            ],
            [
             0,
             0
            ],
            [
             0,
             0
            ],
            [
             0,
             0
            ],
            [
             0,
             0
            ],
            [
             0,
             0
            ],
            [
             0,
             0
            ],
            [
             0,
             0
            ],
            [
             0,
             0
            ],
            [
             0,
             0
            ],
            [
             0,
             0
            ],
            [
             0,
             0
            ],
            [
             2,
             9
            ],
            [
             0,
             0
            ],
            [
             0,
             0
            ],
            [
             0,
             0
            ],
            [
             0,
             0
            ],
            [
             0,
             0
            ],
            [
             0,
             0
            ],
            [
             0,
             0
            ],
            [
             0,
             0
            ],
            [
             0,
             0
            ],
            [
             0,
             0
            ],
            [
             0,
             0
            ],
            [
             0,
             0
            ],
            [
             0,
             0
            ],
            [
             0,
             0
            ],
            [
             0,
             0
            ],
            [
             0,
             0
            ],
            [
             0,
             0
            ],
            [
             0,
             0
            ]
           ],
           "geo": "geo",
           "hovertemplate": "<b>%{hovertext}</b><br><br>age=83<br>iso=%{location}<br> >50 =%{z}<br> <=50 =%{customdata[1]}<extra></extra>",
           "hovertext": [
            "MEX",
            "CHN",
            "PRI",
            "SLV",
            "PER",
            "GBR",
            "CAN",
            "JPN",
            "VNM",
            "ITA",
            "CUB",
            "CMR",
            "TWN",
            "CAN",
            "GRC",
            "PRT",
            "FRA",
            "KHM",
            "POL",
            "GTM",
            "USA",
            "IRN",
            "IND",
            "THA",
            "HND",
            "ECU",
            "LAO",
            "HTI",
            "NIC",
            "IRL",
            "HKG",
            "PHL",
            "GBR",
            "NLO",
            "HUN",
            "TTO",
            "JAM",
            "DEU",
            "DOM"
           ],
           "locations": [
            "MEX",
            "CHN",
            "PRI",
            "SLV",
            "PER",
            "GBR",
            "CAN",
            "JPN",
            "VNM",
            "ITA",
            "CUB",
            "CMR",
            "TWN",
            "CAN",
            "GRC",
            "PRT",
            "FRA",
            "KHM",
            "POL",
            "GTM",
            "USA",
            "IRN",
            "IND",
            "THA",
            "HND",
            "ECU",
            "LAO",
            "HTI",
            "NIC",
            "IRL",
            "HKG",
            "PHL",
            "GBR",
            "NLO",
            "HUN",
            "TTO",
            "JAM",
            "DEU",
            "DOM"
           ],
           "name": "",
           "type": "choropleth",
           "z": [
            0,
            0,
            0,
            0,
            0,
            0,
            0,
            0,
            0,
            0,
            0,
            0,
            0,
            0,
            0,
            0,
            0,
            0,
            0,
            0,
            2,
            0,
            0,
            0,
            0,
            0,
            0,
            0,
            0,
            0,
            0,
            0,
            0,
            0,
            0,
            0,
            0,
            0,
            0
           ]
          }
         ],
         "name": "83"
        },
        {
         "data": [
          {
           "coloraxis": "coloraxis",
           "customdata": [
            [
             0,
             0
            ],
            [
             0,
             0
            ],
            [
             0,
             0
            ],
            [
             0,
             0
            ],
            [
             0,
             0
            ],
            [
             0,
             0
            ],
            [
             0,
             0
            ],
            [
             0,
             0
            ],
            [
             0,
             0
            ],
            [
             0,
             0
            ],
            [
             0,
             0
            ],
            [
             0,
             0
            ],
            [
             0,
             0
            ],
            [
             0,
             0
            ],
            [
             1,
             11
            ],
            [
             0,
             0
            ],
            [
             0,
             0
            ],
            [
             0,
             0
            ],
            [
             0,
             0
            ],
            [
             0,
             0
            ],
            [
             0,
             0
            ],
            [
             0,
             0
            ],
            [
             0,
             0
            ],
            [
             0,
             0
            ],
            [
             0,
             0
            ],
            [
             0,
             0
            ],
            [
             0,
             0
            ],
            [
             0,
             0
            ],
            [
             0,
             1
            ],
            [
             0,
             0
            ],
            [
             0,
             0
            ],
            [
             0,
             0
            ],
            [
             0,
             0
            ],
            [
             0,
             0
            ],
            [
             0,
             0
            ],
            [
             0,
             0
            ],
            [
             0,
             0
            ],
            [
             0,
             1
            ],
            [
             0,
             0
            ]
           ],
           "geo": "geo",
           "hovertemplate": "<b>%{hovertext}</b><br><br>age=84<br>iso=%{location}<br> >50 =%{z}<br> <=50 =%{customdata[1]}<extra></extra>",
           "hovertext": [
            "VNM",
            "ITA",
            "JAM",
            "IRL",
            "GTM",
            "TTO",
            "DEU",
            "DOM",
            "ECU",
            "CMR",
            "CAN",
            "HUN",
            "KHM",
            "NLO",
            "USA",
            "TWN",
            "PER",
            "PRI",
            "FRA",
            "CHN",
            "MEX",
            "HTI",
            "HKG",
            "LAO",
            "CUB",
            "PRT",
            "NIC",
            "THA",
            "GBR",
            "HND",
            "JPN",
            "POL",
            "IND",
            "PHL",
            "CAN",
            "GRC",
            "IRN",
            "GBR",
            "SLV"
           ],
           "locations": [
            "VNM",
            "ITA",
            "JAM",
            "IRL",
            "GTM",
            "TTO",
            "DEU",
            "DOM",
            "ECU",
            "CMR",
            "CAN",
            "HUN",
            "KHM",
            "NLO",
            "USA",
            "TWN",
            "PER",
            "PRI",
            "FRA",
            "CHN",
            "MEX",
            "HTI",
            "HKG",
            "LAO",
            "CUB",
            "PRT",
            "NIC",
            "THA",
            "GBR",
            "HND",
            "JPN",
            "POL",
            "IND",
            "PHL",
            "CAN",
            "GRC",
            "IRN",
            "GBR",
            "SLV"
           ],
           "name": "",
           "type": "choropleth",
           "z": [
            0,
            0,
            0,
            0,
            0,
            0,
            0,
            0,
            0,
            0,
            0,
            0,
            0,
            0,
            1,
            0,
            0,
            0,
            0,
            0,
            0,
            0,
            0,
            0,
            0,
            0,
            0,
            0,
            0,
            0,
            0,
            0,
            0,
            0,
            0,
            0,
            0,
            0,
            0
           ]
          }
         ],
         "name": "84"
        },
        {
         "data": [
          {
           "coloraxis": "coloraxis",
           "customdata": [
            [
             0,
             0
            ],
            [
             0,
             0
            ],
            [
             0,
             0
            ],
            [
             0,
             0
            ],
            [
             0,
             0
            ],
            [
             0,
             0
            ],
            [
             0,
             0
            ],
            [
             0,
             0
            ],
            [
             0,
             1
            ],
            [
             0,
             0
            ],
            [
             0,
             0
            ],
            [
             0,
             0
            ],
            [
             0,
             0
            ],
            [
             0,
             0
            ],
            [
             0,
             0
            ],
            [
             0,
             0
            ],
            [
             0,
             0
            ],
            [
             0,
             0
            ],
            [
             0,
             0
            ],
            [
             0,
             0
            ],
            [
             1,
             3
            ],
            [
             0,
             0
            ],
            [
             0,
             0
            ],
            [
             0,
             0
            ],
            [
             0,
             0
            ],
            [
             0,
             0
            ],
            [
             0,
             0
            ],
            [
             0,
             0
            ],
            [
             0,
             0
            ],
            [
             0,
             0
            ],
            [
             0,
             0
            ],
            [
             0,
             0
            ],
            [
             0,
             0
            ],
            [
             0,
             0
            ],
            [
             0,
             0
            ],
            [
             0,
             0
            ],
            [
             0,
             0
            ],
            [
             0,
             0
            ],
            [
             0,
             0
            ]
           ],
           "geo": "geo",
           "hovertemplate": "<b>%{hovertext}</b><br><br>age=85<br>iso=%{location}<br> >50 =%{z}<br> <=50 =%{customdata[1]}<extra></extra>",
           "hovertext": [
            "LAO",
            "GBR",
            "CUB",
            "TTO",
            "JPN",
            "CAN",
            "GTM",
            "IND",
            "POL",
            "NIC",
            "HKG",
            "GRC",
            "HND",
            "THA",
            "IRN",
            "PHL",
            "GBR",
            "DEU",
            "JAM",
            "IRL",
            "USA",
            "ECU",
            "DOM",
            "HUN",
            "NLO",
            "HTI",
            "MEX",
            "PRT",
            "CAN",
            "CMR",
            "CHN",
            "KHM",
            "TWN",
            "PER",
            "SLV",
            "ITA",
            "VNM",
            "FRA",
            "PRI"
           ],
           "locations": [
            "LAO",
            "GBR",
            "CUB",
            "TTO",
            "JPN",
            "CAN",
            "GTM",
            "IND",
            "POL",
            "NIC",
            "HKG",
            "GRC",
            "HND",
            "THA",
            "IRN",
            "PHL",
            "GBR",
            "DEU",
            "JAM",
            "IRL",
            "USA",
            "ECU",
            "DOM",
            "HUN",
            "NLO",
            "HTI",
            "MEX",
            "PRT",
            "CAN",
            "CMR",
            "CHN",
            "KHM",
            "TWN",
            "PER",
            "SLV",
            "ITA",
            "VNM",
            "FRA",
            "PRI"
           ],
           "name": "",
           "type": "choropleth",
           "z": [
            0,
            0,
            0,
            0,
            0,
            0,
            0,
            0,
            0,
            0,
            0,
            0,
            0,
            0,
            0,
            0,
            0,
            0,
            0,
            0,
            1,
            0,
            0,
            0,
            0,
            0,
            0,
            0,
            0,
            0,
            0,
            0,
            0,
            0,
            0,
            0,
            0,
            0,
            0
           ]
          }
         ],
         "name": "85"
        },
        {
         "data": [
          {
           "coloraxis": "coloraxis",
           "customdata": [
            [
             0,
             0
            ],
            [
             0,
             0
            ],
            [
             0,
             0
            ],
            [
             0,
             0
            ],
            [
             0,
             0
            ],
            [
             0,
             0
            ],
            [
             0,
             0
            ],
            [
             0,
             0
            ],
            [
             0,
             0
            ],
            [
             0,
             0
            ],
            [
             0,
             0
            ],
            [
             0,
             0
            ],
            [
             0,
             0
            ],
            [
             0,
             0
            ],
            [
             0,
             0
            ],
            [
             0,
             0
            ],
            [
             0,
             0
            ],
            [
             0,
             0
            ],
            [
             0,
             0
            ],
            [
             0,
             0
            ],
            [
             0,
             0
            ],
            [
             0,
             0
            ],
            [
             0,
             0
            ],
            [
             0,
             1
            ],
            [
             0,
             0
            ],
            [
             0,
             0
            ],
            [
             0,
             0
            ],
            [
             0,
             0
            ],
            [
             0,
             0
            ],
            [
             0,
             0
            ],
            [
             0,
             0
            ],
            [
             0,
             0
            ],
            [
             0,
             0
            ],
            [
             0,
             0
            ],
            [
             0,
             0
            ],
            [
             0,
             0
            ],
            [
             0,
             0
            ],
            [
             0,
             0
            ],
            [
             0,
             0
            ]
           ],
           "geo": "geo",
           "hovertemplate": "<b>%{hovertext}</b><br><br>age=86<br>iso=%{location}<br> >50 =%{z}<br> <=50 =%{customdata[1]}<extra></extra>",
           "hovertext": [
            "CAN",
            "VNM",
            "DOM",
            "PRI",
            "IRL",
            "FRA",
            "GTM",
            "IND",
            "JPN",
            "SLV",
            "PHL",
            "THA",
            "MEX",
            "TTO",
            "HTI",
            "DEU",
            "CMR",
            "NLO",
            "GBR",
            "PER",
            "ITA",
            "IRN",
            "TWN",
            "USA",
            "CUB",
            "CAN",
            "HND",
            "GRC",
            "JAM",
            "PRT",
            "CHN",
            "LAO",
            "HUN",
            "POL",
            "GBR",
            "HKG",
            "KHM",
            "NIC",
            "ECU"
           ],
           "locations": [
            "CAN",
            "VNM",
            "DOM",
            "PRI",
            "IRL",
            "FRA",
            "GTM",
            "IND",
            "JPN",
            "SLV",
            "PHL",
            "THA",
            "MEX",
            "TTO",
            "HTI",
            "DEU",
            "CMR",
            "NLO",
            "GBR",
            "PER",
            "ITA",
            "IRN",
            "TWN",
            "USA",
            "CUB",
            "CAN",
            "HND",
            "GRC",
            "JAM",
            "PRT",
            "CHN",
            "LAO",
            "HUN",
            "POL",
            "GBR",
            "HKG",
            "KHM",
            "NIC",
            "ECU"
           ],
           "name": "",
           "type": "choropleth",
           "z": [
            0,
            0,
            0,
            0,
            0,
            0,
            0,
            0,
            0,
            0,
            0,
            0,
            0,
            0,
            0,
            0,
            0,
            0,
            0,
            0,
            0,
            0,
            0,
            0,
            0,
            0,
            0,
            0,
            0,
            0,
            0,
            0,
            0,
            0,
            0,
            0,
            0,
            0,
            0
           ]
          }
         ],
         "name": "86"
        },
        {
         "data": [
          {
           "coloraxis": "coloraxis",
           "customdata": [
            [
             0,
             0
            ],
            [
             0,
             0
            ],
            [
             0,
             0
            ],
            [
             0,
             0
            ],
            [
             0,
             0
            ],
            [
             0,
             0
            ],
            [
             0,
             3
            ],
            [
             0,
             0
            ],
            [
             0,
             0
            ],
            [
             0,
             0
            ],
            [
             0,
             0
            ],
            [
             0,
             0
            ],
            [
             0,
             0
            ],
            [
             0,
             0
            ],
            [
             0,
             0
            ],
            [
             0,
             0
            ],
            [
             0,
             0
            ],
            [
             0,
             0
            ],
            [
             0,
             0
            ],
            [
             0,
             0
            ],
            [
             0,
             0
            ],
            [
             0,
             0
            ],
            [
             0,
             0
            ],
            [
             0,
             0
            ],
            [
             0,
             0
            ],
            [
             0,
             0
            ],
            [
             0,
             0
            ],
            [
             0,
             0
            ],
            [
             0,
             0
            ],
            [
             0,
             0
            ],
            [
             0,
             0
            ],
            [
             0,
             0
            ],
            [
             0,
             0
            ],
            [
             0,
             0
            ],
            [
             0,
             0
            ],
            [
             0,
             0
            ],
            [
             0,
             0
            ],
            [
             0,
             0
            ],
            [
             0,
             0
            ]
           ],
           "geo": "geo",
           "hovertemplate": "<b>%{hovertext}</b><br><br>age=87<br>iso=%{location}<br> >50 =%{z}<br> <=50 =%{customdata[1]}<extra></extra>",
           "hovertext": [
            "POL",
            "PHL",
            "CUB",
            "CAN",
            "IRL",
            "CMR",
            "USA",
            "ECU",
            "SLV",
            "GBR",
            "HUN",
            "NIC",
            "VNM",
            "IRN",
            "ITA",
            "KHM",
            "DEU",
            "MEX",
            "TWN",
            "HND",
            "GTM",
            "JPN",
            "NLO",
            "FRA",
            "LAO",
            "THA",
            "HKG",
            "CHN",
            "TTO",
            "DOM",
            "IND",
            "PER",
            "CAN",
            "GRC",
            "JAM",
            "GBR",
            "PRI",
            "PRT",
            "HTI"
           ],
           "locations": [
            "POL",
            "PHL",
            "CUB",
            "CAN",
            "IRL",
            "CMR",
            "USA",
            "ECU",
            "SLV",
            "GBR",
            "HUN",
            "NIC",
            "VNM",
            "IRN",
            "ITA",
            "KHM",
            "DEU",
            "MEX",
            "TWN",
            "HND",
            "GTM",
            "JPN",
            "NLO",
            "FRA",
            "LAO",
            "THA",
            "HKG",
            "CHN",
            "TTO",
            "DOM",
            "IND",
            "PER",
            "CAN",
            "GRC",
            "JAM",
            "GBR",
            "PRI",
            "PRT",
            "HTI"
           ],
           "name": "",
           "type": "choropleth",
           "z": [
            0,
            0,
            0,
            0,
            0,
            0,
            0,
            0,
            0,
            0,
            0,
            0,
            0,
            0,
            0,
            0,
            0,
            0,
            0,
            0,
            0,
            0,
            0,
            0,
            0,
            0,
            0,
            0,
            0,
            0,
            0,
            0,
            0,
            0,
            0,
            0,
            0,
            0,
            0
           ]
          }
         ],
         "name": "87"
        },
        {
         "data": [
          {
           "coloraxis": "coloraxis",
           "customdata": [
            [
             0,
             0
            ],
            [
             0,
             0
            ],
            [
             0,
             0
            ],
            [
             0,
             0
            ],
            [
             0,
             0
            ],
            [
             0,
             0
            ],
            [
             0,
             0
            ],
            [
             0,
             0
            ],
            [
             0,
             0
            ],
            [
             0,
             0
            ],
            [
             0,
             0
            ],
            [
             0,
             0
            ],
            [
             0,
             0
            ],
            [
             0,
             0
            ],
            [
             0,
             0
            ],
            [
             0,
             0
            ],
            [
             0,
             0
            ],
            [
             0,
             0
            ],
            [
             0,
             0
            ],
            [
             0,
             0
            ],
            [
             0,
             0
            ],
            [
             0,
             0
            ],
            [
             0,
             0
            ],
            [
             0,
             0
            ],
            [
             1,
             5
            ],
            [
             0,
             0
            ],
            [
             0,
             0
            ],
            [
             0,
             0
            ],
            [
             0,
             0
            ],
            [
             0,
             0
            ],
            [
             0,
             0
            ],
            [
             0,
             0
            ],
            [
             0,
             0
            ],
            [
             0,
             0
            ],
            [
             0,
             0
            ],
            [
             0,
             0
            ],
            [
             0,
             0
            ],
            [
             0,
             0
            ],
            [
             0,
             0
            ]
           ],
           "geo": "geo",
           "hovertemplate": "<b>%{hovertext}</b><br><br>age=88<br>iso=%{location}<br> >50 =%{z}<br> <=50 =%{customdata[1]}<extra></extra>",
           "hovertext": [
            "PHL",
            "FRA",
            "PER",
            "HTI",
            "IRN",
            "HKG",
            "CHN",
            "PRT",
            "SLV",
            "THA",
            "CAN",
            "HND",
            "KHM",
            "PRI",
            "NLO",
            "GTM",
            "ECU",
            "IND",
            "HUN",
            "POL",
            "LAO",
            "DOM",
            "TTO",
            "JPN",
            "USA",
            "CAN",
            "JAM",
            "GRC",
            "GBR",
            "VNM",
            "ITA",
            "DEU",
            "GBR",
            "TWN",
            "MEX",
            "NIC",
            "IRL",
            "CUB",
            "CMR"
           ],
           "locations": [
            "PHL",
            "FRA",
            "PER",
            "HTI",
            "IRN",
            "HKG",
            "CHN",
            "PRT",
            "SLV",
            "THA",
            "CAN",
            "HND",
            "KHM",
            "PRI",
            "NLO",
            "GTM",
            "ECU",
            "IND",
            "HUN",
            "POL",
            "LAO",
            "DOM",
            "TTO",
            "JPN",
            "USA",
            "CAN",
            "JAM",
            "GRC",
            "GBR",
            "VNM",
            "ITA",
            "DEU",
            "GBR",
            "TWN",
            "MEX",
            "NIC",
            "IRL",
            "CUB",
            "CMR"
           ],
           "name": "",
           "type": "choropleth",
           "z": [
            0,
            0,
            0,
            0,
            0,
            0,
            0,
            0,
            0,
            0,
            0,
            0,
            0,
            0,
            0,
            0,
            0,
            0,
            0,
            0,
            0,
            0,
            0,
            0,
            1,
            0,
            0,
            0,
            0,
            0,
            0,
            0,
            0,
            0,
            0,
            0,
            0,
            0,
            0
           ]
          }
         ],
         "name": "88"
        },
        {
         "data": [
          {
           "coloraxis": "coloraxis",
           "customdata": [
            [
             0,
             2
            ],
            [
             0,
             0
            ],
            [
             0,
             0
            ],
            [
             0,
             0
            ],
            [
             0,
             0
            ],
            [
             0,
             0
            ],
            [
             0,
             0
            ],
            [
             0,
             0
            ],
            [
             0,
             0
            ],
            [
             0,
             0
            ],
            [
             0,
             0
            ],
            [
             0,
             0
            ],
            [
             0,
             0
            ],
            [
             0,
             0
            ],
            [
             0,
             0
            ],
            [
             0,
             0
            ],
            [
             0,
             0
            ],
            [
             0,
             0
            ],
            [
             0,
             0
            ],
            [
             0,
             0
            ],
            [
             0,
             0
            ],
            [
             0,
             0
            ],
            [
             0,
             0
            ],
            [
             0,
             0
            ],
            [
             0,
             0
            ],
            [
             0,
             0
            ],
            [
             0,
             0
            ],
            [
             0,
             0
            ],
            [
             0,
             0
            ],
            [
             0,
             0
            ],
            [
             0,
             0
            ],
            [
             0,
             0
            ],
            [
             0,
             0
            ],
            [
             0,
             0
            ],
            [
             0,
             0
            ],
            [
             0,
             0
            ],
            [
             0,
             0
            ],
            [
             0,
             0
            ],
            [
             0,
             0
            ]
           ],
           "geo": "geo",
           "hovertemplate": "<b>%{hovertext}</b><br><br>age=89<br>iso=%{location}<br> >50 =%{z}<br> <=50 =%{customdata[1]}<extra></extra>",
           "hovertext": [
            "USA",
            "THA",
            "DOM",
            "JAM",
            "ECU",
            "PHL",
            "IRN",
            "GBR",
            "HUN",
            "DEU",
            "NLO",
            "HND",
            "IRL",
            "PRT",
            "TWN",
            "CAN",
            "CMR",
            "JPN",
            "NIC",
            "VNM",
            "GBR",
            "ITA",
            "PRI",
            "TTO",
            "PER",
            "CAN",
            "GRC",
            "SLV",
            "LAO",
            "CUB",
            "POL",
            "KHM",
            "GTM",
            "HKG",
            "HTI",
            "IND",
            "CHN",
            "FRA",
            "MEX"
           ],
           "locations": [
            "USA",
            "THA",
            "DOM",
            "JAM",
            "ECU",
            "PHL",
            "IRN",
            "GBR",
            "HUN",
            "DEU",
            "NLO",
            "HND",
            "IRL",
            "PRT",
            "TWN",
            "CAN",
            "CMR",
            "JPN",
            "NIC",
            "VNM",
            "GBR",
            "ITA",
            "PRI",
            "TTO",
            "PER",
            "CAN",
            "GRC",
            "SLV",
            "LAO",
            "CUB",
            "POL",
            "KHM",
            "GTM",
            "HKG",
            "HTI",
            "IND",
            "CHN",
            "FRA",
            "MEX"
           ],
           "name": "",
           "type": "choropleth",
           "z": [
            0,
            0,
            0,
            0,
            0,
            0,
            0,
            0,
            0,
            0,
            0,
            0,
            0,
            0,
            0,
            0,
            0,
            0,
            0,
            0,
            0,
            0,
            0,
            0,
            0,
            0,
            0,
            0,
            0,
            0,
            0,
            0,
            0,
            0,
            0,
            0,
            0,
            0,
            0
           ]
          }
         ],
         "name": "89"
        },
        {
         "data": [
          {
           "coloraxis": "coloraxis",
           "customdata": [
            [
             0,
             0
            ],
            [
             0,
             0
            ],
            [
             0,
             0
            ],
            [
             0,
             0
            ],
            [
             0,
             0
            ],
            [
             0,
             0
            ],
            [
             0,
             0
            ],
            [
             0,
             0
            ],
            [
             1,
             0
            ],
            [
             11,
             37
            ],
            [
             0,
             0
            ],
            [
             0,
             0
            ],
            [
             0,
             0
            ],
            [
             1,
             0
            ],
            [
             0,
             0
            ],
            [
             0,
             0
            ],
            [
             0,
             0
            ],
            [
             0,
             0
            ],
            [
             0,
             0
            ],
            [
             0,
             0
            ],
            [
             0,
             0
            ],
            [
             0,
             0
            ],
            [
             0,
             0
            ],
            [
             0,
             0
            ],
            [
             0,
             0
            ],
            [
             0,
             0
            ],
            [
             0,
             0
            ],
            [
             0,
             1
            ],
            [
             0,
             0
            ],
            [
             1,
             0
            ],
            [
             0,
             1
            ],
            [
             0,
             0
            ],
            [
             0,
             0
            ],
            [
             0,
             2
            ],
            [
             0,
             0
            ],
            [
             0,
             0
            ],
            [
             0,
             0
            ],
            [
             0,
             0
            ],
            [
             0,
             0
            ]
           ],
           "geo": "geo",
           "hovertemplate": "<b>%{hovertext}</b><br><br>age=90<br>iso=%{location}<br> >50 =%{z}<br> <=50 =%{customdata[1]}<extra></extra>",
           "hovertext": [
            "KHM",
            "JPN",
            "CUB",
            "GTM",
            "IRL",
            "TTO",
            "DOM",
            "IND",
            "ECU",
            "USA",
            "NLO",
            "LAO",
            "POL",
            "GBR",
            "HKG",
            "GRC",
            "HTI",
            "NIC",
            "CHN",
            "HND",
            "FRA",
            "SLV",
            "PRT",
            "THA",
            "IRN",
            "PER",
            "MEX",
            "PRI",
            "CAN",
            "GBR",
            "PHL",
            "VNM",
            "ITA",
            "CMR",
            "TWN",
            "DEU",
            "JAM",
            "CAN",
            "HUN"
           ],
           "locations": [
            "KHM",
            "JPN",
            "CUB",
            "GTM",
            "IRL",
            "TTO",
            "DOM",
            "IND",
            "ECU",
            "USA",
            "NLO",
            "LAO",
            "POL",
            "GBR",
            "HKG",
            "GRC",
            "HTI",
            "NIC",
            "CHN",
            "HND",
            "FRA",
            "SLV",
            "PRT",
            "THA",
            "IRN",
            "PER",
            "MEX",
            "PRI",
            "CAN",
            "GBR",
            "PHL",
            "VNM",
            "ITA",
            "CMR",
            "TWN",
            "DEU",
            "JAM",
            "CAN",
            "HUN"
           ],
           "name": "",
           "type": "choropleth",
           "z": [
            0,
            0,
            0,
            0,
            0,
            0,
            0,
            0,
            1,
            11,
            0,
            0,
            0,
            1,
            0,
            0,
            0,
            0,
            0,
            0,
            0,
            0,
            0,
            0,
            0,
            0,
            0,
            0,
            0,
            1,
            0,
            0,
            0,
            0,
            0,
            0,
            0,
            0,
            0
           ]
          }
         ],
         "name": "90"
        }
       ],
       "layout": {
        "coloraxis": {
         "colorbar": {
          "title": {
           "text": " >50 "
          }
         },
         "colorscale": [
          [
           0,
           "rgb(247,244,249)"
          ],
          [
           0.125,
           "rgb(231,225,239)"
          ],
          [
           0.25,
           "rgb(212,185,218)"
          ],
          [
           0.375,
           "rgb(201,148,199)"
          ],
          [
           0.5,
           "rgb(223,101,176)"
          ],
          [
           0.625,
           "rgb(231,41,138)"
          ],
          [
           0.75,
           "rgb(206,18,86)"
          ],
          [
           0.875,
           "rgb(152,0,67)"
          ],
          [
           1,
           "rgb(103,0,31)"
          ]
         ]
        },
        "geo": {
         "center": {},
         "domain": {
          "x": [
           0,
           1
          ],
          "y": [
           0,
           1
          ]
         }
        },
        "legend": {
         "tracegroupgap": 0
        },
        "sliders": [
         {
          "active": 0,
          "currentvalue": {
           "prefix": "age="
          },
          "len": 0.9,
          "pad": {
           "b": 10,
           "t": 60
          },
          "steps": [
           {
            "args": [
             [
              "17"
             ],
             {
              "frame": {
               "duration": 0,
               "redraw": true
              },
              "fromcurrent": true,
              "mode": "immediate",
              "transition": {
               "duration": 0,
               "easing": "linear"
              }
             }
            ],
            "label": "17",
            "method": "animate"
           },
           {
            "args": [
             [
              "18"
             ],
             {
              "frame": {
               "duration": 0,
               "redraw": true
              },
              "fromcurrent": true,
              "mode": "immediate",
              "transition": {
               "duration": 0,
               "easing": "linear"
              }
             }
            ],
            "label": "18",
            "method": "animate"
           },
           {
            "args": [
             [
              "19"
             ],
             {
              "frame": {
               "duration": 0,
               "redraw": true
              },
              "fromcurrent": true,
              "mode": "immediate",
              "transition": {
               "duration": 0,
               "easing": "linear"
              }
             }
            ],
            "label": "19",
            "method": "animate"
           },
           {
            "args": [
             [
              "20"
             ],
             {
              "frame": {
               "duration": 0,
               "redraw": true
              },
              "fromcurrent": true,
              "mode": "immediate",
              "transition": {
               "duration": 0,
               "easing": "linear"
              }
             }
            ],
            "label": "20",
            "method": "animate"
           },
           {
            "args": [
             [
              "21"
             ],
             {
              "frame": {
               "duration": 0,
               "redraw": true
              },
              "fromcurrent": true,
              "mode": "immediate",
              "transition": {
               "duration": 0,
               "easing": "linear"
              }
             }
            ],
            "label": "21",
            "method": "animate"
           },
           {
            "args": [
             [
              "22"
             ],
             {
              "frame": {
               "duration": 0,
               "redraw": true
              },
              "fromcurrent": true,
              "mode": "immediate",
              "transition": {
               "duration": 0,
               "easing": "linear"
              }
             }
            ],
            "label": "22",
            "method": "animate"
           },
           {
            "args": [
             [
              "23"
             ],
             {
              "frame": {
               "duration": 0,
               "redraw": true
              },
              "fromcurrent": true,
              "mode": "immediate",
              "transition": {
               "duration": 0,
               "easing": "linear"
              }
             }
            ],
            "label": "23",
            "method": "animate"
           },
           {
            "args": [
             [
              "24"
             ],
             {
              "frame": {
               "duration": 0,
               "redraw": true
              },
              "fromcurrent": true,
              "mode": "immediate",
              "transition": {
               "duration": 0,
               "easing": "linear"
              }
             }
            ],
            "label": "24",
            "method": "animate"
           },
           {
            "args": [
             [
              "25"
             ],
             {
              "frame": {
               "duration": 0,
               "redraw": true
              },
              "fromcurrent": true,
              "mode": "immediate",
              "transition": {
               "duration": 0,
               "easing": "linear"
              }
             }
            ],
            "label": "25",
            "method": "animate"
           },
           {
            "args": [
             [
              "26"
             ],
             {
              "frame": {
               "duration": 0,
               "redraw": true
              },
              "fromcurrent": true,
              "mode": "immediate",
              "transition": {
               "duration": 0,
               "easing": "linear"
              }
             }
            ],
            "label": "26",
            "method": "animate"
           },
           {
            "args": [
             [
              "27"
             ],
             {
              "frame": {
               "duration": 0,
               "redraw": true
              },
              "fromcurrent": true,
              "mode": "immediate",
              "transition": {
               "duration": 0,
               "easing": "linear"
              }
             }
            ],
            "label": "27",
            "method": "animate"
           },
           {
            "args": [
             [
              "28"
             ],
             {
              "frame": {
               "duration": 0,
               "redraw": true
              },
              "fromcurrent": true,
              "mode": "immediate",
              "transition": {
               "duration": 0,
               "easing": "linear"
              }
             }
            ],
            "label": "28",
            "method": "animate"
           },
           {
            "args": [
             [
              "29"
             ],
             {
              "frame": {
               "duration": 0,
               "redraw": true
              },
              "fromcurrent": true,
              "mode": "immediate",
              "transition": {
               "duration": 0,
               "easing": "linear"
              }
             }
            ],
            "label": "29",
            "method": "animate"
           },
           {
            "args": [
             [
              "30"
             ],
             {
              "frame": {
               "duration": 0,
               "redraw": true
              },
              "fromcurrent": true,
              "mode": "immediate",
              "transition": {
               "duration": 0,
               "easing": "linear"
              }
             }
            ],
            "label": "30",
            "method": "animate"
           },
           {
            "args": [
             [
              "31"
             ],
             {
              "frame": {
               "duration": 0,
               "redraw": true
              },
              "fromcurrent": true,
              "mode": "immediate",
              "transition": {
               "duration": 0,
               "easing": "linear"
              }
             }
            ],
            "label": "31",
            "method": "animate"
           },
           {
            "args": [
             [
              "32"
             ],
             {
              "frame": {
               "duration": 0,
               "redraw": true
              },
              "fromcurrent": true,
              "mode": "immediate",
              "transition": {
               "duration": 0,
               "easing": "linear"
              }
             }
            ],
            "label": "32",
            "method": "animate"
           },
           {
            "args": [
             [
              "33"
             ],
             {
              "frame": {
               "duration": 0,
               "redraw": true
              },
              "fromcurrent": true,
              "mode": "immediate",
              "transition": {
               "duration": 0,
               "easing": "linear"
              }
             }
            ],
            "label": "33",
            "method": "animate"
           },
           {
            "args": [
             [
              "34"
             ],
             {
              "frame": {
               "duration": 0,
               "redraw": true
              },
              "fromcurrent": true,
              "mode": "immediate",
              "transition": {
               "duration": 0,
               "easing": "linear"
              }
             }
            ],
            "label": "34",
            "method": "animate"
           },
           {
            "args": [
             [
              "35"
             ],
             {
              "frame": {
               "duration": 0,
               "redraw": true
              },
              "fromcurrent": true,
              "mode": "immediate",
              "transition": {
               "duration": 0,
               "easing": "linear"
              }
             }
            ],
            "label": "35",
            "method": "animate"
           },
           {
            "args": [
             [
              "36"
             ],
             {
              "frame": {
               "duration": 0,
               "redraw": true
              },
              "fromcurrent": true,
              "mode": "immediate",
              "transition": {
               "duration": 0,
               "easing": "linear"
              }
             }
            ],
            "label": "36",
            "method": "animate"
           },
           {
            "args": [
             [
              "37"
             ],
             {
              "frame": {
               "duration": 0,
               "redraw": true
              },
              "fromcurrent": true,
              "mode": "immediate",
              "transition": {
               "duration": 0,
               "easing": "linear"
              }
             }
            ],
            "label": "37",
            "method": "animate"
           },
           {
            "args": [
             [
              "38"
             ],
             {
              "frame": {
               "duration": 0,
               "redraw": true
              },
              "fromcurrent": true,
              "mode": "immediate",
              "transition": {
               "duration": 0,
               "easing": "linear"
              }
             }
            ],
            "label": "38",
            "method": "animate"
           },
           {
            "args": [
             [
              "39"
             ],
             {
              "frame": {
               "duration": 0,
               "redraw": true
              },
              "fromcurrent": true,
              "mode": "immediate",
              "transition": {
               "duration": 0,
               "easing": "linear"
              }
             }
            ],
            "label": "39",
            "method": "animate"
           },
           {
            "args": [
             [
              "40"
             ],
             {
              "frame": {
               "duration": 0,
               "redraw": true
              },
              "fromcurrent": true,
              "mode": "immediate",
              "transition": {
               "duration": 0,
               "easing": "linear"
              }
             }
            ],
            "label": "40",
            "method": "animate"
           },
           {
            "args": [
             [
              "41"
             ],
             {
              "frame": {
               "duration": 0,
               "redraw": true
              },
              "fromcurrent": true,
              "mode": "immediate",
              "transition": {
               "duration": 0,
               "easing": "linear"
              }
             }
            ],
            "label": "41",
            "method": "animate"
           },
           {
            "args": [
             [
              "42"
             ],
             {
              "frame": {
               "duration": 0,
               "redraw": true
              },
              "fromcurrent": true,
              "mode": "immediate",
              "transition": {
               "duration": 0,
               "easing": "linear"
              }
             }
            ],
            "label": "42",
            "method": "animate"
           },
           {
            "args": [
             [
              "43"
             ],
             {
              "frame": {
               "duration": 0,
               "redraw": true
              },
              "fromcurrent": true,
              "mode": "immediate",
              "transition": {
               "duration": 0,
               "easing": "linear"
              }
             }
            ],
            "label": "43",
            "method": "animate"
           },
           {
            "args": [
             [
              "44"
             ],
             {
              "frame": {
               "duration": 0,
               "redraw": true
              },
              "fromcurrent": true,
              "mode": "immediate",
              "transition": {
               "duration": 0,
               "easing": "linear"
              }
             }
            ],
            "label": "44",
            "method": "animate"
           },
           {
            "args": [
             [
              "45"
             ],
             {
              "frame": {
               "duration": 0,
               "redraw": true
              },
              "fromcurrent": true,
              "mode": "immediate",
              "transition": {
               "duration": 0,
               "easing": "linear"
              }
             }
            ],
            "label": "45",
            "method": "animate"
           },
           {
            "args": [
             [
              "46"
             ],
             {
              "frame": {
               "duration": 0,
               "redraw": true
              },
              "fromcurrent": true,
              "mode": "immediate",
              "transition": {
               "duration": 0,
               "easing": "linear"
              }
             }
            ],
            "label": "46",
            "method": "animate"
           },
           {
            "args": [
             [
              "47"
             ],
             {
              "frame": {
               "duration": 0,
               "redraw": true
              },
              "fromcurrent": true,
              "mode": "immediate",
              "transition": {
               "duration": 0,
               "easing": "linear"
              }
             }
            ],
            "label": "47",
            "method": "animate"
           },
           {
            "args": [
             [
              "48"
             ],
             {
              "frame": {
               "duration": 0,
               "redraw": true
              },
              "fromcurrent": true,
              "mode": "immediate",
              "transition": {
               "duration": 0,
               "easing": "linear"
              }
             }
            ],
            "label": "48",
            "method": "animate"
           },
           {
            "args": [
             [
              "49"
             ],
             {
              "frame": {
               "duration": 0,
               "redraw": true
              },
              "fromcurrent": true,
              "mode": "immediate",
              "transition": {
               "duration": 0,
               "easing": "linear"
              }
             }
            ],
            "label": "49",
            "method": "animate"
           },
           {
            "args": [
             [
              "50"
             ],
             {
              "frame": {
               "duration": 0,
               "redraw": true
              },
              "fromcurrent": true,
              "mode": "immediate",
              "transition": {
               "duration": 0,
               "easing": "linear"
              }
             }
            ],
            "label": "50",
            "method": "animate"
           },
           {
            "args": [
             [
              "51"
             ],
             {
              "frame": {
               "duration": 0,
               "redraw": true
              },
              "fromcurrent": true,
              "mode": "immediate",
              "transition": {
               "duration": 0,
               "easing": "linear"
              }
             }
            ],
            "label": "51",
            "method": "animate"
           },
           {
            "args": [
             [
              "52"
             ],
             {
              "frame": {
               "duration": 0,
               "redraw": true
              },
              "fromcurrent": true,
              "mode": "immediate",
              "transition": {
               "duration": 0,
               "easing": "linear"
              }
             }
            ],
            "label": "52",
            "method": "animate"
           },
           {
            "args": [
             [
              "53"
             ],
             {
              "frame": {
               "duration": 0,
               "redraw": true
              },
              "fromcurrent": true,
              "mode": "immediate",
              "transition": {
               "duration": 0,
               "easing": "linear"
              }
             }
            ],
            "label": "53",
            "method": "animate"
           },
           {
            "args": [
             [
              "54"
             ],
             {
              "frame": {
               "duration": 0,
               "redraw": true
              },
              "fromcurrent": true,
              "mode": "immediate",
              "transition": {
               "duration": 0,
               "easing": "linear"
              }
             }
            ],
            "label": "54",
            "method": "animate"
           },
           {
            "args": [
             [
              "55"
             ],
             {
              "frame": {
               "duration": 0,
               "redraw": true
              },
              "fromcurrent": true,
              "mode": "immediate",
              "transition": {
               "duration": 0,
               "easing": "linear"
              }
             }
            ],
            "label": "55",
            "method": "animate"
           },
           {
            "args": [
             [
              "56"
             ],
             {
              "frame": {
               "duration": 0,
               "redraw": true
              },
              "fromcurrent": true,
              "mode": "immediate",
              "transition": {
               "duration": 0,
               "easing": "linear"
              }
             }
            ],
            "label": "56",
            "method": "animate"
           },
           {
            "args": [
             [
              "57"
             ],
             {
              "frame": {
               "duration": 0,
               "redraw": true
              },
              "fromcurrent": true,
              "mode": "immediate",
              "transition": {
               "duration": 0,
               "easing": "linear"
              }
             }
            ],
            "label": "57",
            "method": "animate"
           },
           {
            "args": [
             [
              "58"
             ],
             {
              "frame": {
               "duration": 0,
               "redraw": true
              },
              "fromcurrent": true,
              "mode": "immediate",
              "transition": {
               "duration": 0,
               "easing": "linear"
              }
             }
            ],
            "label": "58",
            "method": "animate"
           },
           {
            "args": [
             [
              "59"
             ],
             {
              "frame": {
               "duration": 0,
               "redraw": true
              },
              "fromcurrent": true,
              "mode": "immediate",
              "transition": {
               "duration": 0,
               "easing": "linear"
              }
             }
            ],
            "label": "59",
            "method": "animate"
           },
           {
            "args": [
             [
              "60"
             ],
             {
              "frame": {
               "duration": 0,
               "redraw": true
              },
              "fromcurrent": true,
              "mode": "immediate",
              "transition": {
               "duration": 0,
               "easing": "linear"
              }
             }
            ],
            "label": "60",
            "method": "animate"
           },
           {
            "args": [
             [
              "61"
             ],
             {
              "frame": {
               "duration": 0,
               "redraw": true
              },
              "fromcurrent": true,
              "mode": "immediate",
              "transition": {
               "duration": 0,
               "easing": "linear"
              }
             }
            ],
            "label": "61",
            "method": "animate"
           },
           {
            "args": [
             [
              "62"
             ],
             {
              "frame": {
               "duration": 0,
               "redraw": true
              },
              "fromcurrent": true,
              "mode": "immediate",
              "transition": {
               "duration": 0,
               "easing": "linear"
              }
             }
            ],
            "label": "62",
            "method": "animate"
           },
           {
            "args": [
             [
              "63"
             ],
             {
              "frame": {
               "duration": 0,
               "redraw": true
              },
              "fromcurrent": true,
              "mode": "immediate",
              "transition": {
               "duration": 0,
               "easing": "linear"
              }
             }
            ],
            "label": "63",
            "method": "animate"
           },
           {
            "args": [
             [
              "64"
             ],
             {
              "frame": {
               "duration": 0,
               "redraw": true
              },
              "fromcurrent": true,
              "mode": "immediate",
              "transition": {
               "duration": 0,
               "easing": "linear"
              }
             }
            ],
            "label": "64",
            "method": "animate"
           },
           {
            "args": [
             [
              "65"
             ],
             {
              "frame": {
               "duration": 0,
               "redraw": true
              },
              "fromcurrent": true,
              "mode": "immediate",
              "transition": {
               "duration": 0,
               "easing": "linear"
              }
             }
            ],
            "label": "65",
            "method": "animate"
           },
           {
            "args": [
             [
              "66"
             ],
             {
              "frame": {
               "duration": 0,
               "redraw": true
              },
              "fromcurrent": true,
              "mode": "immediate",
              "transition": {
               "duration": 0,
               "easing": "linear"
              }
             }
            ],
            "label": "66",
            "method": "animate"
           },
           {
            "args": [
             [
              "67"
             ],
             {
              "frame": {
               "duration": 0,
               "redraw": true
              },
              "fromcurrent": true,
              "mode": "immediate",
              "transition": {
               "duration": 0,
               "easing": "linear"
              }
             }
            ],
            "label": "67",
            "method": "animate"
           },
           {
            "args": [
             [
              "68"
             ],
             {
              "frame": {
               "duration": 0,
               "redraw": true
              },
              "fromcurrent": true,
              "mode": "immediate",
              "transition": {
               "duration": 0,
               "easing": "linear"
              }
             }
            ],
            "label": "68",
            "method": "animate"
           },
           {
            "args": [
             [
              "69"
             ],
             {
              "frame": {
               "duration": 0,
               "redraw": true
              },
              "fromcurrent": true,
              "mode": "immediate",
              "transition": {
               "duration": 0,
               "easing": "linear"
              }
             }
            ],
            "label": "69",
            "method": "animate"
           },
           {
            "args": [
             [
              "70"
             ],
             {
              "frame": {
               "duration": 0,
               "redraw": true
              },
              "fromcurrent": true,
              "mode": "immediate",
              "transition": {
               "duration": 0,
               "easing": "linear"
              }
             }
            ],
            "label": "70",
            "method": "animate"
           },
           {
            "args": [
             [
              "71"
             ],
             {
              "frame": {
               "duration": 0,
               "redraw": true
              },
              "fromcurrent": true,
              "mode": "immediate",
              "transition": {
               "duration": 0,
               "easing": "linear"
              }
             }
            ],
            "label": "71",
            "method": "animate"
           },
           {
            "args": [
             [
              "72"
             ],
             {
              "frame": {
               "duration": 0,
               "redraw": true
              },
              "fromcurrent": true,
              "mode": "immediate",
              "transition": {
               "duration": 0,
               "easing": "linear"
              }
             }
            ],
            "label": "72",
            "method": "animate"
           },
           {
            "args": [
             [
              "73"
             ],
             {
              "frame": {
               "duration": 0,
               "redraw": true
              },
              "fromcurrent": true,
              "mode": "immediate",
              "transition": {
               "duration": 0,
               "easing": "linear"
              }
             }
            ],
            "label": "73",
            "method": "animate"
           },
           {
            "args": [
             [
              "74"
             ],
             {
              "frame": {
               "duration": 0,
               "redraw": true
              },
              "fromcurrent": true,
              "mode": "immediate",
              "transition": {
               "duration": 0,
               "easing": "linear"
              }
             }
            ],
            "label": "74",
            "method": "animate"
           },
           {
            "args": [
             [
              "75"
             ],
             {
              "frame": {
               "duration": 0,
               "redraw": true
              },
              "fromcurrent": true,
              "mode": "immediate",
              "transition": {
               "duration": 0,
               "easing": "linear"
              }
             }
            ],
            "label": "75",
            "method": "animate"
           },
           {
            "args": [
             [
              "76"
             ],
             {
              "frame": {
               "duration": 0,
               "redraw": true
              },
              "fromcurrent": true,
              "mode": "immediate",
              "transition": {
               "duration": 0,
               "easing": "linear"
              }
             }
            ],
            "label": "76",
            "method": "animate"
           },
           {
            "args": [
             [
              "77"
             ],
             {
              "frame": {
               "duration": 0,
               "redraw": true
              },
              "fromcurrent": true,
              "mode": "immediate",
              "transition": {
               "duration": 0,
               "easing": "linear"
              }
             }
            ],
            "label": "77",
            "method": "animate"
           },
           {
            "args": [
             [
              "78"
             ],
             {
              "frame": {
               "duration": 0,
               "redraw": true
              },
              "fromcurrent": true,
              "mode": "immediate",
              "transition": {
               "duration": 0,
               "easing": "linear"
              }
             }
            ],
            "label": "78",
            "method": "animate"
           },
           {
            "args": [
             [
              "79"
             ],
             {
              "frame": {
               "duration": 0,
               "redraw": true
              },
              "fromcurrent": true,
              "mode": "immediate",
              "transition": {
               "duration": 0,
               "easing": "linear"
              }
             }
            ],
            "label": "79",
            "method": "animate"
           },
           {
            "args": [
             [
              "80"
             ],
             {
              "frame": {
               "duration": 0,
               "redraw": true
              },
              "fromcurrent": true,
              "mode": "immediate",
              "transition": {
               "duration": 0,
               "easing": "linear"
              }
             }
            ],
            "label": "80",
            "method": "animate"
           },
           {
            "args": [
             [
              "81"
             ],
             {
              "frame": {
               "duration": 0,
               "redraw": true
              },
              "fromcurrent": true,
              "mode": "immediate",
              "transition": {
               "duration": 0,
               "easing": "linear"
              }
             }
            ],
            "label": "81",
            "method": "animate"
           },
           {
            "args": [
             [
              "82"
             ],
             {
              "frame": {
               "duration": 0,
               "redraw": true
              },
              "fromcurrent": true,
              "mode": "immediate",
              "transition": {
               "duration": 0,
               "easing": "linear"
              }
             }
            ],
            "label": "82",
            "method": "animate"
           },
           {
            "args": [
             [
              "83"
             ],
             {
              "frame": {
               "duration": 0,
               "redraw": true
              },
              "fromcurrent": true,
              "mode": "immediate",
              "transition": {
               "duration": 0,
               "easing": "linear"
              }
             }
            ],
            "label": "83",
            "method": "animate"
           },
           {
            "args": [
             [
              "84"
             ],
             {
              "frame": {
               "duration": 0,
               "redraw": true
              },
              "fromcurrent": true,
              "mode": "immediate",
              "transition": {
               "duration": 0,
               "easing": "linear"
              }
             }
            ],
            "label": "84",
            "method": "animate"
           },
           {
            "args": [
             [
              "85"
             ],
             {
              "frame": {
               "duration": 0,
               "redraw": true
              },
              "fromcurrent": true,
              "mode": "immediate",
              "transition": {
               "duration": 0,
               "easing": "linear"
              }
             }
            ],
            "label": "85",
            "method": "animate"
           },
           {
            "args": [
             [
              "86"
             ],
             {
              "frame": {
               "duration": 0,
               "redraw": true
              },
              "fromcurrent": true,
              "mode": "immediate",
              "transition": {
               "duration": 0,
               "easing": "linear"
              }
             }
            ],
            "label": "86",
            "method": "animate"
           },
           {
            "args": [
             [
              "87"
             ],
             {
              "frame": {
               "duration": 0,
               "redraw": true
              },
              "fromcurrent": true,
              "mode": "immediate",
              "transition": {
               "duration": 0,
               "easing": "linear"
              }
             }
            ],
            "label": "87",
            "method": "animate"
           },
           {
            "args": [
             [
              "88"
             ],
             {
              "frame": {
               "duration": 0,
               "redraw": true
              },
              "fromcurrent": true,
              "mode": "immediate",
              "transition": {
               "duration": 0,
               "easing": "linear"
              }
             }
            ],
            "label": "88",
            "method": "animate"
           },
           {
            "args": [
             [
              "89"
             ],
             {
              "frame": {
               "duration": 0,
               "redraw": true
              },
              "fromcurrent": true,
              "mode": "immediate",
              "transition": {
               "duration": 0,
               "easing": "linear"
              }
             }
            ],
            "label": "89",
            "method": "animate"
           },
           {
            "args": [
             [
              "90"
             ],
             {
              "frame": {
               "duration": 0,
               "redraw": true
              },
              "fromcurrent": true,
              "mode": "immediate",
              "transition": {
               "duration": 0,
               "easing": "linear"
              }
             }
            ],
            "label": "90",
            "method": "animate"
           }
          ],
          "x": 0.1,
          "xanchor": "left",
          "y": 0,
          "yanchor": "top"
         }
        ],
        "template": {
         "data": {
          "bar": [
           {
            "error_x": {
             "color": "#2a3f5f"
            },
            "error_y": {
             "color": "#2a3f5f"
            },
            "marker": {
             "line": {
              "color": "#E5ECF6",
              "width": 0.5
             },
             "pattern": {
              "fillmode": "overlay",
              "size": 10,
              "solidity": 0.2
             }
            },
            "type": "bar"
           }
          ],
          "barpolar": [
           {
            "marker": {
             "line": {
              "color": "#E5ECF6",
              "width": 0.5
             },
             "pattern": {
              "fillmode": "overlay",
              "size": 10,
              "solidity": 0.2
             }
            },
            "type": "barpolar"
           }
          ],
          "carpet": [
           {
            "aaxis": {
             "endlinecolor": "#2a3f5f",
             "gridcolor": "white",
             "linecolor": "white",
             "minorgridcolor": "white",
             "startlinecolor": "#2a3f5f"
            },
            "baxis": {
             "endlinecolor": "#2a3f5f",
             "gridcolor": "white",
             "linecolor": "white",
             "minorgridcolor": "white",
             "startlinecolor": "#2a3f5f"
            },
            "type": "carpet"
           }
          ],
          "choropleth": [
           {
            "colorbar": {
             "outlinewidth": 0,
             "ticks": ""
            },
            "type": "choropleth"
           }
          ],
          "contour": [
           {
            "colorbar": {
             "outlinewidth": 0,
             "ticks": ""
            },
            "colorscale": [
             [
              0,
              "#0d0887"
             ],
             [
              0.1111111111111111,
              "#46039f"
             ],
             [
              0.2222222222222222,
              "#7201a8"
             ],
             [
              0.3333333333333333,
              "#9c179e"
             ],
             [
              0.4444444444444444,
              "#bd3786"
             ],
             [
              0.5555555555555556,
              "#d8576b"
             ],
             [
              0.6666666666666666,
              "#ed7953"
             ],
             [
              0.7777777777777778,
              "#fb9f3a"
             ],
             [
              0.8888888888888888,
              "#fdca26"
             ],
             [
              1,
              "#f0f921"
             ]
            ],
            "type": "contour"
           }
          ],
          "contourcarpet": [
           {
            "colorbar": {
             "outlinewidth": 0,
             "ticks": ""
            },
            "type": "contourcarpet"
           }
          ],
          "heatmap": [
           {
            "colorbar": {
             "outlinewidth": 0,
             "ticks": ""
            },
            "colorscale": [
             [
              0,
              "#0d0887"
             ],
             [
              0.1111111111111111,
              "#46039f"
             ],
             [
              0.2222222222222222,
              "#7201a8"
             ],
             [
              0.3333333333333333,
              "#9c179e"
             ],
             [
              0.4444444444444444,
              "#bd3786"
             ],
             [
              0.5555555555555556,
              "#d8576b"
             ],
             [
              0.6666666666666666,
              "#ed7953"
             ],
             [
              0.7777777777777778,
              "#fb9f3a"
             ],
             [
              0.8888888888888888,
              "#fdca26"
             ],
             [
              1,
              "#f0f921"
             ]
            ],
            "type": "heatmap"
           }
          ],
          "heatmapgl": [
           {
            "colorbar": {
             "outlinewidth": 0,
             "ticks": ""
            },
            "colorscale": [
             [
              0,
              "#0d0887"
             ],
             [
              0.1111111111111111,
              "#46039f"
             ],
             [
              0.2222222222222222,
              "#7201a8"
             ],
             [
              0.3333333333333333,
              "#9c179e"
             ],
             [
              0.4444444444444444,
              "#bd3786"
             ],
             [
              0.5555555555555556,
              "#d8576b"
             ],
             [
              0.6666666666666666,
              "#ed7953"
             ],
             [
              0.7777777777777778,
              "#fb9f3a"
             ],
             [
              0.8888888888888888,
              "#fdca26"
             ],
             [
              1,
              "#f0f921"
             ]
            ],
            "type": "heatmapgl"
           }
          ],
          "histogram": [
           {
            "marker": {
             "pattern": {
              "fillmode": "overlay",
              "size": 10,
              "solidity": 0.2
             }
            },
            "type": "histogram"
           }
          ],
          "histogram2d": [
           {
            "colorbar": {
             "outlinewidth": 0,
             "ticks": ""
            },
            "colorscale": [
             [
              0,
              "#0d0887"
             ],
             [
              0.1111111111111111,
              "#46039f"
             ],
             [
              0.2222222222222222,
              "#7201a8"
             ],
             [
              0.3333333333333333,
              "#9c179e"
             ],
             [
              0.4444444444444444,
              "#bd3786"
             ],
             [
              0.5555555555555556,
              "#d8576b"
             ],
             [
              0.6666666666666666,
              "#ed7953"
             ],
             [
              0.7777777777777778,
              "#fb9f3a"
             ],
             [
              0.8888888888888888,
              "#fdca26"
             ],
             [
              1,
              "#f0f921"
             ]
            ],
            "type": "histogram2d"
           }
          ],
          "histogram2dcontour": [
           {
            "colorbar": {
             "outlinewidth": 0,
             "ticks": ""
            },
            "colorscale": [
             [
              0,
              "#0d0887"
             ],
             [
              0.1111111111111111,
              "#46039f"
             ],
             [
              0.2222222222222222,
              "#7201a8"
             ],
             [
              0.3333333333333333,
              "#9c179e"
             ],
             [
              0.4444444444444444,
              "#bd3786"
             ],
             [
              0.5555555555555556,
              "#d8576b"
             ],
             [
              0.6666666666666666,
              "#ed7953"
             ],
             [
              0.7777777777777778,
              "#fb9f3a"
             ],
             [
              0.8888888888888888,
              "#fdca26"
             ],
             [
              1,
              "#f0f921"
             ]
            ],
            "type": "histogram2dcontour"
           }
          ],
          "mesh3d": [
           {
            "colorbar": {
             "outlinewidth": 0,
             "ticks": ""
            },
            "type": "mesh3d"
           }
          ],
          "parcoords": [
           {
            "line": {
             "colorbar": {
              "outlinewidth": 0,
              "ticks": ""
             }
            },
            "type": "parcoords"
           }
          ],
          "pie": [
           {
            "automargin": true,
            "type": "pie"
           }
          ],
          "scatter": [
           {
            "marker": {
             "colorbar": {
              "outlinewidth": 0,
              "ticks": ""
             }
            },
            "type": "scatter"
           }
          ],
          "scatter3d": [
           {
            "line": {
             "colorbar": {
              "outlinewidth": 0,
              "ticks": ""
             }
            },
            "marker": {
             "colorbar": {
              "outlinewidth": 0,
              "ticks": ""
             }
            },
            "type": "scatter3d"
           }
          ],
          "scattercarpet": [
           {
            "marker": {
             "colorbar": {
              "outlinewidth": 0,
              "ticks": ""
             }
            },
            "type": "scattercarpet"
           }
          ],
          "scattergeo": [
           {
            "marker": {
             "colorbar": {
              "outlinewidth": 0,
              "ticks": ""
             }
            },
            "type": "scattergeo"
           }
          ],
          "scattergl": [
           {
            "marker": {
             "colorbar": {
              "outlinewidth": 0,
              "ticks": ""
             }
            },
            "type": "scattergl"
           }
          ],
          "scattermapbox": [
           {
            "marker": {
             "colorbar": {
              "outlinewidth": 0,
              "ticks": ""
             }
            },
            "type": "scattermapbox"
           }
          ],
          "scatterpolar": [
           {
            "marker": {
             "colorbar": {
              "outlinewidth": 0,
              "ticks": ""
             }
            },
            "type": "scatterpolar"
           }
          ],
          "scatterpolargl": [
           {
            "marker": {
             "colorbar": {
              "outlinewidth": 0,
              "ticks": ""
             }
            },
            "type": "scatterpolargl"
           }
          ],
          "scatterternary": [
           {
            "marker": {
             "colorbar": {
              "outlinewidth": 0,
              "ticks": ""
             }
            },
            "type": "scatterternary"
           }
          ],
          "surface": [
           {
            "colorbar": {
             "outlinewidth": 0,
             "ticks": ""
            },
            "colorscale": [
             [
              0,
              "#0d0887"
             ],
             [
              0.1111111111111111,
              "#46039f"
             ],
             [
              0.2222222222222222,
              "#7201a8"
             ],
             [
              0.3333333333333333,
              "#9c179e"
             ],
             [
              0.4444444444444444,
              "#bd3786"
             ],
             [
              0.5555555555555556,
              "#d8576b"
             ],
             [
              0.6666666666666666,
              "#ed7953"
             ],
             [
              0.7777777777777778,
              "#fb9f3a"
             ],
             [
              0.8888888888888888,
              "#fdca26"
             ],
             [
              1,
              "#f0f921"
             ]
            ],
            "type": "surface"
           }
          ],
          "table": [
           {
            "cells": {
             "fill": {
              "color": "#EBF0F8"
             },
             "line": {
              "color": "white"
             }
            },
            "header": {
             "fill": {
              "color": "#C8D4E3"
             },
             "line": {
              "color": "white"
             }
            },
            "type": "table"
           }
          ]
         },
         "layout": {
          "annotationdefaults": {
           "arrowcolor": "#2a3f5f",
           "arrowhead": 0,
           "arrowwidth": 1
          },
          "autotypenumbers": "strict",
          "coloraxis": {
           "colorbar": {
            "outlinewidth": 0,
            "ticks": ""
           }
          },
          "colorscale": {
           "diverging": [
            [
             0,
             "#8e0152"
            ],
            [
             0.1,
             "#c51b7d"
            ],
            [
             0.2,
             "#de77ae"
            ],
            [
             0.3,
             "#f1b6da"
            ],
            [
             0.4,
             "#fde0ef"
            ],
            [
             0.5,
             "#f7f7f7"
            ],
            [
             0.6,
             "#e6f5d0"
            ],
            [
             0.7,
             "#b8e186"
            ],
            [
             0.8,
             "#7fbc41"
            ],
            [
             0.9,
             "#4d9221"
            ],
            [
             1,
             "#276419"
            ]
           ],
           "sequential": [
            [
             0,
             "#0d0887"
            ],
            [
             0.1111111111111111,
             "#46039f"
            ],
            [
             0.2222222222222222,
             "#7201a8"
            ],
            [
             0.3333333333333333,
             "#9c179e"
            ],
            [
             0.4444444444444444,
             "#bd3786"
            ],
            [
             0.5555555555555556,
             "#d8576b"
            ],
            [
             0.6666666666666666,
             "#ed7953"
            ],
            [
             0.7777777777777778,
             "#fb9f3a"
            ],
            [
             0.8888888888888888,
             "#fdca26"
            ],
            [
             1,
             "#f0f921"
            ]
           ],
           "sequentialminus": [
            [
             0,
             "#0d0887"
            ],
            [
             0.1111111111111111,
             "#46039f"
            ],
            [
             0.2222222222222222,
             "#7201a8"
            ],
            [
             0.3333333333333333,
             "#9c179e"
            ],
            [
             0.4444444444444444,
             "#bd3786"
            ],
            [
             0.5555555555555556,
             "#d8576b"
            ],
            [
             0.6666666666666666,
             "#ed7953"
            ],
            [
             0.7777777777777778,
             "#fb9f3a"
            ],
            [
             0.8888888888888888,
             "#fdca26"
            ],
            [
             1,
             "#f0f921"
            ]
           ]
          },
          "colorway": [
           "#636efa",
           "#EF553B",
           "#00cc96",
           "#ab63fa",
           "#FFA15A",
           "#19d3f3",
           "#FF6692",
           "#B6E880",
           "#FF97FF",
           "#FECB52"
          ],
          "font": {
           "color": "#2a3f5f"
          },
          "geo": {
           "bgcolor": "white",
           "lakecolor": "white",
           "landcolor": "#E5ECF6",
           "showlakes": true,
           "showland": true,
           "subunitcolor": "white"
          },
          "hoverlabel": {
           "align": "left"
          },
          "hovermode": "closest",
          "mapbox": {
           "style": "light"
          },
          "paper_bgcolor": "white",
          "plot_bgcolor": "#E5ECF6",
          "polar": {
           "angularaxis": {
            "gridcolor": "white",
            "linecolor": "white",
            "ticks": ""
           },
           "bgcolor": "#E5ECF6",
           "radialaxis": {
            "gridcolor": "white",
            "linecolor": "white",
            "ticks": ""
           }
          },
          "scene": {
           "xaxis": {
            "backgroundcolor": "#E5ECF6",
            "gridcolor": "white",
            "gridwidth": 2,
            "linecolor": "white",
            "showbackground": true,
            "ticks": "",
            "zerolinecolor": "white"
           },
           "yaxis": {
            "backgroundcolor": "#E5ECF6",
            "gridcolor": "white",
            "gridwidth": 2,
            "linecolor": "white",
            "showbackground": true,
            "ticks": "",
            "zerolinecolor": "white"
           },
           "zaxis": {
            "backgroundcolor": "#E5ECF6",
            "gridcolor": "white",
            "gridwidth": 2,
            "linecolor": "white",
            "showbackground": true,
            "ticks": "",
            "zerolinecolor": "white"
           }
          },
          "shapedefaults": {
           "line": {
            "color": "#2a3f5f"
           }
          },
          "ternary": {
           "aaxis": {
            "gridcolor": "white",
            "linecolor": "white",
            "ticks": ""
           },
           "baxis": {
            "gridcolor": "white",
            "linecolor": "white",
            "ticks": ""
           },
           "bgcolor": "#E5ECF6",
           "caxis": {
            "gridcolor": "white",
            "linecolor": "white",
            "ticks": ""
           }
          },
          "title": {
           "x": 0.05
          },
          "xaxis": {
           "automargin": true,
           "gridcolor": "white",
           "linecolor": "white",
           "ticks": "",
           "title": {
            "standoff": 15
           },
           "zerolinecolor": "white",
           "zerolinewidth": 2
          },
          "yaxis": {
           "automargin": true,
           "gridcolor": "white",
           "linecolor": "white",
           "ticks": "",
           "title": {
            "standoff": 15
           },
           "zerolinecolor": "white",
           "zerolinewidth": 2
          }
         }
        },
        "title": {
         "text": "Census Income"
        },
        "updatemenus": [
         {
          "buttons": [
           {
            "args": [
             null,
             {
              "frame": {
               "duration": 500,
               "redraw": true
              },
              "fromcurrent": true,
              "mode": "immediate",
              "transition": {
               "duration": 500,
               "easing": "linear"
              }
             }
            ],
            "label": "&#9654;",
            "method": "animate"
           },
           {
            "args": [
             [
              null
             ],
             {
              "frame": {
               "duration": 0,
               "redraw": true
              },
              "fromcurrent": true,
              "mode": "immediate",
              "transition": {
               "duration": 0,
               "easing": "linear"
              }
             }
            ],
            "label": "&#9724;",
            "method": "animate"
           }
          ],
          "direction": "left",
          "pad": {
           "r": 10,
           "t": 70
          },
          "showactive": false,
          "type": "buttons",
          "x": 0.1,
          "xanchor": "right",
          "y": 0,
          "yanchor": "top"
         }
        ]
       }
      },
      "text/html": [
       "<div>                            <div id=\"021e74ff-4e79-4a96-ba5c-b07158f2345a\" class=\"plotly-graph-div\" style=\"height:525px; width:100%;\"></div>            <script type=\"text/javascript\">                require([\"plotly\"], function(Plotly) {                    window.PLOTLYENV=window.PLOTLYENV || {};                                    if (document.getElementById(\"021e74ff-4e79-4a96-ba5c-b07158f2345a\")) {                    Plotly.newPlot(                        \"021e74ff-4e79-4a96-ba5c-b07158f2345a\",                        [{\"coloraxis\":\"coloraxis\",\"customdata\":[[0,2],[0,0],[0,0],[0,1],[0,0],[0,1],[0,0],[0,0],[0,0],[0,0],[0,0],[0,3],[0,3],[0,0],[0,0],[0,0],[0,1],[0,2],[0,0],[0,0],[0,0],[0,0],[0,0],[0,2],[0,3],[0,0],[0,0],[0,3],[0,0],[0,565],[0,0],[0,3],[0,8],[0,0],[0,0],[0,1],[0,0],[0,2],[0,0]],\"geo\":\"geo\",\"hovertemplate\":\"<b>%{hovertext}</b><br><br>age=17<br>iso=%{location}<br> >50 =%{z}<br> <=50 =%{customdata[1]}<extra></extra>\",\"hovertext\":[\"POL\",\"JPN\",\"HKG\",\"IND\",\"HUN\",\"HTI\",\"KHM\",\"ECU\",\"DEU\",\"JAM\",\"LAO\",\"GBR\",\"GBR\",\"DOM\",\"CUB\",\"IRN\",\"GTM\",\"PER\",\"TWN\",\"HND\",\"THA\",\"ITA\",\"NIC\",\"PHL\",\"CAN\",\"CHN\",\"GRC\",\"CAN\",\"PRT\",\"USA\",\"CMR\",\"SLV\",\"MEX\",\"FRA\",\"IRL\",\"TTO\",\"VNM\",\"PRI\",\"NLO\"],\"locations\":[\"POL\",\"JPN\",\"HKG\",\"IND\",\"HUN\",\"HTI\",\"KHM\",\"ECU\",\"DEU\",\"JAM\",\"LAO\",\"GBR\",\"GBR\",\"DOM\",\"CUB\",\"IRN\",\"GTM\",\"PER\",\"TWN\",\"HND\",\"THA\",\"ITA\",\"NIC\",\"PHL\",\"CAN\",\"CHN\",\"GRC\",\"CAN\",\"PRT\",\"USA\",\"CMR\",\"SLV\",\"MEX\",\"FRA\",\"IRL\",\"TTO\",\"VNM\",\"PRI\",\"NLO\"],\"name\":\"\",\"z\":[0,0,0,0,0,0,0,0,0,0,0,0,0,0,0,0,0,0,0,0,0,0,0,0,0,0,0,0,0,0,0,0,0,0,0,0,0,0,0],\"type\":\"choropleth\"}],                        {\"template\":{\"data\":{\"bar\":[{\"error_x\":{\"color\":\"#2a3f5f\"},\"error_y\":{\"color\":\"#2a3f5f\"},\"marker\":{\"line\":{\"color\":\"#E5ECF6\",\"width\":0.5},\"pattern\":{\"fillmode\":\"overlay\",\"size\":10,\"solidity\":0.2}},\"type\":\"bar\"}],\"barpolar\":[{\"marker\":{\"line\":{\"color\":\"#E5ECF6\",\"width\":0.5},\"pattern\":{\"fillmode\":\"overlay\",\"size\":10,\"solidity\":0.2}},\"type\":\"barpolar\"}],\"carpet\":[{\"aaxis\":{\"endlinecolor\":\"#2a3f5f\",\"gridcolor\":\"white\",\"linecolor\":\"white\",\"minorgridcolor\":\"white\",\"startlinecolor\":\"#2a3f5f\"},\"baxis\":{\"endlinecolor\":\"#2a3f5f\",\"gridcolor\":\"white\",\"linecolor\":\"white\",\"minorgridcolor\":\"white\",\"startlinecolor\":\"#2a3f5f\"},\"type\":\"carpet\"}],\"choropleth\":[{\"colorbar\":{\"outlinewidth\":0,\"ticks\":\"\"},\"type\":\"choropleth\"}],\"contour\":[{\"colorbar\":{\"outlinewidth\":0,\"ticks\":\"\"},\"colorscale\":[[0.0,\"#0d0887\"],[0.1111111111111111,\"#46039f\"],[0.2222222222222222,\"#7201a8\"],[0.3333333333333333,\"#9c179e\"],[0.4444444444444444,\"#bd3786\"],[0.5555555555555556,\"#d8576b\"],[0.6666666666666666,\"#ed7953\"],[0.7777777777777778,\"#fb9f3a\"],[0.8888888888888888,\"#fdca26\"],[1.0,\"#f0f921\"]],\"type\":\"contour\"}],\"contourcarpet\":[{\"colorbar\":{\"outlinewidth\":0,\"ticks\":\"\"},\"type\":\"contourcarpet\"}],\"heatmap\":[{\"colorbar\":{\"outlinewidth\":0,\"ticks\":\"\"},\"colorscale\":[[0.0,\"#0d0887\"],[0.1111111111111111,\"#46039f\"],[0.2222222222222222,\"#7201a8\"],[0.3333333333333333,\"#9c179e\"],[0.4444444444444444,\"#bd3786\"],[0.5555555555555556,\"#d8576b\"],[0.6666666666666666,\"#ed7953\"],[0.7777777777777778,\"#fb9f3a\"],[0.8888888888888888,\"#fdca26\"],[1.0,\"#f0f921\"]],\"type\":\"heatmap\"}],\"heatmapgl\":[{\"colorbar\":{\"outlinewidth\":0,\"ticks\":\"\"},\"colorscale\":[[0.0,\"#0d0887\"],[0.1111111111111111,\"#46039f\"],[0.2222222222222222,\"#7201a8\"],[0.3333333333333333,\"#9c179e\"],[0.4444444444444444,\"#bd3786\"],[0.5555555555555556,\"#d8576b\"],[0.6666666666666666,\"#ed7953\"],[0.7777777777777778,\"#fb9f3a\"],[0.8888888888888888,\"#fdca26\"],[1.0,\"#f0f921\"]],\"type\":\"heatmapgl\"}],\"histogram\":[{\"marker\":{\"pattern\":{\"fillmode\":\"overlay\",\"size\":10,\"solidity\":0.2}},\"type\":\"histogram\"}],\"histogram2d\":[{\"colorbar\":{\"outlinewidth\":0,\"ticks\":\"\"},\"colorscale\":[[0.0,\"#0d0887\"],[0.1111111111111111,\"#46039f\"],[0.2222222222222222,\"#7201a8\"],[0.3333333333333333,\"#9c179e\"],[0.4444444444444444,\"#bd3786\"],[0.5555555555555556,\"#d8576b\"],[0.6666666666666666,\"#ed7953\"],[0.7777777777777778,\"#fb9f3a\"],[0.8888888888888888,\"#fdca26\"],[1.0,\"#f0f921\"]],\"type\":\"histogram2d\"}],\"histogram2dcontour\":[{\"colorbar\":{\"outlinewidth\":0,\"ticks\":\"\"},\"colorscale\":[[0.0,\"#0d0887\"],[0.1111111111111111,\"#46039f\"],[0.2222222222222222,\"#7201a8\"],[0.3333333333333333,\"#9c179e\"],[0.4444444444444444,\"#bd3786\"],[0.5555555555555556,\"#d8576b\"],[0.6666666666666666,\"#ed7953\"],[0.7777777777777778,\"#fb9f3a\"],[0.8888888888888888,\"#fdca26\"],[1.0,\"#f0f921\"]],\"type\":\"histogram2dcontour\"}],\"mesh3d\":[{\"colorbar\":{\"outlinewidth\":0,\"ticks\":\"\"},\"type\":\"mesh3d\"}],\"parcoords\":[{\"line\":{\"colorbar\":{\"outlinewidth\":0,\"ticks\":\"\"}},\"type\":\"parcoords\"}],\"pie\":[{\"automargin\":true,\"type\":\"pie\"}],\"scatter\":[{\"marker\":{\"colorbar\":{\"outlinewidth\":0,\"ticks\":\"\"}},\"type\":\"scatter\"}],\"scatter3d\":[{\"line\":{\"colorbar\":{\"outlinewidth\":0,\"ticks\":\"\"}},\"marker\":{\"colorbar\":{\"outlinewidth\":0,\"ticks\":\"\"}},\"type\":\"scatter3d\"}],\"scattercarpet\":[{\"marker\":{\"colorbar\":{\"outlinewidth\":0,\"ticks\":\"\"}},\"type\":\"scattercarpet\"}],\"scattergeo\":[{\"marker\":{\"colorbar\":{\"outlinewidth\":0,\"ticks\":\"\"}},\"type\":\"scattergeo\"}],\"scattergl\":[{\"marker\":{\"colorbar\":{\"outlinewidth\":0,\"ticks\":\"\"}},\"type\":\"scattergl\"}],\"scattermapbox\":[{\"marker\":{\"colorbar\":{\"outlinewidth\":0,\"ticks\":\"\"}},\"type\":\"scattermapbox\"}],\"scatterpolar\":[{\"marker\":{\"colorbar\":{\"outlinewidth\":0,\"ticks\":\"\"}},\"type\":\"scatterpolar\"}],\"scatterpolargl\":[{\"marker\":{\"colorbar\":{\"outlinewidth\":0,\"ticks\":\"\"}},\"type\":\"scatterpolargl\"}],\"scatterternary\":[{\"marker\":{\"colorbar\":{\"outlinewidth\":0,\"ticks\":\"\"}},\"type\":\"scatterternary\"}],\"surface\":[{\"colorbar\":{\"outlinewidth\":0,\"ticks\":\"\"},\"colorscale\":[[0.0,\"#0d0887\"],[0.1111111111111111,\"#46039f\"],[0.2222222222222222,\"#7201a8\"],[0.3333333333333333,\"#9c179e\"],[0.4444444444444444,\"#bd3786\"],[0.5555555555555556,\"#d8576b\"],[0.6666666666666666,\"#ed7953\"],[0.7777777777777778,\"#fb9f3a\"],[0.8888888888888888,\"#fdca26\"],[1.0,\"#f0f921\"]],\"type\":\"surface\"}],\"table\":[{\"cells\":{\"fill\":{\"color\":\"#EBF0F8\"},\"line\":{\"color\":\"white\"}},\"header\":{\"fill\":{\"color\":\"#C8D4E3\"},\"line\":{\"color\":\"white\"}},\"type\":\"table\"}]},\"layout\":{\"annotationdefaults\":{\"arrowcolor\":\"#2a3f5f\",\"arrowhead\":0,\"arrowwidth\":1},\"autotypenumbers\":\"strict\",\"coloraxis\":{\"colorbar\":{\"outlinewidth\":0,\"ticks\":\"\"}},\"colorscale\":{\"diverging\":[[0,\"#8e0152\"],[0.1,\"#c51b7d\"],[0.2,\"#de77ae\"],[0.3,\"#f1b6da\"],[0.4,\"#fde0ef\"],[0.5,\"#f7f7f7\"],[0.6,\"#e6f5d0\"],[0.7,\"#b8e186\"],[0.8,\"#7fbc41\"],[0.9,\"#4d9221\"],[1,\"#276419\"]],\"sequential\":[[0.0,\"#0d0887\"],[0.1111111111111111,\"#46039f\"],[0.2222222222222222,\"#7201a8\"],[0.3333333333333333,\"#9c179e\"],[0.4444444444444444,\"#bd3786\"],[0.5555555555555556,\"#d8576b\"],[0.6666666666666666,\"#ed7953\"],[0.7777777777777778,\"#fb9f3a\"],[0.8888888888888888,\"#fdca26\"],[1.0,\"#f0f921\"]],\"sequentialminus\":[[0.0,\"#0d0887\"],[0.1111111111111111,\"#46039f\"],[0.2222222222222222,\"#7201a8\"],[0.3333333333333333,\"#9c179e\"],[0.4444444444444444,\"#bd3786\"],[0.5555555555555556,\"#d8576b\"],[0.6666666666666666,\"#ed7953\"],[0.7777777777777778,\"#fb9f3a\"],[0.8888888888888888,\"#fdca26\"],[1.0,\"#f0f921\"]]},\"colorway\":[\"#636efa\",\"#EF553B\",\"#00cc96\",\"#ab63fa\",\"#FFA15A\",\"#19d3f3\",\"#FF6692\",\"#B6E880\",\"#FF97FF\",\"#FECB52\"],\"font\":{\"color\":\"#2a3f5f\"},\"geo\":{\"bgcolor\":\"white\",\"lakecolor\":\"white\",\"landcolor\":\"#E5ECF6\",\"showlakes\":true,\"showland\":true,\"subunitcolor\":\"white\"},\"hoverlabel\":{\"align\":\"left\"},\"hovermode\":\"closest\",\"mapbox\":{\"style\":\"light\"},\"paper_bgcolor\":\"white\",\"plot_bgcolor\":\"#E5ECF6\",\"polar\":{\"angularaxis\":{\"gridcolor\":\"white\",\"linecolor\":\"white\",\"ticks\":\"\"},\"bgcolor\":\"#E5ECF6\",\"radialaxis\":{\"gridcolor\":\"white\",\"linecolor\":\"white\",\"ticks\":\"\"}},\"scene\":{\"xaxis\":{\"backgroundcolor\":\"#E5ECF6\",\"gridcolor\":\"white\",\"gridwidth\":2,\"linecolor\":\"white\",\"showbackground\":true,\"ticks\":\"\",\"zerolinecolor\":\"white\"},\"yaxis\":{\"backgroundcolor\":\"#E5ECF6\",\"gridcolor\":\"white\",\"gridwidth\":2,\"linecolor\":\"white\",\"showbackground\":true,\"ticks\":\"\",\"zerolinecolor\":\"white\"},\"zaxis\":{\"backgroundcolor\":\"#E5ECF6\",\"gridcolor\":\"white\",\"gridwidth\":2,\"linecolor\":\"white\",\"showbackground\":true,\"ticks\":\"\",\"zerolinecolor\":\"white\"}},\"shapedefaults\":{\"line\":{\"color\":\"#2a3f5f\"}},\"ternary\":{\"aaxis\":{\"gridcolor\":\"white\",\"linecolor\":\"white\",\"ticks\":\"\"},\"baxis\":{\"gridcolor\":\"white\",\"linecolor\":\"white\",\"ticks\":\"\"},\"bgcolor\":\"#E5ECF6\",\"caxis\":{\"gridcolor\":\"white\",\"linecolor\":\"white\",\"ticks\":\"\"}},\"title\":{\"x\":0.05},\"xaxis\":{\"automargin\":true,\"gridcolor\":\"white\",\"linecolor\":\"white\",\"ticks\":\"\",\"title\":{\"standoff\":15},\"zerolinecolor\":\"white\",\"zerolinewidth\":2},\"yaxis\":{\"automargin\":true,\"gridcolor\":\"white\",\"linecolor\":\"white\",\"ticks\":\"\",\"title\":{\"standoff\":15},\"zerolinecolor\":\"white\",\"zerolinewidth\":2}}},\"geo\":{\"domain\":{\"x\":[0.0,1.0],\"y\":[0.0,1.0]},\"center\":{}},\"coloraxis\":{\"colorbar\":{\"title\":{\"text\":\" >50 \"}},\"colorscale\":[[0.0,\"rgb(247,244,249)\"],[0.125,\"rgb(231,225,239)\"],[0.25,\"rgb(212,185,218)\"],[0.375,\"rgb(201,148,199)\"],[0.5,\"rgb(223,101,176)\"],[0.625,\"rgb(231,41,138)\"],[0.75,\"rgb(206,18,86)\"],[0.875,\"rgb(152,0,67)\"],[1.0,\"rgb(103,0,31)\"]]},\"legend\":{\"tracegroupgap\":0},\"title\":{\"text\":\"Census Income\"},\"updatemenus\":[{\"buttons\":[{\"args\":[null,{\"frame\":{\"duration\":500,\"redraw\":true},\"mode\":\"immediate\",\"fromcurrent\":true,\"transition\":{\"duration\":500,\"easing\":\"linear\"}}],\"label\":\"&#9654;\",\"method\":\"animate\"},{\"args\":[[null],{\"frame\":{\"duration\":0,\"redraw\":true},\"mode\":\"immediate\",\"fromcurrent\":true,\"transition\":{\"duration\":0,\"easing\":\"linear\"}}],\"label\":\"&#9724;\",\"method\":\"animate\"}],\"direction\":\"left\",\"pad\":{\"r\":10,\"t\":70},\"showactive\":false,\"type\":\"buttons\",\"x\":0.1,\"xanchor\":\"right\",\"y\":0,\"yanchor\":\"top\"}],\"sliders\":[{\"active\":0,\"currentvalue\":{\"prefix\":\"age=\"},\"len\":0.9,\"pad\":{\"b\":10,\"t\":60},\"steps\":[{\"args\":[[\"17\"],{\"frame\":{\"duration\":0,\"redraw\":true},\"mode\":\"immediate\",\"fromcurrent\":true,\"transition\":{\"duration\":0,\"easing\":\"linear\"}}],\"label\":\"17\",\"method\":\"animate\"},{\"args\":[[\"18\"],{\"frame\":{\"duration\":0,\"redraw\":true},\"mode\":\"immediate\",\"fromcurrent\":true,\"transition\":{\"duration\":0,\"easing\":\"linear\"}}],\"label\":\"18\",\"method\":\"animate\"},{\"args\":[[\"19\"],{\"frame\":{\"duration\":0,\"redraw\":true},\"mode\":\"immediate\",\"fromcurrent\":true,\"transition\":{\"duration\":0,\"easing\":\"linear\"}}],\"label\":\"19\",\"method\":\"animate\"},{\"args\":[[\"20\"],{\"frame\":{\"duration\":0,\"redraw\":true},\"mode\":\"immediate\",\"fromcurrent\":true,\"transition\":{\"duration\":0,\"easing\":\"linear\"}}],\"label\":\"20\",\"method\":\"animate\"},{\"args\":[[\"21\"],{\"frame\":{\"duration\":0,\"redraw\":true},\"mode\":\"immediate\",\"fromcurrent\":true,\"transition\":{\"duration\":0,\"easing\":\"linear\"}}],\"label\":\"21\",\"method\":\"animate\"},{\"args\":[[\"22\"],{\"frame\":{\"duration\":0,\"redraw\":true},\"mode\":\"immediate\",\"fromcurrent\":true,\"transition\":{\"duration\":0,\"easing\":\"linear\"}}],\"label\":\"22\",\"method\":\"animate\"},{\"args\":[[\"23\"],{\"frame\":{\"duration\":0,\"redraw\":true},\"mode\":\"immediate\",\"fromcurrent\":true,\"transition\":{\"duration\":0,\"easing\":\"linear\"}}],\"label\":\"23\",\"method\":\"animate\"},{\"args\":[[\"24\"],{\"frame\":{\"duration\":0,\"redraw\":true},\"mode\":\"immediate\",\"fromcurrent\":true,\"transition\":{\"duration\":0,\"easing\":\"linear\"}}],\"label\":\"24\",\"method\":\"animate\"},{\"args\":[[\"25\"],{\"frame\":{\"duration\":0,\"redraw\":true},\"mode\":\"immediate\",\"fromcurrent\":true,\"transition\":{\"duration\":0,\"easing\":\"linear\"}}],\"label\":\"25\",\"method\":\"animate\"},{\"args\":[[\"26\"],{\"frame\":{\"duration\":0,\"redraw\":true},\"mode\":\"immediate\",\"fromcurrent\":true,\"transition\":{\"duration\":0,\"easing\":\"linear\"}}],\"label\":\"26\",\"method\":\"animate\"},{\"args\":[[\"27\"],{\"frame\":{\"duration\":0,\"redraw\":true},\"mode\":\"immediate\",\"fromcurrent\":true,\"transition\":{\"duration\":0,\"easing\":\"linear\"}}],\"label\":\"27\",\"method\":\"animate\"},{\"args\":[[\"28\"],{\"frame\":{\"duration\":0,\"redraw\":true},\"mode\":\"immediate\",\"fromcurrent\":true,\"transition\":{\"duration\":0,\"easing\":\"linear\"}}],\"label\":\"28\",\"method\":\"animate\"},{\"args\":[[\"29\"],{\"frame\":{\"duration\":0,\"redraw\":true},\"mode\":\"immediate\",\"fromcurrent\":true,\"transition\":{\"duration\":0,\"easing\":\"linear\"}}],\"label\":\"29\",\"method\":\"animate\"},{\"args\":[[\"30\"],{\"frame\":{\"duration\":0,\"redraw\":true},\"mode\":\"immediate\",\"fromcurrent\":true,\"transition\":{\"duration\":0,\"easing\":\"linear\"}}],\"label\":\"30\",\"method\":\"animate\"},{\"args\":[[\"31\"],{\"frame\":{\"duration\":0,\"redraw\":true},\"mode\":\"immediate\",\"fromcurrent\":true,\"transition\":{\"duration\":0,\"easing\":\"linear\"}}],\"label\":\"31\",\"method\":\"animate\"},{\"args\":[[\"32\"],{\"frame\":{\"duration\":0,\"redraw\":true},\"mode\":\"immediate\",\"fromcurrent\":true,\"transition\":{\"duration\":0,\"easing\":\"linear\"}}],\"label\":\"32\",\"method\":\"animate\"},{\"args\":[[\"33\"],{\"frame\":{\"duration\":0,\"redraw\":true},\"mode\":\"immediate\",\"fromcurrent\":true,\"transition\":{\"duration\":0,\"easing\":\"linear\"}}],\"label\":\"33\",\"method\":\"animate\"},{\"args\":[[\"34\"],{\"frame\":{\"duration\":0,\"redraw\":true},\"mode\":\"immediate\",\"fromcurrent\":true,\"transition\":{\"duration\":0,\"easing\":\"linear\"}}],\"label\":\"34\",\"method\":\"animate\"},{\"args\":[[\"35\"],{\"frame\":{\"duration\":0,\"redraw\":true},\"mode\":\"immediate\",\"fromcurrent\":true,\"transition\":{\"duration\":0,\"easing\":\"linear\"}}],\"label\":\"35\",\"method\":\"animate\"},{\"args\":[[\"36\"],{\"frame\":{\"duration\":0,\"redraw\":true},\"mode\":\"immediate\",\"fromcurrent\":true,\"transition\":{\"duration\":0,\"easing\":\"linear\"}}],\"label\":\"36\",\"method\":\"animate\"},{\"args\":[[\"37\"],{\"frame\":{\"duration\":0,\"redraw\":true},\"mode\":\"immediate\",\"fromcurrent\":true,\"transition\":{\"duration\":0,\"easing\":\"linear\"}}],\"label\":\"37\",\"method\":\"animate\"},{\"args\":[[\"38\"],{\"frame\":{\"duration\":0,\"redraw\":true},\"mode\":\"immediate\",\"fromcurrent\":true,\"transition\":{\"duration\":0,\"easing\":\"linear\"}}],\"label\":\"38\",\"method\":\"animate\"},{\"args\":[[\"39\"],{\"frame\":{\"duration\":0,\"redraw\":true},\"mode\":\"immediate\",\"fromcurrent\":true,\"transition\":{\"duration\":0,\"easing\":\"linear\"}}],\"label\":\"39\",\"method\":\"animate\"},{\"args\":[[\"40\"],{\"frame\":{\"duration\":0,\"redraw\":true},\"mode\":\"immediate\",\"fromcurrent\":true,\"transition\":{\"duration\":0,\"easing\":\"linear\"}}],\"label\":\"40\",\"method\":\"animate\"},{\"args\":[[\"41\"],{\"frame\":{\"duration\":0,\"redraw\":true},\"mode\":\"immediate\",\"fromcurrent\":true,\"transition\":{\"duration\":0,\"easing\":\"linear\"}}],\"label\":\"41\",\"method\":\"animate\"},{\"args\":[[\"42\"],{\"frame\":{\"duration\":0,\"redraw\":true},\"mode\":\"immediate\",\"fromcurrent\":true,\"transition\":{\"duration\":0,\"easing\":\"linear\"}}],\"label\":\"42\",\"method\":\"animate\"},{\"args\":[[\"43\"],{\"frame\":{\"duration\":0,\"redraw\":true},\"mode\":\"immediate\",\"fromcurrent\":true,\"transition\":{\"duration\":0,\"easing\":\"linear\"}}],\"label\":\"43\",\"method\":\"animate\"},{\"args\":[[\"44\"],{\"frame\":{\"duration\":0,\"redraw\":true},\"mode\":\"immediate\",\"fromcurrent\":true,\"transition\":{\"duration\":0,\"easing\":\"linear\"}}],\"label\":\"44\",\"method\":\"animate\"},{\"args\":[[\"45\"],{\"frame\":{\"duration\":0,\"redraw\":true},\"mode\":\"immediate\",\"fromcurrent\":true,\"transition\":{\"duration\":0,\"easing\":\"linear\"}}],\"label\":\"45\",\"method\":\"animate\"},{\"args\":[[\"46\"],{\"frame\":{\"duration\":0,\"redraw\":true},\"mode\":\"immediate\",\"fromcurrent\":true,\"transition\":{\"duration\":0,\"easing\":\"linear\"}}],\"label\":\"46\",\"method\":\"animate\"},{\"args\":[[\"47\"],{\"frame\":{\"duration\":0,\"redraw\":true},\"mode\":\"immediate\",\"fromcurrent\":true,\"transition\":{\"duration\":0,\"easing\":\"linear\"}}],\"label\":\"47\",\"method\":\"animate\"},{\"args\":[[\"48\"],{\"frame\":{\"duration\":0,\"redraw\":true},\"mode\":\"immediate\",\"fromcurrent\":true,\"transition\":{\"duration\":0,\"easing\":\"linear\"}}],\"label\":\"48\",\"method\":\"animate\"},{\"args\":[[\"49\"],{\"frame\":{\"duration\":0,\"redraw\":true},\"mode\":\"immediate\",\"fromcurrent\":true,\"transition\":{\"duration\":0,\"easing\":\"linear\"}}],\"label\":\"49\",\"method\":\"animate\"},{\"args\":[[\"50\"],{\"frame\":{\"duration\":0,\"redraw\":true},\"mode\":\"immediate\",\"fromcurrent\":true,\"transition\":{\"duration\":0,\"easing\":\"linear\"}}],\"label\":\"50\",\"method\":\"animate\"},{\"args\":[[\"51\"],{\"frame\":{\"duration\":0,\"redraw\":true},\"mode\":\"immediate\",\"fromcurrent\":true,\"transition\":{\"duration\":0,\"easing\":\"linear\"}}],\"label\":\"51\",\"method\":\"animate\"},{\"args\":[[\"52\"],{\"frame\":{\"duration\":0,\"redraw\":true},\"mode\":\"immediate\",\"fromcurrent\":true,\"transition\":{\"duration\":0,\"easing\":\"linear\"}}],\"label\":\"52\",\"method\":\"animate\"},{\"args\":[[\"53\"],{\"frame\":{\"duration\":0,\"redraw\":true},\"mode\":\"immediate\",\"fromcurrent\":true,\"transition\":{\"duration\":0,\"easing\":\"linear\"}}],\"label\":\"53\",\"method\":\"animate\"},{\"args\":[[\"54\"],{\"frame\":{\"duration\":0,\"redraw\":true},\"mode\":\"immediate\",\"fromcurrent\":true,\"transition\":{\"duration\":0,\"easing\":\"linear\"}}],\"label\":\"54\",\"method\":\"animate\"},{\"args\":[[\"55\"],{\"frame\":{\"duration\":0,\"redraw\":true},\"mode\":\"immediate\",\"fromcurrent\":true,\"transition\":{\"duration\":0,\"easing\":\"linear\"}}],\"label\":\"55\",\"method\":\"animate\"},{\"args\":[[\"56\"],{\"frame\":{\"duration\":0,\"redraw\":true},\"mode\":\"immediate\",\"fromcurrent\":true,\"transition\":{\"duration\":0,\"easing\":\"linear\"}}],\"label\":\"56\",\"method\":\"animate\"},{\"args\":[[\"57\"],{\"frame\":{\"duration\":0,\"redraw\":true},\"mode\":\"immediate\",\"fromcurrent\":true,\"transition\":{\"duration\":0,\"easing\":\"linear\"}}],\"label\":\"57\",\"method\":\"animate\"},{\"args\":[[\"58\"],{\"frame\":{\"duration\":0,\"redraw\":true},\"mode\":\"immediate\",\"fromcurrent\":true,\"transition\":{\"duration\":0,\"easing\":\"linear\"}}],\"label\":\"58\",\"method\":\"animate\"},{\"args\":[[\"59\"],{\"frame\":{\"duration\":0,\"redraw\":true},\"mode\":\"immediate\",\"fromcurrent\":true,\"transition\":{\"duration\":0,\"easing\":\"linear\"}}],\"label\":\"59\",\"method\":\"animate\"},{\"args\":[[\"60\"],{\"frame\":{\"duration\":0,\"redraw\":true},\"mode\":\"immediate\",\"fromcurrent\":true,\"transition\":{\"duration\":0,\"easing\":\"linear\"}}],\"label\":\"60\",\"method\":\"animate\"},{\"args\":[[\"61\"],{\"frame\":{\"duration\":0,\"redraw\":true},\"mode\":\"immediate\",\"fromcurrent\":true,\"transition\":{\"duration\":0,\"easing\":\"linear\"}}],\"label\":\"61\",\"method\":\"animate\"},{\"args\":[[\"62\"],{\"frame\":{\"duration\":0,\"redraw\":true},\"mode\":\"immediate\",\"fromcurrent\":true,\"transition\":{\"duration\":0,\"easing\":\"linear\"}}],\"label\":\"62\",\"method\":\"animate\"},{\"args\":[[\"63\"],{\"frame\":{\"duration\":0,\"redraw\":true},\"mode\":\"immediate\",\"fromcurrent\":true,\"transition\":{\"duration\":0,\"easing\":\"linear\"}}],\"label\":\"63\",\"method\":\"animate\"},{\"args\":[[\"64\"],{\"frame\":{\"duration\":0,\"redraw\":true},\"mode\":\"immediate\",\"fromcurrent\":true,\"transition\":{\"duration\":0,\"easing\":\"linear\"}}],\"label\":\"64\",\"method\":\"animate\"},{\"args\":[[\"65\"],{\"frame\":{\"duration\":0,\"redraw\":true},\"mode\":\"immediate\",\"fromcurrent\":true,\"transition\":{\"duration\":0,\"easing\":\"linear\"}}],\"label\":\"65\",\"method\":\"animate\"},{\"args\":[[\"66\"],{\"frame\":{\"duration\":0,\"redraw\":true},\"mode\":\"immediate\",\"fromcurrent\":true,\"transition\":{\"duration\":0,\"easing\":\"linear\"}}],\"label\":\"66\",\"method\":\"animate\"},{\"args\":[[\"67\"],{\"frame\":{\"duration\":0,\"redraw\":true},\"mode\":\"immediate\",\"fromcurrent\":true,\"transition\":{\"duration\":0,\"easing\":\"linear\"}}],\"label\":\"67\",\"method\":\"animate\"},{\"args\":[[\"68\"],{\"frame\":{\"duration\":0,\"redraw\":true},\"mode\":\"immediate\",\"fromcurrent\":true,\"transition\":{\"duration\":0,\"easing\":\"linear\"}}],\"label\":\"68\",\"method\":\"animate\"},{\"args\":[[\"69\"],{\"frame\":{\"duration\":0,\"redraw\":true},\"mode\":\"immediate\",\"fromcurrent\":true,\"transition\":{\"duration\":0,\"easing\":\"linear\"}}],\"label\":\"69\",\"method\":\"animate\"},{\"args\":[[\"70\"],{\"frame\":{\"duration\":0,\"redraw\":true},\"mode\":\"immediate\",\"fromcurrent\":true,\"transition\":{\"duration\":0,\"easing\":\"linear\"}}],\"label\":\"70\",\"method\":\"animate\"},{\"args\":[[\"71\"],{\"frame\":{\"duration\":0,\"redraw\":true},\"mode\":\"immediate\",\"fromcurrent\":true,\"transition\":{\"duration\":0,\"easing\":\"linear\"}}],\"label\":\"71\",\"method\":\"animate\"},{\"args\":[[\"72\"],{\"frame\":{\"duration\":0,\"redraw\":true},\"mode\":\"immediate\",\"fromcurrent\":true,\"transition\":{\"duration\":0,\"easing\":\"linear\"}}],\"label\":\"72\",\"method\":\"animate\"},{\"args\":[[\"73\"],{\"frame\":{\"duration\":0,\"redraw\":true},\"mode\":\"immediate\",\"fromcurrent\":true,\"transition\":{\"duration\":0,\"easing\":\"linear\"}}],\"label\":\"73\",\"method\":\"animate\"},{\"args\":[[\"74\"],{\"frame\":{\"duration\":0,\"redraw\":true},\"mode\":\"immediate\",\"fromcurrent\":true,\"transition\":{\"duration\":0,\"easing\":\"linear\"}}],\"label\":\"74\",\"method\":\"animate\"},{\"args\":[[\"75\"],{\"frame\":{\"duration\":0,\"redraw\":true},\"mode\":\"immediate\",\"fromcurrent\":true,\"transition\":{\"duration\":0,\"easing\":\"linear\"}}],\"label\":\"75\",\"method\":\"animate\"},{\"args\":[[\"76\"],{\"frame\":{\"duration\":0,\"redraw\":true},\"mode\":\"immediate\",\"fromcurrent\":true,\"transition\":{\"duration\":0,\"easing\":\"linear\"}}],\"label\":\"76\",\"method\":\"animate\"},{\"args\":[[\"77\"],{\"frame\":{\"duration\":0,\"redraw\":true},\"mode\":\"immediate\",\"fromcurrent\":true,\"transition\":{\"duration\":0,\"easing\":\"linear\"}}],\"label\":\"77\",\"method\":\"animate\"},{\"args\":[[\"78\"],{\"frame\":{\"duration\":0,\"redraw\":true},\"mode\":\"immediate\",\"fromcurrent\":true,\"transition\":{\"duration\":0,\"easing\":\"linear\"}}],\"label\":\"78\",\"method\":\"animate\"},{\"args\":[[\"79\"],{\"frame\":{\"duration\":0,\"redraw\":true},\"mode\":\"immediate\",\"fromcurrent\":true,\"transition\":{\"duration\":0,\"easing\":\"linear\"}}],\"label\":\"79\",\"method\":\"animate\"},{\"args\":[[\"80\"],{\"frame\":{\"duration\":0,\"redraw\":true},\"mode\":\"immediate\",\"fromcurrent\":true,\"transition\":{\"duration\":0,\"easing\":\"linear\"}}],\"label\":\"80\",\"method\":\"animate\"},{\"args\":[[\"81\"],{\"frame\":{\"duration\":0,\"redraw\":true},\"mode\":\"immediate\",\"fromcurrent\":true,\"transition\":{\"duration\":0,\"easing\":\"linear\"}}],\"label\":\"81\",\"method\":\"animate\"},{\"args\":[[\"82\"],{\"frame\":{\"duration\":0,\"redraw\":true},\"mode\":\"immediate\",\"fromcurrent\":true,\"transition\":{\"duration\":0,\"easing\":\"linear\"}}],\"label\":\"82\",\"method\":\"animate\"},{\"args\":[[\"83\"],{\"frame\":{\"duration\":0,\"redraw\":true},\"mode\":\"immediate\",\"fromcurrent\":true,\"transition\":{\"duration\":0,\"easing\":\"linear\"}}],\"label\":\"83\",\"method\":\"animate\"},{\"args\":[[\"84\"],{\"frame\":{\"duration\":0,\"redraw\":true},\"mode\":\"immediate\",\"fromcurrent\":true,\"transition\":{\"duration\":0,\"easing\":\"linear\"}}],\"label\":\"84\",\"method\":\"animate\"},{\"args\":[[\"85\"],{\"frame\":{\"duration\":0,\"redraw\":true},\"mode\":\"immediate\",\"fromcurrent\":true,\"transition\":{\"duration\":0,\"easing\":\"linear\"}}],\"label\":\"85\",\"method\":\"animate\"},{\"args\":[[\"86\"],{\"frame\":{\"duration\":0,\"redraw\":true},\"mode\":\"immediate\",\"fromcurrent\":true,\"transition\":{\"duration\":0,\"easing\":\"linear\"}}],\"label\":\"86\",\"method\":\"animate\"},{\"args\":[[\"87\"],{\"frame\":{\"duration\":0,\"redraw\":true},\"mode\":\"immediate\",\"fromcurrent\":true,\"transition\":{\"duration\":0,\"easing\":\"linear\"}}],\"label\":\"87\",\"method\":\"animate\"},{\"args\":[[\"88\"],{\"frame\":{\"duration\":0,\"redraw\":true},\"mode\":\"immediate\",\"fromcurrent\":true,\"transition\":{\"duration\":0,\"easing\":\"linear\"}}],\"label\":\"88\",\"method\":\"animate\"},{\"args\":[[\"89\"],{\"frame\":{\"duration\":0,\"redraw\":true},\"mode\":\"immediate\",\"fromcurrent\":true,\"transition\":{\"duration\":0,\"easing\":\"linear\"}}],\"label\":\"89\",\"method\":\"animate\"},{\"args\":[[\"90\"],{\"frame\":{\"duration\":0,\"redraw\":true},\"mode\":\"immediate\",\"fromcurrent\":true,\"transition\":{\"duration\":0,\"easing\":\"linear\"}}],\"label\":\"90\",\"method\":\"animate\"}],\"x\":0.1,\"xanchor\":\"left\",\"y\":0,\"yanchor\":\"top\"}]},                        {\"responsive\": true}                    ).then(function(){\n",
       "                            Plotly.addFrames('021e74ff-4e79-4a96-ba5c-b07158f2345a', [{\"data\":[{\"coloraxis\":\"coloraxis\",\"customdata\":[[0,2],[0,0],[0,0],[0,1],[0,0],[0,1],[0,0],[0,0],[0,0],[0,0],[0,0],[0,3],[0,3],[0,0],[0,0],[0,0],[0,1],[0,2],[0,0],[0,0],[0,0],[0,0],[0,0],[0,2],[0,3],[0,0],[0,0],[0,3],[0,0],[0,565],[0,0],[0,3],[0,8],[0,0],[0,0],[0,1],[0,0],[0,2],[0,0]],\"geo\":\"geo\",\"hovertemplate\":\"<b>%{hovertext}</b><br><br>age=17<br>iso=%{location}<br> >50 =%{z}<br> <=50 =%{customdata[1]}<extra></extra>\",\"hovertext\":[\"POL\",\"JPN\",\"HKG\",\"IND\",\"HUN\",\"HTI\",\"KHM\",\"ECU\",\"DEU\",\"JAM\",\"LAO\",\"GBR\",\"GBR\",\"DOM\",\"CUB\",\"IRN\",\"GTM\",\"PER\",\"TWN\",\"HND\",\"THA\",\"ITA\",\"NIC\",\"PHL\",\"CAN\",\"CHN\",\"GRC\",\"CAN\",\"PRT\",\"USA\",\"CMR\",\"SLV\",\"MEX\",\"FRA\",\"IRL\",\"TTO\",\"VNM\",\"PRI\",\"NLO\"],\"locations\":[\"POL\",\"JPN\",\"HKG\",\"IND\",\"HUN\",\"HTI\",\"KHM\",\"ECU\",\"DEU\",\"JAM\",\"LAO\",\"GBR\",\"GBR\",\"DOM\",\"CUB\",\"IRN\",\"GTM\",\"PER\",\"TWN\",\"HND\",\"THA\",\"ITA\",\"NIC\",\"PHL\",\"CAN\",\"CHN\",\"GRC\",\"CAN\",\"PRT\",\"USA\",\"CMR\",\"SLV\",\"MEX\",\"FRA\",\"IRL\",\"TTO\",\"VNM\",\"PRI\",\"NLO\"],\"name\":\"\",\"z\":[0,0,0,0,0,0,0,0,0,0,0,0,0,0,0,0,0,0,0,0,0,0,0,0,0,0,0,0,0,0,0,0,0,0,0,0,0,0,0],\"type\":\"choropleth\"}],\"name\":\"17\"},{\"data\":[{\"coloraxis\":\"coloraxis\",\"customdata\":[[0,0],[0,0],[0,1],[0,2],[0,0],[0,1],[0,3],[0,0],[0,1],[0,0],[0,3],[0,3],[0,0],[0,0],[0,0],[0,0],[0,0],[0,2],[0,0],[0,1],[0,1],[0,827],[0,0],[0,1],[0,0],[0,2],[0,1],[0,0],[0,1],[0,0],[0,2],[0,11],[0,0],[0,1],[0,3],[0,0],[0,0],[0,0],[0,0]],\"geo\":\"geo\",\"hovertemplate\":\"<b>%{hovertext}</b><br><br>age=18<br>iso=%{location}<br> >50 =%{z}<br> <=50 =%{customdata[1]}<extra></extra>\",\"hovertext\":[\"GTM\",\"CHN\",\"DOM\",\"PER\",\"PRT\",\"JAM\",\"GBR\",\"THA\",\"HTI\",\"CMR\",\"CAN\",\"GBR\",\"NLO\",\"TWN\",\"LAO\",\"IRL\",\"IRN\",\"PRI\",\"VNM\",\"ITA\",\"HND\",\"USA\",\"NIC\",\"CUB\",\"ECU\",\"PHL\",\"KHM\",\"POL\",\"SLV\",\"JPN\",\"DEU\",\"MEX\",\"TTO\",\"IND\",\"CAN\",\"HUN\",\"GRC\",\"HKG\",\"FRA\"],\"locations\":[\"GTM\",\"CHN\",\"DOM\",\"PER\",\"PRT\",\"JAM\",\"GBR\",\"THA\",\"HTI\",\"CMR\",\"CAN\",\"GBR\",\"NLO\",\"TWN\",\"LAO\",\"IRL\",\"IRN\",\"PRI\",\"VNM\",\"ITA\",\"HND\",\"USA\",\"NIC\",\"CUB\",\"ECU\",\"PHL\",\"KHM\",\"POL\",\"SLV\",\"JPN\",\"DEU\",\"MEX\",\"TTO\",\"IND\",\"CAN\",\"HUN\",\"GRC\",\"HKG\",\"FRA\"],\"name\":\"\",\"z\":[0,0,0,0,0,0,0,0,0,0,0,0,0,0,0,0,0,0,0,0,0,0,0,0,0,0,0,0,0,0,0,0,0,0,0,0,0,0,0],\"type\":\"choropleth\"}],\"name\":\"18\"},{\"data\":[{\"coloraxis\":\"coloraxis\",\"customdata\":[[0,0],[0,1],[0,1],[0,0],[0,2],[0,4],[0,1],[0,2],[0,1],[3,977],[0,0],[0,0],[0,0],[0,0],[0,1],[0,1],[0,4],[0,3],[0,1],[0,0],[0,0],[0,1],[0,0],[0,21],[0,0],[0,1],[0,0],[0,2],[0,0],[0,3],[0,0],[0,0],[0,3],[0,3],[0,3],[0,0],[0,2],[0,2],[0,5]],\"geo\":\"geo\",\"hovertemplate\":\"<b>%{hovertext}</b><br><br>age=19<br>iso=%{location}<br> >50 =%{z}<br> <=50 =%{customdata[1]}<extra></extra>\",\"hovertext\":[\"PER\",\"HND\",\"HKG\",\"TWN\",\"JPN\",\"CMR\",\"HTI\",\"NIC\",\"ITA\",\"USA\",\"GRC\",\"IRL\",\"CHN\",\"NLO\",\"CAN\",\"CAN\",\"PHL\",\"PRI\",\"CUB\",\"TTO\",\"FRA\",\"PRT\",\"POL\",\"MEX\",\"ECU\",\"JAM\",\"KHM\",\"VNM\",\"IND\",\"GBR\",\"HUN\",\"DOM\",\"DEU\",\"GBR\",\"GTM\",\"IRN\",\"THA\",\"LAO\",\"SLV\"],\"locations\":[\"PER\",\"HND\",\"HKG\",\"TWN\",\"JPN\",\"CMR\",\"HTI\",\"NIC\",\"ITA\",\"USA\",\"GRC\",\"IRL\",\"CHN\",\"NLO\",\"CAN\",\"CAN\",\"PHL\",\"PRI\",\"CUB\",\"TTO\",\"FRA\",\"PRT\",\"POL\",\"MEX\",\"ECU\",\"JAM\",\"KHM\",\"VNM\",\"IND\",\"GBR\",\"HUN\",\"DOM\",\"DEU\",\"GBR\",\"GTM\",\"IRN\",\"THA\",\"LAO\",\"SLV\"],\"name\":\"\",\"z\":[0,0,0,0,0,0,0,0,0,3,0,0,0,0,0,0,0,0,0,0,0,0,0,0,0,0,0,0,0,0,0,0,0,0,0,0,0,0,0],\"type\":\"choropleth\"}],\"name\":\"19\"},{\"data\":[{\"coloraxis\":\"coloraxis\",\"customdata\":[[0,4],[0,0],[0,1],[0,1],[0,3],[0,8],[0,1],[0,1],[0,1],[0,3],[0,1],[0,3],[0,3],[0,0],[0,0],[0,27],[0,0],[0,1],[0,0],[0,0],[0,2],[0,0],[0,0],[0,1],[0,1],[0,0],[0,1],[0,0],[0,2],[0,0],[0,5],[0,4],[1,1038],[0,0],[0,0],[0,0],[0,0],[0,0],[0,0]],\"geo\":\"geo\",\"hovertemplate\":\"<b>%{hovertext}</b><br><br>age=20<br>iso=%{location}<br> >50 =%{z}<br> <=50 =%{customdata[1]}<extra></extra>\",\"hovertext\":[\"VNM\",\"POL\",\"CUB\",\"PRT\",\"GTM\",\"SLV\",\"ITA\",\"IND\",\"HTI\",\"CAN\",\"GBR\",\"CAN\",\"CMR\",\"THA\",\"JPN\",\"MEX\",\"KHM\",\"TWN\",\"LAO\",\"DOM\",\"PRI\",\"TTO\",\"GRC\",\"PER\",\"GBR\",\"HND\",\"FRA\",\"HKG\",\"PHL\",\"JAM\",\"DEU\",\"NIC\",\"USA\",\"ECU\",\"HUN\",\"CHN\",\"NLO\",\"IRN\",\"IRL\"],\"locations\":[\"VNM\",\"POL\",\"CUB\",\"PRT\",\"GTM\",\"SLV\",\"ITA\",\"IND\",\"HTI\",\"CAN\",\"GBR\",\"CAN\",\"CMR\",\"THA\",\"JPN\",\"MEX\",\"KHM\",\"TWN\",\"LAO\",\"DOM\",\"PRI\",\"TTO\",\"GRC\",\"PER\",\"GBR\",\"HND\",\"FRA\",\"HKG\",\"PHL\",\"JAM\",\"DEU\",\"NIC\",\"USA\",\"ECU\",\"HUN\",\"CHN\",\"NLO\",\"IRN\",\"IRL\"],\"name\":\"\",\"z\":[0,0,0,0,0,0,0,0,0,0,0,0,0,0,0,0,0,0,0,0,0,0,0,0,0,0,0,0,0,0,0,0,1,0,0,0,0,0,0],\"type\":\"choropleth\"}],\"name\":\"20\"},{\"data\":[{\"coloraxis\":\"coloraxis\",\"customdata\":[[0,1],[0,2],[0,3],[0,0],[0,0],[0,0],[0,0],[0,3],[0,4],[0,1],[0,2],[0,2],[0,0],[0,1],[0,5],[0,2],[0,1],[0,0],[0,0],[0,3],[0,0],[0,3],[0,2],[0,1],[0,0],[0,1],[0,3],[0,3],[0,0],[1,35],[0,1],[0,2],[0,3],[0,0],[0,3],[5,999],[0,1],[0,0],[0,3]],\"geo\":\"geo\",\"hovertemplate\":\"<b>%{hovertext}</b><br><br>age=21<br>iso=%{location}<br> >50 =%{z}<br> <=50 =%{customdata[1]}<extra></extra>\",\"hovertext\":[\"PRT\",\"CUB\",\"GTM\",\"IRL\",\"GRC\",\"JPN\",\"IRN\",\"DOM\",\"JAM\",\"LAO\",\"IND\",\"GBR\",\"HKG\",\"HTI\",\"DEU\",\"GBR\",\"POL\",\"HUN\",\"THA\",\"ECU\",\"FRA\",\"SLV\",\"NIC\",\"ITA\",\"KHM\",\"CHN\",\"CAN\",\"CMR\",\"TTO\",\"MEX\",\"TWN\",\"PRI\",\"PHL\",\"NLO\",\"CAN\",\"USA\",\"PER\",\"HND\",\"VNM\"],\"locations\":[\"PRT\",\"CUB\",\"GTM\",\"IRL\",\"GRC\",\"JPN\",\"IRN\",\"DOM\",\"JAM\",\"LAO\",\"IND\",\"GBR\",\"HKG\",\"HTI\",\"DEU\",\"GBR\",\"POL\",\"HUN\",\"THA\",\"ECU\",\"FRA\",\"SLV\",\"NIC\",\"ITA\",\"KHM\",\"CHN\",\"CAN\",\"CMR\",\"TTO\",\"MEX\",\"TWN\",\"PRI\",\"PHL\",\"NLO\",\"CAN\",\"USA\",\"PER\",\"HND\",\"VNM\"],\"name\":\"\",\"z\":[0,0,0,0,0,0,0,0,0,0,0,0,0,0,0,0,0,0,0,0,0,0,0,0,0,0,0,0,0,1,0,0,0,0,0,5,0,0,0],\"type\":\"choropleth\"}],\"name\":\"21\"},{\"data\":[{\"coloraxis\":\"coloraxis\",\"customdata\":[[0,5],[0,0],[0,0],[0,0],[0,6],[0,4],[0,1],[0,3],[0,0],[15,1060],[0,3],[0,2],[0,0],[0,0],[0,29],[0,0],[0,5],[0,1],[0,2],[0,0],[1,4],[0,2],[0,1],[0,0],[0,1],[0,1],[0,3],[0,0],[1,3],[0,3],[0,3],[0,8],[0,4],[0,2],[0,0],[0,2],[0,1],[0,0],[0,4]],\"geo\":\"geo\",\"hovertemplate\":\"<b>%{hovertext}</b><br><br>age=22<br>iso=%{location}<br> >50 =%{z}<br> <=50 =%{customdata[1]}<extra></extra>\",\"hovertext\":[\"VNM\",\"NLO\",\"KHM\",\"HUN\",\"DEU\",\"SLV\",\"FRA\",\"IND\",\"HKG\",\"USA\",\"CAN\",\"GRC\",\"JPN\",\"TTO\",\"MEX\",\"IRL\",\"CMR\",\"POL\",\"TWN\",\"HND\",\"GTM\",\"IRN\",\"ITA\",\"CUB\",\"PER\",\"THA\",\"GBR\",\"NIC\",\"DOM\",\"GBR\",\"CAN\",\"PHL\",\"JAM\",\"HTI\",\"LAO\",\"CHN\",\"PRT\",\"ECU\",\"PRI\"],\"locations\":[\"VNM\",\"NLO\",\"KHM\",\"HUN\",\"DEU\",\"SLV\",\"FRA\",\"IND\",\"HKG\",\"USA\",\"CAN\",\"GRC\",\"JPN\",\"TTO\",\"MEX\",\"IRL\",\"CMR\",\"POL\",\"TWN\",\"HND\",\"GTM\",\"IRN\",\"ITA\",\"CUB\",\"PER\",\"THA\",\"GBR\",\"NIC\",\"DOM\",\"GBR\",\"CAN\",\"PHL\",\"JAM\",\"HTI\",\"LAO\",\"CHN\",\"PRT\",\"ECU\",\"PRI\"],\"name\":\"\",\"z\":[0,0,0,0,0,0,0,0,0,15,0,0,0,0,0,0,0,0,0,0,1,0,0,0,0,0,0,0,1,0,0,0,0,0,0,0,0,0,0],\"type\":\"choropleth\"}],\"name\":\"22\"},{\"data\":[{\"coloraxis\":\"coloraxis\",\"customdata\":[[0,7],[0,7],[20,1178],[0,0],[0,2],[0,7],[0,1],[0,3],[0,0],[0,4],[0,1],[0,0],[0,2],[0,9],[1,10],[0,0],[0,5],[0,9],[0,2],[0,0],[0,2],[0,0],[0,3],[0,1],[1,0],[0,2],[0,2],[0,1],[0,0],[0,1],[0,1],[0,2],[0,36],[0,3],[0,1],[0,3],[0,1],[0,3],[0,4]],\"geo\":\"geo\",\"hovertemplate\":\"<b>%{hovertext}</b><br><br>age=23<br>iso=%{location}<br> >50 =%{z}<br> <=50 =%{customdata[1]}<extra></extra>\",\"hovertext\":[\"SLV\",\"PRI\",\"USA\",\"THA\",\"IRL\",\"PHL\",\"ITA\",\"CMR\",\"NLO\",\"DOM\",\"NIC\",\"HND\",\"CHN\",\"CAN\",\"VNM\",\"FRA\",\"DEU\",\"CAN\",\"ECU\",\"KHM\",\"POL\",\"HUN\",\"JAM\",\"LAO\",\"IND\",\"GBR\",\"GBR\",\"TTO\",\"HKG\",\"PRT\",\"TWN\",\"HTI\",\"MEX\",\"JPN\",\"GRC\",\"CUB\",\"PER\",\"IRN\",\"GTM\"],\"locations\":[\"SLV\",\"PRI\",\"USA\",\"THA\",\"IRL\",\"PHL\",\"ITA\",\"CMR\",\"NLO\",\"DOM\",\"NIC\",\"HND\",\"CHN\",\"CAN\",\"VNM\",\"FRA\",\"DEU\",\"CAN\",\"ECU\",\"KHM\",\"POL\",\"HUN\",\"JAM\",\"LAO\",\"IND\",\"GBR\",\"GBR\",\"TTO\",\"HKG\",\"PRT\",\"TWN\",\"HTI\",\"MEX\",\"JPN\",\"GRC\",\"CUB\",\"PER\",\"IRN\",\"GTM\"],\"name\":\"\",\"z\":[0,0,20,0,0,0,0,0,0,0,0,0,0,0,1,0,0,0,0,0,0,0,0,0,1,0,0,0,0,0,0,0,0,0,0,0,0,0,0],\"type\":\"choropleth\"}],\"name\":\"23\"},{\"data\":[{\"coloraxis\":\"coloraxis\",\"customdata\":[[0,3],[0,8],[0,6],[0,1],[0,5],[0,4],[0,2],[0,0],[0,4],[0,2],[0,0],[0,1],[0,0],[0,2],[0,4],[1,0],[0,3],[0,2],[0,4],[0,2],[0,1],[0,0],[0,0],[1,2],[0,1],[1,2],[0,0],[40,1058],[0,0],[1,4],[0,3],[0,2],[0,1],[1,32],[0,3],[0,3],[0,0],[0,0],[0,1]],\"geo\":\"geo\",\"hovertemplate\":\"<b>%{hovertext}</b><br><br>age=24<br>iso=%{location}<br> >50 =%{z}<br> <=50 =%{customdata[1]}<extra></extra>\",\"hovertext\":[\"HTI\",\"SLV\",\"PHL\",\"THA\",\"DOM\",\"DEU\",\"PRI\",\"IRL\",\"TWN\",\"VNM\",\"HND\",\"PER\",\"NIC\",\"CHN\",\"JAM\",\"PRT\",\"CAN\",\"ECU\",\"GTM\",\"ITA\",\"HUN\",\"CUB\",\"HKG\",\"GBR\",\"LAO\",\"GBR\",\"POL\",\"USA\",\"NLO\",\"CMR\",\"CAN\",\"FRA\",\"GRC\",\"MEX\",\"JPN\",\"IND\",\"KHM\",\"TTO\",\"IRN\"],\"locations\":[\"HTI\",\"SLV\",\"PHL\",\"THA\",\"DOM\",\"DEU\",\"PRI\",\"IRL\",\"TWN\",\"VNM\",\"HND\",\"PER\",\"NIC\",\"CHN\",\"JAM\",\"PRT\",\"CAN\",\"ECU\",\"GTM\",\"ITA\",\"HUN\",\"CUB\",\"HKG\",\"GBR\",\"LAO\",\"GBR\",\"POL\",\"USA\",\"NLO\",\"CMR\",\"CAN\",\"FRA\",\"GRC\",\"MEX\",\"JPN\",\"IND\",\"KHM\",\"TTO\",\"IRN\"],\"name\":\"\",\"z\":[0,0,0,0,0,0,0,0,0,0,0,0,0,0,0,1,0,0,0,0,0,0,0,1,0,1,0,40,0,1,0,0,0,1,0,0,0,0,0],\"type\":\"choropleth\"}],\"name\":\"24\"},{\"data\":[{\"coloraxis\":\"coloraxis\",\"customdata\":[[0,0],[0,0],[0,2],[0,1],[0,0],[0,4],[0,0],[1,9],[0,1],[0,0],[0,1],[0,0],[0,1],[0,0],[1,9],[0,1],[1,6],[0,11],[0,1],[1,2],[0,0],[0,1],[0,1],[0,2],[0,3],[0,2],[1,9],[0,1],[0,4],[0,1],[0,1],[0,1],[0,1],[0,0],[71,988],[0,6],[0,3],[0,2],[1,46]],\"geo\":\"geo\",\"hovertemplate\":\"<b>%{hovertext}</b><br><br>age=25<br>iso=%{location}<br> >50 =%{z}<br> <=50 =%{customdata[1]}<extra></extra>\",\"hovertext\":[\"HUN\",\"FRA\",\"ECU\",\"TTO\",\"HKG\",\"JAM\",\"NLO\",\"PHL\",\"DEU\",\"GRC\",\"THA\",\"IRN\",\"PRI\",\"CMR\",\"CAN\",\"JPN\",\"IND\",\"SLV\",\"KHM\",\"POL\",\"LAO\",\"GBR\",\"GBR\",\"CUB\",\"TWN\",\"ITA\",\"CAN\",\"PRT\",\"VNM\",\"CHN\",\"NIC\",\"HND\",\"HTI\",\"IRL\",\"USA\",\"GTM\",\"PER\",\"DOM\",\"MEX\"],\"locations\":[\"HUN\",\"FRA\",\"ECU\",\"TTO\",\"HKG\",\"JAM\",\"NLO\",\"PHL\",\"DEU\",\"GRC\",\"THA\",\"IRN\",\"PRI\",\"CMR\",\"CAN\",\"JPN\",\"IND\",\"SLV\",\"KHM\",\"POL\",\"LAO\",\"GBR\",\"GBR\",\"CUB\",\"TWN\",\"ITA\",\"CAN\",\"PRT\",\"VNM\",\"CHN\",\"NIC\",\"HND\",\"HTI\",\"IRL\",\"USA\",\"GTM\",\"PER\",\"DOM\",\"MEX\"],\"name\":\"\",\"z\":[0,0,0,0,0,0,0,1,0,0,0,0,0,0,1,0,1,0,0,1,0,0,0,0,0,0,1,0,0,0,0,0,0,0,71,0,0,0,1],\"type\":\"choropleth\"}],\"name\":\"25\"},{\"data\":[{\"coloraxis\":\"coloraxis\",\"customdata\":[[0,6],[0,1],[0,1],[0,1],[0,6],[0,0],[0,2],[0,1],[0,4],[0,0],[0,4],[0,0],[0,0],[0,1],[0,2],[0,6],[0,0],[0,5],[1,0],[0,2],[1,3],[0,34],[0,2],[0,1],[0,4],[0,1],[0,0],[0,1],[0,2],[0,4],[1,8],[0,2],[0,3],[0,5],[0,1],[82,957],[0,5],[0,2],[0,1]],\"geo\":\"geo\",\"hovertemplate\":\"<b>%{hovertext}</b><br><br>age=26<br>iso=%{location}<br> >50 =%{z}<br> <=50 =%{customdata[1]}<extra></extra>\",\"hovertext\":[\"CAN\",\"IRL\",\"ECU\",\"NIC\",\"CAN\",\"NLO\",\"POL\",\"PRT\",\"SLV\",\"LAO\",\"JAM\",\"FRA\",\"IRN\",\"GRC\",\"JPN\",\"IND\",\"CHN\",\"PRI\",\"KHM\",\"HTI\",\"DEU\",\"MEX\",\"HND\",\"THA\",\"DOM\",\"CUB\",\"TTO\",\"PER\",\"HKG\",\"CMR\",\"PHL\",\"VNM\",\"GTM\",\"GBR\",\"ITA\",\"USA\",\"GBR\",\"TWN\",\"HUN\"],\"locations\":[\"CAN\",\"IRL\",\"ECU\",\"NIC\",\"CAN\",\"NLO\",\"POL\",\"PRT\",\"SLV\",\"LAO\",\"JAM\",\"FRA\",\"IRN\",\"GRC\",\"JPN\",\"IND\",\"CHN\",\"PRI\",\"KHM\",\"HTI\",\"DEU\",\"MEX\",\"HND\",\"THA\",\"DOM\",\"CUB\",\"TTO\",\"PER\",\"HKG\",\"CMR\",\"PHL\",\"VNM\",\"GTM\",\"GBR\",\"ITA\",\"USA\",\"GBR\",\"TWN\",\"HUN\"],\"name\":\"\",\"z\":[0,0,0,0,0,0,0,0,0,0,0,0,0,0,0,0,0,0,1,0,1,0,0,0,0,0,0,0,0,0,1,0,0,0,0,82,0,0,0],\"type\":\"choropleth\"}],\"name\":\"26\"},{\"data\":[{\"coloraxis\":\"coloraxis\",\"customdata\":[[1,0],[0,1],[1,3],[3,11],[0,1],[0,7],[0,1],[1,1],[0,2],[1,1],[0,0],[0,2],[0,2],[2,2],[2,2],[0,10],[0,3],[0,0],[1,0],[0,0],[0,0],[1,1],[0,0],[0,6],[0,2],[0,1],[0,1],[0,2],[0,5],[1,2],[0,0],[0,1],[0,3],[0,2],[0,5],[0,42],[0,4],[0,2],[103,992]],\"geo\":\"geo\",\"hovertemplate\":\"<b>%{hovertext}</b><br><br>age=27<br>iso=%{location}<br> >50 =%{z}<br> <=50 =%{customdata[1]}<extra></extra>\",\"hovertext\":[\"CUB\",\"PRT\",\"IND\",\"PHL\",\"TWN\",\"SLV\",\"ITA\",\"KHM\",\"LAO\",\"HKG\",\"HTI\",\"CAN\",\"POL\",\"GBR\",\"GBR\",\"DEU\",\"JPN\",\"THA\",\"GRC\",\"IRN\",\"NLO\",\"ECU\",\"TTO\",\"GTM\",\"PRI\",\"FRA\",\"PER\",\"NIC\",\"JAM\",\"IRL\",\"HND\",\"HUN\",\"CMR\",\"CAN\",\"CHN\",\"MEX\",\"DOM\",\"VNM\",\"USA\"],\"locations\":[\"CUB\",\"PRT\",\"IND\",\"PHL\",\"TWN\",\"SLV\",\"ITA\",\"KHM\",\"LAO\",\"HKG\",\"HTI\",\"CAN\",\"POL\",\"GBR\",\"GBR\",\"DEU\",\"JPN\",\"THA\",\"GRC\",\"IRN\",\"NLO\",\"ECU\",\"TTO\",\"GTM\",\"PRI\",\"FRA\",\"PER\",\"NIC\",\"JAM\",\"IRL\",\"HND\",\"HUN\",\"CMR\",\"CAN\",\"CHN\",\"MEX\",\"DOM\",\"VNM\",\"USA\"],\"name\":\"\",\"z\":[1,0,1,3,0,0,0,1,0,1,0,0,0,2,2,0,0,0,1,0,0,1,0,0,0,0,0,0,0,1,0,0,0,0,0,0,0,0,103],\"type\":\"choropleth\"}],\"name\":\"27\"},{\"data\":[{\"coloraxis\":\"coloraxis\",\"customdata\":[[1,3],[0,2],[0,5],[0,5],[0,0],[0,4],[0,4],[1,3],[0,6],[0,1],[0,3],[2,2],[1,3],[0,6],[0,0],[0,1],[0,2],[0,2],[0,1],[0,3],[1,4],[0,0],[168,971],[0,2],[0,2],[1,0],[0,0],[0,6],[0,1],[1,1],[0,5],[0,2],[1,0],[0,45],[0,2],[2,4],[2,2],[0,0],[0,3]],\"geo\":\"geo\",\"hovertemplate\":\"<b>%{hovertext}</b><br><br>age=28<br>iso=%{location}<br> >50 =%{z}<br> <=50 =%{customdata[1]}<extra></extra>\",\"hovertext\":[\"POL\",\"NIC\",\"CAN\",\"CAN\",\"NLO\",\"DOM\",\"GTM\",\"PRT\",\"PRI\",\"IRL\",\"SLV\",\"GBR\",\"HKG\",\"PHL\",\"VNM\",\"ITA\",\"HND\",\"ECU\",\"HUN\",\"CUB\",\"CMR\",\"THA\",\"USA\",\"TWN\",\"HTI\",\"TTO\",\"LAO\",\"JAM\",\"PER\",\"FRA\",\"IND\",\"CHN\",\"IRN\",\"MEX\",\"JPN\",\"DEU\",\"GBR\",\"GRC\",\"KHM\"],\"locations\":[\"POL\",\"NIC\",\"CAN\",\"CAN\",\"NLO\",\"DOM\",\"GTM\",\"PRT\",\"PRI\",\"IRL\",\"SLV\",\"GBR\",\"HKG\",\"PHL\",\"VNM\",\"ITA\",\"HND\",\"ECU\",\"HUN\",\"CUB\",\"CMR\",\"THA\",\"USA\",\"TWN\",\"HTI\",\"TTO\",\"LAO\",\"JAM\",\"PER\",\"FRA\",\"IND\",\"CHN\",\"IRN\",\"MEX\",\"JPN\",\"DEU\",\"GBR\",\"GRC\",\"KHM\"],\"name\":\"\",\"z\":[1,0,0,0,0,0,0,1,0,0,0,2,1,0,0,0,0,0,0,0,1,0,168,0,0,1,0,0,0,1,0,0,1,0,0,2,2,0,0],\"type\":\"choropleth\"}],\"name\":\"28\"},{\"data\":[{\"coloraxis\":\"coloraxis\",\"customdata\":[[0,5],[1,1],[1,1],[0,4],[1,6],[0,3],[1,8],[1,1],[0,2],[0,5],[0,0],[1,0],[2,7],[0,3],[1,2],[0,1],[0,4],[0,1],[1,0],[0,2],[1,8],[1,23],[0,4],[0,2],[0,2],[0,5],[0,1],[0,0],[0,1],[0,0],[1,0],[180,914],[1,1],[1,3],[0,4],[1,1],[1,0],[0,4],[1,4]],\"geo\":\"geo\",\"hovertemplate\":\"<b>%{hovertext}</b><br><br>age=29<br>iso=%{location}<br> >50 =%{z}<br> <=50 =%{customdata[1]}<extra></extra>\",\"hovertext\":[\"SLV\",\"FRA\",\"CHN\",\"ECU\",\"PHL\",\"CMR\",\"CAN\",\"CUB\",\"LAO\",\"JPN\",\"TTO\",\"HND\",\"DEU\",\"HTI\",\"PRT\",\"VNM\",\"DOM\",\"IRL\",\"GRC\",\"THA\",\"CAN\",\"MEX\",\"GBR\",\"PER\",\"POL\",\"TWN\",\"KHM\",\"HUN\",\"IRN\",\"NLO\",\"HKG\",\"USA\",\"PRI\",\"NIC\",\"GTM\",\"JAM\",\"ITA\",\"GBR\",\"IND\"],\"locations\":[\"SLV\",\"FRA\",\"CHN\",\"ECU\",\"PHL\",\"CMR\",\"CAN\",\"CUB\",\"LAO\",\"JPN\",\"TTO\",\"HND\",\"DEU\",\"HTI\",\"PRT\",\"VNM\",\"DOM\",\"IRL\",\"GRC\",\"THA\",\"CAN\",\"MEX\",\"GBR\",\"PER\",\"POL\",\"TWN\",\"KHM\",\"HUN\",\"IRN\",\"NLO\",\"HKG\",\"USA\",\"PRI\",\"NIC\",\"GTM\",\"JAM\",\"ITA\",\"GBR\",\"IND\"],\"name\":\"\",\"z\":[0,1,1,0,1,0,1,1,0,0,0,1,2,0,1,0,0,0,1,0,1,1,0,0,0,0,0,0,0,0,1,180,1,1,0,1,1,0,1],\"type\":\"choropleth\"}],\"name\":\"29\"},{\"data\":[{\"coloraxis\":\"coloraxis\",\"customdata\":[[0,1],[1,1],[223,919],[1,6],[0,1],[0,1],[2,1],[0,2],[1,4],[1,0],[0,0],[0,1],[0,1],[1,0],[0,4],[0,1],[2,6],[0,3],[1,1],[0,2],[1,10],[2,2],[2,2],[2,2],[0,1],[0,1],[1,32],[0,1],[0,1],[1,3],[0,4],[0,4],[0,2],[1,3],[0,1],[1,4],[0,0],[5,2],[0,2]],\"geo\":\"geo\",\"hovertemplate\":\"<b>%{hovertext}</b><br><br>age=30<br>iso=%{location}<br> >50 =%{z}<br> <=50 =%{customdata[1]}<extra></extra>\",\"hovertext\":[\"HUN\",\"HKG\",\"USA\",\"TWN\",\"FRA\",\"PER\",\"PHL\",\"GTM\",\"CHN\",\"CUB\",\"NLO\",\"HND\",\"JPN\",\"THA\",\"GBR\",\"KHM\",\"VNM\",\"DOM\",\"GRC\",\"POL\",\"DEU\",\"IRN\",\"CAN\",\"CAN\",\"HTI\",\"TTO\",\"MEX\",\"PRT\",\"JAM\",\"SLV\",\"PRI\",\"GBR\",\"ECU\",\"CMR\",\"LAO\",\"IRL\",\"ITA\",\"IND\",\"NIC\"],\"locations\":[\"HUN\",\"HKG\",\"USA\",\"TWN\",\"FRA\",\"PER\",\"PHL\",\"GTM\",\"CHN\",\"CUB\",\"NLO\",\"HND\",\"JPN\",\"THA\",\"GBR\",\"KHM\",\"VNM\",\"DOM\",\"GRC\",\"POL\",\"DEU\",\"IRN\",\"CAN\",\"CAN\",\"HTI\",\"TTO\",\"MEX\",\"PRT\",\"JAM\",\"SLV\",\"PRI\",\"GBR\",\"ECU\",\"CMR\",\"LAO\",\"IRL\",\"ITA\",\"IND\",\"NIC\"],\"name\":\"\",\"z\":[0,1,223,1,0,0,2,0,1,1,0,0,0,1,0,0,2,0,1,0,1,2,2,2,0,0,1,0,0,1,0,0,0,1,0,1,0,5,0],\"type\":\"choropleth\"}],\"name\":\"30\"},{\"data\":[{\"coloraxis\":\"coloraxis\",\"customdata\":[[1,0],[1,4],[0,1],[1,3],[1,2],[1,5],[1,0],[1,3],[1,7],[0,0],[4,51],[0,2],[0,2],[0,4],[0,0],[0,6],[0,0],[0,2],[0,0],[0,0],[0,2],[0,2],[0,0],[0,3],[0,3],[0,1],[0,0],[0,0],[1,4],[1,4],[0,0],[1,4],[0,0],[0,0],[0,0],[259,933],[1,3],[1,1],[0,2]],\"geo\":\"geo\",\"hovertemplate\":\"<b>%{hovertext}</b><br><br>age=31<br>iso=%{location}<br> >50 =%{z}<br> <=50 =%{customdata[1]}<extra></extra>\",\"hovertext\":[\"THA\",\"CAN\",\"TTO\",\"JPN\",\"JAM\",\"IND\",\"FRA\",\"CUB\",\"PRI\",\"GTM\",\"MEX\",\"POL\",\"GBR\",\"CMR\",\"LAO\",\"SLV\",\"ECU\",\"GBR\",\"HTI\",\"KHM\",\"HND\",\"VNM\",\"IRN\",\"ITA\",\"CHN\",\"DOM\",\"NLO\",\"GRC\",\"DEU\",\"CAN\",\"PER\",\"PHL\",\"NIC\",\"HUN\",\"HKG\",\"USA\",\"PRT\",\"TWN\",\"IRL\"],\"locations\":[\"THA\",\"CAN\",\"TTO\",\"JPN\",\"JAM\",\"IND\",\"FRA\",\"CUB\",\"PRI\",\"GTM\",\"MEX\",\"POL\",\"GBR\",\"CMR\",\"LAO\",\"SLV\",\"ECU\",\"GBR\",\"HTI\",\"KHM\",\"HND\",\"VNM\",\"IRN\",\"ITA\",\"CHN\",\"DOM\",\"NLO\",\"GRC\",\"DEU\",\"CAN\",\"PER\",\"PHL\",\"NIC\",\"HUN\",\"HKG\",\"USA\",\"PRT\",\"TWN\",\"IRL\"],\"name\":\"\",\"z\":[1,1,0,1,1,1,1,1,1,0,4,0,0,0,0,0,0,0,0,0,0,0,0,0,0,0,0,0,1,1,0,1,0,0,0,259,1,1,0],\"type\":\"choropleth\"}],\"name\":\"31\"},{\"data\":[{\"coloraxis\":\"coloraxis\",\"customdata\":[[0,2],[1,3],[2,1],[0,1],[0,3],[2,29],[1,6],[2,1],[0,2],[1,0],[2,4],[0,1],[0,0],[1,5],[0,4],[0,4],[0,1],[0,0],[1,2],[1,0],[0,3],[0,0],[0,3],[1,6],[0,2],[2,1],[0,1],[1,3],[278,862],[0,0],[0,0],[0,3],[0,1],[0,0],[0,2],[0,3],[0,1],[0,1],[3,3]],\"geo\":\"geo\",\"hovertemplate\":\"<b>%{hovertext}</b><br><br>age=32<br>iso=%{location}<br> >50 =%{z}<br> <=50 =%{customdata[1]}<extra></extra>\",\"hovertext\":[\"ITA\",\"IRL\",\"GBR\",\"NLO\",\"PRI\",\"MEX\",\"CAN\",\"GBR\",\"TTO\",\"FRA\",\"JPN\",\"HKG\",\"PER\",\"IRN\",\"SLV\",\"IND\",\"KHM\",\"HUN\",\"GRC\",\"LAO\",\"DEU\",\"POL\",\"JAM\",\"CAN\",\"ECU\",\"CHN\",\"HTI\",\"NIC\",\"USA\",\"THA\",\"PRT\",\"CUB\",\"GTM\",\"VNM\",\"TWN\",\"CMR\",\"HND\",\"DOM\",\"PHL\"],\"locations\":[\"ITA\",\"IRL\",\"GBR\",\"NLO\",\"PRI\",\"MEX\",\"CAN\",\"GBR\",\"TTO\",\"FRA\",\"JPN\",\"HKG\",\"PER\",\"IRN\",\"SLV\",\"IND\",\"KHM\",\"HUN\",\"GRC\",\"LAO\",\"DEU\",\"POL\",\"JAM\",\"CAN\",\"ECU\",\"CHN\",\"HTI\",\"NIC\",\"USA\",\"THA\",\"PRT\",\"CUB\",\"GTM\",\"VNM\",\"TWN\",\"CMR\",\"HND\",\"DOM\",\"PHL\"],\"name\":\"\",\"z\":[0,1,2,0,0,2,1,2,0,1,2,0,0,1,0,0,0,0,1,1,0,0,0,1,0,2,0,1,278,0,0,0,0,0,0,0,0,0,3],\"type\":\"choropleth\"}],\"name\":\"32\"},{\"data\":[{\"coloraxis\":\"coloraxis\",\"customdata\":[[1,0],[1,3],[0,3],[0,3],[1,2],[0,2],[0,0],[0,1],[0,1],[1,0],[0,0],[3,8],[0,2],[0,1],[3,1],[2,4],[271,924],[0,1],[0,9],[0,6],[0,5],[2,5],[0,4],[0,1],[0,1],[1,1],[0,1],[0,2],[0,7],[2,37],[2,4],[0,5],[0,0],[0,1],[0,2],[0,0],[3,8],[0,3],[0,0]],\"geo\":\"geo\",\"hovertemplate\":\"<b>%{hovertext}</b><br><br>age=33<br>iso=%{location}<br> >50 =%{z}<br> <=50 =%{customdata[1]}<extra></extra>\",\"hovertext\":[\"TWN\",\"PRI\",\"JAM\",\"CMR\",\"DOM\",\"FRA\",\"IRL\",\"POL\",\"ITA\",\"IRN\",\"NLO\",\"CAN\",\"HTI\",\"TTO\",\"CUB\",\"JPN\",\"USA\",\"LAO\",\"PHL\",\"CHN\",\"GBR\",\"DEU\",\"GTM\",\"GRC\",\"VNM\",\"PER\",\"PRT\",\"THA\",\"SLV\",\"MEX\",\"IND\",\"GBR\",\"HUN\",\"ECU\",\"NIC\",\"HND\",\"CAN\",\"HKG\",\"KHM\"],\"locations\":[\"TWN\",\"PRI\",\"JAM\",\"CMR\",\"DOM\",\"FRA\",\"IRL\",\"POL\",\"ITA\",\"IRN\",\"NLO\",\"CAN\",\"HTI\",\"TTO\",\"CUB\",\"JPN\",\"USA\",\"LAO\",\"PHL\",\"CHN\",\"GBR\",\"DEU\",\"GTM\",\"GRC\",\"VNM\",\"PER\",\"PRT\",\"THA\",\"SLV\",\"MEX\",\"IND\",\"GBR\",\"HUN\",\"ECU\",\"NIC\",\"HND\",\"CAN\",\"HKG\",\"KHM\"],\"name\":\"\",\"z\":[1,1,0,0,1,0,0,0,0,1,0,3,0,0,3,2,271,0,0,0,0,2,0,0,0,1,0,0,0,2,2,0,0,0,0,0,3,0,0],\"type\":\"choropleth\"}],\"name\":\"33\"},{\"data\":[{\"coloraxis\":\"coloraxis\",\"customdata\":[[0,0],[2,1],[0,1],[3,7],[1,3],[1,1],[1,2],[0,4],[1,2],[1,0],[0,4],[2,3],[0,0],[2,20],[3,1],[2,2],[3,2],[0,1],[0,2],[0,2],[0,6],[0,0],[326,868],[1,1],[2,3],[0,0],[0,0],[0,2],[0,0],[0,1],[0,0],[1,1],[0,0],[1,1],[1,3],[2,7],[1,3],[0,0],[0,1]],\"geo\":\"geo\",\"hovertemplate\":\"<b>%{hovertext}</b><br><br>age=34<br>iso=%{location}<br> >50 =%{z}<br> <=50 =%{customdata[1]}<extra></extra>\",\"hovertext\":[\"HUN\",\"PRI\",\"KHM\",\"DEU\",\"JAM\",\"PER\",\"CMR\",\"SLV\",\"FRA\",\"POL\",\"PRT\",\"GBR\",\"NLO\",\"MEX\",\"TWN\",\"CHN\",\"IND\",\"LAO\",\"CUB\",\"JPN\",\"GTM\",\"THA\",\"USA\",\"IRL\",\"GBR\",\"TTO\",\"VNM\",\"DOM\",\"HKG\",\"HTI\",\"ECU\",\"ITA\",\"HND\",\"IRN\",\"CAN\",\"PHL\",\"CAN\",\"GRC\",\"NIC\"],\"locations\":[\"HUN\",\"PRI\",\"KHM\",\"DEU\",\"JAM\",\"PER\",\"CMR\",\"SLV\",\"FRA\",\"POL\",\"PRT\",\"GBR\",\"NLO\",\"MEX\",\"TWN\",\"CHN\",\"IND\",\"LAO\",\"CUB\",\"JPN\",\"GTM\",\"THA\",\"USA\",\"IRL\",\"GBR\",\"TTO\",\"VNM\",\"DOM\",\"HKG\",\"HTI\",\"ECU\",\"ITA\",\"HND\",\"IRN\",\"CAN\",\"PHL\",\"CAN\",\"GRC\",\"NIC\"],\"name\":\"\",\"z\":[0,2,0,3,1,1,1,0,1,1,0,2,0,2,3,2,3,0,0,0,0,0,326,1,2,0,0,0,0,0,0,1,0,1,1,2,1,0,0],\"type\":\"choropleth\"}],\"name\":\"34\"},{\"data\":[{\"coloraxis\":\"coloraxis\",\"customdata\":[[0,3],[0,1],[1,19],[0,0],[0,2],[311,918],[2,1],[0,0],[1,1],[2,2],[8,4],[0,10],[0,0],[1,1],[1,0],[3,0],[0,7],[2,6],[0,1],[0,1],[1,4],[0,1],[0,1],[0,0],[0,0],[0,0],[0,1],[2,3],[1,1],[0,2],[0,0],[0,7],[0,0],[1,1],[1,1],[0,0],[0,1],[0,2],[1,2]],\"geo\":\"geo\",\"hovertemplate\":\"<b>%{hovertext}</b><br><br>age=35<br>iso=%{location}<br> >50 =%{z}<br> <=50 =%{customdata[1]}<extra></extra>\",\"hovertext\":[\"VNM\",\"THA\",\"MEX\",\"SLV\",\"HTI\",\"USA\",\"IRN\",\"NLO\",\"HKG\",\"IND\",\"PHL\",\"PRI\",\"PRT\",\"KHM\",\"CUB\",\"TWN\",\"CAN\",\"DEU\",\"TTO\",\"GTM\",\"JAM\",\"PER\",\"CMR\",\"FRA\",\"HUN\",\"GRC\",\"ECU\",\"JPN\",\"ITA\",\"POL\",\"HND\",\"CAN\",\"LAO\",\"GBR\",\"GBR\",\"NIC\",\"IRL\",\"CHN\",\"DOM\"],\"locations\":[\"VNM\",\"THA\",\"MEX\",\"SLV\",\"HTI\",\"USA\",\"IRN\",\"NLO\",\"HKG\",\"IND\",\"PHL\",\"PRI\",\"PRT\",\"KHM\",\"CUB\",\"TWN\",\"CAN\",\"DEU\",\"TTO\",\"GTM\",\"JAM\",\"PER\",\"CMR\",\"FRA\",\"HUN\",\"GRC\",\"ECU\",\"JPN\",\"ITA\",\"POL\",\"HND\",\"CAN\",\"LAO\",\"GBR\",\"GBR\",\"NIC\",\"IRL\",\"CHN\",\"DOM\"],\"name\":\"\",\"z\":[0,0,1,0,0,311,2,0,1,2,8,0,0,1,1,3,0,2,0,0,1,0,0,0,0,0,0,2,1,0,0,0,0,1,1,0,0,0,1],\"type\":\"choropleth\"}],\"name\":\"35\"},{\"data\":[{\"coloraxis\":\"coloraxis\",\"customdata\":[[1,1],[1,0],[0,1],[1,0],[0,1],[3,2],[1,0],[1,6],[2,4],[0,0],[2,1],[0,7],[2,22],[0,1],[1,5],[1,5],[1,1],[371,856],[0,0],[1,0],[0,0],[0,2],[0,2],[0,0],[1,5],[2,4],[0,3],[0,3],[0,1],[0,1],[1,2],[5,6],[2,1],[0,2],[0,1],[2,1],[0,0],[0,5],[0,2]],\"geo\":\"geo\",\"hovertemplate\":\"<b>%{hovertext}</b><br><br>age=36<br>iso=%{location}<br> >50 =%{z}<br> <=50 =%{customdata[1]}<extra></extra>\",\"hovertext\":[\"JAM\",\"IRL\",\"HND\",\"ECU\",\"NIC\",\"IRN\",\"GRC\",\"IND\",\"CHN\",\"FRA\",\"JPN\",\"CMR\",\"MEX\",\"VNM\",\"PRI\",\"CAN\",\"HKG\",\"USA\",\"PER\",\"POL\",\"THA\",\"PRT\",\"CUB\",\"NLO\",\"CAN\",\"PHL\",\"ITA\",\"HTI\",\"TTO\",\"GTM\",\"TWN\",\"DEU\",\"GBR\",\"LAO\",\"KHM\",\"GBR\",\"HUN\",\"SLV\",\"DOM\"],\"locations\":[\"JAM\",\"IRL\",\"HND\",\"ECU\",\"NIC\",\"IRN\",\"GRC\",\"IND\",\"CHN\",\"FRA\",\"JPN\",\"CMR\",\"MEX\",\"VNM\",\"PRI\",\"CAN\",\"HKG\",\"USA\",\"PER\",\"POL\",\"THA\",\"PRT\",\"CUB\",\"NLO\",\"CAN\",\"PHL\",\"ITA\",\"HTI\",\"TTO\",\"GTM\",\"TWN\",\"DEU\",\"GBR\",\"LAO\",\"KHM\",\"GBR\",\"HUN\",\"SLV\",\"DOM\"],\"name\":\"\",\"z\":[1,1,0,1,0,3,1,1,2,0,2,0,2,0,1,1,1,371,0,1,0,0,0,0,1,2,0,0,0,0,1,5,2,0,0,2,0,0,0],\"type\":\"choropleth\"}],\"name\":\"36\"},{\"data\":[{\"coloraxis\":\"coloraxis\",\"customdata\":[[0,0],[1,0],[0,0],[1,4],[0,0],[1,29],[1,3],[0,0],[1,1],[2,0],[0,0],[393,779],[1,1],[0,3],[0,1],[1,0],[0,2],[0,0],[0,0],[0,0],[1,2],[3,2],[1,1],[4,6],[1,1],[0,1],[3,4],[0,3],[3,4],[1,6],[0,0],[2,1],[1,2],[1,0],[0,1],[1,1],[1,1],[0,0],[1,2]],\"geo\":\"geo\",\"hovertemplate\":\"<b>%{hovertext}</b><br><br>age=37<br>iso=%{location}<br> >50 =%{z}<br> <=50 =%{customdata[1]}<extra></extra>\",\"hovertext\":[\"TTO\",\"ECU\",\"NLO\",\"PRI\",\"HUN\",\"MEX\",\"JPN\",\"LAO\",\"HTI\",\"FRA\",\"ITA\",\"USA\",\"GBR\",\"HKG\",\"PER\",\"TWN\",\"VNM\",\"HND\",\"DOM\",\"IRL\",\"CMR\",\"CUB\",\"THA\",\"PHL\",\"GBR\",\"NIC\",\"CAN\",\"GTM\",\"CAN\",\"SLV\",\"GRC\",\"DEU\",\"KHM\",\"JAM\",\"POL\",\"PRT\",\"IRN\",\"IND\",\"CHN\"],\"locations\":[\"TTO\",\"ECU\",\"NLO\",\"PRI\",\"HUN\",\"MEX\",\"JPN\",\"LAO\",\"HTI\",\"FRA\",\"ITA\",\"USA\",\"GBR\",\"HKG\",\"PER\",\"TWN\",\"VNM\",\"HND\",\"DOM\",\"IRL\",\"CMR\",\"CUB\",\"THA\",\"PHL\",\"GBR\",\"NIC\",\"CAN\",\"GTM\",\"CAN\",\"SLV\",\"GRC\",\"DEU\",\"KHM\",\"JAM\",\"POL\",\"PRT\",\"IRN\",\"IND\",\"CHN\"],\"name\":\"\",\"z\":[0,1,0,1,0,1,1,0,1,2,0,393,1,0,0,1,0,0,0,0,1,3,1,4,1,0,3,0,3,1,0,2,1,1,0,1,1,0,1],\"type\":\"choropleth\"}],\"name\":\"37\"},{\"data\":[{\"coloraxis\":\"coloraxis\",\"customdata\":[[2,6],[0,0],[1,2],[4,5],[0,1],[2,1],[0,0],[391,773],[0,1],[0,1],[0,1],[0,6],[0,0],[4,2],[0,0],[0,20],[1,3],[0,3],[1,4],[2,1],[0,2],[0,0],[0,1],[0,2],[0,1],[0,1],[2,3],[0,1],[0,1],[1,3],[3,1],[0,1],[0,0],[0,0],[2,6],[0,3],[0,0],[0,0],[1,1]],\"geo\":\"geo\",\"hovertemplate\":\"<b>%{hovertext}</b><br><br>age=38<br>iso=%{location}<br> >50 =%{z}<br> <=50 =%{customdata[1]}<extra></extra>\",\"hovertext\":[\"CAN\",\"HND\",\"IND\",\"PHL\",\"JAM\",\"GBR\",\"KHM\",\"USA\",\"GRC\",\"NIC\",\"HKG\",\"POL\",\"HUN\",\"CHN\",\"NLO\",\"MEX\",\"PRT\",\"VNM\",\"IRN\",\"GBR\",\"THA\",\"LAO\",\"DEU\",\"TTO\",\"DOM\",\"PRI\",\"ITA\",\"TWN\",\"GTM\",\"SLV\",\"CUB\",\"PER\",\"ECU\",\"CMR\",\"CAN\",\"HTI\",\"FRA\",\"IRL\",\"JPN\"],\"locations\":[\"CAN\",\"HND\",\"IND\",\"PHL\",\"JAM\",\"GBR\",\"KHM\",\"USA\",\"GRC\",\"NIC\",\"HKG\",\"POL\",\"HUN\",\"CHN\",\"NLO\",\"MEX\",\"PRT\",\"VNM\",\"IRN\",\"GBR\",\"THA\",\"LAO\",\"DEU\",\"TTO\",\"DOM\",\"PRI\",\"ITA\",\"TWN\",\"GTM\",\"SLV\",\"CUB\",\"PER\",\"ECU\",\"CMR\",\"CAN\",\"HTI\",\"FRA\",\"IRL\",\"JPN\"],\"name\":\"\",\"z\":[2,0,1,4,0,2,0,391,0,0,0,0,0,4,0,0,1,0,1,2,0,0,0,0,0,0,2,0,0,1,3,0,0,0,2,0,0,0,1],\"type\":\"choropleth\"}],\"name\":\"38\"},{\"data\":[{\"coloraxis\":\"coloraxis\",\"customdata\":[[1,0],[0,0],[1,0],[3,1],[0,0],[7,8],[0,0],[0,0],[2,3],[0,1],[0,4],[0,0],[0,0],[0,1],[0,2],[0,0],[0,1],[1,0],[0,2],[1,3],[1,1],[2,1],[2,3],[3,5],[0,0],[0,0],[2,2],[391,712],[2,1],[2,5],[0,1],[2,1],[0,0],[0,0],[0,0],[1,3],[2,3],[0,0],[1,21]],\"geo\":\"geo\",\"hovertemplate\":\"<b>%{hovertext}</b><br><br>age=39<br>iso=%{location}<br> >50 =%{z}<br> <=50 =%{customdata[1]}<extra></extra>\",\"hovertext\":[\"NIC\",\"THA\",\"FRA\",\"IND\",\"TWN\",\"PHL\",\"HUN\",\"NLO\",\"CUB\",\"GTM\",\"SLV\",\"HND\",\"VNM\",\"PRT\",\"CMR\",\"KHM\",\"TTO\",\"ITA\",\"JAM\",\"CHN\",\"HTI\",\"JPN\",\"CAN\",\"POL\",\"LAO\",\"ECU\",\"DEU\",\"USA\",\"GBR\",\"PRI\",\"IRN\",\"GBR\",\"PER\",\"HKG\",\"GRC\",\"DOM\",\"CAN\",\"IRL\",\"MEX\"],\"locations\":[\"NIC\",\"THA\",\"FRA\",\"IND\",\"TWN\",\"PHL\",\"HUN\",\"NLO\",\"CUB\",\"GTM\",\"SLV\",\"HND\",\"VNM\",\"PRT\",\"CMR\",\"KHM\",\"TTO\",\"ITA\",\"JAM\",\"CHN\",\"HTI\",\"JPN\",\"CAN\",\"POL\",\"LAO\",\"ECU\",\"DEU\",\"USA\",\"GBR\",\"PRI\",\"IRN\",\"GBR\",\"PER\",\"HKG\",\"GRC\",\"DOM\",\"CAN\",\"IRL\",\"MEX\"],\"name\":\"\",\"z\":[1,0,1,3,0,7,0,0,2,0,0,0,0,0,0,0,0,1,0,1,1,2,2,3,0,0,2,391,2,2,0,2,0,0,0,1,2,0,1],\"type\":\"choropleth\"}],\"name\":\"39\"},{\"data\":[{\"coloraxis\":\"coloraxis\",\"customdata\":[[1,1],[2,4],[0,0],[0,0],[0,0],[1,0],[2,0],[0,3],[2,6],[2,4],[1,1],[0,1],[0,1],[2,15],[2,0],[2,6],[1,1],[2,1],[0,0],[368,726],[1,1],[1,2],[0,2],[1,0],[0,1],[2,4],[0,0],[1,1],[0,0],[1,5],[0,0],[1,0],[0,1],[0,2],[0,0],[1,4],[0,6],[0,0],[0,3]],\"geo\":\"geo\",\"hovertemplate\":\"<b>%{hovertext}</b><br><br>age=40<br>iso=%{location}<br> >50 =%{z}<br> <=50 =%{customdata[1]}<extra></extra>\",\"hovertext\":[\"KHM\",\"GBR\",\"PER\",\"ITA\",\"PRT\",\"HKG\",\"IND\",\"JAM\",\"CAN\",\"CHN\",\"JPN\",\"POL\",\"GRC\",\"MEX\",\"TWN\",\"CAN\",\"GTM\",\"IRN\",\"NIC\",\"USA\",\"CMR\",\"CUB\",\"TTO\",\"FRA\",\"HND\",\"GBR\",\"LAO\",\"IRL\",\"ECU\",\"PHL\",\"NLO\",\"DEU\",\"VNM\",\"SLV\",\"HUN\",\"DOM\",\"PRI\",\"THA\",\"HTI\"],\"locations\":[\"KHM\",\"GBR\",\"PER\",\"ITA\",\"PRT\",\"HKG\",\"IND\",\"JAM\",\"CAN\",\"CHN\",\"JPN\",\"POL\",\"GRC\",\"MEX\",\"TWN\",\"CAN\",\"GTM\",\"IRN\",\"NIC\",\"USA\",\"CMR\",\"CUB\",\"TTO\",\"FRA\",\"HND\",\"GBR\",\"LAO\",\"IRL\",\"ECU\",\"PHL\",\"NLO\",\"DEU\",\"VNM\",\"SLV\",\"HUN\",\"DOM\",\"PRI\",\"THA\",\"HTI\"],\"name\":\"\",\"z\":[1,2,0,0,0,1,2,0,2,2,1,0,0,2,2,2,1,2,0,368,1,1,0,1,0,2,0,1,0,1,0,1,0,0,0,1,0,0,0],\"type\":\"choropleth\"}],\"name\":\"40\"},{\"data\":[{\"coloraxis\":\"coloraxis\",\"customdata\":[[5,0],[4,3],[2,4],[2,29],[3,2],[0,3],[4,1],[1,1],[0,2],[0,2],[1,0],[0,0],[3,2],[396,725],[0,0],[2,0],[4,3],[0,0],[0,0],[0,4],[0,1],[1,3],[1,1],[0,0],[0,0],[0,0],[1,2],[0,0],[0,1],[0,2],[0,1],[1,2],[0,0],[0,0],[0,6],[0,1],[0,2],[0,4],[0,3]],\"geo\":\"geo\",\"hovertemplate\":\"<b>%{hovertext}</b><br><br>age=41<br>iso=%{location}<br> >50 =%{z}<br> <=50 =%{customdata[1]}<extra></extra>\",\"hovertext\":[\"IND\",\"CAN\",\"PHL\",\"MEX\",\"CHN\",\"PRI\",\"TWN\",\"SLV\",\"DEU\",\"POL\",\"CMR\",\"LAO\",\"JPN\",\"USA\",\"ECU\",\"HTI\",\"CAN\",\"FRA\",\"IRL\",\"DOM\",\"HND\",\"CUB\",\"IRN\",\"THA\",\"HUN\",\"KHM\",\"GBR\",\"NLO\",\"GRC\",\"VNM\",\"HKG\",\"GBR\",\"TTO\",\"PRT\",\"PER\",\"NIC\",\"JAM\",\"GTM\",\"ITA\"],\"locations\":[\"IND\",\"CAN\",\"PHL\",\"MEX\",\"CHN\",\"PRI\",\"TWN\",\"SLV\",\"DEU\",\"POL\",\"CMR\",\"LAO\",\"JPN\",\"USA\",\"ECU\",\"HTI\",\"CAN\",\"FRA\",\"IRL\",\"DOM\",\"HND\",\"CUB\",\"IRN\",\"THA\",\"HUN\",\"KHM\",\"GBR\",\"NLO\",\"GRC\",\"VNM\",\"HKG\",\"GBR\",\"TTO\",\"PRT\",\"PER\",\"NIC\",\"JAM\",\"GTM\",\"ITA\"],\"name\":\"\",\"z\":[5,4,2,2,3,0,4,1,0,0,1,0,3,396,0,2,4,0,0,0,0,1,1,0,0,0,1,0,0,0,0,1,0,0,0,0,0,0,0],\"type\":\"choropleth\"}],\"name\":\"41\"},{\"data\":[{\"coloraxis\":\"coloraxis\",\"customdata\":[[0,0],[0,3],[4,10],[0,0],[1,0],[3,0],[0,1],[0,0],[1,4],[3,1],[1,3],[386,690],[2,1],[0,1],[0,0],[1,3],[0,3],[0,0],[3,1],[1,0],[0,0],[1,1],[0,1],[2,9],[0,3],[0,0],[1,1],[0,1],[0,2],[0,1],[1,0],[4,0],[3,1],[1,3],[0,1],[0,1],[0,3],[0,2],[1,0]],\"geo\":\"geo\",\"hovertemplate\":\"<b>%{hovertext}</b><br><br>age=42<br>iso=%{location}<br> >50 =%{z}<br> <=50 =%{customdata[1]}<extra></extra>\",\"hovertext\":[\"NLO\",\"GBR\",\"MEX\",\"IRL\",\"GRC\",\"IND\",\"GTM\",\"PER\",\"SLV\",\"CMR\",\"ECU\",\"USA\",\"CUB\",\"LAO\",\"HKG\",\"CAN\",\"JAM\",\"HUN\",\"ITA\",\"VNM\",\"HND\",\"KHM\",\"DOM\",\"PRI\",\"GBR\",\"THA\",\"PRT\",\"FRA\",\"POL\",\"DEU\",\"JPN\",\"PHL\",\"TWN\",\"CAN\",\"TTO\",\"NIC\",\"HTI\",\"IRN\",\"CHN\"],\"locations\":[\"NLO\",\"GBR\",\"MEX\",\"IRL\",\"GRC\",\"IND\",\"GTM\",\"PER\",\"SLV\",\"CMR\",\"ECU\",\"USA\",\"CUB\",\"LAO\",\"HKG\",\"CAN\",\"JAM\",\"HUN\",\"ITA\",\"VNM\",\"HND\",\"KHM\",\"DOM\",\"PRI\",\"GBR\",\"THA\",\"PRT\",\"FRA\",\"POL\",\"DEU\",\"JPN\",\"PHL\",\"TWN\",\"CAN\",\"TTO\",\"NIC\",\"HTI\",\"IRN\",\"CHN\"],\"name\":\"\",\"z\":[0,0,4,0,1,3,0,0,1,3,1,386,2,0,0,1,0,0,3,1,0,1,0,2,0,0,1,0,0,0,1,4,3,1,0,0,0,0,1],\"type\":\"choropleth\"}],\"name\":\"42\"},{\"data\":[{\"coloraxis\":\"coloraxis\",\"customdata\":[[0,2],[390,626],[0,2],[0,2],[2,2],[0,0],[2,0],[0,3],[0,1],[0,0],[2,0],[0,1],[1,1],[0,1],[1,22],[0,0],[0,1],[1,1],[0,0],[0,0],[0,0],[0,3],[0,0],[1,3],[0,0],[1,3],[1,2],[0,1],[1,4],[0,0],[1,0],[0,2],[2,2],[3,1],[2,2],[0,0],[1,2],[2,2],[0,0]],\"geo\":\"geo\",\"hovertemplate\":\"<b>%{hovertext}</b><br><br>age=43<br>iso=%{location}<br> >50 =%{z}<br> <=50 =%{customdata[1]}<extra></extra>\",\"hovertext\":[\"THA\",\"USA\",\"NIC\",\"DOM\",\"CAN\",\"NLO\",\"GBR\",\"CUB\",\"FRA\",\"IRL\",\"GBR\",\"PRI\",\"JPN\",\"TTO\",\"MEX\",\"ECU\",\"GRC\",\"PRT\",\"KHM\",\"HKG\",\"GTM\",\"CMR\",\"TWN\",\"HTI\",\"LAO\",\"DEU\",\"ITA\",\"IRN\",\"POL\",\"HND\",\"JAM\",\"SLV\",\"VNM\",\"IND\",\"PHL\",\"PER\",\"CHN\",\"CAN\",\"HUN\"],\"locations\":[\"THA\",\"USA\",\"NIC\",\"DOM\",\"CAN\",\"NLO\",\"GBR\",\"CUB\",\"FRA\",\"IRL\",\"GBR\",\"PRI\",\"JPN\",\"TTO\",\"MEX\",\"ECU\",\"GRC\",\"PRT\",\"KHM\",\"HKG\",\"GTM\",\"CMR\",\"TWN\",\"HTI\",\"LAO\",\"DEU\",\"ITA\",\"IRN\",\"POL\",\"HND\",\"JAM\",\"SLV\",\"VNM\",\"IND\",\"PHL\",\"PER\",\"CHN\",\"CAN\",\"HUN\"],\"name\":\"\",\"z\":[0,390,0,0,2,0,2,0,0,0,2,0,1,0,1,0,0,1,0,0,0,0,0,1,0,1,1,0,1,0,1,0,2,3,2,0,1,2,0],\"type\":\"choropleth\"}],\"name\":\"43\"},{\"data\":[{\"coloraxis\":\"coloraxis\",\"customdata\":[[0,1],[0,1],[0,0],[2,0],[0,2],[1,3],[1,1],[0,8],[0,3],[0,4],[3,2],[0,1],[0,0],[0,3],[4,4],[0,1],[0,1],[0,2],[0,4],[1,2],[0,0],[3,2],[0,3],[1,0],[0,0],[0,1],[0,3],[1,0],[0,1],[1,2],[1,11],[0,0],[0,1],[0,0],[1,2],[0,2],[0,1],[391,590],[0,1]],\"geo\":\"geo\",\"hovertemplate\":\"<b>%{hovertext}</b><br><br>age=44<br>iso=%{location}<br> >50 =%{z}<br> <=50 =%{customdata[1]}<extra></extra>\",\"hovertext\":[\"ECU\",\"IRN\",\"NLO\",\"ITA\",\"CUB\",\"JAM\",\"CMR\",\"PRI\",\"DEU\",\"POL\",\"GBR\",\"NIC\",\"KHM\",\"CAN\",\"PHL\",\"PER\",\"IND\",\"HTI\",\"DOM\",\"PRT\",\"TTO\",\"GBR\",\"CAN\",\"HUN\",\"GTM\",\"FRA\",\"VNM\",\"TWN\",\"CHN\",\"JPN\",\"MEX\",\"HND\",\"THA\",\"IRL\",\"GRC\",\"LAO\",\"HKG\",\"USA\",\"SLV\"],\"locations\":[\"ECU\",\"IRN\",\"NLO\",\"ITA\",\"CUB\",\"JAM\",\"CMR\",\"PRI\",\"DEU\",\"POL\",\"GBR\",\"NIC\",\"KHM\",\"CAN\",\"PHL\",\"PER\",\"IND\",\"HTI\",\"DOM\",\"PRT\",\"TTO\",\"GBR\",\"CAN\",\"HUN\",\"GTM\",\"FRA\",\"VNM\",\"TWN\",\"CHN\",\"JPN\",\"MEX\",\"HND\",\"THA\",\"IRL\",\"GRC\",\"LAO\",\"HKG\",\"USA\",\"SLV\"],\"name\":\"\",\"z\":[0,0,0,2,0,1,1,0,0,0,3,0,0,0,4,0,0,0,0,1,0,3,0,1,0,0,0,1,0,1,1,0,0,0,1,0,0,391,0],\"type\":\"choropleth\"}],\"name\":\"44\"},{\"data\":[{\"coloraxis\":\"coloraxis\",\"customdata\":[[0,0],[1,0],[2,3],[1,1],[0,0],[379,623],[0,0],[5,2],[0,3],[0,0],[3,1],[0,2],[0,2],[0,0],[0,1],[0,0],[4,1],[3,4],[0,0],[0,0],[1,2],[1,1],[1,0],[0,2],[1,12],[0,0],[0,0],[1,0],[4,1],[3,5],[1,1],[0,1],[0,0],[0,0],[1,4],[3,7],[0,1],[0,4],[3,5]],\"geo\":\"geo\",\"hovertemplate\":\"<b>%{hovertext}</b><br><br>age=45<br>iso=%{location}<br> >50 =%{z}<br> <=50 =%{customdata[1]}<extra></extra>\",\"hovertext\":[\"KHM\",\"IRN\",\"DEU\",\"POL\",\"LAO\",\"USA\",\"JAM\",\"IND\",\"HTI\",\"NLO\",\"JPN\",\"TTO\",\"SLV\",\"GRC\",\"ECU\",\"IRL\",\"GBR\",\"CHN\",\"PRT\",\"PER\",\"PRI\",\"FRA\",\"HKG\",\"THA\",\"MEX\",\"HND\",\"TWN\",\"GTM\",\"GBR\",\"CAN\",\"ITA\",\"CUB\",\"NIC\",\"HUN\",\"CMR\",\"PHL\",\"DOM\",\"VNM\",\"CAN\"],\"locations\":[\"KHM\",\"IRN\",\"DEU\",\"POL\",\"LAO\",\"USA\",\"JAM\",\"IND\",\"HTI\",\"NLO\",\"JPN\",\"TTO\",\"SLV\",\"GRC\",\"ECU\",\"IRL\",\"GBR\",\"CHN\",\"PRT\",\"PER\",\"PRI\",\"FRA\",\"HKG\",\"THA\",\"MEX\",\"HND\",\"TWN\",\"GTM\",\"GBR\",\"CAN\",\"ITA\",\"CUB\",\"NIC\",\"HUN\",\"CMR\",\"PHL\",\"DOM\",\"VNM\",\"CAN\"],\"name\":\"\",\"z\":[0,1,2,1,0,379,0,5,0,0,3,0,0,0,0,0,4,3,0,0,1,1,1,0,1,0,0,1,4,3,1,0,0,0,1,3,0,0,3],\"type\":\"choropleth\"}],\"name\":\"45\"},{\"data\":[{\"coloraxis\":\"coloraxis\",\"customdata\":[[1,0],[0,0],[0,2],[0,0],[0,2],[0,3],[2,2],[2,3],[0,1],[0,0],[0,0],[0,4],[0,0],[6,5],[0,2],[0,1],[0,3],[1,0],[415,590],[0,0],[0,1],[0,0],[0,0],[0,1],[0,4],[0,1],[0,0],[0,1],[6,3],[3,2],[1,0],[2,2],[0,1],[0,5],[2,1],[0,1],[0,13],[2,1],[0,4]],\"geo\":\"geo\",\"hovertemplate\":\"<b>%{hovertext}</b><br><br>age=46<br>iso=%{location}<br> >50 =%{z}<br> <=50 =%{customdata[1]}<extra></extra>\",\"hovertext\":[\"KHM\",\"FRA\",\"JAM\",\"NLO\",\"PER\",\"ECU\",\"CAN\",\"CUB\",\"GRC\",\"IRN\",\"HUN\",\"GTM\",\"HKG\",\"PHL\",\"PRT\",\"SLV\",\"CHN\",\"CMR\",\"USA\",\"LAO\",\"TTO\",\"TWN\",\"POL\",\"VNM\",\"DOM\",\"IRL\",\"HND\",\"HTI\",\"DEU\",\"IND\",\"JPN\",\"CAN\",\"NIC\",\"ITA\",\"GBR\",\"THA\",\"MEX\",\"GBR\",\"PRI\"],\"locations\":[\"KHM\",\"FRA\",\"JAM\",\"NLO\",\"PER\",\"ECU\",\"CAN\",\"CUB\",\"GRC\",\"IRN\",\"HUN\",\"GTM\",\"HKG\",\"PHL\",\"PRT\",\"SLV\",\"CHN\",\"CMR\",\"USA\",\"LAO\",\"TTO\",\"TWN\",\"POL\",\"VNM\",\"DOM\",\"IRL\",\"HND\",\"HTI\",\"DEU\",\"IND\",\"JPN\",\"CAN\",\"NIC\",\"ITA\",\"GBR\",\"THA\",\"MEX\",\"GBR\",\"PRI\"],\"name\":\"\",\"z\":[1,0,0,0,0,0,2,2,0,0,0,0,0,6,0,0,0,1,415,0,0,0,0,0,0,0,0,0,6,3,1,2,0,0,2,0,0,2,0],\"type\":\"choropleth\"}],\"name\":\"46\"},{\"data\":[{\"coloraxis\":\"coloraxis\",\"customdata\":[[2,2],[4,3],[403,576],[1,1],[1,0],[0,2],[0,0],[2,1],[0,0],[0,14],[0,0],[0,2],[1,1],[0,0],[1,2],[1,2],[1,14],[2,1],[0,6],[0,1],[1,1],[2,2],[0,2],[0,0],[1,3],[0,2],[0,1],[0,1],[3,1],[1,5],[0,0],[0,0],[0,0],[1,1],[0,0],[3,1],[0,0],[2,5],[0,0]],\"geo\":\"geo\",\"hovertemplate\":\"<b>%{hovertext}</b><br><br>age=47<br>iso=%{location}<br> >50 =%{z}<br> <=50 =%{customdata[1]}<extra></extra>\",\"hovertext\":[\"CAN\",\"ITA\",\"USA\",\"PER\",\"ECU\",\"THA\",\"HKG\",\"IRN\",\"LAO\",\"PRI\",\"TTO\",\"JAM\",\"FRA\",\"VNM\",\"PRT\",\"IND\",\"MEX\",\"PHL\",\"SLV\",\"CMR\",\"HND\",\"CAN\",\"DOM\",\"GRC\",\"JPN\",\"HTI\",\"HUN\",\"NIC\",\"GBR\",\"DEU\",\"GTM\",\"CHN\",\"POL\",\"TWN\",\"IRL\",\"GBR\",\"NLO\",\"CUB\",\"KHM\"],\"locations\":[\"CAN\",\"ITA\",\"USA\",\"PER\",\"ECU\",\"THA\",\"HKG\",\"IRN\",\"LAO\",\"PRI\",\"TTO\",\"JAM\",\"FRA\",\"VNM\",\"PRT\",\"IND\",\"MEX\",\"PHL\",\"SLV\",\"CMR\",\"HND\",\"CAN\",\"DOM\",\"GRC\",\"JPN\",\"HTI\",\"HUN\",\"NIC\",\"GBR\",\"DEU\",\"GTM\",\"CHN\",\"POL\",\"TWN\",\"IRL\",\"GBR\",\"NLO\",\"CUB\",\"KHM\"],\"name\":\"\",\"z\":[2,4,403,1,1,0,0,2,0,0,0,0,1,0,1,1,1,2,0,0,1,2,0,0,1,0,0,0,3,1,0,0,0,1,0,3,0,2,0],\"type\":\"choropleth\"}],\"name\":\"47\"},{\"data\":[{\"coloraxis\":\"coloraxis\",\"customdata\":[[2,0],[0,1],[0,0],[0,0],[1,0],[1,2],[1,2],[0,0],[0,3],[0,2],[2,1],[0,2],[0,0],[0,1],[4,4],[1,0],[0,1],[0,5],[2,1],[0,1],[3,1],[0,0],[1,3],[0,3],[0,1],[306,464],[0,0],[0,1],[0,1],[3,2],[0,3],[0,2],[1,0],[2,3],[4,2],[3,1],[0,0],[0,2],[0,0]],\"geo\":\"geo\",\"hovertemplate\":\"<b>%{hovertext}</b><br><br>age=48<br>iso=%{location}<br> >50 =%{z}<br> <=50 =%{customdata[1]}<extra></extra>\",\"hovertext\":[\"GRC\",\"HND\",\"HUN\",\"FRA\",\"IRL\",\"SLV\",\"JPN\",\"NLO\",\"CMR\",\"PRI\",\"JAM\",\"NIC\",\"HKG\",\"GTM\",\"MEX\",\"CUB\",\"TTO\",\"DOM\",\"ITA\",\"ECU\",\"CAN\",\"THA\",\"CHN\",\"GBR\",\"PRT\",\"USA\",\"IRN\",\"POL\",\"VNM\",\"IND\",\"GBR\",\"PER\",\"KHM\",\"DEU\",\"PHL\",\"CAN\",\"LAO\",\"HTI\",\"TWN\"],\"locations\":[\"GRC\",\"HND\",\"HUN\",\"FRA\",\"IRL\",\"SLV\",\"JPN\",\"NLO\",\"CMR\",\"PRI\",\"JAM\",\"NIC\",\"HKG\",\"GTM\",\"MEX\",\"CUB\",\"TTO\",\"DOM\",\"ITA\",\"ECU\",\"CAN\",\"THA\",\"CHN\",\"GBR\",\"PRT\",\"USA\",\"IRN\",\"POL\",\"VNM\",\"IND\",\"GBR\",\"PER\",\"KHM\",\"DEU\",\"PHL\",\"CAN\",\"LAO\",\"HTI\",\"TWN\"],\"name\":\"\",\"z\":[2,0,0,0,1,1,1,0,0,0,2,0,0,0,4,1,0,0,2,0,3,0,1,0,0,306,0,0,0,3,0,0,1,2,4,3,0,0,0],\"type\":\"choropleth\"}],\"name\":\"48\"},{\"data\":[{\"coloraxis\":\"coloraxis\",\"customdata\":[[0,1],[298,477],[0,0],[0,3],[0,0],[0,1],[1,3],[0,0],[0,0],[0,0],[0,0],[2,4],[0,1],[0,2],[0,1],[0,1],[1,2],[0,3],[0,1],[1,0],[5,9],[0,2],[0,1],[5,9],[0,0],[1,1],[0,4],[0,5],[0,3],[1,1],[0,0],[1,1],[0,0],[0,1],[0,2],[0,1],[0,1],[0,0],[1,1]],\"geo\":\"geo\",\"hovertemplate\":\"<b>%{hovertext}</b><br><br>age=49<br>iso=%{location}<br> >50 =%{z}<br> <=50 =%{customdata[1]}<extra></extra>\",\"hovertext\":[\"HKG\",\"USA\",\"HTI\",\"PRT\",\"KHM\",\"VNM\",\"ITA\",\"NLO\",\"TTO\",\"IRN\",\"HND\",\"MEX\",\"DOM\",\"CUB\",\"NIC\",\"LAO\",\"DEU\",\"PER\",\"HUN\",\"JPN\",\"CAN\",\"JAM\",\"THA\",\"CAN\",\"GTM\",\"GBR\",\"PRI\",\"PHL\",\"GRC\",\"GBR\",\"SLV\",\"CHN\",\"TWN\",\"POL\",\"IND\",\"IRL\",\"FRA\",\"ECU\",\"CMR\"],\"locations\":[\"HKG\",\"USA\",\"HTI\",\"PRT\",\"KHM\",\"VNM\",\"ITA\",\"NLO\",\"TTO\",\"IRN\",\"HND\",\"MEX\",\"DOM\",\"CUB\",\"NIC\",\"LAO\",\"DEU\",\"PER\",\"HUN\",\"JPN\",\"CAN\",\"JAM\",\"THA\",\"CAN\",\"GTM\",\"GBR\",\"PRI\",\"PHL\",\"GRC\",\"GBR\",\"SLV\",\"CHN\",\"TWN\",\"POL\",\"IND\",\"IRL\",\"FRA\",\"ECU\",\"CMR\"],\"name\":\"\",\"z\":[0,298,0,0,0,0,1,0,0,0,0,2,0,0,0,0,1,0,0,1,5,0,0,5,0,1,0,0,0,1,0,1,0,0,0,0,0,0,1],\"type\":\"choropleth\"}],\"name\":\"49\"},{\"data\":[{\"coloraxis\":\"coloraxis\",\"customdata\":[[0,0],[1,2],[0,0],[0,0],[1,1],[0,3],[3,2],[0,0],[0,2],[355,446],[2,0],[0,0],[1,0],[0,2],[1,0],[0,1],[4,6],[0,1],[0,2],[0,1],[0,0],[1,2],[0,0],[0,0],[3,2],[0,1],[0,3],[0,2],[2,2],[0,0],[0,3],[1,0],[0,9],[0,1],[0,1],[0,0],[1,0],[0,1],[0,0]],\"geo\":\"geo\",\"hovertemplate\":\"<b>%{hovertext}</b><br><br>age=50<br>iso=%{location}<br> >50 =%{z}<br> <=50 =%{customdata[1]}<extra></extra>\",\"hovertext\":[\"GTM\",\"DEU\",\"THA\",\"TWN\",\"POL\",\"HTI\",\"CAN\",\"PRT\",\"DOM\",\"USA\",\"ITA\",\"HKG\",\"LAO\",\"CUB\",\"GRC\",\"IRN\",\"PHL\",\"GBR\",\"TTO\",\"GBR\",\"NLO\",\"SLV\",\"PER\",\"FRA\",\"CAN\",\"JAM\",\"CHN\",\"ECU\",\"CMR\",\"NIC\",\"PRI\",\"KHM\",\"MEX\",\"IND\",\"VNM\",\"HUN\",\"JPN\",\"IRL\",\"HND\"],\"locations\":[\"GTM\",\"DEU\",\"THA\",\"TWN\",\"POL\",\"HTI\",\"CAN\",\"PRT\",\"DOM\",\"USA\",\"ITA\",\"HKG\",\"LAO\",\"CUB\",\"GRC\",\"IRN\",\"PHL\",\"GBR\",\"TTO\",\"GBR\",\"NLO\",\"SLV\",\"PER\",\"FRA\",\"CAN\",\"JAM\",\"CHN\",\"ECU\",\"CMR\",\"NIC\",\"PRI\",\"KHM\",\"MEX\",\"IND\",\"VNM\",\"HUN\",\"JPN\",\"IRL\",\"HND\"],\"name\":\"\",\"z\":[0,1,0,0,1,0,3,0,0,355,2,0,1,0,1,0,4,0,0,0,0,1,0,0,3,0,0,0,2,0,0,1,0,0,0,0,1,0,0],\"type\":\"choropleth\"}],\"name\":\"50\"},{\"data\":[{\"coloraxis\":\"coloraxis\",\"customdata\":[[3,4],[0,0],[0,2],[0,0],[0,1],[0,1],[0,0],[0,1],[0,0],[1,0],[3,9],[2,1],[1,1],[0,3],[0,0],[1,3],[0,1],[0,0],[332,483],[0,0],[0,1],[0,1],[1,2],[0,0],[1,0],[0,0],[1,1],[1,3],[0,0],[0,3],[0,0],[2,1],[1,3],[0,1],[0,1],[3,4],[0,2],[0,0],[1,0]],\"geo\":\"geo\",\"hovertemplate\":\"<b>%{hovertext}</b><br><br>age=51<br>iso=%{location}<br> >50 =%{z}<br> <=50 =%{customdata[1]}<extra></extra>\",\"hovertext\":[\"CAN\",\"ECU\",\"HTI\",\"POL\",\"GRC\",\"TWN\",\"HND\",\"DOM\",\"HKG\",\"CHN\",\"MEX\",\"SLV\",\"IND\",\"JAM\",\"HUN\",\"GBR\",\"ITA\",\"LAO\",\"USA\",\"NIC\",\"IRL\",\"PER\",\"PRI\",\"NLO\",\"IRN\",\"THA\",\"VNM\",\"GBR\",\"TTO\",\"PHL\",\"GTM\",\"DEU\",\"CUB\",\"PRT\",\"KHM\",\"CAN\",\"CMR\",\"JPN\",\"FRA\"],\"locations\":[\"CAN\",\"ECU\",\"HTI\",\"POL\",\"GRC\",\"TWN\",\"HND\",\"DOM\",\"HKG\",\"CHN\",\"MEX\",\"SLV\",\"IND\",\"JAM\",\"HUN\",\"GBR\",\"ITA\",\"LAO\",\"USA\",\"NIC\",\"IRL\",\"PER\",\"PRI\",\"NLO\",\"IRN\",\"THA\",\"VNM\",\"GBR\",\"TTO\",\"PHL\",\"GTM\",\"DEU\",\"CUB\",\"PRT\",\"KHM\",\"CAN\",\"CMR\",\"JPN\",\"FRA\"],\"name\":\"\",\"z\":[3,0,0,0,0,0,0,0,0,1,3,2,1,0,0,1,0,0,332,0,0,0,1,0,1,0,1,1,0,0,0,2,1,0,0,3,0,0,1],\"type\":\"choropleth\"}],\"name\":\"51\"},{\"data\":[{\"coloraxis\":\"coloraxis\",\"customdata\":[[0,1],[0,0],[0,0],[1,0],[0,0],[0,0],[3,1],[0,0],[0,1],[1,0],[2,1],[1,1],[3,1],[1,3],[0,0],[0,0],[0,1],[2,2],[0,2],[0,0],[2,1],[1,2],[1,0],[0,1],[0,0],[0,0],[0,0],[1,0],[2,6],[0,2],[0,0],[0,0],[0,0],[1,11],[1,0],[0,0],[0,0],[0,3],[257,422]],\"geo\":\"geo\",\"hovertemplate\":\"<b>%{hovertext}</b><br><br>age=52<br>iso=%{location}<br> >50 =%{z}<br> <=50 =%{customdata[1]}<extra></extra>\",\"hovertext\":[\"DOM\",\"ITA\",\"THA\",\"IRN\",\"FRA\",\"CMR\",\"CAN\",\"HUN\",\"ECU\",\"PER\",\"HTI\",\"JAM\",\"CAN\",\"SLV\",\"TTO\",\"LAO\",\"GBR\",\"DEU\",\"VNM\",\"TWN\",\"IND\",\"PRI\",\"JPN\",\"GBR\",\"KHM\",\"GTM\",\"PRT\",\"POL\",\"CUB\",\"CHN\",\"NIC\",\"HKG\",\"NLO\",\"MEX\",\"GRC\",\"HND\",\"IRL\",\"PHL\",\"USA\"],\"locations\":[\"DOM\",\"ITA\",\"THA\",\"IRN\",\"FRA\",\"CMR\",\"CAN\",\"HUN\",\"ECU\",\"PER\",\"HTI\",\"JAM\",\"CAN\",\"SLV\",\"TTO\",\"LAO\",\"GBR\",\"DEU\",\"VNM\",\"TWN\",\"IND\",\"PRI\",\"JPN\",\"GBR\",\"KHM\",\"GTM\",\"PRT\",\"POL\",\"CUB\",\"CHN\",\"NIC\",\"HKG\",\"NLO\",\"MEX\",\"GRC\",\"HND\",\"IRL\",\"PHL\",\"USA\"],\"name\":\"\",\"z\":[0,0,0,1,0,0,3,0,0,1,2,1,3,1,0,0,0,2,0,0,2,1,1,0,0,0,0,1,2,0,0,0,0,1,1,0,0,0,257],\"type\":\"choropleth\"}],\"name\":\"52\"},{\"data\":[{\"coloraxis\":\"coloraxis\",\"customdata\":[[1,0],[0,0],[0,2],[1,1],[0,0],[2,2],[1,0],[0,1],[0,1],[2,4],[1,1],[2,0],[2,4],[0,1],[0,2],[1,2],[0,2],[0,0],[0,4],[260,370],[0,0],[0,0],[0,2],[0,2],[2,0],[0,0],[1,2],[1,2],[2,2],[4,1],[2,5],[0,0],[1,0],[1,9],[0,1],[0,2],[0,0],[0,0],[2,4]],\"geo\":\"geo\",\"hovertemplate\":\"<b>%{hovertext}</b><br><br>age=53<br>iso=%{location}<br> >50 =%{z}<br> <=50 =%{customdata[1]}<extra></extra>\",\"hovertext\":[\"TWN\",\"HKG\",\"SLV\",\"CHN\",\"KHM\",\"GRC\",\"HUN\",\"PER\",\"CMR\",\"CAN\",\"JPN\",\"THA\",\"CAN\",\"GTM\",\"LAO\",\"GBR\",\"POL\",\"TTO\",\"DOM\",\"USA\",\"NLO\",\"HND\",\"VNM\",\"JAM\",\"DEU\",\"IRN\",\"GBR\",\"PRI\",\"CUB\",\"IND\",\"ITA\",\"NIC\",\"FRA\",\"MEX\",\"ECU\",\"HTI\",\"PRT\",\"IRL\",\"PHL\"],\"locations\":[\"TWN\",\"HKG\",\"SLV\",\"CHN\",\"KHM\",\"GRC\",\"HUN\",\"PER\",\"CMR\",\"CAN\",\"JPN\",\"THA\",\"CAN\",\"GTM\",\"LAO\",\"GBR\",\"POL\",\"TTO\",\"DOM\",\"USA\",\"NLO\",\"HND\",\"VNM\",\"JAM\",\"DEU\",\"IRN\",\"GBR\",\"PRI\",\"CUB\",\"IND\",\"ITA\",\"NIC\",\"FRA\",\"MEX\",\"ECU\",\"HTI\",\"PRT\",\"IRL\",\"PHL\"],\"name\":\"\",\"z\":[1,0,0,1,0,2,1,0,0,2,1,2,2,0,0,1,0,0,0,260,0,0,0,0,2,0,1,1,2,4,2,0,1,1,0,0,0,0,2],\"type\":\"choropleth\"}],\"name\":\"53\"},{\"data\":[{\"coloraxis\":\"coloraxis\",\"customdata\":[[0,1],[0,1],[1,0],[0,9],[0,0],[1,0],[1,0],[0,0],[0,0],[1,0],[0,0],[0,0],[3,0],[0,2],[2,2],[0,0],[3,0],[0,0],[0,1],[0,0],[2,1],[0,1],[2,2],[1,3],[0,0],[2,3],[2,1],[0,2],[0,0],[220,335],[0,2],[0,0],[2,3],[0,1],[1,2],[0,0],[0,2],[2,0],[0,0]],\"geo\":\"geo\",\"hovertemplate\":\"<b>%{hovertext}</b><br><br>age=54<br>iso=%{location}<br> >50 =%{z}<br> <=50 =%{customdata[1]}<extra></extra>\",\"hovertext\":[\"GTM\",\"VNM\",\"POL\",\"MEX\",\"HND\",\"FRA\",\"IRL\",\"TTO\",\"NLO\",\"JPN\",\"PER\",\"THA\",\"GBR\",\"CHN\",\"CAN\",\"KHM\",\"GBR\",\"ECU\",\"HUN\",\"SLV\",\"HTI\",\"GRC\",\"CAN\",\"DEU\",\"DOM\",\"IND\",\"PRI\",\"ITA\",\"TWN\",\"USA\",\"CUB\",\"IRN\",\"PHL\",\"NIC\",\"JAM\",\"HKG\",\"PRT\",\"CMR\",\"LAO\"],\"locations\":[\"GTM\",\"VNM\",\"POL\",\"MEX\",\"HND\",\"FRA\",\"IRL\",\"TTO\",\"NLO\",\"JPN\",\"PER\",\"THA\",\"GBR\",\"CHN\",\"CAN\",\"KHM\",\"GBR\",\"ECU\",\"HUN\",\"SLV\",\"HTI\",\"GRC\",\"CAN\",\"DEU\",\"DOM\",\"IND\",\"PRI\",\"ITA\",\"TWN\",\"USA\",\"CUB\",\"IRN\",\"PHL\",\"NIC\",\"JAM\",\"HKG\",\"PRT\",\"CMR\",\"LAO\"],\"name\":\"\",\"z\":[0,0,1,0,0,1,1,0,0,1,0,0,3,0,2,0,3,0,0,0,2,0,2,1,0,2,2,0,0,220,0,0,2,0,1,0,0,2,0],\"type\":\"choropleth\"}],\"name\":\"54\"},{\"data\":[{\"coloraxis\":\"coloraxis\",\"customdata\":[[1,2],[0,1],[0,0],[1,1],[0,0],[0,1],[1,0],[1,4],[0,0],[0,0],[0,1],[202,378],[0,0],[0,0],[0,2],[0,2],[0,0],[0,0],[0,2],[0,0],[1,1],[1,2],[0,4],[1,1],[0,0],[1,0],[2,0],[2,0],[0,1],[0,0],[0,0],[0,0],[0,0],[1,4],[0,0],[0,3],[0,0],[0,2],[0,0]],\"geo\":\"geo\",\"hovertemplate\":\"<b>%{hovertext}</b><br><br>age=55<br>iso=%{location}<br> >50 =%{z}<br> <=50 =%{customdata[1]}<extra></extra>\",\"hovertext\":[\"POL\",\"DOM\",\"TWN\",\"PRI\",\"GTM\",\"IRL\",\"CHN\",\"GBR\",\"NLO\",\"JPN\",\"NIC\",\"USA\",\"HKG\",\"LAO\",\"ITA\",\"THA\",\"PRT\",\"PER\",\"CUB\",\"HTI\",\"HUN\",\"IND\",\"MEX\",\"DEU\",\"CMR\",\"GRC\",\"CAN\",\"CAN\",\"FRA\",\"KHM\",\"VNM\",\"ECU\",\"SLV\",\"GBR\",\"TTO\",\"PHL\",\"IRN\",\"JAM\",\"HND\"],\"locations\":[\"POL\",\"DOM\",\"TWN\",\"PRI\",\"GTM\",\"IRL\",\"CHN\",\"GBR\",\"NLO\",\"JPN\",\"NIC\",\"USA\",\"HKG\",\"LAO\",\"ITA\",\"THA\",\"PRT\",\"PER\",\"CUB\",\"HTI\",\"HUN\",\"IND\",\"MEX\",\"DEU\",\"CMR\",\"GRC\",\"CAN\",\"CAN\",\"FRA\",\"KHM\",\"VNM\",\"ECU\",\"SLV\",\"GBR\",\"TTO\",\"PHL\",\"IRN\",\"JAM\",\"HND\"],\"name\":\"\",\"z\":[1,0,0,1,0,0,1,1,0,0,0,202,0,0,0,0,0,0,0,0,1,1,0,1,0,1,2,2,0,0,0,0,0,1,0,0,0,0,0],\"type\":\"choropleth\"}],\"name\":\"55\"},{\"data\":[{\"coloraxis\":\"coloraxis\",\"customdata\":[[0,0],[2,5],[1,1],[0,3],[2,5],[0,1],[0,0],[0,0],[0,0],[1,0],[2,0],[167,350],[0,0],[0,0],[0,1],[1,1],[0,1],[0,0],[0,1],[0,1],[0,4],[0,0],[0,0],[2,2],[0,0],[0,1],[1,1],[0,3],[0,1],[2,0],[1,0],[0,0],[0,0],[1,1],[2,2],[0,0],[1,0],[0,0],[0,0]],\"geo\":\"geo\",\"hovertemplate\":\"<b>%{hovertext}</b><br><br>age=56<br>iso=%{location}<br> >50 =%{z}<br> <=50 =%{customdata[1]}<extra></extra>\",\"hovertext\":[\"THA\",\"CAN\",\"CUB\",\"MEX\",\"CAN\",\"NIC\",\"NLO\",\"FRA\",\"GTM\",\"GRC\",\"GBR\",\"USA\",\"HND\",\"KHM\",\"JAM\",\"IRL\",\"IRN\",\"ECU\",\"POL\",\"LAO\",\"CHN\",\"VNM\",\"IND\",\"PRT\",\"SLV\",\"TTO\",\"DEU\",\"DOM\",\"HTI\",\"GBR\",\"PRI\",\"HKG\",\"TWN\",\"PHL\",\"ITA\",\"PER\",\"JPN\",\"HUN\",\"CMR\"],\"locations\":[\"THA\",\"CAN\",\"CUB\",\"MEX\",\"CAN\",\"NIC\",\"NLO\",\"FRA\",\"GTM\",\"GRC\",\"GBR\",\"USA\",\"HND\",\"KHM\",\"JAM\",\"IRL\",\"IRN\",\"ECU\",\"POL\",\"LAO\",\"CHN\",\"VNM\",\"IND\",\"PRT\",\"SLV\",\"TTO\",\"DEU\",\"DOM\",\"HTI\",\"GBR\",\"PRI\",\"HKG\",\"TWN\",\"PHL\",\"ITA\",\"PER\",\"JPN\",\"HUN\",\"CMR\"],\"name\":\"\",\"z\":[0,2,1,0,2,0,0,0,0,1,2,167,0,0,0,1,0,0,0,0,0,0,0,2,0,0,1,0,0,2,1,0,0,1,2,0,1,0,0],\"type\":\"choropleth\"}],\"name\":\"56\"},{\"data\":[{\"coloraxis\":\"coloraxis\",\"customdata\":[[1,2],[0,1],[1,1],[0,0],[0,0],[0,0],[0,0],[1,0],[0,1],[3,1],[0,1],[0,5],[0,2],[0,0],[0,1],[0,8],[0,1],[0,1],[1,0],[0,0],[0,0],[0,2],[1,1],[0,0],[0,0],[2,0],[186,315],[1,3],[0,0],[1,0],[2,0],[0,1],[1,3],[0,0],[0,2],[0,0],[0,0],[1,1],[0,0]],\"geo\":\"geo\",\"hovertemplate\":\"<b>%{hovertext}</b><br><br>age=57<br>iso=%{location}<br> >50 =%{z}<br> <=50 =%{customdata[1]}<extra></extra>\",\"hovertext\":[\"ITA\",\"GBR\",\"POL\",\"IRL\",\"KHM\",\"NIC\",\"HTI\",\"TTO\",\"ECU\",\"DEU\",\"JAM\",\"CUB\",\"PRT\",\"VNM\",\"GBR\",\"MEX\",\"IRN\",\"FRA\",\"GRC\",\"THA\",\"GTM\",\"DOM\",\"CMR\",\"PER\",\"JPN\",\"PHL\",\"USA\",\"CAN\",\"HKG\",\"HUN\",\"TWN\",\"CHN\",\"CAN\",\"SLV\",\"PRI\",\"LAO\",\"HND\",\"IND\",\"NLO\"],\"locations\":[\"ITA\",\"GBR\",\"POL\",\"IRL\",\"KHM\",\"NIC\",\"HTI\",\"TTO\",\"ECU\",\"DEU\",\"JAM\",\"CUB\",\"PRT\",\"VNM\",\"GBR\",\"MEX\",\"IRN\",\"FRA\",\"GRC\",\"THA\",\"GTM\",\"DOM\",\"CMR\",\"PER\",\"JPN\",\"PHL\",\"USA\",\"CAN\",\"HKG\",\"HUN\",\"TWN\",\"CHN\",\"CAN\",\"SLV\",\"PRI\",\"LAO\",\"HND\",\"IND\",\"NLO\"],\"name\":\"\",\"z\":[1,0,1,0,0,0,0,1,0,3,0,0,0,0,0,0,0,0,1,0,0,0,1,0,0,2,186,1,0,1,2,0,1,0,0,0,0,1,0],\"type\":\"choropleth\"}],\"name\":\"57\"},{\"data\":[{\"coloraxis\":\"coloraxis\",\"customdata\":[[0,0],[0,3],[0,0],[186,333],[0,1],[0,1],[0,1],[1,2],[0,1],[0,0],[0,0],[0,1],[0,1],[0,0],[1,0],[0,0],[0,0],[0,0],[0,0],[0,0],[0,0],[1,6],[0,0],[0,1],[0,1],[0,1],[0,0],[0,2],[1,0],[0,0],[0,0],[0,1],[1,0],[2,2],[0,0],[0,3],[0,0],[0,0],[0,4]],\"geo\":\"geo\",\"hovertemplate\":\"<b>%{hovertext}</b><br><br>age=58<br>iso=%{location}<br> >50 =%{z}<br> <=50 =%{customdata[1]}<extra></extra>\",\"hovertext\":[\"VNM\",\"CAN\",\"TWN\",\"USA\",\"ITA\",\"CMR\",\"GTM\",\"PHL\",\"HND\",\"HKG\",\"HUN\",\"FRA\",\"POL\",\"TTO\",\"CHN\",\"PER\",\"IRL\",\"KHM\",\"NIC\",\"JPN\",\"PRI\",\"MEX\",\"GBR\",\"SLV\",\"IND\",\"HTI\",\"LAO\",\"PRT\",\"DEU\",\"NLO\",\"GBR\",\"DOM\",\"JAM\",\"GRC\",\"THA\",\"CAN\",\"ECU\",\"IRN\",\"CUB\"],\"locations\":[\"VNM\",\"CAN\",\"TWN\",\"USA\",\"ITA\",\"CMR\",\"GTM\",\"PHL\",\"HND\",\"HKG\",\"HUN\",\"FRA\",\"POL\",\"TTO\",\"CHN\",\"PER\",\"IRL\",\"KHM\",\"NIC\",\"JPN\",\"PRI\",\"MEX\",\"GBR\",\"SLV\",\"IND\",\"HTI\",\"LAO\",\"PRT\",\"DEU\",\"NLO\",\"GBR\",\"DOM\",\"JAM\",\"GRC\",\"THA\",\"CAN\",\"ECU\",\"IRN\",\"CUB\"],\"name\":\"\",\"z\":[0,0,0,186,0,0,0,1,0,0,0,0,0,0,1,0,0,0,0,0,0,1,0,0,0,0,0,0,1,0,0,0,1,2,0,0,0,0,0],\"type\":\"choropleth\"}],\"name\":\"58\"},{\"data\":[{\"coloraxis\":\"coloraxis\",\"customdata\":[[0,1],[0,2],[0,1],[0,0],[0,0],[0,1],[0,0],[0,2],[0,0],[183,297],[0,0],[1,1],[0,0],[2,2],[0,1],[0,0],[2,1],[1,2],[0,0],[2,3],[0,0],[0,1],[0,0],[0,0],[0,1],[0,1],[0,5],[0,1],[2,3],[0,0],[0,2],[0,0],[0,0],[0,1],[0,1],[0,0],[0,0],[0,0],[1,3]],\"geo\":\"geo\",\"hovertemplate\":\"<b>%{hovertext}</b><br><br>age=59<br>iso=%{location}<br> >50 =%{z}<br> <=50 =%{customdata[1]}<extra></extra>\",\"hovertext\":[\"DEU\",\"MEX\",\"IRN\",\"HTI\",\"TWN\",\"DOM\",\"HND\",\"POL\",\"LAO\",\"USA\",\"KHM\",\"CUB\",\"HKG\",\"ITA\",\"SLV\",\"VNM\",\"IND\",\"CHN\",\"IRL\",\"GBR\",\"ECU\",\"CAN\",\"JPN\",\"CMR\",\"CAN\",\"GRC\",\"PRI\",\"PRT\",\"GBR\",\"PER\",\"JAM\",\"FRA\",\"HUN\",\"NIC\",\"GTM\",\"THA\",\"NLO\",\"TTO\",\"PHL\"],\"locations\":[\"DEU\",\"MEX\",\"IRN\",\"HTI\",\"TWN\",\"DOM\",\"HND\",\"POL\",\"LAO\",\"USA\",\"KHM\",\"CUB\",\"HKG\",\"ITA\",\"SLV\",\"VNM\",\"IND\",\"CHN\",\"IRL\",\"GBR\",\"ECU\",\"CAN\",\"JPN\",\"CMR\",\"CAN\",\"GRC\",\"PRI\",\"PRT\",\"GBR\",\"PER\",\"JAM\",\"FRA\",\"HUN\",\"NIC\",\"GTM\",\"THA\",\"NLO\",\"TTO\",\"PHL\"],\"name\":\"\",\"z\":[0,0,0,0,0,0,0,0,0,183,0,1,0,2,0,0,2,1,0,2,0,0,0,0,0,0,0,0,2,0,0,0,0,0,0,0,0,0,1],\"type\":\"choropleth\"}],\"name\":\"59\"},{\"data\":[{\"coloraxis\":\"coloraxis\",\"customdata\":[[0,1],[0,0],[0,3],[0,0],[1,0],[0,1],[0,1],[0,1],[0,0],[0,0],[0,0],[0,0],[0,0],[0,0],[0,1],[0,1],[0,1],[1,4],[1,2],[127,288],[0,1],[1,1],[0,1],[0,0],[0,1],[2,0],[0,1],[0,4],[0,0],[0,1],[0,0],[0,0],[0,0],[0,2],[1,0],[0,0],[0,0],[0,4],[0,0]],\"geo\":\"geo\",\"hovertemplate\":\"<b>%{hovertext}</b><br><br>age=60<br>iso=%{location}<br> >50 =%{z}<br> <=50 =%{customdata[1]}<extra></extra>\",\"hovertext\":[\"IRN\",\"IND\",\"POL\",\"PER\",\"HUN\",\"GTM\",\"GBR\",\"DOM\",\"VNM\",\"ECU\",\"GRC\",\"HTI\",\"TTO\",\"PRT\",\"KHM\",\"CUB\",\"JPN\",\"MEX\",\"PHL\",\"USA\",\"NIC\",\"CMR\",\"PRI\",\"NLO\",\"HKG\",\"DEU\",\"GBR\",\"CAN\",\"JAM\",\"IRL\",\"LAO\",\"THA\",\"TWN\",\"ITA\",\"CHN\",\"SLV\",\"FRA\",\"CAN\",\"HND\"],\"locations\":[\"IRN\",\"IND\",\"POL\",\"PER\",\"HUN\",\"GTM\",\"GBR\",\"DOM\",\"VNM\",\"ECU\",\"GRC\",\"HTI\",\"TTO\",\"PRT\",\"KHM\",\"CUB\",\"JPN\",\"MEX\",\"PHL\",\"USA\",\"NIC\",\"CMR\",\"PRI\",\"NLO\",\"HKG\",\"DEU\",\"GBR\",\"CAN\",\"JAM\",\"IRL\",\"LAO\",\"THA\",\"TWN\",\"ITA\",\"CHN\",\"SLV\",\"FRA\",\"CAN\",\"HND\"],\"name\":\"\",\"z\":[0,0,0,0,1,0,0,0,0,0,0,0,0,0,0,0,0,1,1,127,0,1,0,0,0,2,0,0,0,0,0,0,0,0,1,0,0,0,0],\"type\":\"choropleth\"}],\"name\":\"60\"},{\"data\":[{\"coloraxis\":\"coloraxis\",\"customdata\":[[1,2],[0,1],[0,0],[0,0],[0,0],[0,0],[0,0],[0,0],[0,0],[0,2],[1,3],[0,0],[0,0],[0,1],[0,0],[1,1],[0,2],[133,282],[0,1],[0,1],[0,0],[0,7],[1,0],[0,0],[0,0],[1,0],[0,0],[1,0],[0,1],[0,0],[1,0],[1,1],[0,0],[0,1],[0,1],[0,0],[1,2],[1,3],[0,0]],\"geo\":\"geo\",\"hovertemplate\":\"<b>%{hovertext}</b><br><br>age=61<br>iso=%{location}<br> >50 =%{z}<br> <=50 =%{customdata[1]}<extra></extra>\",\"hovertext\":[\"DEU\",\"CHN\",\"NIC\",\"HKG\",\"DOM\",\"IRL\",\"PRT\",\"PER\",\"GRC\",\"ITA\",\"CAN\",\"HUN\",\"NLO\",\"HND\",\"IRN\",\"IND\",\"CMR\",\"USA\",\"SLV\",\"GTM\",\"HTI\",\"MEX\",\"TWN\",\"FRA\",\"JAM\",\"POL\",\"THA\",\"GBR\",\"JPN\",\"VNM\",\"GBR\",\"PHL\",\"KHM\",\"TTO\",\"CUB\",\"LAO\",\"PRI\",\"CAN\",\"ECU\"],\"locations\":[\"DEU\",\"CHN\",\"NIC\",\"HKG\",\"DOM\",\"IRL\",\"PRT\",\"PER\",\"GRC\",\"ITA\",\"CAN\",\"HUN\",\"NLO\",\"HND\",\"IRN\",\"IND\",\"CMR\",\"USA\",\"SLV\",\"GTM\",\"HTI\",\"MEX\",\"TWN\",\"FRA\",\"JAM\",\"POL\",\"THA\",\"GBR\",\"JPN\",\"VNM\",\"GBR\",\"PHL\",\"KHM\",\"TTO\",\"CUB\",\"LAO\",\"PRI\",\"CAN\",\"ECU\"],\"name\":\"\",\"z\":[1,0,0,0,0,0,0,0,0,0,1,0,0,0,0,1,0,133,0,0,0,0,1,0,0,1,0,1,0,0,1,1,0,0,0,0,1,1,0],\"type\":\"choropleth\"}],\"name\":\"61\"},{\"data\":[{\"coloraxis\":\"coloraxis\",\"customdata\":[[0,1],[1,0],[0,0],[0,0],[0,0],[0,0],[0,2],[0,3],[0,0],[0,0],[0,2],[0,0],[0,4],[0,0],[0,0],[0,0],[1,1],[0,1],[1,1],[0,0],[0,0],[0,1],[0,0],[0,3],[0,0],[0,1],[0,0],[0,4],[0,0],[1,0],[100,270],[1,1],[0,0],[0,0],[0,0],[0,0],[0,0],[0,0],[0,0]],\"geo\":\"geo\",\"hovertemplate\":\"<b>%{hovertext}</b><br><br>age=62<br>iso=%{location}<br> >50 =%{z}<br> <=50 =%{customdata[1]}<extra></extra>\",\"hovertext\":[\"CMR\",\"IRL\",\"NIC\",\"KHM\",\"HND\",\"HTI\",\"DEU\",\"PHL\",\"NLO\",\"IND\",\"CUB\",\"HUN\",\"CAN\",\"PRT\",\"PER\",\"TTO\",\"GBR\",\"ECU\",\"CHN\",\"POL\",\"GTM\",\"DOM\",\"GRC\",\"MEX\",\"HKG\",\"IRN\",\"FRA\",\"CAN\",\"JPN\",\"ITA\",\"USA\",\"GBR\",\"TWN\",\"VNM\",\"SLV\",\"JAM\",\"THA\",\"PRI\",\"LAO\"],\"locations\":[\"CMR\",\"IRL\",\"NIC\",\"KHM\",\"HND\",\"HTI\",\"DEU\",\"PHL\",\"NLO\",\"IND\",\"CUB\",\"HUN\",\"CAN\",\"PRT\",\"PER\",\"TTO\",\"GBR\",\"ECU\",\"CHN\",\"POL\",\"GTM\",\"DOM\",\"GRC\",\"MEX\",\"HKG\",\"IRN\",\"FRA\",\"CAN\",\"JPN\",\"ITA\",\"USA\",\"GBR\",\"TWN\",\"VNM\",\"SLV\",\"JAM\",\"THA\",\"PRI\",\"LAO\"],\"name\":\"\",\"z\":[0,1,0,0,0,0,0,0,0,0,0,0,0,0,0,0,1,0,1,0,0,0,0,0,0,0,0,0,0,1,100,1,0,0,0,0,0,0,0],\"type\":\"choropleth\"}],\"name\":\"62\"},{\"data\":[{\"coloraxis\":\"coloraxis\",\"customdata\":[[0,1],[85,229],[0,0],[0,1],[0,0],[0,0],[0,0],[0,0],[0,1],[0,2],[0,0],[0,0],[0,0],[0,1],[0,0],[0,0],[0,0],[1,0],[0,2],[0,2],[0,0],[0,2],[0,0],[0,0],[0,0],[0,0],[0,0],[1,0],[0,0],[0,0],[0,1],[2,2],[0,1],[0,0],[0,0],[0,0],[0,0],[0,0],[1,0]],\"geo\":\"geo\",\"hovertemplate\":\"<b>%{hovertext}</b><br><br>age=63<br>iso=%{location}<br> >50 =%{z}<br> <=50 =%{customdata[1]}<extra></extra>\",\"hovertext\":[\"PRT\",\"USA\",\"TTO\",\"GBR\",\"DEU\",\"POL\",\"DOM\",\"HND\",\"VNM\",\"CMR\",\"LAO\",\"GTM\",\"CAN\",\"SLV\",\"HKG\",\"FRA\",\"ECU\",\"IND\",\"MEX\",\"CUB\",\"TWN\",\"PRI\",\"NIC\",\"JPN\",\"CAN\",\"JAM\",\"KHM\",\"IRN\",\"GRC\",\"THA\",\"GBR\",\"PHL\",\"HTI\",\"IRL\",\"PER\",\"HUN\",\"ITA\",\"NLO\",\"CHN\"],\"locations\":[\"PRT\",\"USA\",\"TTO\",\"GBR\",\"DEU\",\"POL\",\"DOM\",\"HND\",\"VNM\",\"CMR\",\"LAO\",\"GTM\",\"CAN\",\"SLV\",\"HKG\",\"FRA\",\"ECU\",\"IND\",\"MEX\",\"CUB\",\"TWN\",\"PRI\",\"NIC\",\"JPN\",\"CAN\",\"JAM\",\"KHM\",\"IRN\",\"GRC\",\"THA\",\"GBR\",\"PHL\",\"HTI\",\"IRL\",\"PER\",\"HUN\",\"ITA\",\"NLO\",\"CHN\"],\"name\":\"\",\"z\":[0,85,0,0,0,0,0,0,0,0,0,0,0,0,0,0,0,1,0,0,0,0,0,0,0,0,0,1,0,0,0,2,0,0,0,0,0,0,1],\"type\":\"choropleth\"}],\"name\":\"63\"},{\"data\":[{\"coloraxis\":\"coloraxis\",\"customdata\":[[0,0],[2,4],[0,0],[0,1],[0,0],[0,1],[0,0],[82,233],[0,0],[0,0],[1,1],[0,0],[1,0],[0,1],[0,0],[0,0],[1,1],[0,0],[0,0],[0,0],[0,0],[0,0],[0,0],[0,0],[0,0],[1,2],[0,0],[0,1],[2,4],[0,0],[0,3],[0,1],[0,0],[0,0],[0,0],[1,2],[0,0],[0,0],[0,0]],\"geo\":\"geo\",\"hovertemplate\":\"<b>%{hovertext}</b><br><br>age=64<br>iso=%{location}<br> >50 =%{z}<br> <=50 =%{customdata[1]}<extra></extra>\",\"hovertext\":[\"JPN\",\"CAN\",\"DOM\",\"PER\",\"GBR\",\"PRI\",\"CMR\",\"USA\",\"POL\",\"NIC\",\"CHN\",\"SLV\",\"JAM\",\"IND\",\"PRT\",\"IRL\",\"FRA\",\"TTO\",\"HND\",\"ECU\",\"KHM\",\"HKG\",\"HTI\",\"NLO\",\"GTM\",\"PHL\",\"DEU\",\"GRC\",\"CAN\",\"THA\",\"CUB\",\"ITA\",\"GBR\",\"IRN\",\"VNM\",\"MEX\",\"HUN\",\"LAO\",\"TWN\"],\"locations\":[\"JPN\",\"CAN\",\"DOM\",\"PER\",\"GBR\",\"PRI\",\"CMR\",\"USA\",\"POL\",\"NIC\",\"CHN\",\"SLV\",\"JAM\",\"IND\",\"PRT\",\"IRL\",\"FRA\",\"TTO\",\"HND\",\"ECU\",\"KHM\",\"HKG\",\"HTI\",\"NLO\",\"GTM\",\"PHL\",\"DEU\",\"GRC\",\"CAN\",\"THA\",\"CUB\",\"ITA\",\"GBR\",\"IRN\",\"VNM\",\"MEX\",\"HUN\",\"LAO\",\"TWN\"],\"name\":\"\",\"z\":[0,2,0,0,0,0,0,82,0,0,1,0,1,0,0,0,1,0,0,0,0,0,0,0,0,1,0,0,2,0,0,0,0,0,0,1,0,0,0],\"type\":\"choropleth\"}],\"name\":\"64\"},{\"data\":[{\"coloraxis\":\"coloraxis\",\"customdata\":[[0,1],[1,0],[0,0],[0,1],[0,0],[0,0],[65,199],[1,3],[0,0],[0,0],[0,0],[0,0],[0,0],[0,1],[0,0],[0,2],[1,0],[0,1],[0,0],[0,0],[0,0],[0,0],[0,0],[1,1],[0,0],[1,1],[1,1],[0,0],[0,1],[0,0],[0,1],[0,0],[0,0],[0,1],[0,0],[0,0],[0,0],[0,1],[0,0]],\"geo\":\"geo\",\"hovertemplate\":\"<b>%{hovertext}</b><br><br>age=65<br>iso=%{location}<br> >50 =%{z}<br> <=50 =%{customdata[1]}<extra></extra>\",\"hovertext\":[\"KHM\",\"GBR\",\"SLV\",\"PRI\",\"NIC\",\"VNM\",\"USA\",\"MEX\",\"CHN\",\"DOM\",\"NLO\",\"IRN\",\"HKG\",\"CMR\",\"TTO\",\"GRC\",\"GBR\",\"POL\",\"HTI\",\"JPN\",\"GTM\",\"PRT\",\"LAO\",\"ITA\",\"PHL\",\"HUN\",\"DEU\",\"THA\",\"CAN\",\"PER\",\"JAM\",\"ECU\",\"FRA\",\"CAN\",\"TWN\",\"HND\",\"IRL\",\"CUB\",\"IND\"],\"locations\":[\"KHM\",\"GBR\",\"SLV\",\"PRI\",\"NIC\",\"VNM\",\"USA\",\"MEX\",\"CHN\",\"DOM\",\"NLO\",\"IRN\",\"HKG\",\"CMR\",\"TTO\",\"GRC\",\"GBR\",\"POL\",\"HTI\",\"JPN\",\"GTM\",\"PRT\",\"LAO\",\"ITA\",\"PHL\",\"HUN\",\"DEU\",\"THA\",\"CAN\",\"PER\",\"JAM\",\"ECU\",\"FRA\",\"CAN\",\"TWN\",\"HND\",\"IRL\",\"CUB\",\"IND\"],\"name\":\"\",\"z\":[0,1,0,0,0,0,65,1,0,0,0,0,0,0,0,0,1,0,0,0,0,0,0,1,0,1,1,0,0,0,0,0,0,0,0,0,0,0,0],\"type\":\"choropleth\"}],\"name\":\"65\"},{\"data\":[{\"coloraxis\":\"coloraxis\",\"customdata\":[[0,0],[0,0],[0,3],[0,1],[0,0],[0,0],[0,0],[0,0],[0,0],[0,2],[0,0],[0,0],[0,0],[0,0],[0,0],[0,1],[1,0],[0,1],[0,0],[0,2],[0,0],[0,0],[0,0],[0,0],[0,0],[0,1],[0,0],[0,1],[0,0],[0,0],[0,0],[0,0],[0,1],[0,0],[0,0],[0,0],[0,0],[54,168],[0,2]],\"geo\":\"geo\",\"hovertemplate\":\"<b>%{hovertext}</b><br><br>age=66<br>iso=%{location}<br> >50 =%{z}<br> <=50 =%{customdata[1]}<extra></extra>\",\"hovertext\":[\"CHN\",\"VNM\",\"PHL\",\"HUN\",\"IRL\",\"DOM\",\"HND\",\"TTO\",\"SLV\",\"CUB\",\"IND\",\"NIC\",\"PER\",\"KHM\",\"IRN\",\"GTM\",\"JAM\",\"CAN\",\"POL\",\"PRI\",\"LAO\",\"GRC\",\"THA\",\"HKG\",\"MEX\",\"CAN\",\"ECU\",\"GBR\",\"CMR\",\"HTI\",\"NLO\",\"PRT\",\"GBR\",\"ITA\",\"JPN\",\"FRA\",\"TWN\",\"USA\",\"DEU\"],\"locations\":[\"CHN\",\"VNM\",\"PHL\",\"HUN\",\"IRL\",\"DOM\",\"HND\",\"TTO\",\"SLV\",\"CUB\",\"IND\",\"NIC\",\"PER\",\"KHM\",\"IRN\",\"GTM\",\"JAM\",\"CAN\",\"POL\",\"PRI\",\"LAO\",\"GRC\",\"THA\",\"HKG\",\"MEX\",\"CAN\",\"ECU\",\"GBR\",\"CMR\",\"HTI\",\"NLO\",\"PRT\",\"GBR\",\"ITA\",\"JPN\",\"FRA\",\"TWN\",\"USA\",\"DEU\"],\"name\":\"\",\"z\":[0,0,0,0,0,0,0,0,0,0,0,0,0,0,0,0,1,0,0,0,0,0,0,0,0,0,0,0,0,0,0,0,0,0,0,0,0,54,0],\"type\":\"choropleth\"}],\"name\":\"66\"},{\"data\":[{\"coloraxis\":\"coloraxis\",\"customdata\":[[0,0],[0,0],[1,0],[0,0],[1,1],[0,0],[0,0],[0,0],[0,0],[0,0],[0,0],[0,0],[2,1],[0,0],[0,0],[0,0],[0,0],[0,0],[2,1],[1,0],[0,0],[0,0],[0,0],[0,0],[0,0],[0,0],[0,0],[0,0],[0,1],[1,0],[0,0],[1,1],[51,175],[0,0],[0,0],[0,0],[0,1],[0,1],[0,0]],\"geo\":\"geo\",\"hovertemplate\":\"<b>%{hovertext}</b><br><br>age=67<br>iso=%{location}<br> >50 =%{z}<br> <=50 =%{customdata[1]}<extra></extra>\",\"hovertext\":[\"PRI\",\"JPN\",\"ITA\",\"FRA\",\"DEU\",\"HND\",\"TWN\",\"SLV\",\"IRN\",\"MEX\",\"CHN\",\"GRC\",\"CAN\",\"VNM\",\"IRL\",\"LAO\",\"PRT\",\"HKG\",\"CAN\",\"GBR\",\"KHM\",\"HTI\",\"GTM\",\"JAM\",\"PER\",\"THA\",\"NLO\",\"POL\",\"PHL\",\"GBR\",\"TTO\",\"CUB\",\"USA\",\"HUN\",\"DOM\",\"IND\",\"ECU\",\"NIC\",\"CMR\"],\"locations\":[\"PRI\",\"JPN\",\"ITA\",\"FRA\",\"DEU\",\"HND\",\"TWN\",\"SLV\",\"IRN\",\"MEX\",\"CHN\",\"GRC\",\"CAN\",\"VNM\",\"IRL\",\"LAO\",\"PRT\",\"HKG\",\"CAN\",\"GBR\",\"KHM\",\"HTI\",\"GTM\",\"JAM\",\"PER\",\"THA\",\"NLO\",\"POL\",\"PHL\",\"GBR\",\"TTO\",\"CUB\",\"USA\",\"HUN\",\"DOM\",\"IND\",\"ECU\",\"NIC\",\"CMR\"],\"name\":\"\",\"z\":[0,0,1,0,1,0,0,0,0,0,0,0,2,0,0,0,0,0,2,1,0,0,0,0,0,0,0,0,0,1,0,1,51,0,0,0,0,0,0],\"type\":\"choropleth\"}],\"name\":\"67\"},{\"data\":[{\"coloraxis\":\"coloraxis\",\"customdata\":[[0,0],[0,0],[0,2],[0,0],[0,0],[0,2],[0,0],[0,0],[0,0],[0,0],[0,0],[0,0],[0,0],[0,0],[0,2],[0,0],[0,0],[0,0],[0,0],[0,0],[0,0],[0,1],[34,135],[0,0],[0,2],[0,0],[0,0],[0,0],[1,0],[0,0],[0,0],[0,0],[1,1],[0,0],[1,0],[0,0],[0,0],[0,0],[0,0]],\"geo\":\"geo\",\"hovertemplate\":\"<b>%{hovertext}</b><br><br>age=68<br>iso=%{location}<br> >50 =%{z}<br> <=50 =%{customdata[1]}<extra></extra>\",\"hovertext\":[\"HTI\",\"ECU\",\"CAN\",\"THA\",\"LAO\",\"CAN\",\"MEX\",\"JAM\",\"PRI\",\"HKG\",\"IRN\",\"POL\",\"GRC\",\"GTM\",\"GBR\",\"NIC\",\"HUN\",\"DOM\",\"PER\",\"SLV\",\"CHN\",\"CUB\",\"USA\",\"HND\",\"GBR\",\"TTO\",\"PHL\",\"VNM\",\"IRL\",\"KHM\",\"NLO\",\"JPN\",\"ITA\",\"CMR\",\"DEU\",\"IND\",\"FRA\",\"PRT\",\"TWN\"],\"locations\":[\"HTI\",\"ECU\",\"CAN\",\"THA\",\"LAO\",\"CAN\",\"MEX\",\"JAM\",\"PRI\",\"HKG\",\"IRN\",\"POL\",\"GRC\",\"GTM\",\"GBR\",\"NIC\",\"HUN\",\"DOM\",\"PER\",\"SLV\",\"CHN\",\"CUB\",\"USA\",\"HND\",\"GBR\",\"TTO\",\"PHL\",\"VNM\",\"IRL\",\"KHM\",\"NLO\",\"JPN\",\"ITA\",\"CMR\",\"DEU\",\"IND\",\"FRA\",\"PRT\",\"TWN\"],\"name\":\"\",\"z\":[0,0,0,0,0,0,0,0,0,0,0,0,0,0,0,0,0,0,0,0,0,0,34,0,0,0,0,0,1,0,0,0,1,0,1,0,0,0,0],\"type\":\"choropleth\"}],\"name\":\"68\"},{\"data\":[{\"coloraxis\":\"coloraxis\",\"customdata\":[[0,0],[0,1],[0,0],[1,0],[0,0],[0,0],[0,0],[0,0],[0,0],[0,0],[0,0],[0,0],[0,0],[0,0],[0,0],[29,113],[0,0],[0,0],[0,2],[0,0],[0,0],[0,0],[0,0],[0,1],[0,0],[0,0],[0,1],[0,0],[0,0],[0,0],[0,0],[0,0],[0,0],[0,0],[0,0],[1,0],[0,0],[0,0],[0,0]],\"geo\":\"geo\",\"hovertemplate\":\"<b>%{hovertext}</b><br><br>age=69<br>iso=%{location}<br> >50 =%{z}<br> <=50 =%{customdata[1]}<extra></extra>\",\"hovertext\":[\"NIC\",\"PER\",\"MEX\",\"FRA\",\"VNM\",\"HND\",\"CMR\",\"NLO\",\"PRI\",\"PRT\",\"POL\",\"HTI\",\"CAN\",\"DOM\",\"LAO\",\"USA\",\"THA\",\"TTO\",\"DEU\",\"GTM\",\"GRC\",\"CUB\",\"IRN\",\"PHL\",\"HKG\",\"TWN\",\"ITA\",\"CAN\",\"KHM\",\"GBR\",\"GBR\",\"IRL\",\"SLV\",\"IND\",\"HUN\",\"CHN\",\"JPN\",\"ECU\",\"JAM\"],\"locations\":[\"NIC\",\"PER\",\"MEX\",\"FRA\",\"VNM\",\"HND\",\"CMR\",\"NLO\",\"PRI\",\"PRT\",\"POL\",\"HTI\",\"CAN\",\"DOM\",\"LAO\",\"USA\",\"THA\",\"TTO\",\"DEU\",\"GTM\",\"GRC\",\"CUB\",\"IRN\",\"PHL\",\"HKG\",\"TWN\",\"ITA\",\"CAN\",\"KHM\",\"GBR\",\"GBR\",\"IRL\",\"SLV\",\"IND\",\"HUN\",\"CHN\",\"JPN\",\"ECU\",\"JAM\"],\"name\":\"\",\"z\":[0,0,0,1,0,0,0,0,0,0,0,0,0,0,0,29,0,0,0,0,0,0,0,0,0,0,0,0,0,0,0,0,0,0,0,1,0,0,0],\"type\":\"choropleth\"}],\"name\":\"69\"},{\"data\":[{\"coloraxis\":\"coloraxis\",\"customdata\":[[0,1],[0,0],[0,0],[0,0],[0,0],[0,0],[0,1],[0,0],[0,0],[0,1],[0,0],[0,2],[0,0],[0,0],[25,100],[0,1],[0,0],[0,0],[0,1],[0,0],[0,1],[0,0],[0,0],[0,0],[0,0],[0,1],[0,0],[0,0],[0,0],[0,0],[0,0],[0,0],[0,0],[0,0],[0,0],[0,0],[0,0],[0,0],[0,0]],\"geo\":\"geo\",\"hovertemplate\":\"<b>%{hovertext}</b><br><br>age=70<br>iso=%{location}<br> >50 =%{z}<br> <=50 =%{customdata[1]}<extra></extra>\",\"hovertext\":[\"PRI\",\"SLV\",\"FRA\",\"DOM\",\"HUN\",\"JPN\",\"PHL\",\"JAM\",\"IRN\",\"VNM\",\"TWN\",\"CUB\",\"DEU\",\"ITA\",\"USA\",\"GRC\",\"CAN\",\"MEX\",\"GBR\",\"NIC\",\"CHN\",\"HTI\",\"IRL\",\"KHM\",\"PRT\",\"GBR\",\"HKG\",\"TTO\",\"HND\",\"PER\",\"IND\",\"POL\",\"NLO\",\"CMR\",\"ECU\",\"LAO\",\"THA\",\"CAN\",\"GTM\"],\"locations\":[\"PRI\",\"SLV\",\"FRA\",\"DOM\",\"HUN\",\"JPN\",\"PHL\",\"JAM\",\"IRN\",\"VNM\",\"TWN\",\"CUB\",\"DEU\",\"ITA\",\"USA\",\"GRC\",\"CAN\",\"MEX\",\"GBR\",\"NIC\",\"CHN\",\"HTI\",\"IRL\",\"KHM\",\"PRT\",\"GBR\",\"HKG\",\"TTO\",\"HND\",\"PER\",\"IND\",\"POL\",\"NLO\",\"CMR\",\"ECU\",\"LAO\",\"THA\",\"CAN\",\"GTM\"],\"name\":\"\",\"z\":[0,0,0,0,0,0,0,0,0,0,0,0,0,0,25,0,0,0,0,0,0,0,0,0,0,0,0,0,0,0,0,0,0,0,0,0,0,0,0],\"type\":\"choropleth\"}],\"name\":\"70\"},{\"data\":[{\"coloraxis\":\"coloraxis\",\"customdata\":[[0,0],[0,0],[0,0],[0,0],[28,85],[0,0],[0,1],[0,0],[0,0],[0,0],[0,0],[0,0],[0,1],[0,0],[0,0],[0,1],[0,0],[0,1],[0,1],[0,0],[0,0],[0,0],[0,0],[0,0],[0,0],[0,0],[0,0],[0,0],[0,0],[0,1],[0,0],[0,0],[0,0],[0,0],[0,0],[0,0],[0,0],[0,0],[0,0]],\"geo\":\"geo\",\"hovertemplate\":\"<b>%{hovertext}</b><br><br>age=71<br>iso=%{location}<br> >50 =%{z}<br> <=50 =%{customdata[1]}<extra></extra>\",\"hovertext\":[\"ECU\",\"GBR\",\"JAM\",\"IRN\",\"USA\",\"HND\",\"HUN\",\"JPN\",\"CHN\",\"PRI\",\"FRA\",\"PER\",\"POL\",\"PRT\",\"THA\",\"DEU\",\"TWN\",\"CAN\",\"CAN\",\"HTI\",\"MEX\",\"ITA\",\"LAO\",\"KHM\",\"GRC\",\"IND\",\"PHL\",\"SLV\",\"NLO\",\"CUB\",\"GTM\",\"NIC\",\"CMR\",\"GBR\",\"VNM\",\"DOM\",\"TTO\",\"IRL\",\"HKG\"],\"locations\":[\"ECU\",\"GBR\",\"JAM\",\"IRN\",\"USA\",\"HND\",\"HUN\",\"JPN\",\"CHN\",\"PRI\",\"FRA\",\"PER\",\"POL\",\"PRT\",\"THA\",\"DEU\",\"TWN\",\"CAN\",\"CAN\",\"HTI\",\"MEX\",\"ITA\",\"LAO\",\"KHM\",\"GRC\",\"IND\",\"PHL\",\"SLV\",\"NLO\",\"CUB\",\"GTM\",\"NIC\",\"CMR\",\"GBR\",\"VNM\",\"DOM\",\"TTO\",\"IRL\",\"HKG\"],\"name\":\"\",\"z\":[0,0,0,0,28,0,0,0,0,0,0,0,0,0,0,0,0,0,0,0,0,0,0,0,0,0,0,0,0,0,0,0,0,0,0,0,0,0,0],\"type\":\"choropleth\"}],\"name\":\"71\"},{\"data\":[{\"coloraxis\":\"coloraxis\",\"customdata\":[[1,2],[0,0],[0,0],[14,96],[0,0],[0,0],[0,0],[0,0],[0,1],[0,0],[1,2],[0,0],[0,0],[0,0],[0,0],[0,0],[0,0],[0,0],[0,0],[0,0],[0,0],[0,0],[1,2],[0,2],[0,0],[0,0],[0,0],[0,0],[0,0],[0,1],[0,0],[0,2],[0,0],[0,0],[0,0],[0,0],[0,0],[0,0],[0,0]],\"geo\":\"geo\",\"hovertemplate\":\"<b>%{hovertext}</b><br><br>age=72<br>iso=%{location}<br> >50 =%{z}<br> <=50 =%{customdata[1]}<extra></extra>\",\"hovertext\":[\"CAN\",\"ITA\",\"FRA\",\"USA\",\"LAO\",\"MEX\",\"PRT\",\"NLO\",\"JPN\",\"HTI\",\"CUB\",\"SLV\",\"KHM\",\"IRN\",\"ECU\",\"PER\",\"PRI\",\"CMR\",\"TTO\",\"NIC\",\"HND\",\"HKG\",\"CAN\",\"GBR\",\"TWN\",\"DEU\",\"GTM\",\"HUN\",\"VNM\",\"POL\",\"PHL\",\"GBR\",\"DOM\",\"GRC\",\"JAM\",\"IND\",\"CHN\",\"THA\",\"IRL\"],\"locations\":[\"CAN\",\"ITA\",\"FRA\",\"USA\",\"LAO\",\"MEX\",\"PRT\",\"NLO\",\"JPN\",\"HTI\",\"CUB\",\"SLV\",\"KHM\",\"IRN\",\"ECU\",\"PER\",\"PRI\",\"CMR\",\"TTO\",\"NIC\",\"HND\",\"HKG\",\"CAN\",\"GBR\",\"TWN\",\"DEU\",\"GTM\",\"HUN\",\"VNM\",\"POL\",\"PHL\",\"GBR\",\"DOM\",\"GRC\",\"JAM\",\"IND\",\"CHN\",\"THA\",\"IRL\"],\"name\":\"\",\"z\":[1,0,0,14,0,0,0,0,0,0,1,0,0,0,0,0,0,0,0,0,0,0,1,0,0,0,0,0,0,0,0,0,0,0,0,0,0,0,0],\"type\":\"choropleth\"}],\"name\":\"72\"},{\"data\":[{\"coloraxis\":\"coloraxis\",\"customdata\":[[0,0],[0,0],[0,0],[0,2],[0,1],[0,1],[0,0],[0,0],[16,80],[0,4],[0,0],[0,1],[0,0],[0,0],[0,0],[0,0],[0,0],[0,0],[0,0],[0,0],[0,0],[1,0],[0,2],[0,0],[0,0],[0,0],[0,1],[0,0],[0,0],[0,0],[0,0],[0,4],[0,0],[0,0],[0,0],[0,0],[0,0],[0,0],[0,0]],\"geo\":\"geo\",\"hovertemplate\":\"<b>%{hovertext}</b><br><br>age=73<br>iso=%{location}<br> >50 =%{z}<br> <=50 =%{customdata[1]}<extra></extra>\",\"hovertext\":[\"MEX\",\"FRA\",\"PRI\",\"VNM\",\"GBR\",\"CUB\",\"TWN\",\"CMR\",\"USA\",\"CAN\",\"JAM\",\"GBR\",\"IRL\",\"NIC\",\"HND\",\"TTO\",\"PER\",\"NLO\",\"DEU\",\"HKG\",\"IRN\",\"POL\",\"PHL\",\"CHN\",\"DOM\",\"IND\",\"PRT\",\"KHM\",\"GTM\",\"HTI\",\"JPN\",\"CAN\",\"ECU\",\"LAO\",\"GRC\",\"SLV\",\"ITA\",\"THA\",\"HUN\"],\"locations\":[\"MEX\",\"FRA\",\"PRI\",\"VNM\",\"GBR\",\"CUB\",\"TWN\",\"CMR\",\"USA\",\"CAN\",\"JAM\",\"GBR\",\"IRL\",\"NIC\",\"HND\",\"TTO\",\"PER\",\"NLO\",\"DEU\",\"HKG\",\"IRN\",\"POL\",\"PHL\",\"CHN\",\"DOM\",\"IND\",\"PRT\",\"KHM\",\"GTM\",\"HTI\",\"JPN\",\"CAN\",\"ECU\",\"LAO\",\"GRC\",\"SLV\",\"ITA\",\"THA\",\"HUN\"],\"name\":\"\",\"z\":[0,0,0,0,0,0,0,0,16,0,0,0,0,0,0,0,0,0,0,0,0,1,0,0,0,0,0,0,0,0,0,0,0,0,0,0,0,0,0],\"type\":\"choropleth\"}],\"name\":\"73\"},{\"data\":[{\"coloraxis\":\"coloraxis\",\"customdata\":[[0,0],[0,0],[0,0],[0,0],[0,0],[0,0],[0,0],[0,0],[0,1],[0,0],[0,0],[0,0],[0,0],[0,0],[0,0],[0,0],[0,0],[0,0],[0,0],[0,0],[0,1],[0,0],[0,0],[0,0],[0,0],[0,1],[0,0],[0,0],[0,0],[0,0],[0,0],[0,0],[0,0],[17,57],[0,0],[0,0],[0,0],[0,0],[1,0]],\"geo\":\"geo\",\"hovertemplate\":\"<b>%{hovertext}</b><br><br>age=74<br>iso=%{location}<br> >50 =%{z}<br> <=50 =%{customdata[1]}<extra></extra>\",\"hovertext\":[\"GBR\",\"KHM\",\"GTM\",\"LAO\",\"TTO\",\"IND\",\"POL\",\"JPN\",\"CAN\",\"CMR\",\"SLV\",\"GBR\",\"THA\",\"PHL\",\"HUN\",\"PRT\",\"HND\",\"ECU\",\"PER\",\"IRL\",\"CAN\",\"NLO\",\"HTI\",\"FRA\",\"CHN\",\"MEX\",\"ITA\",\"NIC\",\"VNM\",\"CUB\",\"JAM\",\"GRC\",\"PRI\",\"USA\",\"IRN\",\"HKG\",\"TWN\",\"DOM\",\"DEU\"],\"locations\":[\"GBR\",\"KHM\",\"GTM\",\"LAO\",\"TTO\",\"IND\",\"POL\",\"JPN\",\"CAN\",\"CMR\",\"SLV\",\"GBR\",\"THA\",\"PHL\",\"HUN\",\"PRT\",\"HND\",\"ECU\",\"PER\",\"IRL\",\"CAN\",\"NLO\",\"HTI\",\"FRA\",\"CHN\",\"MEX\",\"ITA\",\"NIC\",\"VNM\",\"CUB\",\"JAM\",\"GRC\",\"PRI\",\"USA\",\"IRN\",\"HKG\",\"TWN\",\"DOM\",\"DEU\"],\"name\":\"\",\"z\":[0,0,0,0,0,0,0,0,0,0,0,0,0,0,0,0,0,0,0,0,0,0,0,0,0,0,0,0,0,0,0,0,0,17,0,0,0,0,1],\"type\":\"choropleth\"}],\"name\":\"74\"},{\"data\":[{\"coloraxis\":\"coloraxis\",\"customdata\":[[0,0],[0,0],[0,0],[0,0],[13,55],[0,0],[0,0],[0,1],[0,0],[0,0],[0,0],[0,0],[0,0],[0,0],[0,0],[0,0],[0,2],[0,0],[0,0],[0,0],[0,0],[0,0],[0,0],[0,2],[0,0],[0,0],[0,0],[0,0],[0,0],[0,0],[0,1],[0,0],[0,0],[0,0],[0,0],[0,0],[0,0],[0,0],[0,0]],\"geo\":\"geo\",\"hovertemplate\":\"<b>%{hovertext}</b><br><br>age=75<br>iso=%{location}<br> >50 =%{z}<br> <=50 =%{customdata[1]}<extra></extra>\",\"hovertext\":[\"NLO\",\"HUN\",\"DOM\",\"TTO\",\"USA\",\"IRL\",\"JAM\",\"PHL\",\"THA\",\"CMR\",\"ECU\",\"JPN\",\"HTI\",\"SLV\",\"FRA\",\"MEX\",\"CAN\",\"PRI\",\"VNM\",\"DEU\",\"HKG\",\"IND\",\"GBR\",\"CAN\",\"POL\",\"TWN\",\"LAO\",\"GRC\",\"HND\",\"NIC\",\"CHN\",\"GTM\",\"GBR\",\"PER\",\"IRN\",\"PRT\",\"ITA\",\"CUB\",\"KHM\"],\"locations\":[\"NLO\",\"HUN\",\"DOM\",\"TTO\",\"USA\",\"IRL\",\"JAM\",\"PHL\",\"THA\",\"CMR\",\"ECU\",\"JPN\",\"HTI\",\"SLV\",\"FRA\",\"MEX\",\"CAN\",\"PRI\",\"VNM\",\"DEU\",\"HKG\",\"IND\",\"GBR\",\"CAN\",\"POL\",\"TWN\",\"LAO\",\"GRC\",\"HND\",\"NIC\",\"CHN\",\"GTM\",\"GBR\",\"PER\",\"IRN\",\"PRT\",\"ITA\",\"CUB\",\"KHM\"],\"name\":\"\",\"z\":[0,0,0,0,13,0,0,0,0,0,0,0,0,0,0,0,0,0,0,0,0,0,0,0,0,0,0,0,0,0,0,0,0,0,0,0,0,0,0],\"type\":\"choropleth\"}],\"name\":\"75\"},{\"data\":[{\"coloraxis\":\"coloraxis\",\"customdata\":[[0,0],[0,1],[1,0],[0,0],[0,0],[1,0],[0,0],[0,0],[0,0],[0,0],[0,0],[0,0],[0,0],[0,0],[0,0],[0,0],[0,0],[0,0],[0,0],[0,0],[0,0],[0,0],[0,0],[0,0],[0,0],[0,0],[0,0],[7,60],[0,0],[0,0],[0,0],[0,0],[0,0],[0,0],[0,0],[0,0],[0,0],[0,0],[0,0]],\"geo\":\"geo\",\"hovertemplate\":\"<b>%{hovertext}</b><br><br>age=76<br>iso=%{location}<br> >50 =%{z}<br> <=50 =%{customdata[1]}<extra></extra>\",\"hovertext\":[\"GRC\",\"CHN\",\"CAN\",\"HUN\",\"IRN\",\"CAN\",\"LAO\",\"CUB\",\"DEU\",\"GBR\",\"PRT\",\"PER\",\"PRI\",\"THA\",\"CMR\",\"PHL\",\"JAM\",\"HND\",\"POL\",\"VNM\",\"SLV\",\"FRA\",\"TWN\",\"IND\",\"NLO\",\"DOM\",\"HKG\",\"USA\",\"GTM\",\"TTO\",\"HTI\",\"ITA\",\"JPN\",\"IRL\",\"GBR\",\"ECU\",\"NIC\",\"MEX\",\"KHM\"],\"locations\":[\"GRC\",\"CHN\",\"CAN\",\"HUN\",\"IRN\",\"CAN\",\"LAO\",\"CUB\",\"DEU\",\"GBR\",\"PRT\",\"PER\",\"PRI\",\"THA\",\"CMR\",\"PHL\",\"JAM\",\"HND\",\"POL\",\"VNM\",\"SLV\",\"FRA\",\"TWN\",\"IND\",\"NLO\",\"DOM\",\"HKG\",\"USA\",\"GTM\",\"TTO\",\"HTI\",\"ITA\",\"JPN\",\"IRL\",\"GBR\",\"ECU\",\"NIC\",\"MEX\",\"KHM\"],\"name\":\"\",\"z\":[0,0,1,0,0,1,0,0,0,0,0,0,0,0,0,0,0,0,0,0,0,0,0,0,0,0,0,7,0,0,0,0,0,0,0,0,0,0,0],\"type\":\"choropleth\"}],\"name\":\"76\"},{\"data\":[{\"coloraxis\":\"coloraxis\",\"customdata\":[[0,0],[0,0],[0,0],[0,0],[0,0],[0,0],[0,0],[0,0],[0,1],[0,0],[0,0],[7,43],[0,0],[0,1],[0,0],[0,0],[0,0],[0,0],[0,0],[0,0],[0,0],[0,0],[0,0],[0,1],[0,0],[0,0],[0,0],[0,0],[0,0],[0,0],[0,0],[0,0],[0,0],[0,1],[0,0],[0,0],[0,1],[1,0],[0,0]],\"geo\":\"geo\",\"hovertemplate\":\"<b>%{hovertext}</b><br><br>age=77<br>iso=%{location}<br> >50 =%{z}<br> <=50 =%{customdata[1]}<extra></extra>\",\"hovertext\":[\"DOM\",\"PRT\",\"IRN\",\"TWN\",\"VNM\",\"ECU\",\"PRI\",\"MEX\",\"CAN\",\"HTI\",\"FRA\",\"USA\",\"GRC\",\"CUB\",\"DEU\",\"JPN\",\"GTM\",\"THA\",\"NLO\",\"POL\",\"PER\",\"IND\",\"IRL\",\"GBR\",\"HND\",\"TTO\",\"HUN\",\"KHM\",\"NIC\",\"LAO\",\"HKG\",\"SLV\",\"CMR\",\"CAN\",\"CHN\",\"PHL\",\"GBR\",\"ITA\",\"JAM\"],\"locations\":[\"DOM\",\"PRT\",\"IRN\",\"TWN\",\"VNM\",\"ECU\",\"PRI\",\"MEX\",\"CAN\",\"HTI\",\"FRA\",\"USA\",\"GRC\",\"CUB\",\"DEU\",\"JPN\",\"GTM\",\"THA\",\"NLO\",\"POL\",\"PER\",\"IND\",\"IRL\",\"GBR\",\"HND\",\"TTO\",\"HUN\",\"KHM\",\"NIC\",\"LAO\",\"HKG\",\"SLV\",\"CMR\",\"CAN\",\"CHN\",\"PHL\",\"GBR\",\"ITA\",\"JAM\"],\"name\":\"\",\"z\":[0,0,0,0,0,0,0,0,0,0,0,7,0,0,0,0,0,0,0,0,0,0,0,0,0,0,0,0,0,0,0,0,0,0,0,0,0,1,0],\"type\":\"choropleth\"}],\"name\":\"77\"},{\"data\":[{\"coloraxis\":\"coloraxis\",\"customdata\":[[0,1],[0,0],[0,0],[0,0],[0,0],[0,0],[0,1],[0,1],[0,0],[0,0],[0,0],[0,0],[0,0],[0,0],[0,0],[0,0],[0,0],[0,0],[0,0],[0,0],[0,0],[0,0],[0,0],[0,0],[0,0],[0,0],[0,0],[0,1],[5,25],[0,0],[0,0],[0,0],[0,0],[0,0],[0,0],[0,0],[0,0],[0,0],[0,0]],\"geo\":\"geo\",\"hovertemplate\":\"<b>%{hovertext}</b><br><br>age=78<br>iso=%{location}<br> >50 =%{z}<br> <=50 =%{customdata[1]}<extra></extra>\",\"hovertext\":[\"NIC\",\"MEX\",\"NLO\",\"HUN\",\"ITA\",\"FRA\",\"PRT\",\"DOM\",\"CAN\",\"CHN\",\"PER\",\"THA\",\"PHL\",\"HTI\",\"IRL\",\"HND\",\"DEU\",\"HKG\",\"ECU\",\"GBR\",\"CUB\",\"POL\",\"JAM\",\"GRC\",\"TTO\",\"IND\",\"GBR\",\"CMR\",\"USA\",\"PRI\",\"IRN\",\"TWN\",\"GTM\",\"VNM\",\"JPN\",\"LAO\",\"CAN\",\"KHM\",\"SLV\"],\"locations\":[\"NIC\",\"MEX\",\"NLO\",\"HUN\",\"ITA\",\"FRA\",\"PRT\",\"DOM\",\"CAN\",\"CHN\",\"PER\",\"THA\",\"PHL\",\"HTI\",\"IRL\",\"HND\",\"DEU\",\"HKG\",\"ECU\",\"GBR\",\"CUB\",\"POL\",\"JAM\",\"GRC\",\"TTO\",\"IND\",\"GBR\",\"CMR\",\"USA\",\"PRI\",\"IRN\",\"TWN\",\"GTM\",\"VNM\",\"JPN\",\"LAO\",\"CAN\",\"KHM\",\"SLV\"],\"name\":\"\",\"z\":[0,0,0,0,0,0,0,0,0,0,0,0,0,0,0,0,0,0,0,0,0,0,0,0,0,0,0,0,5,0,0,0,0,0,0,0,0,0,0],\"type\":\"choropleth\"}],\"name\":\"78\"},{\"data\":[{\"coloraxis\":\"coloraxis\",\"customdata\":[[0,0],[0,0],[0,0],[0,0],[0,0],[0,0],[0,0],[0,0],[0,0],[0,0],[0,0],[0,0],[0,0],[0,0],[0,0],[0,0],[0,0],[0,0],[0,0],[0,0],[0,0],[0,0],[1,0],[0,0],[0,0],[0,0],[0,0],[0,0],[7,21],[1,0],[0,0],[0,0],[0,0],[0,0],[0,0],[0,0],[0,0],[0,0],[0,0]],\"geo\":\"geo\",\"hovertemplate\":\"<b>%{hovertext}</b><br><br>age=79<br>iso=%{location}<br> >50 =%{z}<br> <=50 =%{customdata[1]}<extra></extra>\",\"hovertext\":[\"DEU\",\"CMR\",\"LAO\",\"JPN\",\"CUB\",\"GBR\",\"THA\",\"IND\",\"PER\",\"NIC\",\"CHN\",\"IRL\",\"CAN\",\"GBR\",\"GTM\",\"PHL\",\"HKG\",\"JAM\",\"NLO\",\"DOM\",\"IRN\",\"ITA\",\"SLV\",\"KHM\",\"TTO\",\"HND\",\"GRC\",\"PRI\",\"USA\",\"POL\",\"CAN\",\"ECU\",\"PRT\",\"FRA\",\"VNM\",\"TWN\",\"HTI\",\"HUN\",\"MEX\"],\"locations\":[\"DEU\",\"CMR\",\"LAO\",\"JPN\",\"CUB\",\"GBR\",\"THA\",\"IND\",\"PER\",\"NIC\",\"CHN\",\"IRL\",\"CAN\",\"GBR\",\"GTM\",\"PHL\",\"HKG\",\"JAM\",\"NLO\",\"DOM\",\"IRN\",\"ITA\",\"SLV\",\"KHM\",\"TTO\",\"HND\",\"GRC\",\"PRI\",\"USA\",\"POL\",\"CAN\",\"ECU\",\"PRT\",\"FRA\",\"VNM\",\"TWN\",\"HTI\",\"HUN\",\"MEX\"],\"name\":\"\",\"z\":[0,0,0,0,0,0,0,0,0,0,0,0,0,0,0,0,0,0,0,0,0,0,1,0,0,0,0,0,7,1,0,0,0,0,0,0,0,0,0],\"type\":\"choropleth\"}],\"name\":\"79\"},{\"data\":[{\"coloraxis\":\"coloraxis\",\"customdata\":[[0,0],[0,0],[0,0],[0,0],[0,0],[0,0],[0,0],[0,0],[0,0],[0,0],[0,0],[0,1],[0,0],[0,0],[0,0],[4,31],[0,0],[0,0],[0,0],[0,0],[0,0],[0,2],[0,0],[0,0],[0,0],[0,0],[0,0],[0,0],[0,0],[0,0],[0,2],[0,0],[0,0],[0,0],[0,0],[0,0],[0,0],[0,0],[0,0]],\"geo\":\"geo\",\"hovertemplate\":\"<b>%{hovertext}</b><br><br>age=80<br>iso=%{location}<br> >50 =%{z}<br> <=50 =%{customdata[1]}<extra></extra>\",\"hovertext\":[\"TTO\",\"NIC\",\"POL\",\"KHM\",\"IRL\",\"HUN\",\"GBR\",\"IND\",\"HND\",\"NLO\",\"SLV\",\"PHL\",\"GTM\",\"ITA\",\"IRN\",\"USA\",\"FRA\",\"GRC\",\"PRI\",\"TWN\",\"ECU\",\"CAN\",\"HTI\",\"HKG\",\"VNM\",\"MEX\",\"THA\",\"JPN\",\"DEU\",\"LAO\",\"CAN\",\"CHN\",\"PRT\",\"GBR\",\"PER\",\"JAM\",\"CMR\",\"CUB\",\"DOM\"],\"locations\":[\"TTO\",\"NIC\",\"POL\",\"KHM\",\"IRL\",\"HUN\",\"GBR\",\"IND\",\"HND\",\"NLO\",\"SLV\",\"PHL\",\"GTM\",\"ITA\",\"IRN\",\"USA\",\"FRA\",\"GRC\",\"PRI\",\"TWN\",\"ECU\",\"CAN\",\"HTI\",\"HKG\",\"VNM\",\"MEX\",\"THA\",\"JPN\",\"DEU\",\"LAO\",\"CAN\",\"CHN\",\"PRT\",\"GBR\",\"PER\",\"JAM\",\"CMR\",\"CUB\",\"DOM\"],\"name\":\"\",\"z\":[0,0,0,0,0,0,0,0,0,0,0,0,0,0,0,4,0,0,0,0,0,0,0,0,0,0,0,0,0,0,0,0,0,0,0,0,0,0,0],\"type\":\"choropleth\"}],\"name\":\"80\"},{\"data\":[{\"coloraxis\":\"coloraxis\",\"customdata\":[[0,0],[0,0],[0,1],[0,0],[0,0],[0,1],[0,0],[0,0],[0,1],[0,0],[0,0],[0,0],[0,0],[0,0],[0,0],[0,0],[0,0],[0,0],[0,1],[0,0],[0,0],[0,0],[0,0],[0,0],[0,0],[0,0],[0,0],[7,25],[0,0],[0,0],[0,1],[0,0],[0,0],[0,0],[0,0],[0,0],[0,0],[0,0],[0,0]],\"geo\":\"geo\",\"hovertemplate\":\"<b>%{hovertext}</b><br><br>age=81<br>iso=%{location}<br> >50 =%{z}<br> <=50 =%{customdata[1]}<extra></extra>\",\"hovertext\":[\"NLO\",\"TTO\",\"GRC\",\"HKG\",\"FRA\",\"HUN\",\"CUB\",\"DEU\",\"MEX\",\"CMR\",\"GTM\",\"IRL\",\"IRN\",\"ITA\",\"SLV\",\"PRI\",\"NIC\",\"JAM\",\"POL\",\"CAN\",\"PHL\",\"GBR\",\"VNM\",\"THA\",\"ECU\",\"CHN\",\"CAN\",\"USA\",\"HTI\",\"LAO\",\"PRT\",\"HND\",\"PER\",\"DOM\",\"GBR\",\"IND\",\"JPN\",\"KHM\",\"TWN\"],\"locations\":[\"NLO\",\"TTO\",\"GRC\",\"HKG\",\"FRA\",\"HUN\",\"CUB\",\"DEU\",\"MEX\",\"CMR\",\"GTM\",\"IRL\",\"IRN\",\"ITA\",\"SLV\",\"PRI\",\"NIC\",\"JAM\",\"POL\",\"CAN\",\"PHL\",\"GBR\",\"VNM\",\"THA\",\"ECU\",\"CHN\",\"CAN\",\"USA\",\"HTI\",\"LAO\",\"PRT\",\"HND\",\"PER\",\"DOM\",\"GBR\",\"IND\",\"JPN\",\"KHM\",\"TWN\"],\"name\":\"\",\"z\":[0,0,0,0,0,0,0,0,0,0,0,0,0,0,0,0,0,0,0,0,0,0,0,0,0,0,0,7,0,0,0,0,0,0,0,0,0,0,0],\"type\":\"choropleth\"}],\"name\":\"81\"},{\"data\":[{\"coloraxis\":\"coloraxis\",\"customdata\":[[0,0],[0,0],[0,0],[0,0],[0,0],[0,0],[0,0],[0,0],[0,0],[0,0],[0,0],[0,0],[0,0],[0,0],[0,0],[0,0],[0,0],[0,0],[0,0],[0,0],[0,0],[0,0],[0,0],[0,0],[0,0],[0,0],[0,14],[0,0],[0,0],[0,0],[0,1],[0,0],[0,0],[0,0],[0,0],[0,0],[0,0],[0,0],[0,0]],\"geo\":\"geo\",\"hovertemplate\":\"<b>%{hovertext}</b><br><br>age=82<br>iso=%{location}<br> >50 =%{z}<br> <=50 =%{customdata[1]}<extra></extra>\",\"hovertext\":[\"SLV\",\"NIC\",\"HND\",\"CAN\",\"PER\",\"PHL\",\"LAO\",\"GBR\",\"GBR\",\"IND\",\"IRN\",\"THA\",\"HKG\",\"VNM\",\"GRC\",\"HUN\",\"TTO\",\"KHM\",\"CAN\",\"NLO\",\"DOM\",\"GTM\",\"TWN\",\"ECU\",\"CHN\",\"PRI\",\"USA\",\"IRL\",\"FRA\",\"ITA\",\"CUB\",\"JPN\",\"JAM\",\"HTI\",\"DEU\",\"MEX\",\"POL\",\"CMR\",\"PRT\"],\"locations\":[\"SLV\",\"NIC\",\"HND\",\"CAN\",\"PER\",\"PHL\",\"LAO\",\"GBR\",\"GBR\",\"IND\",\"IRN\",\"THA\",\"HKG\",\"VNM\",\"GRC\",\"HUN\",\"TTO\",\"KHM\",\"CAN\",\"NLO\",\"DOM\",\"GTM\",\"TWN\",\"ECU\",\"CHN\",\"PRI\",\"USA\",\"IRL\",\"FRA\",\"ITA\",\"CUB\",\"JPN\",\"JAM\",\"HTI\",\"DEU\",\"MEX\",\"POL\",\"CMR\",\"PRT\"],\"name\":\"\",\"z\":[0,0,0,0,0,0,0,0,0,0,0,0,0,0,0,0,0,0,0,0,0,0,0,0,0,0,0,0,0,0,0,0,0,0,0,0,0,0,0],\"type\":\"choropleth\"}],\"name\":\"82\"},{\"data\":[{\"coloraxis\":\"coloraxis\",\"customdata\":[[0,0],[0,0],[0,0],[0,0],[0,0],[0,0],[0,0],[0,0],[0,0],[0,0],[0,0],[0,0],[0,0],[0,0],[0,0],[0,0],[0,0],[0,0],[0,0],[0,0],[2,9],[0,0],[0,0],[0,0],[0,0],[0,0],[0,0],[0,0],[0,0],[0,0],[0,0],[0,0],[0,0],[0,0],[0,0],[0,0],[0,0],[0,0],[0,0]],\"geo\":\"geo\",\"hovertemplate\":\"<b>%{hovertext}</b><br><br>age=83<br>iso=%{location}<br> >50 =%{z}<br> <=50 =%{customdata[1]}<extra></extra>\",\"hovertext\":[\"MEX\",\"CHN\",\"PRI\",\"SLV\",\"PER\",\"GBR\",\"CAN\",\"JPN\",\"VNM\",\"ITA\",\"CUB\",\"CMR\",\"TWN\",\"CAN\",\"GRC\",\"PRT\",\"FRA\",\"KHM\",\"POL\",\"GTM\",\"USA\",\"IRN\",\"IND\",\"THA\",\"HND\",\"ECU\",\"LAO\",\"HTI\",\"NIC\",\"IRL\",\"HKG\",\"PHL\",\"GBR\",\"NLO\",\"HUN\",\"TTO\",\"JAM\",\"DEU\",\"DOM\"],\"locations\":[\"MEX\",\"CHN\",\"PRI\",\"SLV\",\"PER\",\"GBR\",\"CAN\",\"JPN\",\"VNM\",\"ITA\",\"CUB\",\"CMR\",\"TWN\",\"CAN\",\"GRC\",\"PRT\",\"FRA\",\"KHM\",\"POL\",\"GTM\",\"USA\",\"IRN\",\"IND\",\"THA\",\"HND\",\"ECU\",\"LAO\",\"HTI\",\"NIC\",\"IRL\",\"HKG\",\"PHL\",\"GBR\",\"NLO\",\"HUN\",\"TTO\",\"JAM\",\"DEU\",\"DOM\"],\"name\":\"\",\"z\":[0,0,0,0,0,0,0,0,0,0,0,0,0,0,0,0,0,0,0,0,2,0,0,0,0,0,0,0,0,0,0,0,0,0,0,0,0,0,0],\"type\":\"choropleth\"}],\"name\":\"83\"},{\"data\":[{\"coloraxis\":\"coloraxis\",\"customdata\":[[0,0],[0,0],[0,0],[0,0],[0,0],[0,0],[0,0],[0,0],[0,0],[0,0],[0,0],[0,0],[0,0],[0,0],[1,11],[0,0],[0,0],[0,0],[0,0],[0,0],[0,0],[0,0],[0,0],[0,0],[0,0],[0,0],[0,0],[0,0],[0,1],[0,0],[0,0],[0,0],[0,0],[0,0],[0,0],[0,0],[0,0],[0,1],[0,0]],\"geo\":\"geo\",\"hovertemplate\":\"<b>%{hovertext}</b><br><br>age=84<br>iso=%{location}<br> >50 =%{z}<br> <=50 =%{customdata[1]}<extra></extra>\",\"hovertext\":[\"VNM\",\"ITA\",\"JAM\",\"IRL\",\"GTM\",\"TTO\",\"DEU\",\"DOM\",\"ECU\",\"CMR\",\"CAN\",\"HUN\",\"KHM\",\"NLO\",\"USA\",\"TWN\",\"PER\",\"PRI\",\"FRA\",\"CHN\",\"MEX\",\"HTI\",\"HKG\",\"LAO\",\"CUB\",\"PRT\",\"NIC\",\"THA\",\"GBR\",\"HND\",\"JPN\",\"POL\",\"IND\",\"PHL\",\"CAN\",\"GRC\",\"IRN\",\"GBR\",\"SLV\"],\"locations\":[\"VNM\",\"ITA\",\"JAM\",\"IRL\",\"GTM\",\"TTO\",\"DEU\",\"DOM\",\"ECU\",\"CMR\",\"CAN\",\"HUN\",\"KHM\",\"NLO\",\"USA\",\"TWN\",\"PER\",\"PRI\",\"FRA\",\"CHN\",\"MEX\",\"HTI\",\"HKG\",\"LAO\",\"CUB\",\"PRT\",\"NIC\",\"THA\",\"GBR\",\"HND\",\"JPN\",\"POL\",\"IND\",\"PHL\",\"CAN\",\"GRC\",\"IRN\",\"GBR\",\"SLV\"],\"name\":\"\",\"z\":[0,0,0,0,0,0,0,0,0,0,0,0,0,0,1,0,0,0,0,0,0,0,0,0,0,0,0,0,0,0,0,0,0,0,0,0,0,0,0],\"type\":\"choropleth\"}],\"name\":\"84\"},{\"data\":[{\"coloraxis\":\"coloraxis\",\"customdata\":[[0,0],[0,0],[0,0],[0,0],[0,0],[0,0],[0,0],[0,0],[0,1],[0,0],[0,0],[0,0],[0,0],[0,0],[0,0],[0,0],[0,0],[0,0],[0,0],[0,0],[1,3],[0,0],[0,0],[0,0],[0,0],[0,0],[0,0],[0,0],[0,0],[0,0],[0,0],[0,0],[0,0],[0,0],[0,0],[0,0],[0,0],[0,0],[0,0]],\"geo\":\"geo\",\"hovertemplate\":\"<b>%{hovertext}</b><br><br>age=85<br>iso=%{location}<br> >50 =%{z}<br> <=50 =%{customdata[1]}<extra></extra>\",\"hovertext\":[\"LAO\",\"GBR\",\"CUB\",\"TTO\",\"JPN\",\"CAN\",\"GTM\",\"IND\",\"POL\",\"NIC\",\"HKG\",\"GRC\",\"HND\",\"THA\",\"IRN\",\"PHL\",\"GBR\",\"DEU\",\"JAM\",\"IRL\",\"USA\",\"ECU\",\"DOM\",\"HUN\",\"NLO\",\"HTI\",\"MEX\",\"PRT\",\"CAN\",\"CMR\",\"CHN\",\"KHM\",\"TWN\",\"PER\",\"SLV\",\"ITA\",\"VNM\",\"FRA\",\"PRI\"],\"locations\":[\"LAO\",\"GBR\",\"CUB\",\"TTO\",\"JPN\",\"CAN\",\"GTM\",\"IND\",\"POL\",\"NIC\",\"HKG\",\"GRC\",\"HND\",\"THA\",\"IRN\",\"PHL\",\"GBR\",\"DEU\",\"JAM\",\"IRL\",\"USA\",\"ECU\",\"DOM\",\"HUN\",\"NLO\",\"HTI\",\"MEX\",\"PRT\",\"CAN\",\"CMR\",\"CHN\",\"KHM\",\"TWN\",\"PER\",\"SLV\",\"ITA\",\"VNM\",\"FRA\",\"PRI\"],\"name\":\"\",\"z\":[0,0,0,0,0,0,0,0,0,0,0,0,0,0,0,0,0,0,0,0,1,0,0,0,0,0,0,0,0,0,0,0,0,0,0,0,0,0,0],\"type\":\"choropleth\"}],\"name\":\"85\"},{\"data\":[{\"coloraxis\":\"coloraxis\",\"customdata\":[[0,0],[0,0],[0,0],[0,0],[0,0],[0,0],[0,0],[0,0],[0,0],[0,0],[0,0],[0,0],[0,0],[0,0],[0,0],[0,0],[0,0],[0,0],[0,0],[0,0],[0,0],[0,0],[0,0],[0,1],[0,0],[0,0],[0,0],[0,0],[0,0],[0,0],[0,0],[0,0],[0,0],[0,0],[0,0],[0,0],[0,0],[0,0],[0,0]],\"geo\":\"geo\",\"hovertemplate\":\"<b>%{hovertext}</b><br><br>age=86<br>iso=%{location}<br> >50 =%{z}<br> <=50 =%{customdata[1]}<extra></extra>\",\"hovertext\":[\"CAN\",\"VNM\",\"DOM\",\"PRI\",\"IRL\",\"FRA\",\"GTM\",\"IND\",\"JPN\",\"SLV\",\"PHL\",\"THA\",\"MEX\",\"TTO\",\"HTI\",\"DEU\",\"CMR\",\"NLO\",\"GBR\",\"PER\",\"ITA\",\"IRN\",\"TWN\",\"USA\",\"CUB\",\"CAN\",\"HND\",\"GRC\",\"JAM\",\"PRT\",\"CHN\",\"LAO\",\"HUN\",\"POL\",\"GBR\",\"HKG\",\"KHM\",\"NIC\",\"ECU\"],\"locations\":[\"CAN\",\"VNM\",\"DOM\",\"PRI\",\"IRL\",\"FRA\",\"GTM\",\"IND\",\"JPN\",\"SLV\",\"PHL\",\"THA\",\"MEX\",\"TTO\",\"HTI\",\"DEU\",\"CMR\",\"NLO\",\"GBR\",\"PER\",\"ITA\",\"IRN\",\"TWN\",\"USA\",\"CUB\",\"CAN\",\"HND\",\"GRC\",\"JAM\",\"PRT\",\"CHN\",\"LAO\",\"HUN\",\"POL\",\"GBR\",\"HKG\",\"KHM\",\"NIC\",\"ECU\"],\"name\":\"\",\"z\":[0,0,0,0,0,0,0,0,0,0,0,0,0,0,0,0,0,0,0,0,0,0,0,0,0,0,0,0,0,0,0,0,0,0,0,0,0,0,0],\"type\":\"choropleth\"}],\"name\":\"86\"},{\"data\":[{\"coloraxis\":\"coloraxis\",\"customdata\":[[0,0],[0,0],[0,0],[0,0],[0,0],[0,0],[0,3],[0,0],[0,0],[0,0],[0,0],[0,0],[0,0],[0,0],[0,0],[0,0],[0,0],[0,0],[0,0],[0,0],[0,0],[0,0],[0,0],[0,0],[0,0],[0,0],[0,0],[0,0],[0,0],[0,0],[0,0],[0,0],[0,0],[0,0],[0,0],[0,0],[0,0],[0,0],[0,0]],\"geo\":\"geo\",\"hovertemplate\":\"<b>%{hovertext}</b><br><br>age=87<br>iso=%{location}<br> >50 =%{z}<br> <=50 =%{customdata[1]}<extra></extra>\",\"hovertext\":[\"POL\",\"PHL\",\"CUB\",\"CAN\",\"IRL\",\"CMR\",\"USA\",\"ECU\",\"SLV\",\"GBR\",\"HUN\",\"NIC\",\"VNM\",\"IRN\",\"ITA\",\"KHM\",\"DEU\",\"MEX\",\"TWN\",\"HND\",\"GTM\",\"JPN\",\"NLO\",\"FRA\",\"LAO\",\"THA\",\"HKG\",\"CHN\",\"TTO\",\"DOM\",\"IND\",\"PER\",\"CAN\",\"GRC\",\"JAM\",\"GBR\",\"PRI\",\"PRT\",\"HTI\"],\"locations\":[\"POL\",\"PHL\",\"CUB\",\"CAN\",\"IRL\",\"CMR\",\"USA\",\"ECU\",\"SLV\",\"GBR\",\"HUN\",\"NIC\",\"VNM\",\"IRN\",\"ITA\",\"KHM\",\"DEU\",\"MEX\",\"TWN\",\"HND\",\"GTM\",\"JPN\",\"NLO\",\"FRA\",\"LAO\",\"THA\",\"HKG\",\"CHN\",\"TTO\",\"DOM\",\"IND\",\"PER\",\"CAN\",\"GRC\",\"JAM\",\"GBR\",\"PRI\",\"PRT\",\"HTI\"],\"name\":\"\",\"z\":[0,0,0,0,0,0,0,0,0,0,0,0,0,0,0,0,0,0,0,0,0,0,0,0,0,0,0,0,0,0,0,0,0,0,0,0,0,0,0],\"type\":\"choropleth\"}],\"name\":\"87\"},{\"data\":[{\"coloraxis\":\"coloraxis\",\"customdata\":[[0,0],[0,0],[0,0],[0,0],[0,0],[0,0],[0,0],[0,0],[0,0],[0,0],[0,0],[0,0],[0,0],[0,0],[0,0],[0,0],[0,0],[0,0],[0,0],[0,0],[0,0],[0,0],[0,0],[0,0],[1,5],[0,0],[0,0],[0,0],[0,0],[0,0],[0,0],[0,0],[0,0],[0,0],[0,0],[0,0],[0,0],[0,0],[0,0]],\"geo\":\"geo\",\"hovertemplate\":\"<b>%{hovertext}</b><br><br>age=88<br>iso=%{location}<br> >50 =%{z}<br> <=50 =%{customdata[1]}<extra></extra>\",\"hovertext\":[\"PHL\",\"FRA\",\"PER\",\"HTI\",\"IRN\",\"HKG\",\"CHN\",\"PRT\",\"SLV\",\"THA\",\"CAN\",\"HND\",\"KHM\",\"PRI\",\"NLO\",\"GTM\",\"ECU\",\"IND\",\"HUN\",\"POL\",\"LAO\",\"DOM\",\"TTO\",\"JPN\",\"USA\",\"CAN\",\"JAM\",\"GRC\",\"GBR\",\"VNM\",\"ITA\",\"DEU\",\"GBR\",\"TWN\",\"MEX\",\"NIC\",\"IRL\",\"CUB\",\"CMR\"],\"locations\":[\"PHL\",\"FRA\",\"PER\",\"HTI\",\"IRN\",\"HKG\",\"CHN\",\"PRT\",\"SLV\",\"THA\",\"CAN\",\"HND\",\"KHM\",\"PRI\",\"NLO\",\"GTM\",\"ECU\",\"IND\",\"HUN\",\"POL\",\"LAO\",\"DOM\",\"TTO\",\"JPN\",\"USA\",\"CAN\",\"JAM\",\"GRC\",\"GBR\",\"VNM\",\"ITA\",\"DEU\",\"GBR\",\"TWN\",\"MEX\",\"NIC\",\"IRL\",\"CUB\",\"CMR\"],\"name\":\"\",\"z\":[0,0,0,0,0,0,0,0,0,0,0,0,0,0,0,0,0,0,0,0,0,0,0,0,1,0,0,0,0,0,0,0,0,0,0,0,0,0,0],\"type\":\"choropleth\"}],\"name\":\"88\"},{\"data\":[{\"coloraxis\":\"coloraxis\",\"customdata\":[[0,2],[0,0],[0,0],[0,0],[0,0],[0,0],[0,0],[0,0],[0,0],[0,0],[0,0],[0,0],[0,0],[0,0],[0,0],[0,0],[0,0],[0,0],[0,0],[0,0],[0,0],[0,0],[0,0],[0,0],[0,0],[0,0],[0,0],[0,0],[0,0],[0,0],[0,0],[0,0],[0,0],[0,0],[0,0],[0,0],[0,0],[0,0],[0,0]],\"geo\":\"geo\",\"hovertemplate\":\"<b>%{hovertext}</b><br><br>age=89<br>iso=%{location}<br> >50 =%{z}<br> <=50 =%{customdata[1]}<extra></extra>\",\"hovertext\":[\"USA\",\"THA\",\"DOM\",\"JAM\",\"ECU\",\"PHL\",\"IRN\",\"GBR\",\"HUN\",\"DEU\",\"NLO\",\"HND\",\"IRL\",\"PRT\",\"TWN\",\"CAN\",\"CMR\",\"JPN\",\"NIC\",\"VNM\",\"GBR\",\"ITA\",\"PRI\",\"TTO\",\"PER\",\"CAN\",\"GRC\",\"SLV\",\"LAO\",\"CUB\",\"POL\",\"KHM\",\"GTM\",\"HKG\",\"HTI\",\"IND\",\"CHN\",\"FRA\",\"MEX\"],\"locations\":[\"USA\",\"THA\",\"DOM\",\"JAM\",\"ECU\",\"PHL\",\"IRN\",\"GBR\",\"HUN\",\"DEU\",\"NLO\",\"HND\",\"IRL\",\"PRT\",\"TWN\",\"CAN\",\"CMR\",\"JPN\",\"NIC\",\"VNM\",\"GBR\",\"ITA\",\"PRI\",\"TTO\",\"PER\",\"CAN\",\"GRC\",\"SLV\",\"LAO\",\"CUB\",\"POL\",\"KHM\",\"GTM\",\"HKG\",\"HTI\",\"IND\",\"CHN\",\"FRA\",\"MEX\"],\"name\":\"\",\"z\":[0,0,0,0,0,0,0,0,0,0,0,0,0,0,0,0,0,0,0,0,0,0,0,0,0,0,0,0,0,0,0,0,0,0,0,0,0,0,0],\"type\":\"choropleth\"}],\"name\":\"89\"},{\"data\":[{\"coloraxis\":\"coloraxis\",\"customdata\":[[0,0],[0,0],[0,0],[0,0],[0,0],[0,0],[0,0],[0,0],[1,0],[11,37],[0,0],[0,0],[0,0],[1,0],[0,0],[0,0],[0,0],[0,0],[0,0],[0,0],[0,0],[0,0],[0,0],[0,0],[0,0],[0,0],[0,0],[0,1],[0,0],[1,0],[0,1],[0,0],[0,0],[0,2],[0,0],[0,0],[0,0],[0,0],[0,0]],\"geo\":\"geo\",\"hovertemplate\":\"<b>%{hovertext}</b><br><br>age=90<br>iso=%{location}<br> >50 =%{z}<br> <=50 =%{customdata[1]}<extra></extra>\",\"hovertext\":[\"KHM\",\"JPN\",\"CUB\",\"GTM\",\"IRL\",\"TTO\",\"DOM\",\"IND\",\"ECU\",\"USA\",\"NLO\",\"LAO\",\"POL\",\"GBR\",\"HKG\",\"GRC\",\"HTI\",\"NIC\",\"CHN\",\"HND\",\"FRA\",\"SLV\",\"PRT\",\"THA\",\"IRN\",\"PER\",\"MEX\",\"PRI\",\"CAN\",\"GBR\",\"PHL\",\"VNM\",\"ITA\",\"CMR\",\"TWN\",\"DEU\",\"JAM\",\"CAN\",\"HUN\"],\"locations\":[\"KHM\",\"JPN\",\"CUB\",\"GTM\",\"IRL\",\"TTO\",\"DOM\",\"IND\",\"ECU\",\"USA\",\"NLO\",\"LAO\",\"POL\",\"GBR\",\"HKG\",\"GRC\",\"HTI\",\"NIC\",\"CHN\",\"HND\",\"FRA\",\"SLV\",\"PRT\",\"THA\",\"IRN\",\"PER\",\"MEX\",\"PRI\",\"CAN\",\"GBR\",\"PHL\",\"VNM\",\"ITA\",\"CMR\",\"TWN\",\"DEU\",\"JAM\",\"CAN\",\"HUN\"],\"name\":\"\",\"z\":[0,0,0,0,0,0,0,0,1,11,0,0,0,1,0,0,0,0,0,0,0,0,0,0,0,0,0,0,0,1,0,0,0,0,0,0,0,0,0],\"type\":\"choropleth\"}],\"name\":\"90\"}]);\n",
       "                        }).then(function(){\n",
       "                            \n",
       "var gd = document.getElementById('021e74ff-4e79-4a96-ba5c-b07158f2345a');\n",
       "var x = new MutationObserver(function (mutations, observer) {{\n",
       "        var display = window.getComputedStyle(gd).display;\n",
       "        if (!display || display === 'none') {{\n",
       "            console.log([gd, 'removed!']);\n",
       "            Plotly.purge(gd);\n",
       "            observer.disconnect();\n",
       "        }}\n",
       "}});\n",
       "\n",
       "// Listen for the removal of the full notebook cells\n",
       "var notebookContainer = gd.closest('#notebook-container');\n",
       "if (notebookContainer) {{\n",
       "    x.observe(notebookContainer, {childList: true});\n",
       "}}\n",
       "\n",
       "// Listen for the clearing of the current output cell\n",
       "var outputEl = gd.closest('.output');\n",
       "if (outputEl) {{\n",
       "    x.observe(outputEl, {childList: true});\n",
       "}}\n",
       "\n",
       "                        })                };                });            </script>        </div>"
      ]
     },
     "metadata": {},
     "output_type": "display_data"
    }
   ],
   "source": [
    "fig = px.choropleth(newDF, locations=\"iso\",\n",
    "                    color=\" >50 \",\n",
    "                    hover_name=\"iso\",\n",
    "                    hover_data = [\" >50 \",\" <=50 \"],\n",
    "                    animation_frame=\"age\",\n",
    "                    #animation_group = \"income\",\n",
    "                    title = \"Census Income\",\n",
    "                    color_continuous_scale=px.colors.sequential.PuRd)\n",
    "#fig[\"layout\"].pop(\"updatemenus\")\n",
    "fig.show()\n"
   ]
  },
  {
   "cell_type": "markdown",
   "id": "7abbb0b5",
   "metadata": {
    "id": "7abbb0b5"
   },
   "source": [
    "## HEATMAP"
   ]
  },
  {
   "cell_type": "code",
   "execution_count": 114,
   "id": "f07e604d",
   "metadata": {
    "colab": {
     "base_uri": "https://localhost:8080/",
     "height": 596
    },
    "id": "f07e604d",
    "outputId": "01104a71-27e2-4d30-9273-b027f342e51b"
   },
   "outputs": [
    {
     "data": {
      "image/png": "[encoded data removed]",
      "text/plain": [
       "<Figure size 1440x720 with 2 Axes>"
      ]
     },
     "metadata": {
      "needs_background": "light"
     },
     "output_type": "display_data"
    }
   ],
   "source": [
    "plt.figure(figsize=(20, 10))\n",
    "sns.heatmap(df.corr(), annot = True)\n",
    "plt.show()\n",
    "plt.close()"
   ]
  },
  {
   "cell_type": "markdown",
   "id": "f3a42fc9",
   "metadata": {
    "id": "f3a42fc9"
   },
   "source": [
    "# LABEL ENCODING"
   ]
  },
  {
   "cell_type": "code",
   "execution_count": 115,
   "id": "cdcff86d",
   "metadata": {
    "colab": {
     "base_uri": "https://localhost:8080/",
     "height": 423
    },
    "id": "cdcff86d",
    "outputId": "d5b9b050-c1db-4dff-e08c-84617b8cb497"
   },
   "outputs": [
    {
     "data": {
      "text/html": [
       "<div>\n",
       "<style scoped>\n",
       "    .dataframe tbody tr th:only-of-type {\n",
       "        vertical-align: middle;\n",
       "    }\n",
       "\n",
       "    .dataframe tbody tr th {\n",
       "        vertical-align: top;\n",
       "    }\n",
       "\n",
       "    .dataframe thead th {\n",
       "        text-align: right;\n",
       "    }\n",
       "</style>\n",
       "<table border=\"1\" class=\"dataframe\">\n",
       "  <thead>\n",
       "    <tr style=\"text-align: right;\">\n",
       "      <th></th>\n",
       "      <th>age</th>\n",
       "      <th>workclass</th>\n",
       "      <th>fnlwgt</th>\n",
       "      <th>education</th>\n",
       "      <th>education-num</th>\n",
       "      <th>marital-status</th>\n",
       "      <th>occupation</th>\n",
       "      <th>relationship</th>\n",
       "      <th>race</th>\n",
       "      <th>sex</th>\n",
       "      <th>capital-gain</th>\n",
       "      <th>capital-loss</th>\n",
       "      <th>hours-per-week</th>\n",
       "      <th>native-country</th>\n",
       "      <th>income</th>\n",
       "    </tr>\n",
       "  </thead>\n",
       "  <tbody>\n",
       "    <tr>\n",
       "      <th>0</th>\n",
       "      <td>25</td>\n",
       "      <td>3</td>\n",
       "      <td>19329</td>\n",
       "      <td>1</td>\n",
       "      <td>7</td>\n",
       "      <td>4</td>\n",
       "      <td>6</td>\n",
       "      <td>3</td>\n",
       "      <td>2</td>\n",
       "      <td>1</td>\n",
       "      <td>0</td>\n",
       "      <td>0</td>\n",
       "      <td>40</td>\n",
       "      <td>35</td>\n",
       "      <td>&lt;=50K</td>\n",
       "    </tr>\n",
       "    <tr>\n",
       "      <th>1</th>\n",
       "      <td>38</td>\n",
       "      <td>3</td>\n",
       "      <td>4212</td>\n",
       "      <td>11</td>\n",
       "      <td>9</td>\n",
       "      <td>2</td>\n",
       "      <td>4</td>\n",
       "      <td>0</td>\n",
       "      <td>4</td>\n",
       "      <td>1</td>\n",
       "      <td>0</td>\n",
       "      <td>0</td>\n",
       "      <td>50</td>\n",
       "      <td>35</td>\n",
       "      <td>&lt;=50K</td>\n",
       "    </tr>\n",
       "    <tr>\n",
       "      <th>2</th>\n",
       "      <td>28</td>\n",
       "      <td>1</td>\n",
       "      <td>25340</td>\n",
       "      <td>7</td>\n",
       "      <td>12</td>\n",
       "      <td>2</td>\n",
       "      <td>10</td>\n",
       "      <td>0</td>\n",
       "      <td>4</td>\n",
       "      <td>1</td>\n",
       "      <td>0</td>\n",
       "      <td>0</td>\n",
       "      <td>40</td>\n",
       "      <td>35</td>\n",
       "      <td>&gt;50K</td>\n",
       "    </tr>\n",
       "    <tr>\n",
       "      <th>3</th>\n",
       "      <td>44</td>\n",
       "      <td>3</td>\n",
       "      <td>11201</td>\n",
       "      <td>15</td>\n",
       "      <td>10</td>\n",
       "      <td>2</td>\n",
       "      <td>6</td>\n",
       "      <td>0</td>\n",
       "      <td>2</td>\n",
       "      <td>1</td>\n",
       "      <td>7688</td>\n",
       "      <td>0</td>\n",
       "      <td>40</td>\n",
       "      <td>35</td>\n",
       "      <td>&gt;50K</td>\n",
       "    </tr>\n",
       "    <tr>\n",
       "      <th>4</th>\n",
       "      <td>18</td>\n",
       "      <td>3</td>\n",
       "      <td>5411</td>\n",
       "      <td>15</td>\n",
       "      <td>10</td>\n",
       "      <td>4</td>\n",
       "      <td>9</td>\n",
       "      <td>3</td>\n",
       "      <td>4</td>\n",
       "      <td>0</td>\n",
       "      <td>0</td>\n",
       "      <td>0</td>\n",
       "      <td>30</td>\n",
       "      <td>35</td>\n",
       "      <td>&lt;=50K</td>\n",
       "    </tr>\n",
       "    <tr>\n",
       "      <th>...</th>\n",
       "      <td>...</td>\n",
       "      <td>...</td>\n",
       "      <td>...</td>\n",
       "      <td>...</td>\n",
       "      <td>...</td>\n",
       "      <td>...</td>\n",
       "      <td>...</td>\n",
       "      <td>...</td>\n",
       "      <td>...</td>\n",
       "      <td>...</td>\n",
       "      <td>...</td>\n",
       "      <td>...</td>\n",
       "      <td>...</td>\n",
       "      <td>...</td>\n",
       "      <td>...</td>\n",
       "    </tr>\n",
       "    <tr>\n",
       "      <th>32556</th>\n",
       "      <td>27</td>\n",
       "      <td>3</td>\n",
       "      <td>21582</td>\n",
       "      <td>7</td>\n",
       "      <td>12</td>\n",
       "      <td>2</td>\n",
       "      <td>12</td>\n",
       "      <td>5</td>\n",
       "      <td>4</td>\n",
       "      <td>0</td>\n",
       "      <td>0</td>\n",
       "      <td>0</td>\n",
       "      <td>38</td>\n",
       "      <td>35</td>\n",
       "      <td>&lt;=50K</td>\n",
       "    </tr>\n",
       "    <tr>\n",
       "      <th>32557</th>\n",
       "      <td>40</td>\n",
       "      <td>3</td>\n",
       "      <td>10584</td>\n",
       "      <td>11</td>\n",
       "      <td>9</td>\n",
       "      <td>2</td>\n",
       "      <td>6</td>\n",
       "      <td>0</td>\n",
       "      <td>4</td>\n",
       "      <td>1</td>\n",
       "      <td>0</td>\n",
       "      <td>0</td>\n",
       "      <td>40</td>\n",
       "      <td>35</td>\n",
       "      <td>&gt;50K</td>\n",
       "    </tr>\n",
       "    <tr>\n",
       "      <th>32558</th>\n",
       "      <td>58</td>\n",
       "      <td>3</td>\n",
       "      <td>10316</td>\n",
       "      <td>11</td>\n",
       "      <td>9</td>\n",
       "      <td>6</td>\n",
       "      <td>0</td>\n",
       "      <td>4</td>\n",
       "      <td>4</td>\n",
       "      <td>0</td>\n",
       "      <td>0</td>\n",
       "      <td>0</td>\n",
       "      <td>40</td>\n",
       "      <td>35</td>\n",
       "      <td>&lt;=50K</td>\n",
       "    </tr>\n",
       "    <tr>\n",
       "      <th>32559</th>\n",
       "      <td>22</td>\n",
       "      <td>3</td>\n",
       "      <td>16813</td>\n",
       "      <td>11</td>\n",
       "      <td>9</td>\n",
       "      <td>4</td>\n",
       "      <td>0</td>\n",
       "      <td>3</td>\n",
       "      <td>4</td>\n",
       "      <td>1</td>\n",
       "      <td>0</td>\n",
       "      <td>0</td>\n",
       "      <td>20</td>\n",
       "      <td>35</td>\n",
       "      <td>&lt;=50K</td>\n",
       "    </tr>\n",
       "    <tr>\n",
       "      <th>32560</th>\n",
       "      <td>52</td>\n",
       "      <td>4</td>\n",
       "      <td>23321</td>\n",
       "      <td>11</td>\n",
       "      <td>9</td>\n",
       "      <td>2</td>\n",
       "      <td>3</td>\n",
       "      <td>5</td>\n",
       "      <td>4</td>\n",
       "      <td>0</td>\n",
       "      <td>15024</td>\n",
       "      <td>0</td>\n",
       "      <td>40</td>\n",
       "      <td>35</td>\n",
       "      <td>&gt;50K</td>\n",
       "    </tr>\n",
       "  </tbody>\n",
       "</table>\n",
       "<p>48789 rows × 15 columns</p>\n",
       "</div>"
      ],
      "text/plain": [
       "       age  workclass  fnlwgt  education  education-num  marital-status  \\\n",
       "0       25          3   19329          1              7               4   \n",
       "1       38          3    4212         11              9               2   \n",
       "2       28          1   25340          7             12               2   \n",
       "3       44          3   11201         15             10               2   \n",
       "4       18          3    5411         15             10               4   \n",
       "...    ...        ...     ...        ...            ...             ...   \n",
       "32556   27          3   21582          7             12               2   \n",
       "32557   40          3   10584         11              9               2   \n",
       "32558   58          3   10316         11              9               6   \n",
       "32559   22          3   16813         11              9               4   \n",
       "32560   52          4   23321         11              9               2   \n",
       "\n",
       "       occupation  relationship  race  sex  capital-gain  capital-loss  \\\n",
       "0               6             3     2    1             0             0   \n",
       "1               4             0     4    1             0             0   \n",
       "2              10             0     4    1             0             0   \n",
       "3               6             0     2    1          7688             0   \n",
       "4               9             3     4    0             0             0   \n",
       "...           ...           ...   ...  ...           ...           ...   \n",
       "32556          12             5     4    0             0             0   \n",
       "32557           6             0     4    1             0             0   \n",
       "32558           0             4     4    0             0             0   \n",
       "32559           0             3     4    1             0             0   \n",
       "32560           3             5     4    0         15024             0   \n",
       "\n",
       "       hours-per-week  native-country income  \n",
       "0                  40              35  <=50K  \n",
       "1                  50              35  <=50K  \n",
       "2                  40              35   >50K  \n",
       "3                  40              35   >50K  \n",
       "4                  30              35  <=50K  \n",
       "...               ...             ...    ...  \n",
       "32556              38              35  <=50K  \n",
       "32557              40              35   >50K  \n",
       "32558              40              35  <=50K  \n",
       "32559              20              35  <=50K  \n",
       "32560              40              35   >50K  \n",
       "\n",
       "[48789 rows x 15 columns]"
      ]
     },
     "execution_count": 115,
     "metadata": {},
     "output_type": "execute_result"
    }
   ],
   "source": [
    "label_encoder = preprocessing.LabelEncoder()\n",
    "df.drop(['hours-range'], axis=1, inplace = True)\n",
    "columns = ['workclass', 'fnlwgt', 'education', 'marital-status', 'occupation',\n",
    "           'relationship', 'race', 'sex', 'native-country']\n",
    "\n",
    "for column in columns:\n",
    "    df[column]= label_encoder.fit_transform(df[column])\n",
    "    \n",
    "df"
   ]
  },
  {
   "cell_type": "markdown",
   "id": "1d060acb",
   "metadata": {
    "id": "1d060acb"
   },
   "source": [
    "# FEATURE SELECTION"
   ]
  },
  {
   "cell_type": "code",
   "execution_count": 116,
   "id": "4e474991",
   "metadata": {
    "id": "4e474991"
   },
   "outputs": [],
   "source": [
    "scaler = StandardScaler()\n",
    "features = df.drop(['income'],axis = 1)\n",
    "target = df['income']\n",
    "scaled_data = scaler.fit_transform(features)\n",
    "stand_data = scaled_data"
   ]
  },
  {
   "cell_type": "markdown",
   "id": "e29d27ee",
   "metadata": {
    "id": "e29d27ee"
   },
   "source": [
    "# TRAIN-TEST SPLIT"
   ]
  },
  {
   "cell_type": "code",
   "execution_count": 117,
   "id": "c0b23bc1",
   "metadata": {
    "id": "c0b23bc1"
   },
   "outputs": [],
   "source": [
    "x_train, x_test, y_train, y_test = train_test_split(scaled_data, target, test_size = 0.2, random_state = 42)\n",
    "#training_features, test_features, training_target, test_target = train_test_split(scaled_data, target, test_size = 0.2, random_state = 42)"
   ]
  },
  {
   "cell_type": "markdown",
   "id": "89e372d8",
   "metadata": {
    "id": "89e372d8"
   },
   "source": [
    "# MODEL BUILDING"
   ]
  },
  {
   "cell_type": "code",
   "execution_count": 118,
   "id": "443606ed",
   "metadata": {
    "id": "443606ed"
   },
   "outputs": [],
   "source": [
    "def evaluate(actual, pred):\n",
    "    \n",
    "    confusion_matrix = pd.crosstab(actual, pred, rownames=['Actual'], colnames=['Predicted'])\n",
    "    TP = confusion_matrix.loc['>50K','>50K']\n",
    "    TN = confusion_matrix.loc['<=50K','<=50K']\n",
    "    FP = confusion_matrix.loc['<=50K','>50K']\n",
    "    FN = confusion_matrix.loc['>50K','<=50K']\n",
    "\n",
    "    accuracy = (TP+TN)/(TP+FN+FP+TN)\n",
    "    precision = (TP)/(TP+FP)\n",
    "    recall = (TP)/(TP+FN)\n",
    "    f_measure = (2*recall*precision)/(recall+precision)\n",
    "    error_rate = 1 - accuracy\n",
    "    \n",
    "    model_dict = {}\n",
    "    model_dict['accuracy'] =  accuracy\n",
    "    model_dict['precision'] = precision\n",
    "    model_dict['recall'] = recall\n",
    "    model_dict['f_measure'] = f_measure\n",
    "    model_dict['error_rate'] = error_rate\n",
    "    \n",
    "    return model_dict"
   ]
  },
  {
   "cell_type": "markdown",
   "id": "9731a9f5",
   "metadata": {
    "id": "9731a9f5"
   },
   "source": [
    "## DECISION TREE"
   ]
  },
  {
   "cell_type": "code",
   "execution_count": 119,
   "id": "93ffac20",
   "metadata": {
    "colab": {
     "base_uri": "https://localhost:8080/",
     "height": 118
    },
    "id": "93ffac20",
    "outputId": "3dad6356-3c8b-40b4-81ad-e6b9e8c50b1e"
   },
   "outputs": [
    {
     "name": "stdout",
     "output_type": "stream",
     "text": [
      "Train score: 85.18%\n",
      "Test score: 85.60%\n"
     ]
    },
    {
     "data": {
      "text/html": [
       "<div>\n",
       "<style scoped>\n",
       "    .dataframe tbody tr th:only-of-type {\n",
       "        vertical-align: middle;\n",
       "    }\n",
       "\n",
       "    .dataframe tbody tr th {\n",
       "        vertical-align: top;\n",
       "    }\n",
       "\n",
       "    .dataframe thead th {\n",
       "        text-align: right;\n",
       "    }\n",
       "</style>\n",
       "<table border=\"1\" class=\"dataframe\">\n",
       "  <thead>\n",
       "    <tr style=\"text-align: right;\">\n",
       "      <th></th>\n",
       "      <th>accuracy</th>\n",
       "      <th>precision</th>\n",
       "      <th>recall</th>\n",
       "      <th>f_measure</th>\n",
       "      <th>error_rate</th>\n",
       "    </tr>\n",
       "  </thead>\n",
       "  <tbody>\n",
       "    <tr>\n",
       "      <th>Decision Tree</th>\n",
       "      <td>0.856</td>\n",
       "      <td>0.792</td>\n",
       "      <td>0.5398</td>\n",
       "      <td>0.642</td>\n",
       "      <td>0.144</td>\n",
       "    </tr>\n",
       "  </tbody>\n",
       "</table>\n",
       "</div>"
      ],
      "text/plain": [
       "               accuracy  precision  recall  f_measure  error_rate\n",
       "Decision Tree     0.856      0.792  0.5398      0.642       0.144"
      ]
     },
     "metadata": {},
     "output_type": "display_data"
    }
   ],
   "source": [
    "dt_model = DecisionTreeClassifier(max_depth=5, random_state=42)\n",
    "dt_model.fit(x_train, y_train)\n",
    "\n",
    "dt_train_pred = dt_model.predict(x_train)\n",
    "dt_test_pred = dt_model.predict(x_test)\n",
    "\n",
    "print(f'Train score: {accuracy_score(y_train, dt_train_pred) *100:.2f}%')\n",
    "print(f'Test score: {accuracy_score(y_test, dt_test_pred) *100:.2f}%')\n",
    "\n",
    "dt_eval = evaluate(y_test, dt_test_pred)\n",
    "dt_df = round(pd.DataFrame([dt_eval], index = ['Decision Tree']),4)\n",
    "display(dt_df)"
   ]
  },
  {
   "cell_type": "markdown",
   "id": "a2b25a17",
   "metadata": {
    "id": "a2b25a17"
   },
   "source": [
    "## RANDOM FOREST"
   ]
  },
  {
   "cell_type": "code",
   "execution_count": 120,
   "id": "04662e78",
   "metadata": {
    "colab": {
     "base_uri": "https://localhost:8080/",
     "height": 118
    },
    "id": "04662e78",
    "outputId": "445cebf3-3985-4d03-da5b-6abc93d0e922"
   },
   "outputs": [
    {
     "name": "stdout",
     "output_type": "stream",
     "text": [
      "Train score: 85.05%\n",
      "Test score: 85.26%\n"
     ]
    },
    {
     "data": {
      "text/html": [
       "<div>\n",
       "<style scoped>\n",
       "    .dataframe tbody tr th:only-of-type {\n",
       "        vertical-align: middle;\n",
       "    }\n",
       "\n",
       "    .dataframe tbody tr th {\n",
       "        vertical-align: top;\n",
       "    }\n",
       "\n",
       "    .dataframe thead th {\n",
       "        text-align: right;\n",
       "    }\n",
       "</style>\n",
       "<table border=\"1\" class=\"dataframe\">\n",
       "  <thead>\n",
       "    <tr style=\"text-align: right;\">\n",
       "      <th></th>\n",
       "      <th>accuracy</th>\n",
       "      <th>precision</th>\n",
       "      <th>recall</th>\n",
       "      <th>f_measure</th>\n",
       "      <th>error_rate</th>\n",
       "    </tr>\n",
       "  </thead>\n",
       "  <tbody>\n",
       "    <tr>\n",
       "      <th>Random Forest</th>\n",
       "      <td>0.8526</td>\n",
       "      <td>0.8289</td>\n",
       "      <td>0.4837</td>\n",
       "      <td>0.6109</td>\n",
       "      <td>0.1474</td>\n",
       "    </tr>\n",
       "  </tbody>\n",
       "</table>\n",
       "</div>"
      ],
      "text/plain": [
       "               accuracy  precision  recall  f_measure  error_rate\n",
       "Random Forest    0.8526     0.8289  0.4837     0.6109      0.1474"
      ]
     },
     "metadata": {},
     "output_type": "display_data"
    }
   ],
   "source": [
    "clf = RandomForestClassifier(n_estimators = 500, max_depth=5, random_state = 42)\n",
    "clf.fit(x_train, y_train)\n",
    "\n",
    "rf_train_pred = clf.predict(x_train)\n",
    "rf_test_pred = clf.predict(x_test)\n",
    "\n",
    "print(f'Train score: {accuracy_score(y_train, rf_train_pred)*100:.2f}%')\n",
    "print(f'Test score: {accuracy_score(y_test, rf_test_pred)*100:.2f}%')\n",
    "\n",
    "rf_eval = evaluate(y_test, rf_test_pred)\n",
    "rf_df = round(pd.DataFrame([rf_eval], index = ['Random Forest']),4)\n",
    "display(rf_df)"
   ]
  },
  {
   "cell_type": "markdown",
   "id": "025027c8",
   "metadata": {
    "id": "025027c8"
   },
   "source": [
    "## SUPPORT VECTOR MACHINE"
   ]
  },
  {
   "cell_type": "code",
   "execution_count": 121,
   "id": "e064fb22",
   "metadata": {
    "colab": {
     "base_uri": "https://localhost:8080/",
     "height": 118
    },
    "id": "e064fb22",
    "outputId": "3df06a9d-eb4a-4d05-d7e6-18861bb76187"
   },
   "outputs": [
    {
     "name": "stdout",
     "output_type": "stream",
     "text": [
      "Train score: 81.29%\n",
      "Test score: 81.23%\n"
     ]
    },
    {
     "data": {
      "text/html": [
       "<div>\n",
       "<style scoped>\n",
       "    .dataframe tbody tr th:only-of-type {\n",
       "        vertical-align: middle;\n",
       "    }\n",
       "\n",
       "    .dataframe tbody tr th {\n",
       "        vertical-align: top;\n",
       "    }\n",
       "\n",
       "    .dataframe thead th {\n",
       "        text-align: right;\n",
       "    }\n",
       "</style>\n",
       "<table border=\"1\" class=\"dataframe\">\n",
       "  <thead>\n",
       "    <tr style=\"text-align: right;\">\n",
       "      <th></th>\n",
       "      <th>accuracy</th>\n",
       "      <th>precision</th>\n",
       "      <th>recall</th>\n",
       "      <th>f_measure</th>\n",
       "      <th>error_rate</th>\n",
       "    </tr>\n",
       "  </thead>\n",
       "  <tbody>\n",
       "    <tr>\n",
       "      <th>SVM</th>\n",
       "      <td>0.8123</td>\n",
       "      <td>0.7905</td>\n",
       "      <td>0.2926</td>\n",
       "      <td>0.4271</td>\n",
       "      <td>0.1877</td>\n",
       "    </tr>\n",
       "  </tbody>\n",
       "</table>\n",
       "</div>"
      ],
      "text/plain": [
       "     accuracy  precision  recall  f_measure  error_rate\n",
       "SVM    0.8123     0.7905  0.2926     0.4271      0.1877"
      ]
     },
     "metadata": {},
     "output_type": "display_data"
    }
   ],
   "source": [
    "svm_model = SVC(kernel = 'linear')\n",
    "svm_model.fit(x_train, y_train)\n",
    "\n",
    "svm_train_pred = svm_model.predict(x_train)\n",
    "svm_test_pred = svm_model.predict(x_test)\n",
    "\n",
    "print(f'Train score: {accuracy_score(y_train, svm_train_pred)*100:.2f}%')\n",
    "print(f'Test score: {accuracy_score(y_test, svm_test_pred)*100:.2f}%')\n",
    "\n",
    "svm_eval = evaluate(y_test, svm_test_pred)\n",
    "svm_df = round(pd.DataFrame([svm_eval], index = ['SVM']),4)\n",
    "display(svm_df)"
   ]
  },
  {
   "cell_type": "markdown",
   "id": "d3e1df90",
   "metadata": {
    "id": "d3e1df90"
   },
   "source": [
    "## LOGISTIC REGRESSION"
   ]
  },
  {
   "cell_type": "code",
   "execution_count": 122,
   "id": "f4e43d06",
   "metadata": {
    "colab": {
     "base_uri": "https://localhost:8080/",
     "height": 118
    },
    "id": "f4e43d06",
    "outputId": "cce7137d-d517-400f-b014-0985b164c212"
   },
   "outputs": [
    {
     "name": "stdout",
     "output_type": "stream",
     "text": [
      "Train score: 82.35%\n",
      "Test score: 83.15%\n"
     ]
    },
    {
     "data": {
      "text/html": [
       "<div>\n",
       "<style scoped>\n",
       "    .dataframe tbody tr th:only-of-type {\n",
       "        vertical-align: middle;\n",
       "    }\n",
       "\n",
       "    .dataframe tbody tr th {\n",
       "        vertical-align: top;\n",
       "    }\n",
       "\n",
       "    .dataframe thead th {\n",
       "        text-align: right;\n",
       "    }\n",
       "</style>\n",
       "<table border=\"1\" class=\"dataframe\">\n",
       "  <thead>\n",
       "    <tr style=\"text-align: right;\">\n",
       "      <th></th>\n",
       "      <th>accuracy</th>\n",
       "      <th>precision</th>\n",
       "      <th>recall</th>\n",
       "      <th>f_measure</th>\n",
       "      <th>error_rate</th>\n",
       "    </tr>\n",
       "  </thead>\n",
       "  <tbody>\n",
       "    <tr>\n",
       "      <th>Logistic Regression</th>\n",
       "      <td>0.8315</td>\n",
       "      <td>0.7399</td>\n",
       "      <td>0.4559</td>\n",
       "      <td>0.5642</td>\n",
       "      <td>0.1685</td>\n",
       "    </tr>\n",
       "  </tbody>\n",
       "</table>\n",
       "</div>"
      ],
      "text/plain": [
       "                     accuracy  precision  recall  f_measure  error_rate\n",
       "Logistic Regression    0.8315     0.7399  0.4559     0.5642      0.1685"
      ]
     },
     "metadata": {},
     "output_type": "display_data"
    }
   ],
   "source": [
    "lr = LogisticRegression(multi_class = 'multinomial', max_iter = 1000)\n",
    "lr.fit(x_train, y_train)\n",
    "\n",
    "lr_train_pred = lr.predict(x_train)\n",
    "lr_test_pred = lr.predict(x_test)\n",
    "\n",
    "print(f'Train score: {accuracy_score(y_train, lr_train_pred)*100:.2f}%')\n",
    "print(f'Test score: {accuracy_score(y_test, lr_test_pred)*100:.2f}%')\n",
    "\n",
    "lr_eval = evaluate(y_test, lr_test_pred)\n",
    "lr_df = round(pd.DataFrame([lr_eval], index = ['Logistic Regression']),4)\n",
    "display(lr_df)"
   ]
  },
  {
   "cell_type": "markdown",
   "id": "084616b3",
   "metadata": {
    "id": "084616b3"
   },
   "source": [
    "## k NEAREST NEIGHBOUR"
   ]
  },
  {
   "cell_type": "code",
   "execution_count": 123,
   "id": "8e76bb0f",
   "metadata": {
    "colab": {
     "base_uri": "https://localhost:8080/",
     "height": 394
    },
    "id": "8e76bb0f",
    "outputId": "75ef3bbd-93fa-4193-d8d1-7ce8d35f49e5"
   },
   "outputs": [
    {
     "data": {
      "text/html": [
       "<div>\n",
       "<style scoped>\n",
       "    .dataframe tbody tr th:only-of-type {\n",
       "        vertical-align: middle;\n",
       "    }\n",
       "\n",
       "    .dataframe tbody tr th {\n",
       "        vertical-align: top;\n",
       "    }\n",
       "\n",
       "    .dataframe thead th {\n",
       "        text-align: right;\n",
       "    }\n",
       "</style>\n",
       "<table border=\"1\" class=\"dataframe\">\n",
       "  <thead>\n",
       "    <tr style=\"text-align: right;\">\n",
       "      <th></th>\n",
       "      <th>accuracy</th>\n",
       "      <th>precision</th>\n",
       "      <th>recall</th>\n",
       "      <th>f_measure</th>\n",
       "      <th>error_rate</th>\n",
       "      <th>Train score(%)</th>\n",
       "      <th>Test score(%)</th>\n",
       "    </tr>\n",
       "    <tr>\n",
       "      <th>k</th>\n",
       "      <th></th>\n",
       "      <th></th>\n",
       "      <th></th>\n",
       "      <th></th>\n",
       "      <th></th>\n",
       "      <th></th>\n",
       "      <th></th>\n",
       "    </tr>\n",
       "  </thead>\n",
       "  <tbody>\n",
       "    <tr>\n",
       "      <th>1</th>\n",
       "      <td>0.8038</td>\n",
       "      <td>0.5914</td>\n",
       "      <td>0.5810</td>\n",
       "      <td>0.5861</td>\n",
       "      <td>0.1962</td>\n",
       "      <td>99.9898</td>\n",
       "      <td>80.3751</td>\n",
       "    </tr>\n",
       "    <tr>\n",
       "      <th>2</th>\n",
       "      <td>0.8227</td>\n",
       "      <td>0.7320</td>\n",
       "      <td>0.4083</td>\n",
       "      <td>0.5242</td>\n",
       "      <td>0.1773</td>\n",
       "      <td>89.8030</td>\n",
       "      <td>82.2710</td>\n",
       "    </tr>\n",
       "    <tr>\n",
       "      <th>3</th>\n",
       "      <td>0.8295</td>\n",
       "      <td>0.6631</td>\n",
       "      <td>0.5835</td>\n",
       "      <td>0.6208</td>\n",
       "      <td>0.1705</td>\n",
       "      <td>89.6621</td>\n",
       "      <td>82.9473</td>\n",
       "    </tr>\n",
       "    <tr>\n",
       "      <th>4</th>\n",
       "      <td>0.8351</td>\n",
       "      <td>0.7374</td>\n",
       "      <td>0.4824</td>\n",
       "      <td>0.5833</td>\n",
       "      <td>0.1649</td>\n",
       "      <td>87.7431</td>\n",
       "      <td>83.5110</td>\n",
       "    </tr>\n",
       "    <tr>\n",
       "      <th>5</th>\n",
       "      <td>0.8367</td>\n",
       "      <td>0.6865</td>\n",
       "      <td>0.5844</td>\n",
       "      <td>0.6313</td>\n",
       "      <td>0.1633</td>\n",
       "      <td>87.5894</td>\n",
       "      <td>83.6749</td>\n",
       "    </tr>\n",
       "    <tr>\n",
       "      <th>6</th>\n",
       "      <td>0.8380</td>\n",
       "      <td>0.7387</td>\n",
       "      <td>0.4991</td>\n",
       "      <td>0.5958</td>\n",
       "      <td>0.1620</td>\n",
       "      <td>86.8335</td>\n",
       "      <td>83.7979</td>\n",
       "    </tr>\n",
       "    <tr>\n",
       "      <th>7</th>\n",
       "      <td>0.8407</td>\n",
       "      <td>0.6992</td>\n",
       "      <td>0.5865</td>\n",
       "      <td>0.6379</td>\n",
       "      <td>0.1593</td>\n",
       "      <td>86.8387</td>\n",
       "      <td>84.0746</td>\n",
       "    </tr>\n",
       "    <tr>\n",
       "      <th>8</th>\n",
       "      <td>0.8411</td>\n",
       "      <td>0.7383</td>\n",
       "      <td>0.5197</td>\n",
       "      <td>0.6100</td>\n",
       "      <td>0.1589</td>\n",
       "      <td>86.3724</td>\n",
       "      <td>84.1053</td>\n",
       "    </tr>\n",
       "    <tr>\n",
       "      <th>9</th>\n",
       "      <td>0.8400</td>\n",
       "      <td>0.6983</td>\n",
       "      <td>0.5831</td>\n",
       "      <td>0.6355</td>\n",
       "      <td>0.1600</td>\n",
       "      <td>86.4236</td>\n",
       "      <td>84.0029</td>\n",
       "    </tr>\n",
       "    <tr>\n",
       "      <th>10</th>\n",
       "      <td>0.8412</td>\n",
       "      <td>0.7333</td>\n",
       "      <td>0.5278</td>\n",
       "      <td>0.6139</td>\n",
       "      <td>0.1588</td>\n",
       "      <td>85.9855</td>\n",
       "      <td>84.1156</td>\n",
       "    </tr>\n",
       "  </tbody>\n",
       "</table>\n",
       "</div>"
      ],
      "text/plain": [
       "    accuracy  precision  recall  f_measure  error_rate  Train score(%)  \\\n",
       "k                                                                        \n",
       "1     0.8038     0.5914  0.5810     0.5861      0.1962         99.9898   \n",
       "2     0.8227     0.7320  0.4083     0.5242      0.1773         89.8030   \n",
       "3     0.8295     0.6631  0.5835     0.6208      0.1705         89.6621   \n",
       "4     0.8351     0.7374  0.4824     0.5833      0.1649         87.7431   \n",
       "5     0.8367     0.6865  0.5844     0.6313      0.1633         87.5894   \n",
       "6     0.8380     0.7387  0.4991     0.5958      0.1620         86.8335   \n",
       "7     0.8407     0.6992  0.5865     0.6379      0.1593         86.8387   \n",
       "8     0.8411     0.7383  0.5197     0.6100      0.1589         86.3724   \n",
       "9     0.8400     0.6983  0.5831     0.6355      0.1600         86.4236   \n",
       "10    0.8412     0.7333  0.5278     0.6139      0.1588         85.9855   \n",
       "\n",
       "    Test score(%)  \n",
       "k                  \n",
       "1         80.3751  \n",
       "2         82.2710  \n",
       "3         82.9473  \n",
       "4         83.5110  \n",
       "5         83.6749  \n",
       "6         83.7979  \n",
       "7         84.0746  \n",
       "8         84.1053  \n",
       "9         84.0029  \n",
       "10        84.1156  "
      ]
     },
     "metadata": {},
     "output_type": "display_data"
    }
   ],
   "source": [
    "k_range = range(1, 11)\n",
    "knn_output = []\n",
    "\n",
    "for val in k_range:\n",
    "    knn = KNeighborsClassifier(n_neighbors= val, metric = 'euclidean')\n",
    "    knn.fit(x_train, y_train)\n",
    "    knn_train_pred = knn.predict(x_train)\n",
    "    knn_test_pred = knn.predict(x_test)\n",
    "    knn_eval = evaluate(y_test, knn_test_pred)\n",
    "    knn_eval['k'] = val\n",
    "    knn_eval['Train score(%)'] = accuracy_score(y_train, knn_train_pred)*100\n",
    "    knn_eval['Test score(%)'] = accuracy_score(y_test, knn_test_pred)*100\n",
    "    knn_output.append(knn_eval)\n",
    "    \n",
    "knn_df = round(pd.DataFrame(knn_output),4)\n",
    "knn_df.set_index('k', inplace = True)\n",
    "display(knn_df)"
   ]
  },
  {
   "cell_type": "code",
   "execution_count": 124,
   "id": "Io1ZKiBTs17d",
   "metadata": {
    "colab": {
     "base_uri": "https://localhost:8080/",
     "height": 295
    },
    "id": "Io1ZKiBTs17d",
    "outputId": "896d359f-c3db-4e5b-9eb0-9d8430a4f36f"
   },
   "outputs": [
    {
     "data": {
      "image/png": "[encoded data removed]",
      "text/plain": [
       "<Figure size 432x288 with 1 Axes>"
      ]
     },
     "metadata": {
      "needs_background": "light"
     },
     "output_type": "display_data"
    }
   ],
   "source": [
    "test_score = knn_df['Test score(%)']\n",
    "sns.lineplot(x = k_range, y = test_score, color = 'red')\n",
    "plt.xlabel('k')\n",
    "plt.ylabel('Accuracy score')\n",
    "plt.title('Accuracy scores for values of k for k-NN')\n",
    "plt.show()"
   ]
  },
  {
   "cell_type": "markdown",
   "id": "aWfb7nmUufH0",
   "metadata": {
    "id": "aWfb7nmUufH0"
   },
   "source": [
    "When k=9, it gives the best accuracy.\n",
    "\n",
    "Taking k=9,"
   ]
  },
  {
   "cell_type": "code",
   "execution_count": 125,
   "id": "thOFYcMAu8fk",
   "metadata": {
    "colab": {
     "base_uri": "https://localhost:8080/",
     "height": 118
    },
    "id": "thOFYcMAu8fk",
    "outputId": "22971bbc-65b5-4932-fecf-0a58b8cb150d"
   },
   "outputs": [
    {
     "name": "stdout",
     "output_type": "stream",
     "text": [
      "Train score: 86.42%\n",
      "Test score: 84.00%\n"
     ]
    },
    {
     "data": {
      "text/html": [
       "<div>\n",
       "<style scoped>\n",
       "    .dataframe tbody tr th:only-of-type {\n",
       "        vertical-align: middle;\n",
       "    }\n",
       "\n",
       "    .dataframe tbody tr th {\n",
       "        vertical-align: top;\n",
       "    }\n",
       "\n",
       "    .dataframe thead th {\n",
       "        text-align: right;\n",
       "    }\n",
       "</style>\n",
       "<table border=\"1\" class=\"dataframe\">\n",
       "  <thead>\n",
       "    <tr style=\"text-align: right;\">\n",
       "      <th></th>\n",
       "      <th>accuracy</th>\n",
       "      <th>precision</th>\n",
       "      <th>recall</th>\n",
       "      <th>f_measure</th>\n",
       "      <th>error_rate</th>\n",
       "    </tr>\n",
       "  </thead>\n",
       "  <tbody>\n",
       "    <tr>\n",
       "      <th>k Nearest Neighbour</th>\n",
       "      <td>0.8412</td>\n",
       "      <td>0.7333</td>\n",
       "      <td>0.5278</td>\n",
       "      <td>0.6139</td>\n",
       "      <td>0.1588</td>\n",
       "    </tr>\n",
       "  </tbody>\n",
       "</table>\n",
       "</div>"
      ],
      "text/plain": [
       "                     accuracy  precision  recall  f_measure  error_rate\n",
       "k Nearest Neighbour    0.8412     0.7333  0.5278     0.6139      0.1588"
      ]
     },
     "metadata": {},
     "output_type": "display_data"
    }
   ],
   "source": [
    "knn_model = KNeighborsClassifier(n_neighbors=9, metric = 'euclidean') \n",
    "knn_model.fit(x_train, y_train)\n",
    "\n",
    "x_train_pred = knn_model.predict(x_train)\n",
    "x_test_pred = knn_model.predict(x_test)\n",
    "\n",
    "print(f'Train score: {accuracy_score(y_train, x_train_pred)*100:.2f}%')\n",
    "print(f'Test score: {accuracy_score(y_test, x_test_pred)*100:.2f}%')\n",
    "\n",
    "knn_eval = evaluate(y_test, knn_test_pred)\n",
    "knn_df = round(pd.DataFrame([knn_eval], index = ['k Nearest Neighbour']),4)\n",
    "display(knn_df)"
   ]
  },
  {
   "cell_type": "markdown",
   "id": "bcf6f5ff",
   "metadata": {
    "id": "bcf6f5ff"
   },
   "source": [
    "# ANALYSIS"
   ]
  },
  {
   "cell_type": "code",
   "execution_count": 126,
   "id": "fe7639ce",
   "metadata": {
    "colab": {
     "base_uri": "https://localhost:8080/",
     "height": 206
    },
    "id": "fe7639ce",
    "outputId": "8a8f1b55-6abd-43c2-e29f-76200ee698ea"
   },
   "outputs": [
    {
     "data": {
      "text/html": [
       "<div>\n",
       "<style scoped>\n",
       "    .dataframe tbody tr th:only-of-type {\n",
       "        vertical-align: middle;\n",
       "    }\n",
       "\n",
       "    .dataframe tbody tr th {\n",
       "        vertical-align: top;\n",
       "    }\n",
       "\n",
       "    .dataframe thead th {\n",
       "        text-align: right;\n",
       "    }\n",
       "</style>\n",
       "<table border=\"1\" class=\"dataframe\">\n",
       "  <thead>\n",
       "    <tr style=\"text-align: right;\">\n",
       "      <th></th>\n",
       "      <th>accuracy</th>\n",
       "      <th>precision</th>\n",
       "      <th>recall</th>\n",
       "      <th>f_measure</th>\n",
       "      <th>error_rate</th>\n",
       "    </tr>\n",
       "  </thead>\n",
       "  <tbody>\n",
       "    <tr>\n",
       "      <th>Decision Tree</th>\n",
       "      <td>0.8560</td>\n",
       "      <td>0.7920</td>\n",
       "      <td>0.5398</td>\n",
       "      <td>0.6420</td>\n",
       "      <td>0.1440</td>\n",
       "    </tr>\n",
       "    <tr>\n",
       "      <th>Random Forest</th>\n",
       "      <td>0.8526</td>\n",
       "      <td>0.8289</td>\n",
       "      <td>0.4837</td>\n",
       "      <td>0.6109</td>\n",
       "      <td>0.1474</td>\n",
       "    </tr>\n",
       "    <tr>\n",
       "      <th>SVM</th>\n",
       "      <td>0.8123</td>\n",
       "      <td>0.7905</td>\n",
       "      <td>0.2926</td>\n",
       "      <td>0.4271</td>\n",
       "      <td>0.1877</td>\n",
       "    </tr>\n",
       "    <tr>\n",
       "      <th>Logistic Regression</th>\n",
       "      <td>0.8315</td>\n",
       "      <td>0.7399</td>\n",
       "      <td>0.4559</td>\n",
       "      <td>0.5642</td>\n",
       "      <td>0.1685</td>\n",
       "    </tr>\n",
       "    <tr>\n",
       "      <th>k Nearest Neighbour</th>\n",
       "      <td>0.8412</td>\n",
       "      <td>0.7333</td>\n",
       "      <td>0.5278</td>\n",
       "      <td>0.6139</td>\n",
       "      <td>0.1588</td>\n",
       "    </tr>\n",
       "  </tbody>\n",
       "</table>\n",
       "</div>"
      ],
      "text/plain": [
       "                     accuracy  precision  recall  f_measure  error_rate\n",
       "Decision Tree          0.8560     0.7920  0.5398     0.6420      0.1440\n",
       "Random Forest          0.8526     0.8289  0.4837     0.6109      0.1474\n",
       "SVM                    0.8123     0.7905  0.2926     0.4271      0.1877\n",
       "Logistic Regression    0.8315     0.7399  0.4559     0.5642      0.1685\n",
       "k Nearest Neighbour    0.8412     0.7333  0.5278     0.6139      0.1588"
      ]
     },
     "execution_count": 126,
     "metadata": {},
     "output_type": "execute_result"
    }
   ],
   "source": [
    "analysis_df = pd.concat([dt_df, rf_df, svm_df, lr_df, knn_df ])\n",
    "analysis_df"
   ]
  },
  {
   "cell_type": "markdown",
   "id": "wrgpf4bl-em3",
   "metadata": {
    "id": "wrgpf4bl-em3"
   },
   "source": [
    "On sorting on the basis of accuracy and f_measure:"
   ]
  },
  {
   "cell_type": "code",
   "execution_count": 127,
   "id": "57Gb9VGR-SnY",
   "metadata": {
    "colab": {
     "base_uri": "https://localhost:8080/",
     "height": 206
    },
    "id": "57Gb9VGR-SnY",
    "outputId": "ed4ebf99-657e-4bb2-9e68-bbc70736089c"
   },
   "outputs": [
    {
     "data": {
      "text/html": [
       "<div>\n",
       "<style scoped>\n",
       "    .dataframe tbody tr th:only-of-type {\n",
       "        vertical-align: middle;\n",
       "    }\n",
       "\n",
       "    .dataframe tbody tr th {\n",
       "        vertical-align: top;\n",
       "    }\n",
       "\n",
       "    .dataframe thead th {\n",
       "        text-align: right;\n",
       "    }\n",
       "</style>\n",
       "<table border=\"1\" class=\"dataframe\">\n",
       "  <thead>\n",
       "    <tr style=\"text-align: right;\">\n",
       "      <th></th>\n",
       "      <th>accuracy</th>\n",
       "      <th>precision</th>\n",
       "      <th>recall</th>\n",
       "      <th>f_measure</th>\n",
       "      <th>error_rate</th>\n",
       "    </tr>\n",
       "  </thead>\n",
       "  <tbody>\n",
       "    <tr>\n",
       "      <th>Decision Tree</th>\n",
       "      <td>0.8560</td>\n",
       "      <td>0.7920</td>\n",
       "      <td>0.5398</td>\n",
       "      <td>0.6420</td>\n",
       "      <td>0.1440</td>\n",
       "    </tr>\n",
       "    <tr>\n",
       "      <th>k Nearest Neighbour</th>\n",
       "      <td>0.8412</td>\n",
       "      <td>0.7333</td>\n",
       "      <td>0.5278</td>\n",
       "      <td>0.6139</td>\n",
       "      <td>0.1588</td>\n",
       "    </tr>\n",
       "    <tr>\n",
       "      <th>Random Forest</th>\n",
       "      <td>0.8526</td>\n",
       "      <td>0.8289</td>\n",
       "      <td>0.4837</td>\n",
       "      <td>0.6109</td>\n",
       "      <td>0.1474</td>\n",
       "    </tr>\n",
       "    <tr>\n",
       "      <th>Logistic Regression</th>\n",
       "      <td>0.8315</td>\n",
       "      <td>0.7399</td>\n",
       "      <td>0.4559</td>\n",
       "      <td>0.5642</td>\n",
       "      <td>0.1685</td>\n",
       "    </tr>\n",
       "    <tr>\n",
       "      <th>SVM</th>\n",
       "      <td>0.8123</td>\n",
       "      <td>0.7905</td>\n",
       "      <td>0.2926</td>\n",
       "      <td>0.4271</td>\n",
       "      <td>0.1877</td>\n",
       "    </tr>\n",
       "  </tbody>\n",
       "</table>\n",
       "</div>"
      ],
      "text/plain": [
       "                     accuracy  precision  recall  f_measure  error_rate\n",
       "Decision Tree          0.8560     0.7920  0.5398     0.6420      0.1440\n",
       "k Nearest Neighbour    0.8412     0.7333  0.5278     0.6139      0.1588\n",
       "Random Forest          0.8526     0.8289  0.4837     0.6109      0.1474\n",
       "Logistic Regression    0.8315     0.7399  0.4559     0.5642      0.1685\n",
       "SVM                    0.8123     0.7905  0.2926     0.4271      0.1877"
      ]
     },
     "execution_count": 127,
     "metadata": {},
     "output_type": "execute_result"
    }
   ],
   "source": [
    "analysis_df.sort_values(by = ['f_measure', 'accuracy'], ascending = False, inplace = True)\n",
    "analysis_df"
   ]
  },
  {
   "cell_type": "markdown",
   "id": "cecbd348",
   "metadata": {},
   "source": [
    "## PCA"
   ]
  },
  {
   "cell_type": "code",
   "execution_count": 128,
   "id": "296079f4",
   "metadata": {},
   "outputs": [
    {
     "data": {
      "image/png": "[encoded data removed]",
      "text/plain": [
       "<Figure size 432x288 with 1 Axes>"
      ]
     },
     "metadata": {
      "needs_background": "light"
     },
     "output_type": "display_data"
    }
   ],
   "source": [
    "from sklearn import decomposition\n",
    "pca = decomposition.PCA()\n",
    "pca.n_components = 14\n",
    "pca_data = pca.fit_transform(stand_data)\n",
    "per_var_explained = pca.explained_variance_/np.sum(pca.explained_variance_)\n",
    "cum_var_explained = np.cumsum(per_var_explained)\n",
    "plt.figure(1,figsize =(6,4))\n",
    "plt.clf()\n",
    "plt.plot(cum_var_explained,linewidth = 2)\n",
    "plt.axis('tight')\n",
    "plt.grid()\n",
    "plt.xlabel('n_components')\n",
    "plt.ylabel('Cumulative_Explained_Variance')\n",
    "plt.show()"
   ]
  },
  {
   "cell_type": "markdown",
   "id": "be7b027a",
   "metadata": {},
   "source": [
    "### Applying Decision Tree after PCA"
   ]
  },
  {
   "cell_type": "code",
   "execution_count": 129,
   "id": "ad9e51bd",
   "metadata": {},
   "outputs": [
    {
     "data": {
      "text/plain": [
       "(48789, 12)"
      ]
     },
     "execution_count": 129,
     "metadata": {},
     "output_type": "execute_result"
    }
   ],
   "source": [
    "pca.n_components = 12\n",
    "pca_data = pca.fit_transform(stand_data)\n",
    "pca_data.shape"
   ]
  },
  {
   "cell_type": "code",
   "execution_count": 130,
   "id": "e157af24",
   "metadata": {},
   "outputs": [
    {
     "name": "stdout",
     "output_type": "stream",
     "text": [
      "Train score: 0.8517588583433681\n",
      "Test score: 0.8560155769624923\n"
     ]
    }
   ],
   "source": [
    "x_trainp, x_testp, y_trainp, y_testp = train_test_split(pca_data, target, test_size = 0.2, random_state = 42)\n",
    "dt_model.fit(x_trainp, y_trainp)\n",
    "\n",
    "dt_train_predp = dt_model.predict(x_trainp)\n",
    "dt_test_predp = dt_model.predict(x_testp)\n",
    "\n",
    "print(f'Train score: {accuracy_score(y_trainp, dt_train_pred)}')\n",
    "print(f'Test score: {accuracy_score(y_testp, dt_test_pred)}')"
   ]
  },
  {
   "cell_type": "code",
   "execution_count": 131,
   "id": "b621687b",
   "metadata": {},
   "outputs": [
    {
     "name": "stdout",
     "output_type": "stream",
     "text": [
      "Train score: 81.72%\n",
      "Test score: 81.93%\n"
     ]
    },
    {
     "data": {
      "text/html": [
       "<div>\n",
       "<style scoped>\n",
       "    .dataframe tbody tr th:only-of-type {\n",
       "        vertical-align: middle;\n",
       "    }\n",
       "\n",
       "    .dataframe tbody tr th {\n",
       "        vertical-align: top;\n",
       "    }\n",
       "\n",
       "    .dataframe thead th {\n",
       "        text-align: right;\n",
       "    }\n",
       "</style>\n",
       "<table border=\"1\" class=\"dataframe\">\n",
       "  <thead>\n",
       "    <tr style=\"text-align: right;\">\n",
       "      <th></th>\n",
       "      <th>accuracy</th>\n",
       "      <th>precision</th>\n",
       "      <th>recall</th>\n",
       "      <th>f_measure</th>\n",
       "      <th>error_rate</th>\n",
       "    </tr>\n",
       "  </thead>\n",
       "  <tbody>\n",
       "    <tr>\n",
       "      <th>Random Forest</th>\n",
       "      <td>0.8193</td>\n",
       "      <td>0.7646</td>\n",
       "      <td>0.3535</td>\n",
       "      <td>0.4834</td>\n",
       "      <td>0.1807</td>\n",
       "    </tr>\n",
       "  </tbody>\n",
       "</table>\n",
       "</div>"
      ],
      "text/plain": [
       "               accuracy  precision  recall  f_measure  error_rate\n",
       "Random Forest    0.8193     0.7646  0.3535     0.4834      0.1807"
      ]
     },
     "metadata": {},
     "output_type": "display_data"
    }
   ],
   "source": [
    "clf2 = RandomForestClassifier(n_estimators = 500, max_depth=5, random_state = 42)\n",
    "clf2.fit(x_trainp, y_trainp)\n",
    "\n",
    "rf_train_pred = clf2.predict(x_trainp)\n",
    "rf_test_pred = clf2.predict(x_testp)\n",
    "\n",
    "print(f'Train score: {accuracy_score(y_trainp, rf_train_pred)*100:.2f}%')\n",
    "print(f'Test score: {accuracy_score(y_testp, rf_test_pred)*100:.2f}%')\n",
    "\n",
    "rf_eval = evaluate(y_test, rf_test_pred)\n",
    "rf_df = round(pd.DataFrame([rf_eval], index = ['Random Forest']),4)\n",
    "display(rf_df)"
   ]
  },
  {
   "cell_type": "code",
   "execution_count": null,
   "id": "7373cf06",
   "metadata": {},
   "outputs": [],
   "source": []
  }
 ],
 "metadata": {
  "colab": {
   "name": "income_analysis.ipynb",
   "provenance": []
  },
  "kernelspec": {
   "display_name": "Python 3 (ipykernel)",
   "language": "python",
   "name": "python3"
  },
  "language_info": {
   "codemirror_mode": {
    "name": "ipython",
    "version": 3
   },
   "file_extension": ".py",
   "mimetype": "text/x-python",
   "name": "python",
   "nbconvert_exporter": "python",
   "pygments_lexer": "ipython3",
   "version": "3.9.12"
  }
 },
 "nbformat": 4,
 "nbformat_minor": 5
}
