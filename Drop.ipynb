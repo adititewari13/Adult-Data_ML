{
  "nbformat": 4,
  "nbformat_minor": 0,
  "metadata": {
    "colab": {
      "name": "Drop",
      "provenance": [],
      "collapsed_sections": []
    },
    "kernelspec": {
      "name": "python3",
      "display_name": "Python 3"
    },
    "language_info": {
      "name": "python"
    }
  },
  "cells": [
    {
      "cell_type": "code",
      "execution_count": null,
      "metadata": {
        "id": "Xxc9ryU8BoXo"
      },
      "outputs": [],
      "source": [
        "scaler = StandardScaler()\n",
        "features = df.drop(['income', 'fnlwgt', 'relationship'],axis = 1)\n",
        "target = df['income']\n",
        "scaled_data = scaler.fit_transform(features)"
      ]
    }
  ]
}