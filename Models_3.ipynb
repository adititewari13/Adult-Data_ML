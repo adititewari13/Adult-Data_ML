{
  "nbformat": 4,
  "nbformat_minor": 0,
  "metadata": {
    "colab": {
      "name": "Models(3)",
      "provenance": [],
      "collapsed_sections": []
    },
    "kernelspec": {
      "name": "python3",
      "display_name": "Python 3"
    },
    "language_info": {
      "name": "python"
    }
  },
  "cells": [
    {
      "cell_type": "code",
      "execution_count": null,
      "metadata": {
        "id": "L9hGrlbkTKmA"
      },
      "outputs": [],
      "source": [
        "from sklearn.linear_model import LinearRegression\n",
        "from sklearn.metrics import accuracy_score, f1_score, classification_report, confusion_matrix, roc_auc_score, roc_curve\n",
        "from sklearn.model_selection import train_test_split\n",
        "from sklearn.tree import DecisionTreeClassifier\n",
        "from sklearn.ensemble import RandomForestClassifier\n",
        "from sklearn.metrics import mean_squared_error as mse\n",
        "from math import sqrt"
      ]
    },
    {
      "cell_type": "markdown",
      "source": [
        "#Linear Regression"
      ],
      "metadata": {
        "id": "IanIiXm_Ve50"
      }
    },
    {
      "cell_type": "code",
      "source": [
        "linear_model = LinearRegression() \n",
        "\n",
        "linear_model.fit(x_train, y_train) \n",
        "\n",
        "print(f'Bias (c) : {linear_model.intercept_}') \n",
        "print(f\"Weights (m1, m2, m3... mn): {linear_model.coef_}\")"
      ],
      "metadata": {
        "id": "tc88HeMuUSpT"
      },
      "execution_count": null,
      "outputs": []
    },
    {
      "cell_type": "code",
      "source": [
        "train_predictions = linear_model.predict(x_train)\n",
        "test_predictions = linear_model.predict(x_test)"
      ],
      "metadata": {
        "id": "J5bhLw-JVjTo"
      },
      "execution_count": null,
      "outputs": []
    },
    {
      "cell_type": "code",
      "source": [
        "def rmse_calculation(actual_train, pred_train, actual_test, pred_test):\n",
        "    return f\"RMSE train: {sqrt(mse(actual_train, pred_train)):.2f}\\nRMSE test: {sqrt(mse(actual_test, pred_test)):.2f}\"\n",
        "\n",
        "def score_calculation(model, X_train, X_test, y_train, y_test):\n",
        "    return f\"RMSE train: {model.score(x_train, y_train)*100:.2f}\\nTest score: {model.score(x_test, y_test)*100:.2f}\""
      ],
      "metadata": {
        "id": "_TBMvlgmV286"
      },
      "execution_count": null,
      "outputs": []
    },
    {
      "cell_type": "code",
      "source": [
        "print(score_calculation(linear_model, x_train, x_test, y_train, y_test), sep = '\\n')\n",
        "print('-'*30)\n",
        "print(rmse_calculation(y_train, train_predictions, y_test, test_predictions),sep = '\\n')"
      ],
      "metadata": {
        "id": "RsIxc2cPWH39"
      },
      "execution_count": null,
      "outputs": []
    },
    {
      "cell_type": "code",
      "source": [
        "actual_vs_pred = pd.DataFrame({'Actual People with Income <=50k': y_train.values, 'Predicted People with Income <=50k': train_predictions})\n",
        "display(actual_vs_pred)"
      ],
      "metadata": {
        "id": "_lFDm6KrXNON"
      },
      "execution_count": null,
      "outputs": []
    },
    {
      "cell_type": "markdown",
      "source": [
        "#Decision Tree"
      ],
      "metadata": {
        "id": "GpJkLRfpUINN"
      }
    },
    {
      "cell_type": "code",
      "source": [
        "dt_model = DecisionTreeClassifier(max_depth=5, random_state=42)\n",
        "dt_model.fit(x_train, y_train)\n",
        "\n",
        "train_pred = dt_model.predict(x_train)\n",
        "test_pred = dt_model.predict(x_test)\n",
        "\n",
        "print(f'Train score: {accuracy_score(y_train, train_pred)}')\n",
        "print(f'Test score: {accuracy_score(y_test, test_pred)}')"
      ],
      "metadata": {
        "id": "r7yoqxdcTPGX"
      },
      "execution_count": null,
      "outputs": []
    },
    {
      "cell_type": "code",
      "source": [
        "roc_auc_score(y_test, test_pred)"
      ],
      "metadata": {
        "id": "tmFx5rccURJv"
      },
      "execution_count": null,
      "outputs": []
    },
    {
      "cell_type": "markdown",
      "source": [
        "#Random Forest"
      ],
      "metadata": {
        "id": "_X3VncNGYdrl"
      }
    },
    {
      "cell_type": "code",
      "source": [
        "rndm_clf = RandomForestClassifier(n_estimators = 100, max_depth=5, random_state = 42)\n",
        "rndm_clf.fit(X_train, y_train)"
      ],
      "metadata": {
        "id": "YPQBm5b_YTqo"
      },
      "execution_count": null,
      "outputs": []
    },
    {
      "cell_type": "code",
      "source": [
        "train_preds = rndm_clf.predict(x_train)\n",
        "test_preds = rndm_clf.predict(x_test)"
      ],
      "metadata": {
        "id": "pLc-3ESHY13W"
      },
      "execution_count": null,
      "outputs": []
    },
    {
      "cell_type": "code",
      "source": [
        "print(f'Train score: {accuracy_score(y_train, train_preds)}')\n",
        "print(f'Test score: {accuracy_score(y_test, test_preds)}')"
      ],
      "metadata": {
        "id": "W-hp4KgAZKQ8"
      },
      "execution_count": null,
      "outputs": []
    },
    {
      "cell_type": "code",
      "source": [
        "print(classification_report(y_test, test_preds))"
      ],
      "metadata": {
        "id": "3RFI_rLAZh3T"
      },
      "execution_count": null,
      "outputs": []
    },
    {
      "cell_type": "code",
      "source": [
        "print(f'Train scores: {f1_score(y_train, train_preds)}')\n",
        "print(f'Test scores: {f1_score(y_test, test_preds)}')"
      ],
      "metadata": {
        "id": "nBVa1UYwZfUR"
      },
      "execution_count": null,
      "outputs": []
    },
    {
      "cell_type": "code",
      "source": [
        "roc_auc_score(y_test, test_preds)"
      ],
      "metadata": {
        "id": "Y3ixUpD1Zm3R"
      },
      "execution_count": null,
      "outputs": []
    }
  ]
}